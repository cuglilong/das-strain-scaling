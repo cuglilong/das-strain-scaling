{
 "cells": [
  {
   "cell_type": "code",
   "execution_count": 1,
   "id": "535a715a",
   "metadata": {},
   "outputs": [],
   "source": [
    "import pandas as pd\n",
    "#from sep_util import read_file\n",
    "import utm\n",
    "import numpy as np\n",
    "import h5py\n",
    "import time\n",
    "import tqdm\n",
    "import obspy\n",
    "import datetime\n",
    "import os\n",
    "\n",
    "# Plotting\n",
    "import matplotlib\n",
    "import matplotlib.pyplot as plt\n",
    "import matplotlib.dates as mdates\n",
    "from mpl_toolkits.axes_grid1 import make_axes_locatable\n",
    "# %matplotlib inline\n",
    "params = {\n",
    "    'image.interpolation': 'nearest',\n",
    "    'image.cmap': 'gray',\n",
    "    'savefig.dpi': 300,  # to adjust notebook inline plot size\n",
    "    'axes.labelsize': 18, # fontsize for x and y labels (was 10)\n",
    "    'axes.titlesize': 18,\n",
    "    'font.size': 18,\n",
    "    'legend.fontsize': 18,\n",
    "    'xtick.labelsize': 18,\n",
    "    'ytick.labelsize': 18,\n",
    "    'text.usetex':False,\n",
    "    'axes.facecolor': 'white',\n",
    "    'savefig.facecolor': 'white'\n",
    "}\n",
    "matplotlib.rcParams.update(params)"
   ]
  },
  {
   "cell_type": "code",
   "execution_count": 2,
   "id": "8759582e",
   "metadata": {},
   "outputs": [
    {
     "data": {
      "text/plain": [
       "<module 'DASutils' from '/home/ebiondi/research/packages/DAS-proc/python/DASutils.py'>"
      ]
     },
     "execution_count": 2,
     "metadata": {},
     "output_type": "execute_result"
    }
   ],
   "source": [
    "# Adding pyDAS location\n",
    "pyDAS_path = \"/home/yinjx/DAS-utilities/build/\"\n",
    "import os\n",
    "try:\n",
    "    os.environ['LD_LIBRARY_PATH'] += \":\" + pyDAS_path\n",
    "except:\n",
    "    os.environ['LD_LIBRARY_PATH'] = pyDAS_path\n",
    "import sys\n",
    "sys.path.insert(0,pyDAS_path)\n",
    "sys.path.insert(0,'/home/yinjx/DAS-utilities/python')\n",
    "import DASutils\n",
    "import importlib\n",
    "importlib.reload(DASutils)"
   ]
  },
  {
   "cell_type": "code",
   "execution_count": 3,
   "id": "a452fdb4",
   "metadata": {},
   "outputs": [],
   "source": [
    "# load the DAS channel location (old 6250 channels and new 5000 channels)\n",
    "# old generation\n",
    "DAS_info_old = pd.read_csv('/kuafu/DASdata/DASinfo/DAS_ChannelLocation/DAS_Olancha_Plexus.txt', \n",
    "                            sep='\\s+', header=None, engine='python')\n",
    "\n",
    "DAS_channel_num_old = DAS_info_old.shape[0]\n",
    "DAS_index_old = DAS_info_old.iloc[:, 0].astype('int')\n",
    "DAS_lon_old = DAS_info_old.iloc[:, 1]\n",
    "DAS_lat_old = DAS_info_old.iloc[:, 2]\n",
    "\n",
    "# new generation\n",
    "DAS_info_new = pd.read_csv('/kuafu/DASdata/DASinfo/DAS_ChannelLocation/DAS_Olancha_Plexus_100km.txt',\n",
    "                            sep=',', engine='python')\n",
    "DAS_info_new = DAS_info_new.dropna()\n",
    "DAS_info_new = DAS_info_new[(DAS_info_new.status == 'good') & (DAS_info_new.channel < 5000)]\n",
    "\n",
    "DAS_channel_num_new = DAS_info_new.shape[0]\n",
    "DAS_index_new = DAS_info_new.iloc[:, 0].astype('int')\n",
    "DAS_lon_new = DAS_info_new.iloc[:, 3]\n",
    "DAS_lat_new = DAS_info_new.iloc[:, 2]"
   ]
  },
  {
   "cell_type": "code",
   "execution_count": 4,
   "id": "09ddf996",
   "metadata": {},
   "outputs": [],
   "source": [
    "# Define the path to store all the output results\n",
    "output_dir = '/home/yinjx/kuafu/Olancha_Plexus_100km'\n",
    "if not os.path.exists(output_dir):\n",
    "    os.mkdir(output_dir)"
   ]
  },
  {
   "cell_type": "code",
   "execution_count": 5,
   "id": "1951edfc",
   "metadata": {},
   "outputs": [
    {
     "name": "stdout",
     "output_type": "stream",
     "text": [
      "Total file number: 6597\n",
      "Total file number: 6597\n",
      "Olancha-2020-06-26 025129Z.h5\n",
      "Olancha-2021-10-13T181002Z.h5\n"
     ]
    }
   ],
   "source": [
    "import glob\n",
    "data_dir = '/kuafu/DASdata/Olancha_Plexus/Olancha_Hourly/'\n",
    "\n",
    "files = glob.glob(data_dir + '/*.h5')\n",
    "files.sort()\n",
    "\n",
    "# Only keep the \"COMPLETE\" data with size > 5G\n",
    "files = [file for file in files if os.path.getsize(file)/1e9 > 5] \n",
    "file_names = [os.path.basename(file) for file in files]\n",
    "\n",
    "print(f'Total file number: {len(files)}')\n",
    "print(f'Total file number: {len(file_names)}')\n",
    "print(file_names[0])\n",
    "print(file_names[-1])"
   ]
  },
  {
   "cell_type": "code",
   "execution_count": 6,
   "id": "cd441537",
   "metadata": {},
   "outputs": [],
   "source": [
    "# Prepare a DataFrame to include the DAS files and corresponding Time information\n",
    "file_UTCDateTime_tbeg = []\n",
    "instrument_type_all = []\n",
    "\n",
    "for ii, file in enumerate(file_names):\n",
    "    file_UTCDateTime_tbeg.append(obspy.UTCDateTime(file[8:-3]))\n",
    "    if 'T' in file:\n",
    "        instrument_type_all.append('new')\n",
    "    else:\n",
    "        instrument_type_all.append('old')\n",
    "    \n",
    "    \n",
    "df_files = pd.DataFrame(columns=['files_abs', 'file_name', 't_begin', 'instrument_type'])\n",
    "df_files.files_abs = files\n",
    "df_files.file_name = file_names\n",
    "df_files.t_begin = file_UTCDateTime_tbeg\n",
    "df_files.instrument_type = instrument_type_all"
   ]
  },
  {
   "cell_type": "code",
   "execution_count": 43,
   "id": "a586f81e",
   "metadata": {},
   "outputs": [
    {
     "data": {
      "text/html": [
       "<div>\n",
       "<style scoped>\n",
       "    .dataframe tbody tr th:only-of-type {\n",
       "        vertical-align: middle;\n",
       "    }\n",
       "\n",
       "    .dataframe tbody tr th {\n",
       "        vertical-align: top;\n",
       "    }\n",
       "\n",
       "    .dataframe thead th {\n",
       "        text-align: right;\n",
       "    }\n",
       "</style>\n",
       "<table border=\"1\" class=\"dataframe\">\n",
       "  <thead>\n",
       "    <tr style=\"text-align: right;\">\n",
       "      <th></th>\n",
       "      <th>files_abs</th>\n",
       "      <th>file_name</th>\n",
       "      <th>t_begin</th>\n",
       "      <th>instrument_type</th>\n",
       "    </tr>\n",
       "  </thead>\n",
       "  <tbody>\n",
       "    <tr>\n",
       "      <th>0</th>\n",
       "      <td>/kuafu/DASdata/Olancha_Plexus/Olancha_Hourly/O...</td>\n",
       "      <td>Olancha-2020-06-26 025129Z.h5</td>\n",
       "      <td>2020-06-26T02:51:29.000000Z</td>\n",
       "      <td>old</td>\n",
       "    </tr>\n",
       "    <tr>\n",
       "      <th>1</th>\n",
       "      <td>/kuafu/DASdata/Olancha_Plexus/Olancha_Hourly/O...</td>\n",
       "      <td>Olancha-2020-06-26 035047Z.h5</td>\n",
       "      <td>2020-06-26T03:50:47.000000Z</td>\n",
       "      <td>old</td>\n",
       "    </tr>\n",
       "    <tr>\n",
       "      <th>2</th>\n",
       "      <td>/kuafu/DASdata/Olancha_Plexus/Olancha_Hourly/O...</td>\n",
       "      <td>Olancha-2020-06-26 045047Z.h5</td>\n",
       "      <td>2020-06-26T04:50:47.000000Z</td>\n",
       "      <td>old</td>\n",
       "    </tr>\n",
       "    <tr>\n",
       "      <th>3</th>\n",
       "      <td>/kuafu/DASdata/Olancha_Plexus/Olancha_Hourly/O...</td>\n",
       "      <td>Olancha-2020-06-26 055047Z.h5</td>\n",
       "      <td>2020-06-26T05:50:47.000000Z</td>\n",
       "      <td>old</td>\n",
       "    </tr>\n",
       "    <tr>\n",
       "      <th>4</th>\n",
       "      <td>/kuafu/DASdata/Olancha_Plexus/Olancha_Hourly/O...</td>\n",
       "      <td>Olancha-2020-06-26 065047Z.h5</td>\n",
       "      <td>2020-06-26T06:50:47.000000Z</td>\n",
       "      <td>old</td>\n",
       "    </tr>\n",
       "    <tr>\n",
       "      <th>...</th>\n",
       "      <td>...</td>\n",
       "      <td>...</td>\n",
       "      <td>...</td>\n",
       "      <td>...</td>\n",
       "    </tr>\n",
       "    <tr>\n",
       "      <th>6592</th>\n",
       "      <td>/kuafu/DASdata/Olancha_Plexus/Olancha_Hourly/O...</td>\n",
       "      <td>Olancha-2021-10-13T141002Z.h5</td>\n",
       "      <td>2021-10-13T14:10:02.000000Z</td>\n",
       "      <td>new</td>\n",
       "    </tr>\n",
       "    <tr>\n",
       "      <th>6593</th>\n",
       "      <td>/kuafu/DASdata/Olancha_Plexus/Olancha_Hourly/O...</td>\n",
       "      <td>Olancha-2021-10-13T151002Z.h5</td>\n",
       "      <td>2021-10-13T15:10:02.000000Z</td>\n",
       "      <td>new</td>\n",
       "    </tr>\n",
       "    <tr>\n",
       "      <th>6594</th>\n",
       "      <td>/kuafu/DASdata/Olancha_Plexus/Olancha_Hourly/O...</td>\n",
       "      <td>Olancha-2021-10-13T161002Z.h5</td>\n",
       "      <td>2021-10-13T16:10:02.000000Z</td>\n",
       "      <td>new</td>\n",
       "    </tr>\n",
       "    <tr>\n",
       "      <th>6595</th>\n",
       "      <td>/kuafu/DASdata/Olancha_Plexus/Olancha_Hourly/O...</td>\n",
       "      <td>Olancha-2021-10-13T171002Z.h5</td>\n",
       "      <td>2021-10-13T17:10:02.000000Z</td>\n",
       "      <td>new</td>\n",
       "    </tr>\n",
       "    <tr>\n",
       "      <th>6596</th>\n",
       "      <td>/kuafu/DASdata/Olancha_Plexus/Olancha_Hourly/O...</td>\n",
       "      <td>Olancha-2021-10-13T181002Z.h5</td>\n",
       "      <td>2021-10-13T18:10:02.000000Z</td>\n",
       "      <td>new</td>\n",
       "    </tr>\n",
       "  </tbody>\n",
       "</table>\n",
       "<p>6597 rows × 4 columns</p>\n",
       "</div>"
      ],
      "text/plain": [
       "                                              files_abs  \\\n",
       "0     /kuafu/DASdata/Olancha_Plexus/Olancha_Hourly/O...   \n",
       "1     /kuafu/DASdata/Olancha_Plexus/Olancha_Hourly/O...   \n",
       "2     /kuafu/DASdata/Olancha_Plexus/Olancha_Hourly/O...   \n",
       "3     /kuafu/DASdata/Olancha_Plexus/Olancha_Hourly/O...   \n",
       "4     /kuafu/DASdata/Olancha_Plexus/Olancha_Hourly/O...   \n",
       "...                                                 ...   \n",
       "6592  /kuafu/DASdata/Olancha_Plexus/Olancha_Hourly/O...   \n",
       "6593  /kuafu/DASdata/Olancha_Plexus/Olancha_Hourly/O...   \n",
       "6594  /kuafu/DASdata/Olancha_Plexus/Olancha_Hourly/O...   \n",
       "6595  /kuafu/DASdata/Olancha_Plexus/Olancha_Hourly/O...   \n",
       "6596  /kuafu/DASdata/Olancha_Plexus/Olancha_Hourly/O...   \n",
       "\n",
       "                          file_name                      t_begin  \\\n",
       "0     Olancha-2020-06-26 025129Z.h5  2020-06-26T02:51:29.000000Z   \n",
       "1     Olancha-2020-06-26 035047Z.h5  2020-06-26T03:50:47.000000Z   \n",
       "2     Olancha-2020-06-26 045047Z.h5  2020-06-26T04:50:47.000000Z   \n",
       "3     Olancha-2020-06-26 055047Z.h5  2020-06-26T05:50:47.000000Z   \n",
       "4     Olancha-2020-06-26 065047Z.h5  2020-06-26T06:50:47.000000Z   \n",
       "...                             ...                          ...   \n",
       "6592  Olancha-2021-10-13T141002Z.h5  2021-10-13T14:10:02.000000Z   \n",
       "6593  Olancha-2021-10-13T151002Z.h5  2021-10-13T15:10:02.000000Z   \n",
       "6594  Olancha-2021-10-13T161002Z.h5  2021-10-13T16:10:02.000000Z   \n",
       "6595  Olancha-2021-10-13T171002Z.h5  2021-10-13T17:10:02.000000Z   \n",
       "6596  Olancha-2021-10-13T181002Z.h5  2021-10-13T18:10:02.000000Z   \n",
       "\n",
       "     instrument_type  \n",
       "0                old  \n",
       "1                old  \n",
       "2                old  \n",
       "3                old  \n",
       "4                old  \n",
       "...              ...  \n",
       "6592             new  \n",
       "6593             new  \n",
       "6594             new  \n",
       "6595             new  \n",
       "6596             new  \n",
       "\n",
       "[6597 rows x 4 columns]"
      ]
     },
     "execution_count": 43,
     "metadata": {},
     "output_type": "execute_result"
    }
   ],
   "source": [
    "df_files"
   ]
  },
  {
   "cell_type": "code",
   "execution_count": 9,
   "id": "65e596c4",
   "metadata": {},
   "outputs": [],
   "source": [
    "df_files.to_csv(output_dir + '/data_file_list.csv')"
   ]
  },
  {
   "cell_type": "code",
   "execution_count": 10,
   "id": "84a94de7",
   "metadata": {},
   "outputs": [
    {
     "data": {
      "text/html": [
       "<div>\n",
       "<style scoped>\n",
       "    .dataframe tbody tr th:only-of-type {\n",
       "        vertical-align: middle;\n",
       "    }\n",
       "\n",
       "    .dataframe tbody tr th {\n",
       "        vertical-align: top;\n",
       "    }\n",
       "\n",
       "    .dataframe thead th {\n",
       "        text-align: right;\n",
       "    }\n",
       "</style>\n",
       "<table border=\"1\" class=\"dataframe\">\n",
       "  <thead>\n",
       "    <tr style=\"text-align: right;\">\n",
       "      <th></th>\n",
       "      <th>files_abs</th>\n",
       "      <th>file_name</th>\n",
       "      <th>t_begin</th>\n",
       "      <th>instrument_type</th>\n",
       "    </tr>\n",
       "  </thead>\n",
       "  <tbody>\n",
       "    <tr>\n",
       "      <th>2684</th>\n",
       "      <td>/kuafu/DASdata/Olancha_Plexus/Olancha_Hourly/O...</td>\n",
       "      <td>Olancha-2021-03-13T014855Z.h5</td>\n",
       "      <td>2021-03-13T01:48:55.000000Z</td>\n",
       "      <td>new</td>\n",
       "    </tr>\n",
       "    <tr>\n",
       "      <th>2685</th>\n",
       "      <td>/kuafu/DASdata/Olancha_Plexus/Olancha_Hourly/O...</td>\n",
       "      <td>Olancha-2021-03-13T024855Z.h5</td>\n",
       "      <td>2021-03-13T02:48:55.000000Z</td>\n",
       "      <td>new</td>\n",
       "    </tr>\n",
       "    <tr>\n",
       "      <th>2686</th>\n",
       "      <td>/kuafu/DASdata/Olancha_Plexus/Olancha_Hourly/O...</td>\n",
       "      <td>Olancha-2021-03-13T034855Z.h5</td>\n",
       "      <td>2021-03-13T03:48:55.000000Z</td>\n",
       "      <td>new</td>\n",
       "    </tr>\n",
       "    <tr>\n",
       "      <th>2687</th>\n",
       "      <td>/kuafu/DASdata/Olancha_Plexus/Olancha_Hourly/O...</td>\n",
       "      <td>Olancha-2021-03-13T044855Z.h5</td>\n",
       "      <td>2021-03-13T04:48:55.000000Z</td>\n",
       "      <td>new</td>\n",
       "    </tr>\n",
       "    <tr>\n",
       "      <th>2688</th>\n",
       "      <td>/kuafu/DASdata/Olancha_Plexus/Olancha_Hourly/O...</td>\n",
       "      <td>Olancha-2021-03-13T054855Z.h5</td>\n",
       "      <td>2021-03-13T05:48:55.000000Z</td>\n",
       "      <td>new</td>\n",
       "    </tr>\n",
       "    <tr>\n",
       "      <th>...</th>\n",
       "      <td>...</td>\n",
       "      <td>...</td>\n",
       "      <td>...</td>\n",
       "      <td>...</td>\n",
       "    </tr>\n",
       "    <tr>\n",
       "      <th>6592</th>\n",
       "      <td>/kuafu/DASdata/Olancha_Plexus/Olancha_Hourly/O...</td>\n",
       "      <td>Olancha-2021-10-13T141002Z.h5</td>\n",
       "      <td>2021-10-13T14:10:02.000000Z</td>\n",
       "      <td>new</td>\n",
       "    </tr>\n",
       "    <tr>\n",
       "      <th>6593</th>\n",
       "      <td>/kuafu/DASdata/Olancha_Plexus/Olancha_Hourly/O...</td>\n",
       "      <td>Olancha-2021-10-13T151002Z.h5</td>\n",
       "      <td>2021-10-13T15:10:02.000000Z</td>\n",
       "      <td>new</td>\n",
       "    </tr>\n",
       "    <tr>\n",
       "      <th>6594</th>\n",
       "      <td>/kuafu/DASdata/Olancha_Plexus/Olancha_Hourly/O...</td>\n",
       "      <td>Olancha-2021-10-13T161002Z.h5</td>\n",
       "      <td>2021-10-13T16:10:02.000000Z</td>\n",
       "      <td>new</td>\n",
       "    </tr>\n",
       "    <tr>\n",
       "      <th>6595</th>\n",
       "      <td>/kuafu/DASdata/Olancha_Plexus/Olancha_Hourly/O...</td>\n",
       "      <td>Olancha-2021-10-13T171002Z.h5</td>\n",
       "      <td>2021-10-13T17:10:02.000000Z</td>\n",
       "      <td>new</td>\n",
       "    </tr>\n",
       "    <tr>\n",
       "      <th>6596</th>\n",
       "      <td>/kuafu/DASdata/Olancha_Plexus/Olancha_Hourly/O...</td>\n",
       "      <td>Olancha-2021-10-13T181002Z.h5</td>\n",
       "      <td>2021-10-13T18:10:02.000000Z</td>\n",
       "      <td>new</td>\n",
       "    </tr>\n",
       "  </tbody>\n",
       "</table>\n",
       "<p>3913 rows × 4 columns</p>\n",
       "</div>"
      ],
      "text/plain": [
       "                                              files_abs  \\\n",
       "2684  /kuafu/DASdata/Olancha_Plexus/Olancha_Hourly/O...   \n",
       "2685  /kuafu/DASdata/Olancha_Plexus/Olancha_Hourly/O...   \n",
       "2686  /kuafu/DASdata/Olancha_Plexus/Olancha_Hourly/O...   \n",
       "2687  /kuafu/DASdata/Olancha_Plexus/Olancha_Hourly/O...   \n",
       "2688  /kuafu/DASdata/Olancha_Plexus/Olancha_Hourly/O...   \n",
       "...                                                 ...   \n",
       "6592  /kuafu/DASdata/Olancha_Plexus/Olancha_Hourly/O...   \n",
       "6593  /kuafu/DASdata/Olancha_Plexus/Olancha_Hourly/O...   \n",
       "6594  /kuafu/DASdata/Olancha_Plexus/Olancha_Hourly/O...   \n",
       "6595  /kuafu/DASdata/Olancha_Plexus/Olancha_Hourly/O...   \n",
       "6596  /kuafu/DASdata/Olancha_Plexus/Olancha_Hourly/O...   \n",
       "\n",
       "                          file_name                      t_begin  \\\n",
       "2684  Olancha-2021-03-13T014855Z.h5  2021-03-13T01:48:55.000000Z   \n",
       "2685  Olancha-2021-03-13T024855Z.h5  2021-03-13T02:48:55.000000Z   \n",
       "2686  Olancha-2021-03-13T034855Z.h5  2021-03-13T03:48:55.000000Z   \n",
       "2687  Olancha-2021-03-13T044855Z.h5  2021-03-13T04:48:55.000000Z   \n",
       "2688  Olancha-2021-03-13T054855Z.h5  2021-03-13T05:48:55.000000Z   \n",
       "...                             ...                          ...   \n",
       "6592  Olancha-2021-10-13T141002Z.h5  2021-10-13T14:10:02.000000Z   \n",
       "6593  Olancha-2021-10-13T151002Z.h5  2021-10-13T15:10:02.000000Z   \n",
       "6594  Olancha-2021-10-13T161002Z.h5  2021-10-13T16:10:02.000000Z   \n",
       "6595  Olancha-2021-10-13T171002Z.h5  2021-10-13T17:10:02.000000Z   \n",
       "6596  Olancha-2021-10-13T181002Z.h5  2021-10-13T18:10:02.000000Z   \n",
       "\n",
       "     instrument_type  \n",
       "2684             new  \n",
       "2685             new  \n",
       "2686             new  \n",
       "2687             new  \n",
       "2688             new  \n",
       "...              ...  \n",
       "6592             new  \n",
       "6593             new  \n",
       "6594             new  \n",
       "6595             new  \n",
       "6596             new  \n",
       "\n",
       "[3913 rows x 4 columns]"
      ]
     },
     "execution_count": 10,
     "metadata": {},
     "output_type": "execute_result"
    }
   ],
   "source": [
    "# Old data\n",
    "df_files_old = df_files[df_files.instrument_type == 'old']\n",
    "df_files_old\n",
    "\n",
    "# New data\n",
    "df_files_new = df_files[df_files.instrument_type == 'new']\n",
    "df_files_new"
   ]
  },
  {
   "cell_type": "code",
   "execution_count": 7,
   "id": "adbd429f",
   "metadata": {},
   "outputs": [],
   "source": [
    "# convert the phase shift to strain given a gauge length\n",
    "def phase_to_strain(phase, L=16):\n",
    "    strain = phase * 1550.12 * 1e-9 / (0.78 * 2 * np.pi * 1.46 * L)\n",
    "    return strain"
   ]
  },
  {
   "cell_type": "code",
   "execution_count": 8,
   "id": "d5e5eb88",
   "metadata": {},
   "outputs": [],
   "source": [
    "# Define some reusable functions\n",
    "def plot_data(DAS_dataS, title='Data'):\n",
    "    # visualize the data every 5 mins\n",
    "    fig, ax1 = plt.subplots(figsize=(16,8))\n",
    "    pclip=98\n",
    "    clipVal = np.percentile(np.absolute(DAS_dataS), pclip)\n",
    "    # Vx\n",
    "    ax1.imshow(DAS_dataS.T, \n",
    "               extent=[0, DAS_dataS.shape[0]-1, tAx_secS[-1], tAx_secS[0]],\n",
    "               aspect='auto', vmin=-clipVal, vmax=clipVal, cmap=plt.get_cmap('seismic'))\n",
    "    ax1.set_xlabel(\"Channel number\")\n",
    "    ax1.set_ylabel(\"Time [s]\")\n",
    "    ax1.grid()\n",
    "    ax1.set_title(title)\n",
    "    \n",
    "    return fig"
   ]
  },
  {
   "cell_type": "markdown",
   "id": "fb2aa5c5",
   "metadata": {},
   "source": [
    "### First read the catalog, the catalog is from STP with command:\n",
    "\n",
    "```bash\n",
    "EVENT -mag 2.0 8.0 -lat 34.5 38.5 -lon -120 -116 -t0 2020/6/26,00:00:00 2021/10/13,18:00:00 -f Olancha_das_catalog_M2_M8.txt\n",
    "```"
   ]
  },
  {
   "cell_type": "code",
   "execution_count": 9,
   "id": "338b8571",
   "metadata": {
    "scrolled": true
   },
   "outputs": [],
   "source": [
    "catalog_file = '/home/yinjx/notebooks/strain_scaling/Olancha_das_catalog_M2_M8.txt'\n",
    "catalog = pd.read_csv(catalog_file, sep='\\s+', header=None, skipfooter=1, engine='python')\n",
    "catalog = catalog.dropna()"
   ]
  },
  {
   "cell_type": "code",
   "execution_count": 10,
   "id": "e3417d24",
   "metadata": {},
   "outputs": [],
   "source": [
    "catalog[7] = catalog[7].astype(float)\n",
    "catalog_select = catalog[(catalog[7] >= 3) & (catalog[6] > 1)] # choose the event with magnitude > 3.5\n",
    "#catalog_select = catalog[(catalog[7] >= 3) & (catalog[7] <= 3.5) & (catalog[6] > 1)] # choose the event with magnitude <= 3.5"
   ]
  },
  {
   "cell_type": "code",
   "execution_count": 11,
   "id": "29713742",
   "metadata": {},
   "outputs": [
    {
     "name": "stdout",
     "output_type": "stream",
     "text": [
      "Total number of events: 120\n"
     ]
    }
   ],
   "source": [
    "eq_num = catalog_select.shape[0]\n",
    "eq_id = np.array(catalog_select[0])\n",
    "eq_time = np.array(catalog_select[3])\n",
    "eq_lat = np.array(catalog_select[4])\n",
    "eq_lon = np.array(catalog_select[5])\n",
    "eq_dep = np.array(catalog_select[6])\n",
    "eq_mag = np.array(catalog_select[7])\n",
    "\n",
    "print(f'Total number of events: {eq_num}')"
   ]
  },
  {
   "cell_type": "code",
   "execution_count": 14,
   "id": "8db96b91",
   "metadata": {
    "scrolled": true
   },
   "outputs": [
    {
     "data": {
      "text/html": [
       "<div>\n",
       "<style scoped>\n",
       "    .dataframe tbody tr th:only-of-type {\n",
       "        vertical-align: middle;\n",
       "    }\n",
       "\n",
       "    .dataframe tbody tr th {\n",
       "        vertical-align: top;\n",
       "    }\n",
       "\n",
       "    .dataframe thead th {\n",
       "        text-align: right;\n",
       "    }\n",
       "</style>\n",
       "<table border=\"1\" class=\"dataframe\">\n",
       "  <thead>\n",
       "    <tr style=\"text-align: right;\">\n",
       "      <th></th>\n",
       "      <th>0</th>\n",
       "      <th>1</th>\n",
       "      <th>2</th>\n",
       "      <th>3</th>\n",
       "      <th>4</th>\n",
       "      <th>5</th>\n",
       "      <th>6</th>\n",
       "      <th>7</th>\n",
       "      <th>8</th>\n",
       "      <th>9</th>\n",
       "    </tr>\n",
       "  </thead>\n",
       "  <tbody>\n",
       "    <tr>\n",
       "      <th>0</th>\n",
       "      <td>39266839</td>\n",
       "      <td>eq</td>\n",
       "      <td>l</td>\n",
       "      <td>2020/06/26,02:23:26.190</td>\n",
       "      <td>36.4452</td>\n",
       "      <td>-117.9920</td>\n",
       "      <td>3.94</td>\n",
       "      <td>3.33</td>\n",
       "      <td>l</td>\n",
       "      <td>1.0</td>\n",
       "    </tr>\n",
       "    <tr>\n",
       "      <th>11</th>\n",
       "      <td>39268023</td>\n",
       "      <td>eq</td>\n",
       "      <td>l</td>\n",
       "      <td>2020/06/26,16:57:05.330</td>\n",
       "      <td>36.4453</td>\n",
       "      <td>-117.9783</td>\n",
       "      <td>4.00</td>\n",
       "      <td>3.09</td>\n",
       "      <td>l</td>\n",
       "      <td>1.0</td>\n",
       "    </tr>\n",
       "    <tr>\n",
       "      <th>15</th>\n",
       "      <td>39268303</td>\n",
       "      <td>eq</td>\n",
       "      <td>l</td>\n",
       "      <td>2020/06/26,18:55:08.110</td>\n",
       "      <td>36.4420</td>\n",
       "      <td>-117.9837</td>\n",
       "      <td>4.03</td>\n",
       "      <td>3.21</td>\n",
       "      <td>l</td>\n",
       "      <td>1.0</td>\n",
       "    </tr>\n",
       "    <tr>\n",
       "      <th>32</th>\n",
       "      <td>39271783</td>\n",
       "      <td>eq</td>\n",
       "      <td>l</td>\n",
       "      <td>2020/06/29,01:55:49.010</td>\n",
       "      <td>36.4833</td>\n",
       "      <td>-117.9757</td>\n",
       "      <td>7.16</td>\n",
       "      <td>3.55</td>\n",
       "      <td>l</td>\n",
       "      <td>1.0</td>\n",
       "    </tr>\n",
       "    <tr>\n",
       "      <th>50</th>\n",
       "      <td>39276943</td>\n",
       "      <td>eq</td>\n",
       "      <td>r</td>\n",
       "      <td>2020/07/02,18:49:41.090</td>\n",
       "      <td>37.4650</td>\n",
       "      <td>-118.7310</td>\n",
       "      <td>2.82</td>\n",
       "      <td>3.44</td>\n",
       "      <td>l</td>\n",
       "      <td>0.5</td>\n",
       "    </tr>\n",
       "    <tr>\n",
       "      <th>...</th>\n",
       "      <td>...</td>\n",
       "      <td>...</td>\n",
       "      <td>...</td>\n",
       "      <td>...</td>\n",
       "      <td>...</td>\n",
       "      <td>...</td>\n",
       "      <td>...</td>\n",
       "      <td>...</td>\n",
       "      <td>...</td>\n",
       "      <td>...</td>\n",
       "    </tr>\n",
       "    <tr>\n",
       "      <th>804</th>\n",
       "      <td>39818327</td>\n",
       "      <td>eq</td>\n",
       "      <td>l</td>\n",
       "      <td>2021/09/24,19:28:15.220</td>\n",
       "      <td>35.6053</td>\n",
       "      <td>-117.4695</td>\n",
       "      <td>3.82</td>\n",
       "      <td>3.44</td>\n",
       "      <td>l</td>\n",
       "      <td>1.0</td>\n",
       "    </tr>\n",
       "    <tr>\n",
       "      <th>808</th>\n",
       "      <td>40061064</td>\n",
       "      <td>eq</td>\n",
       "      <td>l</td>\n",
       "      <td>2021/10/02,01:42:20.500</td>\n",
       "      <td>35.0692</td>\n",
       "      <td>-118.3210</td>\n",
       "      <td>2.69</td>\n",
       "      <td>3.68</td>\n",
       "      <td>w</td>\n",
       "      <td>1.0</td>\n",
       "    </tr>\n",
       "    <tr>\n",
       "      <th>813</th>\n",
       "      <td>40064320</td>\n",
       "      <td>eq</td>\n",
       "      <td>r</td>\n",
       "      <td>2021/10/06,14:25:27.610</td>\n",
       "      <td>36.9940</td>\n",
       "      <td>-118.3000</td>\n",
       "      <td>4.27</td>\n",
       "      <td>3.50</td>\n",
       "      <td>h</td>\n",
       "      <td>0.5</td>\n",
       "    </tr>\n",
       "    <tr>\n",
       "      <th>814</th>\n",
       "      <td>40065464</td>\n",
       "      <td>eq</td>\n",
       "      <td>r</td>\n",
       "      <td>2021/10/08,00:13:50.260</td>\n",
       "      <td>38.0707</td>\n",
       "      <td>-118.9542</td>\n",
       "      <td>7.31</td>\n",
       "      <td>3.70</td>\n",
       "      <td>h</td>\n",
       "      <td>0.5</td>\n",
       "    </tr>\n",
       "    <tr>\n",
       "      <th>816</th>\n",
       "      <td>40068112</td>\n",
       "      <td>eq</td>\n",
       "      <td>l</td>\n",
       "      <td>2021/10/11,23:14:47.140</td>\n",
       "      <td>35.6580</td>\n",
       "      <td>-117.5357</td>\n",
       "      <td>7.73</td>\n",
       "      <td>3.08</td>\n",
       "      <td>l</td>\n",
       "      <td>1.0</td>\n",
       "    </tr>\n",
       "  </tbody>\n",
       "</table>\n",
       "<p>120 rows × 10 columns</p>\n",
       "</div>"
      ],
      "text/plain": [
       "            0   1  2                        3        4         5     6     7  \\\n",
       "0    39266839  eq  l  2020/06/26,02:23:26.190  36.4452 -117.9920  3.94  3.33   \n",
       "11   39268023  eq  l  2020/06/26,16:57:05.330  36.4453 -117.9783  4.00  3.09   \n",
       "15   39268303  eq  l  2020/06/26,18:55:08.110  36.4420 -117.9837  4.03  3.21   \n",
       "32   39271783  eq  l  2020/06/29,01:55:49.010  36.4833 -117.9757  7.16  3.55   \n",
       "50   39276943  eq  r  2020/07/02,18:49:41.090  37.4650 -118.7310  2.82  3.44   \n",
       "..        ...  .. ..                      ...      ...       ...   ...   ...   \n",
       "804  39818327  eq  l  2021/09/24,19:28:15.220  35.6053 -117.4695  3.82  3.44   \n",
       "808  40061064  eq  l  2021/10/02,01:42:20.500  35.0692 -118.3210  2.69  3.68   \n",
       "813  40064320  eq  r  2021/10/06,14:25:27.610  36.9940 -118.3000  4.27  3.50   \n",
       "814  40065464  eq  r  2021/10/08,00:13:50.260  38.0707 -118.9542  7.31  3.70   \n",
       "816  40068112  eq  l  2021/10/11,23:14:47.140  35.6580 -117.5357  7.73  3.08   \n",
       "\n",
       "     8    9  \n",
       "0    l  1.0  \n",
       "11   l  1.0  \n",
       "15   l  1.0  \n",
       "32   l  1.0  \n",
       "50   l  0.5  \n",
       "..  ..  ...  \n",
       "804  l  1.0  \n",
       "808  w  1.0  \n",
       "813  h  0.5  \n",
       "814  h  0.5  \n",
       "816  l  1.0  \n",
       "\n",
       "[120 rows x 10 columns]"
      ]
     },
     "execution_count": 14,
     "metadata": {},
     "output_type": "execute_result"
    }
   ],
   "source": [
    "catalog_select"
   ]
  },
  {
   "cell_type": "code",
   "execution_count": 86,
   "id": "ae45769d",
   "metadata": {},
   "outputs": [
    {
     "data": {
      "text/html": [
       "<div>\n",
       "<style scoped>\n",
       "    .dataframe tbody tr th:only-of-type {\n",
       "        vertical-align: middle;\n",
       "    }\n",
       "\n",
       "    .dataframe tbody tr th {\n",
       "        vertical-align: top;\n",
       "    }\n",
       "\n",
       "    .dataframe thead th {\n",
       "        text-align: right;\n",
       "    }\n",
       "</style>\n",
       "<table border=\"1\" class=\"dataframe\">\n",
       "  <thead>\n",
       "    <tr style=\"text-align: right;\">\n",
       "      <th></th>\n",
       "      <th>files_abs</th>\n",
       "      <th>file_name</th>\n",
       "      <th>t_begin</th>\n",
       "      <th>instrument_type</th>\n",
       "    </tr>\n",
       "  </thead>\n",
       "  <tbody>\n",
       "    <tr>\n",
       "      <th>0</th>\n",
       "      <td>/kuafu/DASdata/Olancha_Plexus/Olancha_Hourly/O...</td>\n",
       "      <td>Olancha-2020-06-26 025129Z.h5</td>\n",
       "      <td>2020-06-26T02:51:29.000000Z</td>\n",
       "      <td>old</td>\n",
       "    </tr>\n",
       "    <tr>\n",
       "      <th>1</th>\n",
       "      <td>/kuafu/DASdata/Olancha_Plexus/Olancha_Hourly/O...</td>\n",
       "      <td>Olancha-2020-06-26 035047Z.h5</td>\n",
       "      <td>2020-06-26T03:50:47.000000Z</td>\n",
       "      <td>old</td>\n",
       "    </tr>\n",
       "    <tr>\n",
       "      <th>2</th>\n",
       "      <td>/kuafu/DASdata/Olancha_Plexus/Olancha_Hourly/O...</td>\n",
       "      <td>Olancha-2020-06-26 045047Z.h5</td>\n",
       "      <td>2020-06-26T04:50:47.000000Z</td>\n",
       "      <td>old</td>\n",
       "    </tr>\n",
       "    <tr>\n",
       "      <th>3</th>\n",
       "      <td>/kuafu/DASdata/Olancha_Plexus/Olancha_Hourly/O...</td>\n",
       "      <td>Olancha-2020-06-26 055047Z.h5</td>\n",
       "      <td>2020-06-26T05:50:47.000000Z</td>\n",
       "      <td>old</td>\n",
       "    </tr>\n",
       "    <tr>\n",
       "      <th>4</th>\n",
       "      <td>/kuafu/DASdata/Olancha_Plexus/Olancha_Hourly/O...</td>\n",
       "      <td>Olancha-2020-06-26 065047Z.h5</td>\n",
       "      <td>2020-06-26T06:50:47.000000Z</td>\n",
       "      <td>old</td>\n",
       "    </tr>\n",
       "    <tr>\n",
       "      <th>...</th>\n",
       "      <td>...</td>\n",
       "      <td>...</td>\n",
       "      <td>...</td>\n",
       "      <td>...</td>\n",
       "    </tr>\n",
       "    <tr>\n",
       "      <th>6592</th>\n",
       "      <td>/kuafu/DASdata/Olancha_Plexus/Olancha_Hourly/O...</td>\n",
       "      <td>Olancha-2021-10-13T141002Z.h5</td>\n",
       "      <td>2021-10-13T14:10:02.000000Z</td>\n",
       "      <td>new</td>\n",
       "    </tr>\n",
       "    <tr>\n",
       "      <th>6593</th>\n",
       "      <td>/kuafu/DASdata/Olancha_Plexus/Olancha_Hourly/O...</td>\n",
       "      <td>Olancha-2021-10-13T151002Z.h5</td>\n",
       "      <td>2021-10-13T15:10:02.000000Z</td>\n",
       "      <td>new</td>\n",
       "    </tr>\n",
       "    <tr>\n",
       "      <th>6594</th>\n",
       "      <td>/kuafu/DASdata/Olancha_Plexus/Olancha_Hourly/O...</td>\n",
       "      <td>Olancha-2021-10-13T161002Z.h5</td>\n",
       "      <td>2021-10-13T16:10:02.000000Z</td>\n",
       "      <td>new</td>\n",
       "    </tr>\n",
       "    <tr>\n",
       "      <th>6595</th>\n",
       "      <td>/kuafu/DASdata/Olancha_Plexus/Olancha_Hourly/O...</td>\n",
       "      <td>Olancha-2021-10-13T171002Z.h5</td>\n",
       "      <td>2021-10-13T17:10:02.000000Z</td>\n",
       "      <td>new</td>\n",
       "    </tr>\n",
       "    <tr>\n",
       "      <th>6596</th>\n",
       "      <td>/kuafu/DASdata/Olancha_Plexus/Olancha_Hourly/O...</td>\n",
       "      <td>Olancha-2021-10-13T181002Z.h5</td>\n",
       "      <td>2021-10-13T18:10:02.000000Z</td>\n",
       "      <td>new</td>\n",
       "    </tr>\n",
       "  </tbody>\n",
       "</table>\n",
       "<p>6597 rows × 4 columns</p>\n",
       "</div>"
      ],
      "text/plain": [
       "                                              files_abs  \\\n",
       "0     /kuafu/DASdata/Olancha_Plexus/Olancha_Hourly/O...   \n",
       "1     /kuafu/DASdata/Olancha_Plexus/Olancha_Hourly/O...   \n",
       "2     /kuafu/DASdata/Olancha_Plexus/Olancha_Hourly/O...   \n",
       "3     /kuafu/DASdata/Olancha_Plexus/Olancha_Hourly/O...   \n",
       "4     /kuafu/DASdata/Olancha_Plexus/Olancha_Hourly/O...   \n",
       "...                                                 ...   \n",
       "6592  /kuafu/DASdata/Olancha_Plexus/Olancha_Hourly/O...   \n",
       "6593  /kuafu/DASdata/Olancha_Plexus/Olancha_Hourly/O...   \n",
       "6594  /kuafu/DASdata/Olancha_Plexus/Olancha_Hourly/O...   \n",
       "6595  /kuafu/DASdata/Olancha_Plexus/Olancha_Hourly/O...   \n",
       "6596  /kuafu/DASdata/Olancha_Plexus/Olancha_Hourly/O...   \n",
       "\n",
       "                          file_name                      t_begin  \\\n",
       "0     Olancha-2020-06-26 025129Z.h5  2020-06-26T02:51:29.000000Z   \n",
       "1     Olancha-2020-06-26 035047Z.h5  2020-06-26T03:50:47.000000Z   \n",
       "2     Olancha-2020-06-26 045047Z.h5  2020-06-26T04:50:47.000000Z   \n",
       "3     Olancha-2020-06-26 055047Z.h5  2020-06-26T05:50:47.000000Z   \n",
       "4     Olancha-2020-06-26 065047Z.h5  2020-06-26T06:50:47.000000Z   \n",
       "...                             ...                          ...   \n",
       "6592  Olancha-2021-10-13T141002Z.h5  2021-10-13T14:10:02.000000Z   \n",
       "6593  Olancha-2021-10-13T151002Z.h5  2021-10-13T15:10:02.000000Z   \n",
       "6594  Olancha-2021-10-13T161002Z.h5  2021-10-13T16:10:02.000000Z   \n",
       "6595  Olancha-2021-10-13T171002Z.h5  2021-10-13T17:10:02.000000Z   \n",
       "6596  Olancha-2021-10-13T181002Z.h5  2021-10-13T18:10:02.000000Z   \n",
       "\n",
       "     instrument_type  \n",
       "0                old  \n",
       "1                old  \n",
       "2                old  \n",
       "3                old  \n",
       "4                old  \n",
       "...              ...  \n",
       "6592             new  \n",
       "6593             new  \n",
       "6594             new  \n",
       "6595             new  \n",
       "6596             new  \n",
       "\n",
       "[6597 rows x 4 columns]"
      ]
     },
     "execution_count": 86,
     "metadata": {},
     "output_type": "execute_result"
    }
   ],
   "source": [
    "df_files"
   ]
  },
  {
   "cell_type": "code",
   "execution_count": 12,
   "id": "157eedec",
   "metadata": {},
   "outputs": [],
   "source": [
    "# TODO: Find a good way to handle the file names ...\n",
    "# Convert the event time to obspy UTCDateTime and also find the corresponding DAS file name\n",
    "import datetime\n",
    "import obspy\n",
    "\n",
    "# event time in obspy.UTCDateTime\n",
    "eq_time_UTCDateTime = [obspy.UTCDateTime(temp) for temp in eq_time]"
   ]
  },
  {
   "cell_type": "code",
   "execution_count": 16,
   "id": "519bc165",
   "metadata": {
    "scrolled": true
   },
   "outputs": [
    {
     "data": {
      "text/plain": [
       "'/kuafu/DASdata/Olancha_Plexus/Olancha_Hourly/Olancha-2020-06-26 025129Z.h5'"
      ]
     },
     "execution_count": 16,
     "metadata": {},
     "output_type": "execute_result"
    }
   ],
   "source": [
    "df_files_old['files_abs'][0]"
   ]
  },
  {
   "cell_type": "code",
   "execution_count": 13,
   "id": "eb1e0e70",
   "metadata": {
    "scrolled": true
   },
   "outputs": [
    {
     "name": "stdout",
     "output_type": "stream",
     "text": [
      "==========1==========\n",
      "Event time: 2020-06-29T01:55:49.010000Z\n",
      "Data begin time: 58    2020-06-29T01:23:22.000000Z\n",
      "Name: t_begin, dtype: object\n",
      "==========2==========\n",
      "Event time: 2020-07-02T18:49:41.090000Z\n",
      "Data begin time: 147    2020-07-02T18:32:07.000000Z\n",
      "Name: t_begin, dtype: object\n",
      "==========3==========\n",
      "Event time: 2020-07-14T12:15:18.870000Z\n",
      "Data begin time: 385    2020-07-14T11:49:29.000000Z\n",
      "Name: t_begin, dtype: object\n",
      "==========4==========\n",
      "Event time: 2020-07-19T10:07:44.500000Z\n",
      "Data begin time: 502    2020-07-19T09:12:36.000000Z\n",
      "Name: t_begin, dtype: object\n",
      "==========5==========\n",
      "Event time: 2020-07-20T22:01:53.080000Z\n",
      "Data begin time: 538    2020-07-20T21:37:38.000000Z\n",
      "Name: t_begin, dtype: object\n",
      "==========6==========\n",
      "Event time: 2020-07-23T00:29:26.230000Z\n",
      "Data begin time: 588    2020-07-22T23:37:38.000000Z\n",
      "Name: t_begin, dtype: object\n",
      "==========7==========\n",
      "Event time: 2020-07-24T07:05:13.560000Z\n",
      "Data begin time: 619    2020-07-24T06:30:00.000000Z\n",
      "Name: t_begin, dtype: object\n",
      "==========8==========\n",
      "Event time: 2020-08-21T08:20:08.360000Z\n",
      "Data begin time: 735    2020-08-21T07:26:37.000000Z\n",
      "Name: t_begin, dtype: object\n",
      "==========9==========\n",
      "Event time: 2020-09-02T16:18:31.660000Z\n",
      "Data begin time: 1026    2020-09-02T15:29:05.000000Z\n",
      "Name: t_begin, dtype: object\n",
      "==========10==========\n",
      "Event time: 2020-09-04T11:39:18.200000Z\n",
      "Data begin time: 1070    2020-09-04T11:29:05.000000Z\n",
      "Name: t_begin, dtype: object\n",
      "==========11==========\n",
      "Event time: 2020-09-05T03:14:58.250000Z\n",
      "Data begin time: 1081    2020-09-05T02:34:20.000000Z\n",
      "Name: t_begin, dtype: object\n",
      "==========12==========\n",
      "Event time: 2020-09-09T10:07:29.390000Z\n",
      "Data begin time: 1184    2020-09-09T09:38:27.000000Z\n",
      "Name: t_begin, dtype: object\n",
      "==========13==========\n",
      "Event time: 2020-09-11T07:55:45.450000Z\n",
      "Data begin time: 1228    2020-09-11T07:06:31.000000Z\n",
      "Name: t_begin, dtype: object\n",
      "==========14==========\n",
      "Event time: 2020-09-11T08:11:05.310000Z\n",
      "Data begin time: 1229    2020-09-11T08:06:31.000000Z\n",
      "Name: t_begin, dtype: object\n",
      "==========15==========\n",
      "Event time: 2020-09-11T08:14:10.210000Z\n",
      "Data begin time: 1229    2020-09-11T08:06:31.000000Z\n",
      "Name: t_begin, dtype: object\n",
      "==========16==========\n",
      "Event time: 2020-09-17T15:20:07.330000Z\n",
      "Data begin time: 1377    2020-09-17T15:11:42.000000Z\n",
      "Name: t_begin, dtype: object\n",
      "==========17==========\n",
      "Event time: 2020-10-02T12:32:47.240000Z\n",
      "Data begin time: 1675    2020-10-02T12:21:17.000000Z\n",
      "Name: t_begin, dtype: object\n",
      "==========18==========\n",
      "Event time: 2020-10-03T20:16:27.150000Z\n",
      "Data begin time: 1706    2020-10-03T19:21:17.000000Z\n",
      "Name: t_begin, dtype: object\n",
      "==========19==========\n",
      "Event time: 2020-11-04T00:20:24.970000Z\n",
      "Data begin time: 1873    2020-11-03T23:27:58.000000Z\n",
      "Name: t_begin, dtype: object\n",
      "==========20==========\n",
      "Event time: 2020-11-13T09:13:51.800000Z\n",
      "Data begin time: 1998    2020-11-13T08:41:47.000000Z\n",
      "Name: t_begin, dtype: object\n",
      "==========21==========\n",
      "Event time: 2020-11-13T09:29:23.900000Z\n",
      "Data begin time: 1998    2020-11-13T08:41:47.000000Z\n",
      "Name: t_begin, dtype: object\n",
      "==========22==========\n",
      "Event time: 2020-11-13T21:01:45.870000Z\n",
      "Data begin time: 2010    2020-11-13T20:41:47.000000Z\n",
      "Name: t_begin, dtype: object\n",
      "==========23==========\n",
      "Event time: 2020-11-16T04:43:08.400000Z\n",
      "Data begin time: 2066    2020-11-16T04:41:47.000000Z\n",
      "Name: t_begin, dtype: object\n",
      "==========24==========\n",
      "Event time: 2020-11-16T10:56:22.320000Z\n",
      "Data begin time: 2072    2020-11-16T10:41:47.000000Z\n",
      "Name: t_begin, dtype: object\n",
      "==========25==========\n",
      "Event time: 2020-12-12T07:50:54.290000Z\n",
      "Data begin time: 2243    2020-12-12T06:59:56.000000Z\n",
      "Name: t_begin, dtype: object\n",
      "==========26==========\n",
      "Event time: 2020-12-12T08:25:01.000000Z\n",
      "Data begin time: 2244    2020-12-12T07:59:56.000000Z\n",
      "Name: t_begin, dtype: object\n",
      "==========27==========\n",
      "Event time: 2021-02-12T23:57:13.500000Z\n",
      "Data begin time: 2526    2021-02-12T23:16:13.000000Z\n",
      "Name: t_begin, dtype: object\n",
      "==========28==========\n",
      "Event time: 2021-02-14T11:57:50.770000Z\n",
      "Data begin time: 2562    2021-02-14T11:16:13.000000Z\n",
      "Name: t_begin, dtype: object\n",
      "==========29==========\n",
      "Event time: 2021-02-14T23:42:34.470000Z\n",
      "Data begin time: 2574    2021-02-14T23:16:13.000000Z\n",
      "Name: t_begin, dtype: object\n",
      "==========30==========\n",
      "Event time: 2021-02-26T19:27:16.240000Z\n",
      "Data begin time: 2673    2021-02-26T18:38:43.000000Z\n",
      "Name: t_begin, dtype: object\n",
      "==========31==========\n",
      "Event time: 2021-03-24T00:08:38.010000Z\n",
      "Data begin time: 2946    2021-03-23T23:48:55.000000Z\n",
      "Name: t_begin, dtype: object\n",
      "==========32==========\n",
      "Event time: 2021-03-26T13:34:21.750000Z\n",
      "Data begin time: 3007    2021-03-26T12:48:55.000000Z\n",
      "Name: t_begin, dtype: object\n",
      "==========33==========\n",
      "Event time: 2021-03-29T10:38:28.170000Z\n",
      "Data begin time: 3076    2021-03-29T09:48:55.000000Z\n",
      "Name: t_begin, dtype: object\n",
      "==========34==========\n",
      "Event time: 2021-03-30T16:04:05.920000Z\n",
      "Data begin time: 3106    2021-03-30T15:48:55.000000Z\n",
      "Name: t_begin, dtype: object\n",
      "==========35==========\n",
      "Event time: 2021-04-02T17:10:09.022000Z\n",
      "Data begin time: 3179    2021-04-02T16:48:55.000000Z\n",
      "Name: t_begin, dtype: object\n",
      "==========36==========\n",
      "Event time: 2021-04-02T19:08:02.670000Z\n",
      "Data begin time: 3181    2021-04-02T18:48:55.000000Z\n",
      "Name: t_begin, dtype: object\n",
      "==========37==========\n",
      "Event time: 2021-04-07T13:42:05.870000Z\n",
      "Data begin time: 3295    2021-04-07T12:48:55.000000Z\n",
      "Name: t_begin, dtype: object\n",
      "==========38==========\n",
      "Event time: 2021-04-08T20:51:15.140000Z\n",
      "Data begin time: 3327    2021-04-08T20:48:55.000000Z\n",
      "Name: t_begin, dtype: object\n",
      "==========39==========\n",
      "Event time: 2021-04-11T09:45:36.990000Z\n",
      "Data begin time: 3387    2021-04-11T08:48:55.000000Z\n",
      "Name: t_begin, dtype: object\n",
      "==========40==========\n",
      "Event time: 2021-04-15T18:05:03.520000Z\n",
      "Data begin time: 3492    2021-04-15T17:48:55.000000Z\n",
      "Name: t_begin, dtype: object\n",
      "==========41==========\n",
      "Event time: 2021-04-17T11:48:50.780000Z\n",
      "Data begin time: 3533    2021-04-17T10:48:55.000000Z\n",
      "Name: t_begin, dtype: object\n",
      "==========42==========\n",
      "Event time: 2021-04-23T06:51:07.920000Z\n",
      "Data begin time: 3673    2021-04-23T06:48:55.000000Z\n",
      "Name: t_begin, dtype: object\n",
      "==========43==========\n",
      "Event time: 2021-04-28T11:57:27.160000Z\n",
      "Data begin time: 3798    2021-04-28T11:48:55.000000Z\n",
      "Name: t_begin, dtype: object\n",
      "==========44==========\n",
      "Event time: 2021-04-29T17:12:19.480000Z\n",
      "Data begin time: 3827    2021-04-29T16:48:55.000000Z\n",
      "Name: t_begin, dtype: object\n",
      "==========45==========\n",
      "Event time: 2021-05-08T08:13:52.770000Z\n",
      "Data begin time: 4034    2021-05-08T07:48:55.000000Z\n",
      "Name: t_begin, dtype: object\n",
      "==========46==========\n",
      "Event time: 2021-05-09T19:26:11.730000Z\n",
      "Data begin time: 4069    2021-05-09T18:48:55.000000Z\n",
      "Name: t_begin, dtype: object\n",
      "==========47==========\n",
      "Event time: 2021-05-20T01:37:22.690000Z\n",
      "Data begin time: 4315    2021-05-20T00:48:55.000000Z\n",
      "Name: t_begin, dtype: object\n",
      "==========48==========\n",
      "Event time: 2021-05-20T03:43:25.190000Z\n",
      "Data begin time: 4317    2021-05-20T02:48:55.000000Z\n",
      "Name: t_begin, dtype: object\n",
      "==========49==========\n",
      "Event time: 2021-05-27T14:19:00.120000Z\n",
      "Data begin time: 4496    2021-05-27T13:48:55.000000Z\n",
      "Name: t_begin, dtype: object\n",
      "==========50==========\n",
      "Event time: 2021-06-25T08:26:58.640000Z\n",
      "Data begin time: 4706    2021-06-25T08:06:40.000000Z\n",
      "Name: t_begin, dtype: object\n",
      "==========51==========\n",
      "Event time: 2021-06-30T22:15:56.120000Z\n",
      "Data begin time: 4840    2021-06-30T22:06:40.000000Z\n",
      "Name: t_begin, dtype: object\n",
      "==========52==========\n",
      "Event time: 2021-07-03T04:58:09.560000Z\n",
      "Data begin time: 4894    2021-07-03T04:06:40.000000Z\n",
      "Name: t_begin, dtype: object\n",
      "==========53==========\n",
      "Event time: 2021-07-06T02:38:01.000000Z\n",
      "Data begin time: 4964    2021-07-06T02:06:40.000000Z\n",
      "Name: t_begin, dtype: object\n",
      "==========54==========\n",
      "Event time: 2021-07-08T22:50:13.424000Z\n",
      "Data begin time: 5032    2021-07-08T22:06:40.000000Z\n",
      "Name: t_begin, dtype: object\n",
      "==========55==========\n",
      "Event time: 2021-07-10T14:05:13.860000Z\n",
      "Data begin time: 5071    2021-07-10T13:06:40.000000Z\n",
      "Name: t_begin, dtype: object\n",
      "==========56==========\n",
      "Event time: 2021-07-18T13:24:11.060000Z\n",
      "Data begin time: 5263    2021-07-18T13:06:40.000000Z\n",
      "Name: t_begin, dtype: object\n",
      "==========57==========\n",
      "Event time: 2021-07-21T12:04:18.734000Z\n",
      "Data begin time: 5302    2021-07-21T11:54:32.000000Z\n",
      "Name: t_begin, dtype: object\n",
      "==========58==========\n",
      "Event time: 2021-07-26T08:21:18.440000Z\n",
      "Data begin time: 5418    2021-07-26T07:54:32.000000Z\n",
      "Name: t_begin, dtype: object\n",
      "==========59==========\n",
      "Event time: 2021-08-27T12:34:51.160000Z\n",
      "Data begin time: 5467    2021-08-27T11:47:49.000000Z\n",
      "Name: t_begin, dtype: object\n",
      "==========60==========\n",
      "Event time: 2021-08-31T09:50:07.870000Z\n",
      "Data begin time: 5561    2021-08-31T09:48:35.000000Z\n",
      "Name: t_begin, dtype: object\n",
      "==========61==========\n",
      "Event time: 2021-09-05T23:39:22.320000Z\n",
      "Data begin time: 5694    2021-09-05T22:48:35.000000Z\n",
      "Name: t_begin, dtype: object\n",
      "==========62==========\n",
      "Event time: 2021-09-12T15:18:51.690000Z\n",
      "Data begin time: 5849    2021-09-12T15:10:02.000000Z\n",
      "Name: t_begin, dtype: object\n",
      "==========63==========\n",
      "Event time: 2021-09-24T19:28:15.220000Z\n",
      "Data begin time: 6141    2021-09-24T19:10:02.000000Z\n",
      "Name: t_begin, dtype: object\n",
      "==========64==========\n",
      "Event time: 2021-10-02T01:42:20.500000Z\n",
      "Data begin time: 6315    2021-10-02T01:10:02.000000Z\n",
      "Name: t_begin, dtype: object\n",
      "==========65==========\n",
      "Event time: 2021-10-06T14:25:27.610000Z\n",
      "Data begin time: 6424    2021-10-06T14:10:02.000000Z\n",
      "Name: t_begin, dtype: object\n",
      "==========66==========\n",
      "Event time: 2021-10-08T00:13:50.260000Z\n",
      "Data begin time: 6458    2021-10-08T00:10:02.000000Z\n",
      "Name: t_begin, dtype: object\n",
      "==========67==========\n",
      "Event time: 2021-10-11T23:14:47.140000Z\n",
      "Data begin time: 6553    2021-10-11T23:10:02.000000Z\n",
      "Name: t_begin, dtype: object\n"
     ]
    }
   ],
   "source": [
    "i_data_found = 0\n",
    "data_found_df = pd.DataFrame()\n",
    "eq_index = []\n",
    "\n",
    "for i_eq, eq_time in enumerate(eq_time_UTCDateTime):\n",
    "    try:\n",
    "        ii = (df_files.t_begin < eq_time) & (df_files.t_begin > eq_time - 3600)\n",
    "        event_found = df_files[ii].copy()\n",
    "        if len(event_found) > 0:\n",
    "            eq_index.append(i_eq)\n",
    "            event_found['eq_id'] = eq_id[i_eq]\n",
    "            event_found['eq_time'] = eq_time\n",
    "            data_found_df = pd.concat([data_found_df, event_found])\n",
    "            i_data_found += 1\n",
    "            print('=' * 10 + str(i_data_found) + '=' * 10)\n",
    "            print(f'Event time: {eq_time}')\n",
    "            print(f'Data begin time: {event_found.t_begin}')\n",
    "    except:\n",
    "        continue"
   ]
  },
  {
   "cell_type": "code",
   "execution_count": 18,
   "id": "08e03f81",
   "metadata": {},
   "outputs": [],
   "source": [
    "data_found_df.to_csv(output_dir + '/selected_events_and_das_files.csv')"
   ]
  },
  {
   "cell_type": "markdown",
   "id": "0a37367b",
   "metadata": {},
   "source": [
    "### Show a simple map for the DAS array and events"
   ]
  },
  {
   "cell_type": "code",
   "execution_count": 14,
   "id": "b500a5a0",
   "metadata": {},
   "outputs": [
    {
     "name": "stdout",
     "output_type": "stream",
     "text": [
      "Total number of events: 67\n"
     ]
    }
   ],
   "source": [
    "catalog_select0 = catalog_select[catalog_select[0].isin(data_found_df.eq_id)]\n",
    "catalog_select0\n",
    "\n",
    "eq_num = catalog_select0.shape[0]\n",
    "eq_id = np.array(catalog_select0[0])\n",
    "eq_time = np.array(catalog_select0[3])\n",
    "eq_lat = np.array(catalog_select0[4])\n",
    "eq_lon = np.array(catalog_select0[5])\n",
    "eq_dep = np.array(catalog_select0[6])\n",
    "eq_mag = np.array(catalog_select0[7])\n",
    "\n",
    "print(f'Total number of events: {eq_num}')\n",
    "catalog_select0.to_csv(output_dir + '/selected_events_info.csv')"
   ]
  },
  {
   "cell_type": "code",
   "execution_count": 15,
   "id": "7b71754d",
   "metadata": {},
   "outputs": [
    {
     "data": {
      "text/plain": [
       "<matplotlib.colorbar.Colorbar at 0x7f7547678940>"
      ]
     },
     "execution_count": 15,
     "metadata": {},
     "output_type": "execute_result"
    },
    {
     "data": {
      "image/png": "[encoded data removed]",
      "text/plain": [
       "<Figure size 504x432 with 2 Axes>"
      ]
     },
     "metadata": {
      "needs_background": "light"
     },
     "output_type": "display_data"
    }
   ],
   "source": [
    "# TODO: add an inset with Zoom-in DAS channels\n",
    "fig, ax = plt.subplots(figsize=(7, 6))\n",
    "cmp = ax.scatter(DAS_lon_new, DAS_lat_new, s=10, c=DAS_index_new, cmap='jet')\n",
    "ax.scatter(eq_lon, eq_lat, s=10**(eq_mag/5), c='k')\n",
    "fig.colorbar(cmp)"
   ]
  },
  {
   "cell_type": "markdown",
   "id": "85998cf0",
   "metadata": {},
   "source": [
    "### Calculate the arrival time from earthquake to each das channel using 1D velocity model. If the travel time table has already been calculated, load the prepared travel time table, calculate the interpolation function to estimate the arrival times."
   ]
  },
  {
   "cell_type": "code",
   "execution_count": 96,
   "id": "f46c6590",
   "metadata": {},
   "outputs": [
    {
     "name": "stderr",
     "output_type": "stream",
     "text": [
      "Calculating arrival time...: 100%|██████████| 100/100 [02:28<00:00,  1.49s/it]\n"
     ]
    },
    {
     "name": "stdout",
     "output_type": "stream",
     "text": [
      "Travel time table calculated!\n"
     ]
    },
    {
     "name": "stderr",
     "output_type": "stream",
     "text": [
      "/home/yinjx/.conda/envs/das_data/lib/python3.8/site-packages/scipy/interpolate/_fitpack_impl.py:977: RuntimeWarning: No more knots can be added because the number of B-spline\n",
      "coefficients already exceeds the number of data points m.\n",
      "Probable causes: either s or m too small. (fp>s)\n",
      "\tkx,ky=1,1 nx,ny=96,101 m=9243 fp=0.000000 s=0.000000\n",
      "  warnings.warn(RuntimeWarning(_iermess2[ierm][0] + _mess))\n",
      "/home/yinjx/.conda/envs/das_data/lib/python3.8/site-packages/scipy/interpolate/_fitpack_impl.py:977: RuntimeWarning: No more knots can be added because the number of B-spline\n",
      "coefficients already exceeds the number of data points m.\n",
      "Probable causes: either s or m too small. (fp>s)\n",
      "\tkx,ky=1,1 nx,ny=96,101 m=9243 fp=0.000001 s=0.000000\n",
      "  warnings.warn(RuntimeWarning(_iermess2[ierm][0] + _mess))\n",
      "Calculating arrival time...: 100%|██████████| 67/67 [00:00<00:00, 456.79it/s]\n"
     ]
    }
   ],
   "source": [
    "# Work out a handy travel time table to do interpolation\n",
    "from obspy.taup import TauPyModel\n",
    "from obspy.geodetics import locations2degrees\n",
    "\n",
    "travel_time_table_file = output_dir + '/travel_time_table_Olancha.npz'\n",
    "\n",
    "# First look for the precalculated TTT, if not exists, get one from interpolating TauP \n",
    "if not os.path.exists(travel_time_table_file):\n",
    "    model = TauPyModel(model='iasp91')\n",
    "\n",
    "    # distance list\n",
    "    distance_fit = np.linspace(0, 3, 100)\n",
    "    # depth list\n",
    "    depth_fit = np.arange(0, 100, 1)\n",
    "\n",
    "    distance_grid, depth_grid = np.meshgrid(distance_fit, depth_fit)\n",
    "\n",
    "\n",
    "    tavel_time_P_grid = np.zeros(distance_grid.shape)\n",
    "    tavel_time_S_grid = np.zeros(distance_grid.shape)\n",
    "\n",
    "    #for i_eq in tqdm.tqdm(range(10), desc=\"Calculating arrival time...\"):\n",
    "    for i_depth in tqdm.tqdm(range(depth_grid.shape[0]), desc=\"Calculating arrival time...\"):   \n",
    "\n",
    "        for i_distance in range(distance_grid.shape[1]):\n",
    "            try:\n",
    "                arrivals = model.get_ray_paths(depth_fit[i_depth], distance_fit[i_distance], phase_list=['p', 's'])\n",
    "                tavel_time_P_grid[i_depth, i_distance] = arrivals[0].time\n",
    "                tavel_time_S_grid[i_depth, i_distance] = arrivals[1].time \n",
    "            except:\n",
    "                tavel_time_P_grid[i_depth, i_distance] = np.nan\n",
    "                tavel_time_S_grid[i_depth, i_distance] = np.nan\n",
    "\n",
    "    # save the calculated Travel time table\n",
    "    np.savez(travel_time_table_file, distance_grid=distance_grid, depth_grid=depth_grid, \n",
    "             tavel_time_p_grid=tavel_time_P_grid, tavel_time_s_grid=tavel_time_S_grid)\n",
    "\n",
    "    print('Travel time table calculated!')\n",
    "    \n",
    "    \n",
    "# The TTT calculated or already exists, directly load it.\n",
    "temp = np.load(travel_time_table_file)\n",
    "distance_grid = temp['distance_grid']\n",
    "depth_grid = temp['depth_grid']\n",
    "tavel_time_p_grid = temp['tavel_time_p_grid']\n",
    "tavel_time_s_grid = temp['tavel_time_s_grid']\n",
    "\n",
    "# build the interpolation function\n",
    "from scipy.interpolate import interp2d\n",
    "#grid_z1 = griddata(points, values, (grid_x, grid_y), method='linear')\n",
    "\n",
    "ii = ~np.isnan(tavel_time_p_grid) # ignore the nan\n",
    "interp_f_p = interp2d(distance_grid[ii], depth_grid[ii], tavel_time_p_grid[ii], kind='linear')\n",
    "interp_f_s = interp2d(distance_grid[ii], depth_grid[ii], tavel_time_s_grid[ii], kind='linear')\n",
    "\n",
    "# from one event to all channels\n",
    "event_arrival_P = []\n",
    "event_arrival_S = []\n",
    "\n",
    "for i_eq in tqdm.tqdm(range(eq_num), desc=\"Calculating arrival time...\"):   \n",
    "    # estimate the arrival time of each earthquake to all channels\n",
    "    if data_found_df['instrument_type'].iloc[i_eq] == 'old':\n",
    "        DAS_channel_num = DAS_channel_num_old\n",
    "        DAS_lat = DAS_lat_old\n",
    "        DAS_lon = DAS_lon_old\n",
    "    elif data_found_df['instrument_type'].iloc[i_eq] == 'new':\n",
    "        DAS_channel_num = DAS_channel_num_new\n",
    "        DAS_lat = DAS_lat_new\n",
    "        DAS_lon = DAS_lon_new\n",
    "    else:\n",
    "        print('Instrument type unknown, skip...')\n",
    "        continue\n",
    "\n",
    "    P_arrival = np.zeros(DAS_channel_num)\n",
    "    S_arrival = np.zeros(DAS_channel_num)\n",
    "    distance_to_source = locations2degrees(DAS_lat, DAS_lon, eq_lat[i_eq], eq_lon[i_eq])\n",
    "\n",
    "    P_arrival = data_found_df['eq_time'].iloc[i_eq] - data_found_df['t_begin'].iloc[i_eq] + interp_f_p(distance_to_source, eq_dep[i_eq])\n",
    "    S_arrival = data_found_df['eq_time'].iloc[i_eq] - data_found_df['t_begin'].iloc[i_eq] + interp_f_s(distance_to_source, eq_dep[i_eq])  \n",
    "\n",
    "\n",
    "    event_arrival_P.append(P_arrival)\n",
    "    event_arrival_S.append(S_arrival)"
   ]
  },
  {
   "cell_type": "code",
   "execution_count": 105,
   "id": "1aef9024",
   "metadata": {},
   "outputs": [
    {
     "data": {
      "text/plain": [
       "(6250,)"
      ]
     },
     "execution_count": 105,
     "metadata": {},
     "output_type": "execute_result"
    }
   ],
   "source": [
    "event_arrival_S[0].shape"
   ]
  },
  {
   "cell_type": "markdown",
   "id": "365ffb3f",
   "metadata": {},
   "source": [
    "i_file = 1150 # Before 2683 are the old data\n",
    "\n",
    "files_abs_path = df_files.files_abs[i_file]\n",
    "file_name = df_files.file_name[i_file]\n",
    "t_begin = df_files.t_begin[i_file]\n",
    "instrument_type = df_files.instrument_type[i_file]\n",
    "\n",
    "DAS_dataS, info = DASutils.readFile_HDF([files_abs_path], 0.01, 20.0, taper=0.0,\n",
    "                                        verbose=1, desampling=True, system=\"OptaSense\", nChbuffer=5000)\n",
    "\n",
    "if instrument_type == 'old': # For the old instruments, the data is phase shift, conversion is needed.\n",
    "    print('conversion is needed!')\n",
    "    DAS_dataS = phase_to_strain(DAS_dataS)\n",
    "\n",
    "ntS = info['nt']\n",
    "fs = info['fs']\n",
    "dt = info['dt']\n",
    "tAx_secS = np.linspace(0.0, (ntS-1)*dt, ntS)\n",
    "\n",
    "# To strain rate\n",
    "DAS_dataS = np.diff(DAS_dataS[:, :], axis=1)/dt\n",
    "tAx_secS = tAx_secS[:-1] + dt/2\n",
    "ntS = ntS - 1"
   ]
  },
  {
   "cell_type": "code",
   "execution_count": 22,
   "id": "945b6107",
   "metadata": {},
   "outputs": [
    {
     "data": {
      "text/html": [
       "<div>\n",
       "<style scoped>\n",
       "    .dataframe tbody tr th:only-of-type {\n",
       "        vertical-align: middle;\n",
       "    }\n",
       "\n",
       "    .dataframe tbody tr th {\n",
       "        vertical-align: top;\n",
       "    }\n",
       "\n",
       "    .dataframe thead th {\n",
       "        text-align: right;\n",
       "    }\n",
       "</style>\n",
       "<table border=\"1\" class=\"dataframe\">\n",
       "  <thead>\n",
       "    <tr style=\"text-align: right;\">\n",
       "      <th></th>\n",
       "      <th>files_abs</th>\n",
       "      <th>file_name</th>\n",
       "      <th>t_begin</th>\n",
       "      <th>instrument_type</th>\n",
       "      <th>eq_id</th>\n",
       "      <th>eq_time</th>\n",
       "    </tr>\n",
       "  </thead>\n",
       "  <tbody>\n",
       "    <tr>\n",
       "      <th>2873</th>\n",
       "      <td>/kuafu/DASdata/Olancha_Plexus/Olancha_Hourly/O...</td>\n",
       "      <td>Olancha-2021-03-20T224855Z.h5</td>\n",
       "      <td>2021-03-20T22:48:55.000000Z</td>\n",
       "      <td>new</td>\n",
       "      <td>39586079</td>\n",
       "      <td>2021-03-20T22:49:23.210000Z</td>\n",
       "    </tr>\n",
       "    <tr>\n",
       "      <th>2946</th>\n",
       "      <td>/kuafu/DASdata/Olancha_Plexus/Olancha_Hourly/O...</td>\n",
       "      <td>Olancha-2021-03-23T234855Z.h5</td>\n",
       "      <td>2021-03-23T23:48:55.000000Z</td>\n",
       "      <td>new</td>\n",
       "      <td>39588623</td>\n",
       "      <td>2021-03-24T00:08:38.010000Z</td>\n",
       "    </tr>\n",
       "    <tr>\n",
       "      <th>3231</th>\n",
       "      <td>/kuafu/DASdata/Olancha_Plexus/Olancha_Hourly/O...</td>\n",
       "      <td>Olancha-2021-04-04T204855Z.h5</td>\n",
       "      <td>2021-04-04T20:48:55.000000Z</td>\n",
       "      <td>new</td>\n",
       "      <td>39838568</td>\n",
       "      <td>2021-04-04T21:14:44.870000Z</td>\n",
       "    </tr>\n",
       "    <tr>\n",
       "      <th>3245</th>\n",
       "      <td>/kuafu/DASdata/Olancha_Plexus/Olancha_Hourly/O...</td>\n",
       "      <td>Olancha-2021-04-05T104855Z.h5</td>\n",
       "      <td>2021-04-05T10:48:55.000000Z</td>\n",
       "      <td>new</td>\n",
       "      <td>39838888</td>\n",
       "      <td>2021-04-05T11:15:37.460000Z</td>\n",
       "    </tr>\n",
       "    <tr>\n",
       "      <th>3245</th>\n",
       "      <td>/kuafu/DASdata/Olancha_Plexus/Olancha_Hourly/O...</td>\n",
       "      <td>Olancha-2021-04-05T104855Z.h5</td>\n",
       "      <td>2021-04-05T10:48:55.000000Z</td>\n",
       "      <td>new</td>\n",
       "      <td>39838928</td>\n",
       "      <td>2021-04-05T11:44:01.950000Z</td>\n",
       "    </tr>\n",
       "    <tr>\n",
       "      <th>3295</th>\n",
       "      <td>/kuafu/DASdata/Olancha_Plexus/Olancha_Hourly/O...</td>\n",
       "      <td>Olancha-2021-04-07T124855Z.h5</td>\n",
       "      <td>2021-04-07T12:48:55.000000Z</td>\n",
       "      <td>new</td>\n",
       "      <td>39841832</td>\n",
       "      <td>2021-04-07T13:42:05.870000Z</td>\n",
       "    </tr>\n",
       "    <tr>\n",
       "      <th>3327</th>\n",
       "      <td>/kuafu/DASdata/Olancha_Plexus/Olancha_Hourly/O...</td>\n",
       "      <td>Olancha-2021-04-08T204855Z.h5</td>\n",
       "      <td>2021-04-08T20:48:55.000000Z</td>\n",
       "      <td>new</td>\n",
       "      <td>39843952</td>\n",
       "      <td>2021-04-08T20:51:15.140000Z</td>\n",
       "    </tr>\n",
       "    <tr>\n",
       "      <th>3330</th>\n",
       "      <td>/kuafu/DASdata/Olancha_Plexus/Olancha_Hourly/O...</td>\n",
       "      <td>Olancha-2021-04-08T234855Z.h5</td>\n",
       "      <td>2021-04-08T23:48:55.000000Z</td>\n",
       "      <td>new</td>\n",
       "      <td>39844112</td>\n",
       "      <td>2021-04-09T00:33:47.080000Z</td>\n",
       "    </tr>\n",
       "    <tr>\n",
       "      <th>3358</th>\n",
       "      <td>/kuafu/DASdata/Olancha_Plexus/Olancha_Hourly/O...</td>\n",
       "      <td>Olancha-2021-04-10T034855Z.h5</td>\n",
       "      <td>2021-04-10T03:48:55.000000Z</td>\n",
       "      <td>new</td>\n",
       "      <td>39845512</td>\n",
       "      <td>2021-04-10T03:57:58.440000Z</td>\n",
       "    </tr>\n",
       "    <tr>\n",
       "      <th>3387</th>\n",
       "      <td>/kuafu/DASdata/Olancha_Plexus/Olancha_Hourly/O...</td>\n",
       "      <td>Olancha-2021-04-11T084855Z.h5</td>\n",
       "      <td>2021-04-11T08:48:55.000000Z</td>\n",
       "      <td>new</td>\n",
       "      <td>39846664</td>\n",
       "      <td>2021-04-11T09:45:36.990000Z</td>\n",
       "    </tr>\n",
       "    <tr>\n",
       "      <th>3447</th>\n",
       "      <td>/kuafu/DASdata/Olancha_Plexus/Olancha_Hourly/O...</td>\n",
       "      <td>Olancha-2021-04-13T204855Z.h5</td>\n",
       "      <td>2021-04-13T20:48:55.000000Z</td>\n",
       "      <td>new</td>\n",
       "      <td>39849144</td>\n",
       "      <td>2021-04-13T21:35:03.940000Z</td>\n",
       "    </tr>\n",
       "    <tr>\n",
       "      <th>3492</th>\n",
       "      <td>/kuafu/DASdata/Olancha_Plexus/Olancha_Hourly/O...</td>\n",
       "      <td>Olancha-2021-04-15T174855Z.h5</td>\n",
       "      <td>2021-04-15T17:48:55.000000Z</td>\n",
       "      <td>new</td>\n",
       "      <td>39851144</td>\n",
       "      <td>2021-04-15T18:05:03.520000Z</td>\n",
       "    </tr>\n",
       "    <tr>\n",
       "      <th>3533</th>\n",
       "      <td>/kuafu/DASdata/Olancha_Plexus/Olancha_Hourly/O...</td>\n",
       "      <td>Olancha-2021-04-17T104855Z.h5</td>\n",
       "      <td>2021-04-17T10:48:55.000000Z</td>\n",
       "      <td>new</td>\n",
       "      <td>39853648</td>\n",
       "      <td>2021-04-17T11:48:50.780000Z</td>\n",
       "    </tr>\n",
       "    <tr>\n",
       "      <th>3673</th>\n",
       "      <td>/kuafu/DASdata/Olancha_Plexus/Olancha_Hourly/O...</td>\n",
       "      <td>Olancha-2021-04-23T064855Z.h5</td>\n",
       "      <td>2021-04-23T06:48:55.000000Z</td>\n",
       "      <td>new</td>\n",
       "      <td>39625767</td>\n",
       "      <td>2021-04-23T06:51:07.920000Z</td>\n",
       "    </tr>\n",
       "    <tr>\n",
       "      <th>3827</th>\n",
       "      <td>/kuafu/DASdata/Olancha_Plexus/Olancha_Hourly/O...</td>\n",
       "      <td>Olancha-2021-04-29T164855Z.h5</td>\n",
       "      <td>2021-04-29T16:48:55.000000Z</td>\n",
       "      <td>new</td>\n",
       "      <td>39634983</td>\n",
       "      <td>2021-04-29T17:12:19.480000Z</td>\n",
       "    </tr>\n",
       "    <tr>\n",
       "      <th>4052</th>\n",
       "      <td>/kuafu/DASdata/Olancha_Plexus/Olancha_Hourly/O...</td>\n",
       "      <td>Olancha-2021-05-09T014855Z.h5</td>\n",
       "      <td>2021-05-09T01:48:55.000000Z</td>\n",
       "      <td>new</td>\n",
       "      <td>39645599</td>\n",
       "      <td>2021-05-09T01:55:40.450000Z</td>\n",
       "    </tr>\n",
       "    <tr>\n",
       "      <th>4059</th>\n",
       "      <td>/kuafu/DASdata/Olancha_Plexus/Olancha_Hourly/O...</td>\n",
       "      <td>Olancha-2021-05-09T084855Z.h5</td>\n",
       "      <td>2021-05-09T08:48:55.000000Z</td>\n",
       "      <td>new</td>\n",
       "      <td>39645767</td>\n",
       "      <td>2021-05-09T09:09:33.800000Z</td>\n",
       "    </tr>\n",
       "    <tr>\n",
       "      <th>4315</th>\n",
       "      <td>/kuafu/DASdata/Olancha_Plexus/Olancha_Hourly/O...</td>\n",
       "      <td>Olancha-2021-05-20T004855Z.h5</td>\n",
       "      <td>2021-05-20T00:48:55.000000Z</td>\n",
       "      <td>new</td>\n",
       "      <td>39659271</td>\n",
       "      <td>2021-05-20T01:37:22.690000Z</td>\n",
       "    </tr>\n",
       "    <tr>\n",
       "      <th>4479</th>\n",
       "      <td>/kuafu/DASdata/Olancha_Plexus/Olancha_Hourly/O...</td>\n",
       "      <td>Olancha-2021-05-26T204855Z.h5</td>\n",
       "      <td>2021-05-26T20:48:55.000000Z</td>\n",
       "      <td>new</td>\n",
       "      <td>39905824</td>\n",
       "      <td>2021-05-26T21:12:12.490000Z</td>\n",
       "    </tr>\n",
       "    <tr>\n",
       "      <th>4496</th>\n",
       "      <td>/kuafu/DASdata/Olancha_Plexus/Olancha_Hourly/O...</td>\n",
       "      <td>Olancha-2021-05-27T134855Z.h5</td>\n",
       "      <td>2021-05-27T13:48:55.000000Z</td>\n",
       "      <td>new</td>\n",
       "      <td>39906312</td>\n",
       "      <td>2021-05-27T14:19:00.120000Z</td>\n",
       "    </tr>\n",
       "  </tbody>\n",
       "</table>\n",
       "</div>"
      ],
      "text/plain": [
       "                                              files_abs  \\\n",
       "2873  /kuafu/DASdata/Olancha_Plexus/Olancha_Hourly/O...   \n",
       "2946  /kuafu/DASdata/Olancha_Plexus/Olancha_Hourly/O...   \n",
       "3231  /kuafu/DASdata/Olancha_Plexus/Olancha_Hourly/O...   \n",
       "3245  /kuafu/DASdata/Olancha_Plexus/Olancha_Hourly/O...   \n",
       "3245  /kuafu/DASdata/Olancha_Plexus/Olancha_Hourly/O...   \n",
       "3295  /kuafu/DASdata/Olancha_Plexus/Olancha_Hourly/O...   \n",
       "3327  /kuafu/DASdata/Olancha_Plexus/Olancha_Hourly/O...   \n",
       "3330  /kuafu/DASdata/Olancha_Plexus/Olancha_Hourly/O...   \n",
       "3358  /kuafu/DASdata/Olancha_Plexus/Olancha_Hourly/O...   \n",
       "3387  /kuafu/DASdata/Olancha_Plexus/Olancha_Hourly/O...   \n",
       "3447  /kuafu/DASdata/Olancha_Plexus/Olancha_Hourly/O...   \n",
       "3492  /kuafu/DASdata/Olancha_Plexus/Olancha_Hourly/O...   \n",
       "3533  /kuafu/DASdata/Olancha_Plexus/Olancha_Hourly/O...   \n",
       "3673  /kuafu/DASdata/Olancha_Plexus/Olancha_Hourly/O...   \n",
       "3827  /kuafu/DASdata/Olancha_Plexus/Olancha_Hourly/O...   \n",
       "4052  /kuafu/DASdata/Olancha_Plexus/Olancha_Hourly/O...   \n",
       "4059  /kuafu/DASdata/Olancha_Plexus/Olancha_Hourly/O...   \n",
       "4315  /kuafu/DASdata/Olancha_Plexus/Olancha_Hourly/O...   \n",
       "4479  /kuafu/DASdata/Olancha_Plexus/Olancha_Hourly/O...   \n",
       "4496  /kuafu/DASdata/Olancha_Plexus/Olancha_Hourly/O...   \n",
       "\n",
       "                          file_name                      t_begin  \\\n",
       "2873  Olancha-2021-03-20T224855Z.h5  2021-03-20T22:48:55.000000Z   \n",
       "2946  Olancha-2021-03-23T234855Z.h5  2021-03-23T23:48:55.000000Z   \n",
       "3231  Olancha-2021-04-04T204855Z.h5  2021-04-04T20:48:55.000000Z   \n",
       "3245  Olancha-2021-04-05T104855Z.h5  2021-04-05T10:48:55.000000Z   \n",
       "3245  Olancha-2021-04-05T104855Z.h5  2021-04-05T10:48:55.000000Z   \n",
       "3295  Olancha-2021-04-07T124855Z.h5  2021-04-07T12:48:55.000000Z   \n",
       "3327  Olancha-2021-04-08T204855Z.h5  2021-04-08T20:48:55.000000Z   \n",
       "3330  Olancha-2021-04-08T234855Z.h5  2021-04-08T23:48:55.000000Z   \n",
       "3358  Olancha-2021-04-10T034855Z.h5  2021-04-10T03:48:55.000000Z   \n",
       "3387  Olancha-2021-04-11T084855Z.h5  2021-04-11T08:48:55.000000Z   \n",
       "3447  Olancha-2021-04-13T204855Z.h5  2021-04-13T20:48:55.000000Z   \n",
       "3492  Olancha-2021-04-15T174855Z.h5  2021-04-15T17:48:55.000000Z   \n",
       "3533  Olancha-2021-04-17T104855Z.h5  2021-04-17T10:48:55.000000Z   \n",
       "3673  Olancha-2021-04-23T064855Z.h5  2021-04-23T06:48:55.000000Z   \n",
       "3827  Olancha-2021-04-29T164855Z.h5  2021-04-29T16:48:55.000000Z   \n",
       "4052  Olancha-2021-05-09T014855Z.h5  2021-05-09T01:48:55.000000Z   \n",
       "4059  Olancha-2021-05-09T084855Z.h5  2021-05-09T08:48:55.000000Z   \n",
       "4315  Olancha-2021-05-20T004855Z.h5  2021-05-20T00:48:55.000000Z   \n",
       "4479  Olancha-2021-05-26T204855Z.h5  2021-05-26T20:48:55.000000Z   \n",
       "4496  Olancha-2021-05-27T134855Z.h5  2021-05-27T13:48:55.000000Z   \n",
       "\n",
       "     instrument_type     eq_id                      eq_time  \n",
       "2873             new  39586079  2021-03-20T22:49:23.210000Z  \n",
       "2946             new  39588623  2021-03-24T00:08:38.010000Z  \n",
       "3231             new  39838568  2021-04-04T21:14:44.870000Z  \n",
       "3245             new  39838888  2021-04-05T11:15:37.460000Z  \n",
       "3245             new  39838928  2021-04-05T11:44:01.950000Z  \n",
       "3295             new  39841832  2021-04-07T13:42:05.870000Z  \n",
       "3327             new  39843952  2021-04-08T20:51:15.140000Z  \n",
       "3330             new  39844112  2021-04-09T00:33:47.080000Z  \n",
       "3358             new  39845512  2021-04-10T03:57:58.440000Z  \n",
       "3387             new  39846664  2021-04-11T09:45:36.990000Z  \n",
       "3447             new  39849144  2021-04-13T21:35:03.940000Z  \n",
       "3492             new  39851144  2021-04-15T18:05:03.520000Z  \n",
       "3533             new  39853648  2021-04-17T11:48:50.780000Z  \n",
       "3673             new  39625767  2021-04-23T06:51:07.920000Z  \n",
       "3827             new  39634983  2021-04-29T17:12:19.480000Z  \n",
       "4052             new  39645599  2021-05-09T01:55:40.450000Z  \n",
       "4059             new  39645767  2021-05-09T09:09:33.800000Z  \n",
       "4315             new  39659271  2021-05-20T01:37:22.690000Z  \n",
       "4479             new  39905824  2021-05-26T21:12:12.490000Z  \n",
       "4496             new  39906312  2021-05-27T14:19:00.120000Z  "
      ]
     },
     "execution_count": 22,
     "metadata": {},
     "output_type": "execute_result"
    }
   ],
   "source": [
    "data_found_df"
   ]
  },
  {
   "cell_type": "markdown",
   "id": "659a37fb",
   "metadata": {},
   "source": [
    "### Output the windowed data for ML phase/arrival time picking"
   ]
  },
  {
   "cell_type": "code",
   "execution_count": 126,
   "id": "f9477f52",
   "metadata": {},
   "outputs": [
    {
     "name": "stderr",
     "output_type": "stream",
     "text": [
      "Processing data...: 100%|██████████| 1/1 [00:57<00:00, 57.34s/it]\n",
      "Processing data...: 100%|██████████| 1/1 [01:05<00:00, 65.89s/it]4s/it]\n",
      "Processing data...: 100%|██████████| 1/1 [01:07<00:00, 67.97s/it]4s/it]\n",
      "Processing data...: 100%|██████████| 1/1 [01:08<00:00, 68.53s/it]2s/it]\n",
      "Processing data...: 100%|██████████| 1/1 [01:02<00:00, 62.24s/it]4s/it]\n",
      "Processing data...: 100%|██████████| 1/1 [01:08<00:00, 68.70s/it]1s/it]\n",
      "Processing data...: 100%|██████████| 1/1 [01:09<00:00, 69.34s/it]7s/it]\n",
      "Processing data...: 100%|██████████| 1/1 [01:15<00:00, 75.71s/it]6s/it]\n",
      "Processing data...: 100%|██████████| 1/1 [01:06<00:00, 66.56s/it]0s/it]\n",
      "Processing data...: 100%|██████████| 1/1 [01:08<00:00, 68.13s/it]0s/it]\n",
      "Processing data...: 100%|██████████| 1/1 [01:12<00:00, 72.62s/it]72s/it]\n",
      "Processing data...: 100%|██████████| 1/1 [01:12<00:00, 72.54s/it]31s/it]\n",
      "Processing data...: 100%|██████████| 1/1 [01:09<00:00, 69.65s/it]51s/it]\n",
      "Processing data...: 100%|██████████| 1/1 [01:09<00:00, 69.97s/it]90s/it]\n",
      "Processing data...: 100%|██████████| 1/1 [01:06<00:00, 66.42s/it]09s/it]\n",
      "Processing data...: 100%|██████████| 1/1 [01:05<00:00, 65.81s/it]22s/it]\n",
      "Processing data...: 100%|██████████| 1/1 [01:10<00:00, 70.89s/it]23s/it]\n",
      "Processing data...: 100%|██████████| 1/1 [01:06<00:00, 66.31s/it]47s/it]\n",
      "Processing data...: 100%|██████████| 1/1 [01:11<00:00, 71.83s/it]19s/it]\n",
      "Processing data...: 100%|██████████| 1/1 [01:12<00:00, 72.23s/it]95s/it]\n",
      "Processing data...: 100%|██████████| 1/1 [01:13<00:00, 73.97s/it]19s/it]\n",
      "Processing data...: 100%|██████████| 1/1 [01:09<00:00, 69.04s/it]05s/it]\n",
      "Processing data...: 100%|██████████| 1/1 [01:07<00:00, 67.12s/it]76s/it]\n",
      "Processing data...: 100%|██████████| 1/1 [01:13<00:00, 73.85s/it]01s/it]\n",
      "Processing data...: 100%|██████████| 1/1 [01:16<00:00, 76.21s/it]57s/it]\n",
      "Processing data...: 100%|██████████| 1/1 [01:13<00:00, 73.37s/it]10s/it]\n",
      "Processing data...: 100%|██████████| 1/1 [01:12<00:00, 72.39s/it]30s/it]\n",
      "Extracting waveforms...: 100%|██████████| 27/27 [41:29<00:00, 92.21s/it]\n"
     ]
    }
   ],
   "source": [
    "# Save the segmented data for ML phase picking\n",
    "data_folder = output_dir + '/ML_picking_data_M_3+'\n",
    "if not os.path.exists(data_folder):\n",
    "    os.mkdir(data_folder)\n",
    "\n",
    "for i_event in tqdm.tqdm(range(40,eq_num), desc=\"Extracting waveforms...\"):\n",
    "    try:\n",
    "        data0, info = DASutils.readFile_HDF([data_found_df.files_abs.iloc[i_event]], 0.01, 20.0, taper=0.0,\n",
    "                                        verbose=1, desampling=True, system=\"OptaSense\", nChbuffer=5000)\n",
    "\n",
    "        ntS = info['nt']\n",
    "        fs = info['fs']\n",
    "        das_dt = info['dt']\n",
    "        das_time = np.linspace(0.0, (ntS-1)*das_dt, ntS)\n",
    "\n",
    "        if data_found_df['instrument_type'].iloc[i_event] == 'old':\n",
    "            data0 = phase_to_strain(data0) # for old generation of data, needs to be converted from phase shift to strain\n",
    "            DAS_channel_num = DAS_channel_num_old\n",
    "            DAS_lat = DAS_lat_old\n",
    "            DAS_lon = DAS_lon_old\n",
    "            DAS_index = DAS_index_old\n",
    "        elif data_found_df['instrument_type'].iloc[i_event] == 'new':\n",
    "            DAS_channel_num = DAS_channel_num_new\n",
    "            DAS_lat = DAS_lat_new\n",
    "            DAS_lon = DAS_lon_new\n",
    "            DAS_index = DAS_index_new\n",
    "        else:\n",
    "            print('Instrument type unknown, skip...')\n",
    "            continue\n",
    "\n",
    "        \n",
    "        data0 = data0[DAS_index-1, :]\n",
    "        data_diff = np.diff(data0, axis=1)/das_dt\n",
    "\n",
    "        # time information \n",
    "        das_time = das_time[:-1] + das_dt/2\n",
    "\n",
    "        # cut the data\n",
    "        t_begin = np.min(event_arrival_P[i_event]) - 10\n",
    "        t_end = np.max(event_arrival_S[i_event]) + 60\n",
    "\n",
    "        # segmented data\n",
    "        ii_time = (das_time >= t_begin) & (das_time <= t_end)\n",
    "        data_diff = data_diff[:, ii_time]\n",
    "        das_time = das_time[ii_time]   \n",
    "\n",
    "        if len(das_time) > 0: # skip if the das time is not in range of event time\n",
    "            # Downsample from 250 Hz to 50 Hz\n",
    "            data = data_diff.T\n",
    "            np.savez(data_folder + f'/{eq_id[i_event]}.npz', data=data)\n",
    "\n",
    "\n",
    "            # Show data\n",
    "            fig, ax1 = plt.subplots(figsize=(16,8))\n",
    "            pclip=99.5\n",
    "            clipVal = np.percentile(np.absolute(data_diff), pclip)\n",
    "            # Vx\n",
    "            ax1.imshow(data_diff.T, \n",
    "                    extent=[0, data_diff.shape[0], das_time[-1], t_begin],\n",
    "                    aspect='auto', vmin=-clipVal, vmax=clipVal, cmap=plt.get_cmap('seismic'))\n",
    "\n",
    "            ax1.plot(DAS_index, event_arrival_P[i_event][::-1], '--g', zorder=10)\n",
    "            ax1.plot(DAS_index, event_arrival_S[i_event][::-1], '-g', zorder=10)\n",
    "\n",
    "            ax1.set_xlabel(\"Channel number\")\n",
    "            ax1.set_ylabel(\"Time [s]\")\n",
    "            ax1.grid()\n",
    "\n",
    "            plt.savefig(data_folder + f'/{eq_id[i_event]}.png')\n",
    "            plt.close('all')\n",
    "        else:\n",
    "            continue\n",
    "        \n",
    "    except:\n",
    "        print(f'data of event {eq_id[i_event]} not found')\n",
    "        continue"
   ]
  },
  {
   "cell_type": "markdown",
   "id": "63a3b74b",
   "metadata": {},
   "source": [
    "### Wait for ML results from Weiqiang. TODO: trying to include his code here to directly refind the time picking."
   ]
  },
  {
   "cell_type": "markdown",
   "id": "9977da54",
   "metadata": {},
   "source": [
    "### Load the ML-picked arrival time, and check how the ML picking works"
   ]
  },
  {
   "cell_type": "code",
   "execution_count": 19,
   "id": "65a2a5ca",
   "metadata": {},
   "outputs": [],
   "source": [
    "from scipy.interpolate import interp1d\n",
    "\n",
    "def extrapolate_arrival_time(ml_picks, kind='linear'):\n",
    "    channel = np.array(ml_picks['station_name'])\n",
    "    phase_index = np.array(ml_picks['phase_index'])\n",
    "    channel_all = np.arange(0, DAS_channel_num)\n",
    "    if kind is None:\n",
    "        phase_index_extrap = np.ones(channel_all.shape) * -1\n",
    "        phase_index_extrap[channel] = phase_index\n",
    "        \n",
    "    else:\n",
    "        interp_f = interp1d(channel, phase_index, kind=kind, fill_value='extrapolate')\n",
    "        phase_index_extrap = interp_f(channel_all).astype('int')\n",
    "    \n",
    "    return phase_index_extrap"
   ]
  },
  {
   "cell_type": "code",
   "execution_count": 24,
   "id": "057340f0",
   "metadata": {},
   "outputs": [
    {
     "data": {
      "text/plain": [
       "4772"
      ]
     },
     "execution_count": 24,
     "metadata": {},
     "output_type": "execute_result"
    }
   ],
   "source": [
    "DAS_channel_num_new"
   ]
  },
  {
   "cell_type": "code",
   "execution_count": 26,
   "id": "d69b9267",
   "metadata": {},
   "outputs": [
    {
     "data": {
      "text/html": [
       "<div>\n",
       "<style scoped>\n",
       "    .dataframe tbody tr th:only-of-type {\n",
       "        vertical-align: middle;\n",
       "    }\n",
       "\n",
       "    .dataframe tbody tr th {\n",
       "        vertical-align: top;\n",
       "    }\n",
       "\n",
       "    .dataframe thead th {\n",
       "        text-align: right;\n",
       "    }\n",
       "</style>\n",
       "<table border=\"1\" class=\"dataframe\">\n",
       "  <thead>\n",
       "    <tr style=\"text-align: right;\">\n",
       "      <th></th>\n",
       "      <th>files_abs</th>\n",
       "      <th>file_name</th>\n",
       "      <th>t_begin</th>\n",
       "      <th>instrument_type</th>\n",
       "      <th>eq_id</th>\n",
       "      <th>eq_time</th>\n",
       "    </tr>\n",
       "  </thead>\n",
       "  <tbody>\n",
       "    <tr>\n",
       "      <th>58</th>\n",
       "      <td>/kuafu/DASdata/Olancha_Plexus/Olancha_Hourly/O...</td>\n",
       "      <td>Olancha-2020-06-29 012322Z.h5</td>\n",
       "      <td>2020-06-29T01:23:22.000000Z</td>\n",
       "      <td>old</td>\n",
       "      <td>39271783</td>\n",
       "      <td>2020-06-29T01:55:49.010000Z</td>\n",
       "    </tr>\n",
       "    <tr>\n",
       "      <th>147</th>\n",
       "      <td>/kuafu/DASdata/Olancha_Plexus/Olancha_Hourly/O...</td>\n",
       "      <td>Olancha-2020-07-02 183207Z.h5</td>\n",
       "      <td>2020-07-02T18:32:07.000000Z</td>\n",
       "      <td>old</td>\n",
       "      <td>39276943</td>\n",
       "      <td>2020-07-02T18:49:41.090000Z</td>\n",
       "    </tr>\n",
       "    <tr>\n",
       "      <th>385</th>\n",
       "      <td>/kuafu/DASdata/Olancha_Plexus/Olancha_Hourly/O...</td>\n",
       "      <td>Olancha-2020-07-14 114929Z.h5</td>\n",
       "      <td>2020-07-14T11:49:29.000000Z</td>\n",
       "      <td>old</td>\n",
       "      <td>39292639</td>\n",
       "      <td>2020-07-14T12:15:18.870000Z</td>\n",
       "    </tr>\n",
       "    <tr>\n",
       "      <th>502</th>\n",
       "      <td>/kuafu/DASdata/Olancha_Plexus/Olancha_Hourly/O...</td>\n",
       "      <td>Olancha-2020-07-19 091236Z.h5</td>\n",
       "      <td>2020-07-19T09:12:36.000000Z</td>\n",
       "      <td>old</td>\n",
       "      <td>38598026</td>\n",
       "      <td>2020-07-19T10:07:44.500000Z</td>\n",
       "    </tr>\n",
       "    <tr>\n",
       "      <th>538</th>\n",
       "      <td>/kuafu/DASdata/Olancha_Plexus/Olancha_Hourly/O...</td>\n",
       "      <td>Olancha-2020-07-20 213738Z.h5</td>\n",
       "      <td>2020-07-20T21:37:38.000000Z</td>\n",
       "      <td>old</td>\n",
       "      <td>38599882</td>\n",
       "      <td>2020-07-20T22:01:53.080000Z</td>\n",
       "    </tr>\n",
       "    <tr>\n",
       "      <th>...</th>\n",
       "      <td>...</td>\n",
       "      <td>...</td>\n",
       "      <td>...</td>\n",
       "      <td>...</td>\n",
       "      <td>...</td>\n",
       "      <td>...</td>\n",
       "    </tr>\n",
       "    <tr>\n",
       "      <th>6141</th>\n",
       "      <td>/kuafu/DASdata/Olancha_Plexus/Olancha_Hourly/O...</td>\n",
       "      <td>Olancha-2021-09-24T191002Z.h5</td>\n",
       "      <td>2021-09-24T19:10:02.000000Z</td>\n",
       "      <td>new</td>\n",
       "      <td>39818327</td>\n",
       "      <td>2021-09-24T19:28:15.220000Z</td>\n",
       "    </tr>\n",
       "    <tr>\n",
       "      <th>6315</th>\n",
       "      <td>/kuafu/DASdata/Olancha_Plexus/Olancha_Hourly/O...</td>\n",
       "      <td>Olancha-2021-10-02T011002Z.h5</td>\n",
       "      <td>2021-10-02T01:10:02.000000Z</td>\n",
       "      <td>new</td>\n",
       "      <td>40061064</td>\n",
       "      <td>2021-10-02T01:42:20.500000Z</td>\n",
       "    </tr>\n",
       "    <tr>\n",
       "      <th>6424</th>\n",
       "      <td>/kuafu/DASdata/Olancha_Plexus/Olancha_Hourly/O...</td>\n",
       "      <td>Olancha-2021-10-06T141002Z.h5</td>\n",
       "      <td>2021-10-06T14:10:02.000000Z</td>\n",
       "      <td>new</td>\n",
       "      <td>40064320</td>\n",
       "      <td>2021-10-06T14:25:27.610000Z</td>\n",
       "    </tr>\n",
       "    <tr>\n",
       "      <th>6458</th>\n",
       "      <td>/kuafu/DASdata/Olancha_Plexus/Olancha_Hourly/O...</td>\n",
       "      <td>Olancha-2021-10-08T001002Z.h5</td>\n",
       "      <td>2021-10-08T00:10:02.000000Z</td>\n",
       "      <td>new</td>\n",
       "      <td>40065464</td>\n",
       "      <td>2021-10-08T00:13:50.260000Z</td>\n",
       "    </tr>\n",
       "    <tr>\n",
       "      <th>6553</th>\n",
       "      <td>/kuafu/DASdata/Olancha_Plexus/Olancha_Hourly/O...</td>\n",
       "      <td>Olancha-2021-10-11T231002Z.h5</td>\n",
       "      <td>2021-10-11T23:10:02.000000Z</td>\n",
       "      <td>new</td>\n",
       "      <td>40068112</td>\n",
       "      <td>2021-10-11T23:14:47.140000Z</td>\n",
       "    </tr>\n",
       "  </tbody>\n",
       "</table>\n",
       "<p>67 rows × 6 columns</p>\n",
       "</div>"
      ],
      "text/plain": [
       "                                              files_abs  \\\n",
       "58    /kuafu/DASdata/Olancha_Plexus/Olancha_Hourly/O...   \n",
       "147   /kuafu/DASdata/Olancha_Plexus/Olancha_Hourly/O...   \n",
       "385   /kuafu/DASdata/Olancha_Plexus/Olancha_Hourly/O...   \n",
       "502   /kuafu/DASdata/Olancha_Plexus/Olancha_Hourly/O...   \n",
       "538   /kuafu/DASdata/Olancha_Plexus/Olancha_Hourly/O...   \n",
       "...                                                 ...   \n",
       "6141  /kuafu/DASdata/Olancha_Plexus/Olancha_Hourly/O...   \n",
       "6315  /kuafu/DASdata/Olancha_Plexus/Olancha_Hourly/O...   \n",
       "6424  /kuafu/DASdata/Olancha_Plexus/Olancha_Hourly/O...   \n",
       "6458  /kuafu/DASdata/Olancha_Plexus/Olancha_Hourly/O...   \n",
       "6553  /kuafu/DASdata/Olancha_Plexus/Olancha_Hourly/O...   \n",
       "\n",
       "                          file_name                      t_begin  \\\n",
       "58    Olancha-2020-06-29 012322Z.h5  2020-06-29T01:23:22.000000Z   \n",
       "147   Olancha-2020-07-02 183207Z.h5  2020-07-02T18:32:07.000000Z   \n",
       "385   Olancha-2020-07-14 114929Z.h5  2020-07-14T11:49:29.000000Z   \n",
       "502   Olancha-2020-07-19 091236Z.h5  2020-07-19T09:12:36.000000Z   \n",
       "538   Olancha-2020-07-20 213738Z.h5  2020-07-20T21:37:38.000000Z   \n",
       "...                             ...                          ...   \n",
       "6141  Olancha-2021-09-24T191002Z.h5  2021-09-24T19:10:02.000000Z   \n",
       "6315  Olancha-2021-10-02T011002Z.h5  2021-10-02T01:10:02.000000Z   \n",
       "6424  Olancha-2021-10-06T141002Z.h5  2021-10-06T14:10:02.000000Z   \n",
       "6458  Olancha-2021-10-08T001002Z.h5  2021-10-08T00:10:02.000000Z   \n",
       "6553  Olancha-2021-10-11T231002Z.h5  2021-10-11T23:10:02.000000Z   \n",
       "\n",
       "     instrument_type     eq_id                      eq_time  \n",
       "58               old  39271783  2020-06-29T01:55:49.010000Z  \n",
       "147              old  39276943  2020-07-02T18:49:41.090000Z  \n",
       "385              old  39292639  2020-07-14T12:15:18.870000Z  \n",
       "502              old  38598026  2020-07-19T10:07:44.500000Z  \n",
       "538              old  38599882  2020-07-20T22:01:53.080000Z  \n",
       "...              ...       ...                          ...  \n",
       "6141             new  39818327  2021-09-24T19:28:15.220000Z  \n",
       "6315             new  40061064  2021-10-02T01:42:20.500000Z  \n",
       "6424             new  40064320  2021-10-06T14:25:27.610000Z  \n",
       "6458             new  40065464  2021-10-08T00:13:50.260000Z  \n",
       "6553             new  40068112  2021-10-11T23:14:47.140000Z  \n",
       "\n",
       "[67 rows x 6 columns]"
      ]
     },
     "execution_count": 26,
     "metadata": {},
     "output_type": "execute_result"
    }
   ],
   "source": [
    "data_found_df"
   ]
  },
  {
   "cell_type": "code",
   "execution_count": 31,
   "id": "a5ea04a6",
   "metadata": {},
   "outputs": [
    {
     "data": {
      "text/plain": [
       "'old'"
      ]
     },
     "execution_count": 31,
     "metadata": {},
     "output_type": "execute_result"
    }
   ],
   "source": [
    "data_found_df.iloc[0].instrument_type"
   ]
  },
  {
   "cell_type": "code",
   "execution_count": 27,
   "id": "0e8a7eea",
   "metadata": {},
   "outputs": [
    {
     "data": {
      "text/plain": [
       "[]"
      ]
     },
     "execution_count": 27,
     "metadata": {},
     "output_type": "execute_result"
    }
   ],
   "source": [
    "ml_picks_file"
   ]
  },
  {
   "cell_type": "code",
   "execution_count": 29,
   "id": "53b6fd40",
   "metadata": {},
   "outputs": [
    {
     "name": "stdout",
     "output_type": "stream",
     "text": [
      "Event 39271783 done!\n",
      "Event 39276943 done!\n",
      "Event 39292639 done!\n",
      "Event 38598026 done!\n",
      "Event 38599882 done!\n",
      "Event 38603762 done!\n",
      "Event 38605954 done!\n",
      "Event 39587168 done!\n",
      "Event 39368535 done!\n",
      "Event 38675290 done!\n",
      "Event 38676562 done!\n",
      "ML picking 38681266 not found, skip...\n",
      "Event 38683914 done!\n",
      "Event 38683930 done!\n",
      "Event 38683938 done!\n",
      "DAS file 38693130 not found, skip...\n",
      "Event 39649656 done!\n",
      "Event 39651712 done!\n",
      "Event 39455887 done!\n",
      "Event 39464287 done!\n",
      "Event 39464303 done!\n",
      "Event 39464943 done!\n",
      "Event 39466791 done!\n",
      "Event 39466903 done!\n",
      "Event 39727992 done!\n",
      "Event 39728160 done!\n",
      "Event 39550567 done!\n",
      "Event 39551831 done!\n",
      "Event 39552143 done!\n",
      "Event 39803064 done!\n",
      "Event 39588623 done!\n",
      "Event 39590911 done!\n",
      "Event 39593831 done!\n",
      "Event 39595423 done!\n",
      "Event 39836272 done!\n",
      "Event 39836392 done!\n",
      "Event 39841832 done!\n",
      "Event 39843952 done!\n",
      "Event 39846664 done!\n",
      "Event 39851144 done!\n",
      "ML picking 39853648 not found, skip...\n",
      "Event 39625767 done!\n",
      "ML picking 39632735 not found, skip...\n",
      "Event 39634983 done!\n",
      "Event 37474293 done!\n",
      "Event 37474213 done!\n",
      "Event 39659271 done!\n",
      "Event 37474917 done!\n",
      "ML picking 39906312 not found, skip...\n",
      "Event 39718407 done!\n",
      "Event 39725271 done!\n",
      "Event 39727759 done!\n",
      "Event 39730287 done!\n",
      "Event 37477941 done!\n",
      "DAS file 39735647 not found, skip...\n",
      "ML picking 39744871 not found, skip...\n",
      "Event 39748247 done!\n",
      "Event 39753207 done!\n",
      "ML picking 40024128 not found, skip...\n",
      "ML picking 40027904 not found, skip...\n",
      "ML picking 40034008 not found, skip...\n",
      "Event 39806479 done!\n",
      "Event 39818327 done!\n",
      "ML picking 40061064 not found, skip...\n",
      "ML picking 40064320 not found, skip...\n",
      "ML picking 40065464 not found, skip...\n",
      "ML picking 40068112 not found, skip...\n"
     ]
    }
   ],
   "source": [
    "extrapolate_ml_picking = True\n",
    "\n",
    "# path of the ML picking \n",
    "ml_pick_dir = '/kuafu/yinjx/Olancha_Plexus_100km/Olancha_scaling/picks_yinjx_Olancha_Plexus_100km'\n",
    "\n",
    "# Check the segmented 50Hz data\n",
    "das_path = '/kuafu/yinjx/Olancha_Plexus_100km/Olancha_scaling/ML_picking_data_M_3+'\n",
    "\n",
    "das_dt = 0.02 # downsampled to 50 Hz\n",
    "for i_eq, eq_id_current in enumerate(eq_id):\n",
    "      \n",
    "    try: \n",
    "        if data_found_df.iloc[i_eq].instrument_type == 'old':\n",
    "            DAS_channel_num = DAS_channel_num_old\n",
    "        elif data_found_df.iloc[i_eq].instrument_type == 'new':\n",
    "            DAS_channel_num = DAS_channel_num_new\n",
    "        else:\n",
    "            raise NameError('need to specify the type of instruments')\n",
    "\n",
    "            # look for the corresponding ML picks\n",
    "        ml_picks_file = glob.glob(ml_pick_dir + f'/*{eq_id_current}.csv')\n",
    "        ml_picks = pd.read_csv(ml_picks_file[0])\n",
    "\n",
    "        # extract the picked information\n",
    "        ml_picks_p = ml_picks[ml_picks['phase_type'] == 'p']\n",
    "        ml_picks_s = ml_picks[ml_picks['phase_type'] == 's']\n",
    "\n",
    "        # remove some duplicated picks, only keep those with higher probability\n",
    "        ml_picks_p = ml_picks_p.drop_duplicates(subset=['station_name'], keep='first')\n",
    "        ml_picks_s = ml_picks_s.drop_duplicates(subset=['station_name'], keep='first')\n",
    "        \n",
    "        if extrapolate_ml_picking:\n",
    "            # extrapolate the index in case the ML picking is imcomplete\n",
    "            event_arrival_P_ml_index = extrapolate_arrival_time(ml_picks_p, kind='linear')\n",
    "            event_arrival_S_ml_index = extrapolate_arrival_time(ml_picks_s, kind='linear')\n",
    "            channel_of_picks_P = np.arange(DAS_channel_num)\n",
    "            channel_of_picks_S = np.arange(DAS_channel_num)\n",
    "            fig_name = f'{eq_id_current}_ml_extrap_linear.png'\n",
    "        else:\n",
    "            # not extrapolate the index in case the ML picking is imcomplete\n",
    "            event_arrival_P_ml_index = extrapolate_arrival_time(ml_picks_p, kind=None)\n",
    "            event_arrival_S_ml_index = extrapolate_arrival_time(ml_picks_s, kind=None)\n",
    "            channel_of_picks_P = ml_picks_p['station_name']\n",
    "            channel_of_picks_S = ml_picks_s['station_name']\n",
    "            fig_name = f'{eq_id_current}_ml.png'\n",
    "        \n",
    "    except:\n",
    "        print(f'ML picking {eq_id_current} not found, skip...')\n",
    "        continue\n",
    "        \n",
    "    try:      \n",
    "        # look for the corresponding data file\n",
    "        file_name = glob.glob(das_path + f'/*{eq_id_current}.npz')\n",
    "        temp = np.load(file_name[0])\n",
    "        data_diff = temp[temp.files[0]]\n",
    "        \n",
    "        # time information \n",
    "        das_time = np.arange(data_diff.shape[0]) * das_dt\n",
    "\n",
    "        # get the ML pick time\n",
    "        event_arrival_P_ml = das_time[event_arrival_P_ml_index.astype('int')]\n",
    "        event_arrival_S_ml = das_time[event_arrival_S_ml_index.astype('int')]\n",
    "\n",
    "        # Slight modify only for plotting purpose\n",
    "        event_arrival_P_ml[event_arrival_P_ml == das_time[-1]] = np.nan\n",
    "        event_arrival_S_ml[event_arrival_S_ml == das_time[-1]] = np.nan\n",
    "\n",
    "        # Show data\n",
    "        fig, ax1 = plt.subplots(figsize=(16,8))\n",
    "        pclip=99.5\n",
    "        clipVal = np.percentile(np.absolute(data_diff), pclip)\n",
    "        # Vx\n",
    "        ax1.imshow(data_diff, \n",
    "                    extent=[0, data_diff.shape[1], das_time[-1], das_time[0]],\n",
    "                    aspect='auto', vmin=-clipVal, vmax=clipVal, cmap=plt.get_cmap('seismic'))\n",
    "\n",
    "        ax1.plot(event_arrival_P_ml, '--k', linewidth=2, zorder=10)\n",
    "        ax1.plot(event_arrival_S_ml, '-k', linewidth=2, zorder=10)\n",
    "        \n",
    "        ax1.set_title(f'Event ID: {eq_id_current}')\n",
    "        ax1.set_xlabel(\"Channel number\")\n",
    "        ax1.set_ylabel(\"Time [s]\")\n",
    "        ax1.grid()\n",
    "\n",
    "        plt.savefig(das_path + '/' + fig_name)\n",
    "        plt.close('all')\n",
    "        print(f'Event {eq_id_current} done!')\n",
    "        \n",
    "    except:\n",
    "        print(f'DAS file {eq_id_current} not found, skip...')\n",
    "        continue\n",
    "        \n",
    "        \n",
    "    "
   ]
  },
  {
   "cell_type": "markdown",
   "id": "893b4a40",
   "metadata": {},
   "source": [
    "### Now use the ML pick time to extract maximum amplitude"
   ]
  },
  {
   "cell_type": "code",
   "execution_count": 30,
   "id": "0c113224",
   "metadata": {},
   "outputs": [],
   "source": [
    "# apply mask onto the data\n",
    "def extract_maximum_amplitude(time_list, data_matrix, t1, t2):\n",
    "    t1 = t1[:, np.newaxis]\n",
    "    t2 = t2[:, np.newaxis]\n",
    "    time_list = time_list[np.newaxis, :]\n",
    "    \n",
    "    # broadcast comparison\n",
    "    mask_index = (time_list >= t1) & (time_list < t2)\n",
    "    data_matrix_mask = data_matrix.copy()\n",
    "    data_matrix_mask[~mask_index] = np.nan\n",
    "    max_amplitude = np.nanmax(data_matrix_mask, axis=1)\n",
    "    return max_amplitude\n"
   ]
  },
  {
   "cell_type": "code",
   "execution_count": 31,
   "id": "c7e2d152",
   "metadata": {},
   "outputs": [],
   "source": [
    "from scipy.signal import butter, filtfilt\n",
    "\n",
    "def convert_to_strain(strain_rate, das_time, filt=True, filt_freq=0.5):\n",
    "    dt = das_time[1] - das_time[0]\n",
    "    strain_temp = np.cumsum(strain_rate * das_time, axis=1)\n",
    "    if filt:\n",
    "        aa, bb = butter(2, filt_freq * 2 * dt, btype='high')\n",
    "        strain_temp = filtfilt(aa, bb, strain_temp, axis=1)\n",
    "        \n",
    "    return strain_temp\n"
   ]
  },
  {
   "cell_type": "code",
   "execution_count": 33,
   "id": "7a056814",
   "metadata": {
    "scrolled": true
   },
   "outputs": [
    {
     "name": "stderr",
     "output_type": "stream",
     "text": [
      "/tmp/ipykernel_29740/3094523104.py:11: RuntimeWarning: All-NaN slice encountered\n",
      "  max_amplitude = np.nanmax(data_matrix_mask, axis=1)\n"
     ]
    },
    {
     "name": "stdout",
     "output_type": "stream",
     "text": [
      "==========Event 39271783 done!==========\n"
     ]
    },
    {
     "name": "stderr",
     "output_type": "stream",
     "text": [
      "/tmp/ipykernel_29740/3094523104.py:11: RuntimeWarning: All-NaN slice encountered\n",
      "  max_amplitude = np.nanmax(data_matrix_mask, axis=1)\n"
     ]
    },
    {
     "name": "stdout",
     "output_type": "stream",
     "text": [
      "==========Event 39276943 done!==========\n"
     ]
    },
    {
     "name": "stderr",
     "output_type": "stream",
     "text": [
      "/tmp/ipykernel_29740/3094523104.py:11: RuntimeWarning: All-NaN slice encountered\n",
      "  max_amplitude = np.nanmax(data_matrix_mask, axis=1)\n"
     ]
    },
    {
     "name": "stdout",
     "output_type": "stream",
     "text": [
      "==========Event 39292639 done!==========\n",
      "DAS file 38598026 not found, skip...\n"
     ]
    },
    {
     "name": "stderr",
     "output_type": "stream",
     "text": [
      "/tmp/ipykernel_29740/3094523104.py:11: RuntimeWarning: All-NaN slice encountered\n",
      "  max_amplitude = np.nanmax(data_matrix_mask, axis=1)\n"
     ]
    },
    {
     "name": "stdout",
     "output_type": "stream",
     "text": [
      "==========Event 38599882 done!==========\n"
     ]
    },
    {
     "name": "stderr",
     "output_type": "stream",
     "text": [
      "/tmp/ipykernel_29740/3094523104.py:11: RuntimeWarning: All-NaN slice encountered\n",
      "  max_amplitude = np.nanmax(data_matrix_mask, axis=1)\n"
     ]
    },
    {
     "name": "stdout",
     "output_type": "stream",
     "text": [
      "==========Event 38603762 done!==========\n"
     ]
    },
    {
     "name": "stderr",
     "output_type": "stream",
     "text": [
      "/tmp/ipykernel_29740/3094523104.py:11: RuntimeWarning: All-NaN slice encountered\n",
      "  max_amplitude = np.nanmax(data_matrix_mask, axis=1)\n"
     ]
    },
    {
     "name": "stdout",
     "output_type": "stream",
     "text": [
      "==========Event 38605954 done!==========\n"
     ]
    },
    {
     "name": "stderr",
     "output_type": "stream",
     "text": [
      "/tmp/ipykernel_29740/3094523104.py:11: RuntimeWarning: All-NaN slice encountered\n",
      "  max_amplitude = np.nanmax(data_matrix_mask, axis=1)\n"
     ]
    },
    {
     "name": "stdout",
     "output_type": "stream",
     "text": [
      "==========Event 39587168 done!==========\n"
     ]
    },
    {
     "name": "stderr",
     "output_type": "stream",
     "text": [
      "/tmp/ipykernel_29740/3094523104.py:11: RuntimeWarning: All-NaN slice encountered\n",
      "  max_amplitude = np.nanmax(data_matrix_mask, axis=1)\n"
     ]
    },
    {
     "name": "stdout",
     "output_type": "stream",
     "text": [
      "==========Event 39368535 done!==========\n"
     ]
    },
    {
     "name": "stderr",
     "output_type": "stream",
     "text": [
      "/tmp/ipykernel_29740/3094523104.py:11: RuntimeWarning: All-NaN slice encountered\n",
      "  max_amplitude = np.nanmax(data_matrix_mask, axis=1)\n"
     ]
    },
    {
     "name": "stdout",
     "output_type": "stream",
     "text": [
      "==========Event 38675290 done!==========\n"
     ]
    },
    {
     "name": "stderr",
     "output_type": "stream",
     "text": [
      "/tmp/ipykernel_29740/3094523104.py:11: RuntimeWarning: All-NaN slice encountered\n",
      "  max_amplitude = np.nanmax(data_matrix_mask, axis=1)\n"
     ]
    },
    {
     "name": "stdout",
     "output_type": "stream",
     "text": [
      "==========Event 38676562 done!==========\n"
     ]
    },
    {
     "name": "stderr",
     "output_type": "stream",
     "text": [
      "/tmp/ipykernel_29740/3094523104.py:11: RuntimeWarning: All-NaN slice encountered\n",
      "  max_amplitude = np.nanmax(data_matrix_mask, axis=1)\n"
     ]
    },
    {
     "name": "stdout",
     "output_type": "stream",
     "text": [
      "==========Event 38681266 done!==========\n"
     ]
    },
    {
     "name": "stderr",
     "output_type": "stream",
     "text": [
      "/tmp/ipykernel_29740/3094523104.py:11: RuntimeWarning: All-NaN slice encountered\n",
      "  max_amplitude = np.nanmax(data_matrix_mask, axis=1)\n"
     ]
    },
    {
     "name": "stdout",
     "output_type": "stream",
     "text": [
      "==========Event 38683914 done!==========\n"
     ]
    },
    {
     "name": "stderr",
     "output_type": "stream",
     "text": [
      "/tmp/ipykernel_29740/3094523104.py:11: RuntimeWarning: All-NaN slice encountered\n",
      "  max_amplitude = np.nanmax(data_matrix_mask, axis=1)\n"
     ]
    },
    {
     "name": "stdout",
     "output_type": "stream",
     "text": [
      "==========Event 38683930 done!==========\n"
     ]
    },
    {
     "name": "stderr",
     "output_type": "stream",
     "text": [
      "/tmp/ipykernel_29740/3094523104.py:11: RuntimeWarning: All-NaN slice encountered\n",
      "  max_amplitude = np.nanmax(data_matrix_mask, axis=1)\n"
     ]
    },
    {
     "name": "stdout",
     "output_type": "stream",
     "text": [
      "==========Event 38683938 done!==========\n"
     ]
    },
    {
     "name": "stderr",
     "output_type": "stream",
     "text": [
      "/tmp/ipykernel_29740/3094523104.py:11: RuntimeWarning: All-NaN slice encountered\n",
      "  max_amplitude = np.nanmax(data_matrix_mask, axis=1)\n"
     ]
    },
    {
     "name": "stdout",
     "output_type": "stream",
     "text": [
      "==========Event 38693130 done!==========\n"
     ]
    },
    {
     "name": "stderr",
     "output_type": "stream",
     "text": [
      "/tmp/ipykernel_29740/3094523104.py:11: RuntimeWarning: All-NaN slice encountered\n",
      "  max_amplitude = np.nanmax(data_matrix_mask, axis=1)\n"
     ]
    },
    {
     "name": "stdout",
     "output_type": "stream",
     "text": [
      "==========Event 39649656 done!==========\n"
     ]
    },
    {
     "name": "stderr",
     "output_type": "stream",
     "text": [
      "/tmp/ipykernel_29740/3094523104.py:11: RuntimeWarning: All-NaN slice encountered\n",
      "  max_amplitude = np.nanmax(data_matrix_mask, axis=1)\n"
     ]
    },
    {
     "name": "stdout",
     "output_type": "stream",
     "text": [
      "==========Event 39651712 done!==========\n"
     ]
    },
    {
     "name": "stderr",
     "output_type": "stream",
     "text": [
      "/tmp/ipykernel_29740/3094523104.py:11: RuntimeWarning: All-NaN slice encountered\n",
      "  max_amplitude = np.nanmax(data_matrix_mask, axis=1)\n"
     ]
    },
    {
     "name": "stdout",
     "output_type": "stream",
     "text": [
      "==========Event 39455887 done!==========\n"
     ]
    },
    {
     "name": "stderr",
     "output_type": "stream",
     "text": [
      "/tmp/ipykernel_29740/3094523104.py:11: RuntimeWarning: All-NaN slice encountered\n",
      "  max_amplitude = np.nanmax(data_matrix_mask, axis=1)\n"
     ]
    },
    {
     "name": "stdout",
     "output_type": "stream",
     "text": [
      "==========Event 39464287 done!==========\n"
     ]
    },
    {
     "name": "stderr",
     "output_type": "stream",
     "text": [
      "/tmp/ipykernel_29740/3094523104.py:11: RuntimeWarning: All-NaN slice encountered\n",
      "  max_amplitude = np.nanmax(data_matrix_mask, axis=1)\n"
     ]
    },
    {
     "name": "stdout",
     "output_type": "stream",
     "text": [
      "==========Event 39464303 done!==========\n",
      "DAS file 39464943 not found, skip...\n"
     ]
    },
    {
     "name": "stderr",
     "output_type": "stream",
     "text": [
      "/tmp/ipykernel_29740/3094523104.py:11: RuntimeWarning: All-NaN slice encountered\n",
      "  max_amplitude = np.nanmax(data_matrix_mask, axis=1)\n"
     ]
    },
    {
     "name": "stdout",
     "output_type": "stream",
     "text": [
      "==========Event 39466791 done!==========\n"
     ]
    },
    {
     "name": "stderr",
     "output_type": "stream",
     "text": [
      "/tmp/ipykernel_29740/3094523104.py:11: RuntimeWarning: All-NaN slice encountered\n",
      "  max_amplitude = np.nanmax(data_matrix_mask, axis=1)\n"
     ]
    },
    {
     "name": "stdout",
     "output_type": "stream",
     "text": [
      "==========Event 39466903 done!==========\n"
     ]
    },
    {
     "name": "stderr",
     "output_type": "stream",
     "text": [
      "/tmp/ipykernel_29740/3094523104.py:11: RuntimeWarning: All-NaN slice encountered\n",
      "  max_amplitude = np.nanmax(data_matrix_mask, axis=1)\n"
     ]
    },
    {
     "name": "stdout",
     "output_type": "stream",
     "text": [
      "==========Event 39727992 done!==========\n"
     ]
    },
    {
     "name": "stderr",
     "output_type": "stream",
     "text": [
      "/tmp/ipykernel_29740/3094523104.py:11: RuntimeWarning: All-NaN slice encountered\n",
      "  max_amplitude = np.nanmax(data_matrix_mask, axis=1)\n"
     ]
    },
    {
     "name": "stdout",
     "output_type": "stream",
     "text": [
      "==========Event 39728160 done!==========\n"
     ]
    },
    {
     "name": "stderr",
     "output_type": "stream",
     "text": [
      "/tmp/ipykernel_29740/3094523104.py:11: RuntimeWarning: All-NaN slice encountered\n",
      "  max_amplitude = np.nanmax(data_matrix_mask, axis=1)\n"
     ]
    },
    {
     "name": "stdout",
     "output_type": "stream",
     "text": [
      "==========Event 39550567 done!==========\n"
     ]
    },
    {
     "name": "stderr",
     "output_type": "stream",
     "text": [
      "/tmp/ipykernel_29740/3094523104.py:11: RuntimeWarning: All-NaN slice encountered\n",
      "  max_amplitude = np.nanmax(data_matrix_mask, axis=1)\n"
     ]
    },
    {
     "name": "stdout",
     "output_type": "stream",
     "text": [
      "==========Event 39551831 done!==========\n"
     ]
    },
    {
     "name": "stderr",
     "output_type": "stream",
     "text": [
      "/tmp/ipykernel_29740/3094523104.py:11: RuntimeWarning: All-NaN slice encountered\n",
      "  max_amplitude = np.nanmax(data_matrix_mask, axis=1)\n"
     ]
    },
    {
     "name": "stdout",
     "output_type": "stream",
     "text": [
      "==========Event 39552143 done!==========\n"
     ]
    },
    {
     "name": "stderr",
     "output_type": "stream",
     "text": [
      "/tmp/ipykernel_29740/3094523104.py:11: RuntimeWarning: All-NaN slice encountered\n",
      "  max_amplitude = np.nanmax(data_matrix_mask, axis=1)\n"
     ]
    },
    {
     "name": "stdout",
     "output_type": "stream",
     "text": [
      "==========Event 39803064 done!==========\n"
     ]
    },
    {
     "name": "stderr",
     "output_type": "stream",
     "text": [
      "/tmp/ipykernel_29740/3094523104.py:11: RuntimeWarning: All-NaN slice encountered\n",
      "  max_amplitude = np.nanmax(data_matrix_mask, axis=1)\n"
     ]
    },
    {
     "name": "stdout",
     "output_type": "stream",
     "text": [
      "==========Event 39588623 done!==========\n",
      "DAS file 39590911 not found, skip...\n"
     ]
    },
    {
     "name": "stderr",
     "output_type": "stream",
     "text": [
      "/tmp/ipykernel_29740/3094523104.py:11: RuntimeWarning: All-NaN slice encountered\n",
      "  max_amplitude = np.nanmax(data_matrix_mask, axis=1)\n"
     ]
    },
    {
     "name": "stdout",
     "output_type": "stream",
     "text": [
      "==========Event 39593831 done!==========\n"
     ]
    },
    {
     "name": "stderr",
     "output_type": "stream",
     "text": [
      "/tmp/ipykernel_29740/3094523104.py:11: RuntimeWarning: All-NaN slice encountered\n",
      "  max_amplitude = np.nanmax(data_matrix_mask, axis=1)\n"
     ]
    },
    {
     "name": "stdout",
     "output_type": "stream",
     "text": [
      "==========Event 39595423 done!==========\n"
     ]
    },
    {
     "name": "stderr",
     "output_type": "stream",
     "text": [
      "/tmp/ipykernel_29740/3094523104.py:11: RuntimeWarning: All-NaN slice encountered\n",
      "  max_amplitude = np.nanmax(data_matrix_mask, axis=1)\n"
     ]
    },
    {
     "name": "stdout",
     "output_type": "stream",
     "text": [
      "==========Event 39836272 done!==========\n"
     ]
    },
    {
     "name": "stderr",
     "output_type": "stream",
     "text": [
      "/tmp/ipykernel_29740/3094523104.py:11: RuntimeWarning: All-NaN slice encountered\n",
      "  max_amplitude = np.nanmax(data_matrix_mask, axis=1)\n"
     ]
    },
    {
     "name": "stdout",
     "output_type": "stream",
     "text": [
      "==========Event 39836392 done!==========\n"
     ]
    },
    {
     "name": "stderr",
     "output_type": "stream",
     "text": [
      "/tmp/ipykernel_29740/3094523104.py:11: RuntimeWarning: All-NaN slice encountered\n",
      "  max_amplitude = np.nanmax(data_matrix_mask, axis=1)\n"
     ]
    },
    {
     "name": "stdout",
     "output_type": "stream",
     "text": [
      "==========Event 39841832 done!==========\n"
     ]
    },
    {
     "name": "stderr",
     "output_type": "stream",
     "text": [
      "/tmp/ipykernel_29740/3094523104.py:11: RuntimeWarning: All-NaN slice encountered\n",
      "  max_amplitude = np.nanmax(data_matrix_mask, axis=1)\n"
     ]
    },
    {
     "name": "stdout",
     "output_type": "stream",
     "text": [
      "==========Event 39843952 done!==========\n"
     ]
    },
    {
     "name": "stderr",
     "output_type": "stream",
     "text": [
      "/tmp/ipykernel_29740/3094523104.py:11: RuntimeWarning: All-NaN slice encountered\n",
      "  max_amplitude = np.nanmax(data_matrix_mask, axis=1)\n"
     ]
    },
    {
     "name": "stdout",
     "output_type": "stream",
     "text": [
      "==========Event 39846664 done!==========\n"
     ]
    },
    {
     "name": "stderr",
     "output_type": "stream",
     "text": [
      "/tmp/ipykernel_29740/3094523104.py:11: RuntimeWarning: All-NaN slice encountered\n",
      "  max_amplitude = np.nanmax(data_matrix_mask, axis=1)\n"
     ]
    },
    {
     "name": "stdout",
     "output_type": "stream",
     "text": [
      "==========Event 39851144 done!==========\n",
      "ML picking 39853648 not found, skip...\n",
      "DAS file 39625767 not found, skip...\n",
      "DAS file 39632735 not found, skip...\n"
     ]
    },
    {
     "name": "stderr",
     "output_type": "stream",
     "text": [
      "/tmp/ipykernel_29740/3094523104.py:11: RuntimeWarning: All-NaN slice encountered\n",
      "  max_amplitude = np.nanmax(data_matrix_mask, axis=1)\n"
     ]
    },
    {
     "name": "stdout",
     "output_type": "stream",
     "text": [
      "==========Event 39634983 done!==========\n"
     ]
    },
    {
     "name": "stderr",
     "output_type": "stream",
     "text": [
      "/tmp/ipykernel_29740/3094523104.py:11: RuntimeWarning: All-NaN slice encountered\n",
      "  max_amplitude = np.nanmax(data_matrix_mask, axis=1)\n"
     ]
    },
    {
     "name": "stdout",
     "output_type": "stream",
     "text": [
      "==========Event 37474293 done!==========\n",
      "DAS file 37474213 not found, skip...\n"
     ]
    },
    {
     "name": "stderr",
     "output_type": "stream",
     "text": [
      "/tmp/ipykernel_29740/3094523104.py:11: RuntimeWarning: All-NaN slice encountered\n",
      "  max_amplitude = np.nanmax(data_matrix_mask, axis=1)\n"
     ]
    },
    {
     "name": "stdout",
     "output_type": "stream",
     "text": [
      "==========Event 39659271 done!==========\n"
     ]
    },
    {
     "name": "stderr",
     "output_type": "stream",
     "text": [
      "/tmp/ipykernel_29740/3094523104.py:11: RuntimeWarning: All-NaN slice encountered\n",
      "  max_amplitude = np.nanmax(data_matrix_mask, axis=1)\n"
     ]
    },
    {
     "name": "stdout",
     "output_type": "stream",
     "text": [
      "==========Event 37474917 done!==========\n",
      "ML picking 39906312 not found, skip...\n"
     ]
    },
    {
     "name": "stderr",
     "output_type": "stream",
     "text": [
      "/tmp/ipykernel_29740/3094523104.py:11: RuntimeWarning: All-NaN slice encountered\n",
      "  max_amplitude = np.nanmax(data_matrix_mask, axis=1)\n"
     ]
    },
    {
     "name": "stdout",
     "output_type": "stream",
     "text": [
      "==========Event 39718407 done!==========\n"
     ]
    },
    {
     "name": "stderr",
     "output_type": "stream",
     "text": [
      "/tmp/ipykernel_29740/3094523104.py:11: RuntimeWarning: All-NaN slice encountered\n",
      "  max_amplitude = np.nanmax(data_matrix_mask, axis=1)\n"
     ]
    },
    {
     "name": "stdout",
     "output_type": "stream",
     "text": [
      "==========Event 39725271 done!==========\n"
     ]
    },
    {
     "name": "stderr",
     "output_type": "stream",
     "text": [
      "/tmp/ipykernel_29740/3094523104.py:11: RuntimeWarning: All-NaN slice encountered\n",
      "  max_amplitude = np.nanmax(data_matrix_mask, axis=1)\n"
     ]
    },
    {
     "name": "stdout",
     "output_type": "stream",
     "text": [
      "==========Event 39727759 done!==========\n"
     ]
    },
    {
     "name": "stderr",
     "output_type": "stream",
     "text": [
      "/tmp/ipykernel_29740/3094523104.py:11: RuntimeWarning: All-NaN slice encountered\n",
      "  max_amplitude = np.nanmax(data_matrix_mask, axis=1)\n"
     ]
    },
    {
     "name": "stdout",
     "output_type": "stream",
     "text": [
      "==========Event 39730287 done!==========\n",
      "DAS file 37477941 not found, skip...\n"
     ]
    },
    {
     "name": "stderr",
     "output_type": "stream",
     "text": [
      "/tmp/ipykernel_29740/3094523104.py:11: RuntimeWarning: All-NaN slice encountered\n",
      "  max_amplitude = np.nanmax(data_matrix_mask, axis=1)\n"
     ]
    },
    {
     "name": "stdout",
     "output_type": "stream",
     "text": [
      "==========Event 39735647 done!==========\n",
      "DAS file 39744871 not found, skip...\n"
     ]
    },
    {
     "name": "stderr",
     "output_type": "stream",
     "text": [
      "/tmp/ipykernel_29740/3094523104.py:11: RuntimeWarning: All-NaN slice encountered\n",
      "  max_amplitude = np.nanmax(data_matrix_mask, axis=1)\n"
     ]
    },
    {
     "name": "stdout",
     "output_type": "stream",
     "text": [
      "==========Event 39748247 done!==========\n"
     ]
    },
    {
     "name": "stderr",
     "output_type": "stream",
     "text": [
      "/tmp/ipykernel_29740/3094523104.py:11: RuntimeWarning: All-NaN slice encountered\n",
      "  max_amplitude = np.nanmax(data_matrix_mask, axis=1)\n"
     ]
    },
    {
     "name": "stdout",
     "output_type": "stream",
     "text": [
      "==========Event 39753207 done!==========\n",
      "ML picking 40024128 not found, skip...\n",
      "ML picking 40027904 not found, skip...\n",
      "ML picking 40034008 not found, skip...\n"
     ]
    },
    {
     "name": "stderr",
     "output_type": "stream",
     "text": [
      "/tmp/ipykernel_29740/3094523104.py:11: RuntimeWarning: All-NaN slice encountered\n",
      "  max_amplitude = np.nanmax(data_matrix_mask, axis=1)\n"
     ]
    },
    {
     "name": "stdout",
     "output_type": "stream",
     "text": [
      "==========Event 39806479 done!==========\n"
     ]
    },
    {
     "name": "stderr",
     "output_type": "stream",
     "text": [
      "/tmp/ipykernel_29740/3094523104.py:11: RuntimeWarning: All-NaN slice encountered\n",
      "  max_amplitude = np.nanmax(data_matrix_mask, axis=1)\n"
     ]
    },
    {
     "name": "stdout",
     "output_type": "stream",
     "text": [
      "==========Event 39818327 done!==========\n",
      "ML picking 40061064 not found, skip...\n",
      "ML picking 40064320 not found, skip...\n",
      "ML picking 40065464 not found, skip...\n",
      "ML picking 40068112 not found, skip...\n"
     ]
    }
   ],
   "source": [
    "extrapolate_ml_picking = False\n",
    "# path of the ML picking \n",
    "ml_pick_dir = '/kuafu/yinjx/Olancha_Plexus_100km/Olancha_scaling/picks_yinjx_Olancha_Plexus_100km'\n",
    "# Check the segmented 50Hz data\n",
    "das_path = '/kuafu/yinjx/Olancha_Plexus_100km/Olancha_scaling/ML_picking_data_M_3+'\n",
    "\n",
    "from obspy.geodetics import locations2degrees\n",
    "\n",
    "# extract the maximum amplitude\n",
    "peak_ampliutde_P_all = np.array([])\n",
    "peak_ampliutde_S_all = np.array([])\n",
    "peak_strain_P_all = np.array([]) # strain\n",
    "peak_strain_S_all = np.array([]) # strain\n",
    "distance_all = np.array([])\n",
    "magnitude_all = np.array([])\n",
    "event_id_all = np.array([])\n",
    "channel_id_all = np.array([])\n",
    "\n",
    "das_dt = 0.02 # downsampled to 50 Hz\n",
    "\n",
    "for i_eq, eq_id_current in enumerate(eq_id):\n",
    "      \n",
    "    try: \n",
    "        if data_found_df['instrument_type'].iloc[i_eq] == 'old':\n",
    "            DAS_channel_num = DAS_channel_num_old\n",
    "            DAS_lat = DAS_lat_old\n",
    "            DAS_lon = DAS_lon_old\n",
    "            DAS_index = DAS_index_old\n",
    "            to_nano_factor = 1e9\n",
    "        elif data_found_df['instrument_type'].iloc[i_eq] == 'new':\n",
    "            DAS_channel_num = DAS_channel_num_new\n",
    "            DAS_lat = DAS_lat_new\n",
    "            DAS_lon = DAS_lon_new\n",
    "            DAS_index = DAS_index_new\n",
    "            to_nano_factor = 1e3 # New data is in micro strain, so only 1e3\n",
    "        else:\n",
    "            print('Instrument type unknown, skip...')\n",
    "            continue\n",
    "\n",
    "            # look for the corresponding ML picks\n",
    "        ml_picks_file = glob.glob(ml_pick_dir + f'/*{eq_id_current}.csv')\n",
    "        ml_picks = pd.read_csv(ml_picks_file[0])\n",
    "\n",
    "        # extract the picked information\n",
    "        ml_picks_p = ml_picks[ml_picks['phase_type'] == 'p']\n",
    "        ml_picks_s = ml_picks[ml_picks['phase_type'] == 's']\n",
    "\n",
    "        # remove some duplicated picks, only keep those with higher probability\n",
    "        ml_picks_p = ml_picks_p.drop_duplicates(subset=['station_name'], keep='first')\n",
    "        ml_picks_s = ml_picks_s.drop_duplicates(subset=['station_name'], keep='first')\n",
    "        \n",
    "        if extrapolate_ml_picking:\n",
    "            # extrapolate the index in case the ML picking is imcomplete\n",
    "            event_arrival_P_ml_index = extrapolate_arrival_time(ml_picks_p, kind='nearest')\n",
    "            event_arrival_S_ml_index = extrapolate_arrival_time(ml_picks_s, kind='nearest')\n",
    "            channel_of_picks_P = np.arange(DAS_channel_num)\n",
    "            channel_of_picks_S = np.arange(DAS_channel_num)\n",
    "            fig_name = f'{eq_id_current}_ml_extrap_nearest.png'\n",
    "        else:\n",
    "            # not extrapolate the index in case the ML picking is imcomplete\n",
    "            event_arrival_P_ml_index = extrapolate_arrival_time(ml_picks_p, kind=None)\n",
    "            event_arrival_S_ml_index = extrapolate_arrival_time(ml_picks_s, kind=None)\n",
    "            channel_of_picks_P = ml_picks_p['station_name']\n",
    "            channel_of_picks_S = ml_picks_s['station_name']\n",
    "            fig_name = f'{eq_id_current}_ml.png'\n",
    "        \n",
    "    except:\n",
    "        print(f'ML picking {eq_id_current} not found, skip...')\n",
    "        continue\n",
    "        \n",
    "    try:\n",
    "        # look for the corresponding data file\n",
    "        file_name = glob.glob(das_path + f'/*{eq_id_current}.npz')\n",
    "        temp = np.load(file_name[0])\n",
    "        data_diff = temp[temp.files[0]]\n",
    "\n",
    "        # time information \n",
    "        das_time = np.arange(data_diff.shape[0]) * das_dt\n",
    "\n",
    "        # get the ML pick time\n",
    "        event_arrival_P_ml = das_time[event_arrival_P_ml_index.astype('int')]\n",
    "        event_arrival_S_ml = das_time[event_arrival_S_ml_index.astype('int')]\n",
    "\n",
    "        end_time = np.ones(event_arrival_S_ml.shape) * das_time[-1]\n",
    "\n",
    "        data_diff = data_diff.T\n",
    "        # Extract the maximum given the P and S arrival time\n",
    "        max_P_amplitude = extract_maximum_amplitude(das_time, abs(data_diff), \n",
    "                                                    event_arrival_P_ml, event_arrival_S_ml)\n",
    "        max_S_amplitude = extract_maximum_amplitude(das_time, abs(data_diff), \n",
    "                                                    event_arrival_S_ml, end_time)\n",
    "\n",
    "        # Also extract strain maximum\n",
    "        strain = convert_to_strain(data_diff, das_time)\n",
    "        # Extract the maximum strain given the P and S arrival time\n",
    "        max_P_strain = extract_maximum_amplitude(das_time, abs(strain), \n",
    "                                                    event_arrival_P_ml, event_arrival_S_ml)\n",
    "        max_S_strain = extract_maximum_amplitude(das_time, abs(strain), \n",
    "                                                    event_arrival_S_ml, end_time)\n",
    "\n",
    "        # strain to nanostrain\n",
    "        max_P_amplitude = max_P_amplitude * to_nano_factor\n",
    "        max_S_amplitude = max_S_amplitude * to_nano_factor\n",
    "        max_P_strain = max_P_strain * to_nano_factor\n",
    "        max_S_strain = max_S_strain * to_nano_factor\n",
    "\n",
    "\n",
    "        # Distance from each channel to the source\n",
    "        distance_to_source = locations2degrees(DAS_lat, DAS_lon, eq_lat[i_eq], eq_lon[i_eq])\n",
    "\n",
    "        # Magnitude of each earhtquake\n",
    "        \n",
    "        magnitude_all = np.concatenate((magnitude_all, np.ones(DAS_lat.shape) * eq_mag[i_eq]), axis=0)\n",
    "        # A simple event label\n",
    "        \n",
    "        event_id_all = np.concatenate((event_id_all, (np.ones(DAS_lat.shape) * eq_id_current).astype('int')), axis=0)\n",
    "        # Channel id\n",
    "        \n",
    "        channel_id_all = np.concatenate((channel_id_all, DAS_index), axis=0)\n",
    "\n",
    "\n",
    "        \n",
    "        peak_ampliutde_P_all = np.concatenate((peak_ampliutde_P_all, max_P_amplitude), axis=0)\n",
    "        \n",
    "        peak_ampliutde_S_all = np.concatenate((peak_ampliutde_S_all, max_S_amplitude), axis=0)\n",
    "        \n",
    "        peak_strain_P_all = np.concatenate((peak_strain_P_all, max_P_strain), axis=0)\n",
    "        \n",
    "        peak_strain_S_all = np.concatenate((peak_strain_S_all, max_S_strain), axis=0)\n",
    "        \n",
    "        distance_all = np.concatenate((distance_all, distance_to_source), axis=0)\n",
    "        print('=' * 10 + f'Event {eq_id_current} done!' + '=' * 10)\n",
    "        \n",
    "    except:\n",
    "        print(f'DAS file {eq_id_current} not found, skip...')\n",
    "        continue\n",
    "        \n",
    "    "
   ]
  },
  {
   "cell_type": "markdown",
   "id": "bdd2d8b5",
   "metadata": {},
   "source": [
    "### Flatten all the measured results. Output all the results."
   ]
  },
  {
   "cell_type": "code",
   "execution_count": 34,
   "id": "1c14eccc",
   "metadata": {},
   "outputs": [],
   "source": [
    "peak_ampliutde_P_all_flatten = np.array(peak_ampliutde_P_all).flatten()\n",
    "peak_ampliutde_S_all_flatten = np.array(peak_ampliutde_S_all).flatten()\n",
    "peak_strain_P_all_flatten = np.array(peak_strain_P_all).flatten()\n",
    "peak_strain_S_all_flatten = np.array(peak_strain_S_all).flatten()\n",
    "distance_all_flatten = np.array(distance_all).flatten()\n",
    "distance_all_km_flatten = distance_all_flatten * 113\n",
    "magnitude_all_flatten = np.array(magnitude_all).flatten()\n",
    "event_id_all_flatten = np.array(event_id_all).flatten()\n",
    "channel_id_all_flatten = np.array(channel_id_all).flatten()"
   ]
  },
  {
   "cell_type": "code",
   "execution_count": 35,
   "id": "bf6bce15",
   "metadata": {},
   "outputs": [],
   "source": [
    "output_file_name = output_dir + '/peak_amplitude_M3+.csv'\n",
    "\n",
    "all_combined = np.array([event_id_all_flatten, \n",
    "                         magnitude_all_flatten, \n",
    "                         distance_all_km_flatten, \n",
    "                         peak_ampliutde_P_all_flatten, \n",
    "                         peak_ampliutde_S_all_flatten,\n",
    "                         peak_strain_P_all_flatten,\n",
    "                         peak_strain_S_all_flatten,\n",
    "                         channel_id_all_flatten]).T\n",
    "\n",
    "peak_amplitude_df = pd.DataFrame(data=all_combined, \n",
    "                                 columns=['event_id', 'magnitude', 'distance_in_km', 'peak_P', 'peak_S','peak_P_strain', 'peak_S_strain', 'channel_id'])\n",
    "\n",
    "peak_amplitude_df = peak_amplitude_df.dropna()\n",
    "# Write the results to a csv file\n",
    "peak_amplitude_df.to_csv(output_file_name, index=False)"
   ]
  },
  {
   "cell_type": "code",
   "execution_count": 42,
   "id": "2edaec96",
   "metadata": {},
   "outputs": [],
   "source": [
    "# Load the peak amplitude results\n",
    "import pandas as pd\n",
    "import numpy as np\n",
    "\n",
    "results_output_dir = '/home/yinjx/kuafu/Olancha_Plexus_100km/Olancha_scaling'\n",
    "\n",
    "peak_amplitude_file_name = results_output_dir + '/peak_amplitude_M3+.csv'\n",
    "peak_amplitude_df = pd.read_csv(peak_amplitude_file_name)"
   ]
  },
  {
   "cell_type": "code",
   "execution_count": 43,
   "id": "8549d947",
   "metadata": {},
   "outputs": [
    {
     "data": {
      "text/html": [
       "<div>\n",
       "<style scoped>\n",
       "    .dataframe tbody tr th:only-of-type {\n",
       "        vertical-align: middle;\n",
       "    }\n",
       "\n",
       "    .dataframe tbody tr th {\n",
       "        vertical-align: top;\n",
       "    }\n",
       "\n",
       "    .dataframe thead th {\n",
       "        text-align: right;\n",
       "    }\n",
       "</style>\n",
       "<table border=\"1\" class=\"dataframe\">\n",
       "  <thead>\n",
       "    <tr style=\"text-align: right;\">\n",
       "      <th></th>\n",
       "      <th>event_id</th>\n",
       "      <th>magnitude</th>\n",
       "      <th>distance_in_km</th>\n",
       "      <th>peak_P</th>\n",
       "      <th>peak_S</th>\n",
       "      <th>peak_P_strain</th>\n",
       "      <th>peak_S_strain</th>\n",
       "      <th>channel_id</th>\n",
       "    </tr>\n",
       "  </thead>\n",
       "  <tbody>\n",
       "    <tr>\n",
       "      <th>0</th>\n",
       "      <td>39271783.0</td>\n",
       "      <td>3.55</td>\n",
       "      <td>23.485964</td>\n",
       "      <td>3744.980957</td>\n",
       "      <td>12816.092773</td>\n",
       "      <td>91878.805371</td>\n",
       "      <td>515246.328011</td>\n",
       "      <td>120.0</td>\n",
       "    </tr>\n",
       "    <tr>\n",
       "      <th>1</th>\n",
       "      <td>39271783.0</td>\n",
       "      <td>3.55</td>\n",
       "      <td>23.480638</td>\n",
       "      <td>2992.226074</td>\n",
       "      <td>11787.444336</td>\n",
       "      <td>67933.155325</td>\n",
       "      <td>430414.416537</td>\n",
       "      <td>121.0</td>\n",
       "    </tr>\n",
       "    <tr>\n",
       "      <th>2</th>\n",
       "      <td>39271783.0</td>\n",
       "      <td>3.55</td>\n",
       "      <td>23.475215</td>\n",
       "      <td>2190.245117</td>\n",
       "      <td>9127.552734</td>\n",
       "      <td>46024.941669</td>\n",
       "      <td>350043.957959</td>\n",
       "      <td>122.0</td>\n",
       "    </tr>\n",
       "    <tr>\n",
       "      <th>3</th>\n",
       "      <td>39271783.0</td>\n",
       "      <td>3.55</td>\n",
       "      <td>23.469793</td>\n",
       "      <td>2795.888916</td>\n",
       "      <td>10073.426758</td>\n",
       "      <td>70528.147433</td>\n",
       "      <td>487849.339371</td>\n",
       "      <td>123.0</td>\n",
       "    </tr>\n",
       "    <tr>\n",
       "      <th>4</th>\n",
       "      <td>39271783.0</td>\n",
       "      <td>3.55</td>\n",
       "      <td>23.464468</td>\n",
       "      <td>2594.456055</td>\n",
       "      <td>12559.029297</td>\n",
       "      <td>63973.704700</td>\n",
       "      <td>440275.957340</td>\n",
       "      <td>124.0</td>\n",
       "    </tr>\n",
       "    <tr>\n",
       "      <th>...</th>\n",
       "      <td>...</td>\n",
       "      <td>...</td>\n",
       "      <td>...</td>\n",
       "      <td>...</td>\n",
       "      <td>...</td>\n",
       "      <td>...</td>\n",
       "      <td>...</td>\n",
       "      <td>...</td>\n",
       "    </tr>\n",
       "    <tr>\n",
       "      <th>78975</th>\n",
       "      <td>39818327.0</td>\n",
       "      <td>3.44</td>\n",
       "      <td>113.519221</td>\n",
       "      <td>73.807129</td>\n",
       "      <td>143.944672</td>\n",
       "      <td>6188.535680</td>\n",
       "      <td>25056.175002</td>\n",
       "      <td>4278.0</td>\n",
       "    </tr>\n",
       "    <tr>\n",
       "      <th>78976</th>\n",
       "      <td>39818327.0</td>\n",
       "      <td>3.44</td>\n",
       "      <td>113.528745</td>\n",
       "      <td>90.643761</td>\n",
       "      <td>151.304535</td>\n",
       "      <td>6271.362060</td>\n",
       "      <td>18976.529330</td>\n",
       "      <td>4279.0</td>\n",
       "    </tr>\n",
       "    <tr>\n",
       "      <th>78977</th>\n",
       "      <td>39818327.0</td>\n",
       "      <td>3.44</td>\n",
       "      <td>113.838120</td>\n",
       "      <td>75.141525</td>\n",
       "      <td>111.712700</td>\n",
       "      <td>4607.858315</td>\n",
       "      <td>13320.621708</td>\n",
       "      <td>4333.0</td>\n",
       "    </tr>\n",
       "    <tr>\n",
       "      <th>78978</th>\n",
       "      <td>39818327.0</td>\n",
       "      <td>3.44</td>\n",
       "      <td>113.873547</td>\n",
       "      <td>101.340126</td>\n",
       "      <td>153.080154</td>\n",
       "      <td>6009.180547</td>\n",
       "      <td>17860.066574</td>\n",
       "      <td>4334.0</td>\n",
       "    </tr>\n",
       "    <tr>\n",
       "      <th>78979</th>\n",
       "      <td>39818327.0</td>\n",
       "      <td>3.44</td>\n",
       "      <td>113.883084</td>\n",
       "      <td>143.047623</td>\n",
       "      <td>199.487427</td>\n",
       "      <td>8418.764431</td>\n",
       "      <td>18063.770097</td>\n",
       "      <td>4335.0</td>\n",
       "    </tr>\n",
       "  </tbody>\n",
       "</table>\n",
       "<p>78980 rows × 8 columns</p>\n",
       "</div>"
      ],
      "text/plain": [
       "         event_id  magnitude  distance_in_km       peak_P        peak_S  \\\n",
       "0      39271783.0       3.55       23.485964  3744.980957  12816.092773   \n",
       "1      39271783.0       3.55       23.480638  2992.226074  11787.444336   \n",
       "2      39271783.0       3.55       23.475215  2190.245117   9127.552734   \n",
       "3      39271783.0       3.55       23.469793  2795.888916  10073.426758   \n",
       "4      39271783.0       3.55       23.464468  2594.456055  12559.029297   \n",
       "...           ...        ...             ...          ...           ...   \n",
       "78975  39818327.0       3.44      113.519221    73.807129    143.944672   \n",
       "78976  39818327.0       3.44      113.528745    90.643761    151.304535   \n",
       "78977  39818327.0       3.44      113.838120    75.141525    111.712700   \n",
       "78978  39818327.0       3.44      113.873547   101.340126    153.080154   \n",
       "78979  39818327.0       3.44      113.883084   143.047623    199.487427   \n",
       "\n",
       "       peak_P_strain  peak_S_strain  channel_id  \n",
       "0       91878.805371  515246.328011       120.0  \n",
       "1       67933.155325  430414.416537       121.0  \n",
       "2       46024.941669  350043.957959       122.0  \n",
       "3       70528.147433  487849.339371       123.0  \n",
       "4       63973.704700  440275.957340       124.0  \n",
       "...              ...            ...         ...  \n",
       "78975    6188.535680   25056.175002      4278.0  \n",
       "78976    6271.362060   18976.529330      4279.0  \n",
       "78977    4607.858315   13320.621708      4333.0  \n",
       "78978    6009.180547   17860.066574      4334.0  \n",
       "78979    8418.764431   18063.770097      4335.0  \n",
       "\n",
       "[78980 rows x 8 columns]"
      ]
     },
     "execution_count": 43,
     "metadata": {},
     "output_type": "execute_result"
    }
   ],
   "source": [
    "peak_amplitude_df"
   ]
  },
  {
   "cell_type": "code",
   "execution_count": 44,
   "id": "d6330030",
   "metadata": {},
   "outputs": [
    {
     "data": {
      "text/plain": [
       "[<matplotlib.lines.Line2D at 0x7f7536fa13d0>]"
      ]
     },
     "execution_count": 44,
     "metadata": {},
     "output_type": "execute_result"
    },
    {
     "data": {
      "image/png": "[encoded data removed]",
      "text/plain": [
       "<Figure size 432x288 with 1 Axes>"
      ]
     },
     "metadata": {
      "needs_background": "light"
     },
     "output_type": "display_data"
    }
   ],
   "source": [
    "plt.loglog(peak_amplitude_df.distance_in_km, peak_amplitude_df.peak_P,'x')"
   ]
  },
  {
   "cell_type": "code",
   "execution_count": null,
   "id": "2ba6a8a3",
   "metadata": {},
   "outputs": [],
   "source": []
  },
  {
   "cell_type": "code",
   "execution_count": 112,
   "id": "ac32dc7c",
   "metadata": {},
   "outputs": [],
   "source": [
    "def filter_das_data(strain_rate, das_time, filt_freq=0.5):\n",
    "    dt = das_time[1] - das_time[0]\n",
    "    aa, bb = butter(2, filt_freq * 2 * dt, btype='high')\n",
    "    strain_rate = filtfilt(aa, bb, strain_rate, axis=1)    \n",
    "    return strain_rate"
   ]
  },
  {
   "cell_type": "code",
   "execution_count": 18,
   "id": "6bdb84e5",
   "metadata": {},
   "outputs": [
    {
     "ename": "NameError",
     "evalue": "name 'extrapolate_arrival_time' is not defined",
     "output_type": "error",
     "traceback": [
      "\u001b[0;31m---------------------------------------------------------------------------\u001b[0m",
      "\u001b[0;31mNameError\u001b[0m                                 Traceback (most recent call last)",
      "\u001b[1;32m/home/yinjx/notebooks/strain_scaling/jupyter_notebooks/Olancha_extract_peak_amplitude.ipynb Cell 51'\u001b[0m in \u001b[0;36m<cell line: 11>\u001b[0;34m()\u001b[0m\n\u001b[1;32m     <a href='vscode-notebook-cell://ssh-remote%2Bqin.caltech.edu/home/yinjx/notebooks/strain_scaling/jupyter_notebooks/Olancha_extract_peak_amplitude.ipynb#ch0000050vscode-remote?line=38'>39</a>\u001b[0m     fig_name \u001b[39m=\u001b[39m \u001b[39mf\u001b[39m\u001b[39m'\u001b[39m\u001b[39m{\u001b[39;00meq_id_current\u001b[39m}\u001b[39;00m\u001b[39m_ml_extrap_linear.png\u001b[39m\u001b[39m'\u001b[39m\n\u001b[1;32m     <a href='vscode-notebook-cell://ssh-remote%2Bqin.caltech.edu/home/yinjx/notebooks/strain_scaling/jupyter_notebooks/Olancha_extract_peak_amplitude.ipynb#ch0000050vscode-remote?line=39'>40</a>\u001b[0m \u001b[39melse\u001b[39;00m:\n\u001b[1;32m     <a href='vscode-notebook-cell://ssh-remote%2Bqin.caltech.edu/home/yinjx/notebooks/strain_scaling/jupyter_notebooks/Olancha_extract_peak_amplitude.ipynb#ch0000050vscode-remote?line=40'>41</a>\u001b[0m     \u001b[39m# not extrapolate the index in case the ML picking is imcomplete\u001b[39;00m\n\u001b[0;32m---> <a href='vscode-notebook-cell://ssh-remote%2Bqin.caltech.edu/home/yinjx/notebooks/strain_scaling/jupyter_notebooks/Olancha_extract_peak_amplitude.ipynb#ch0000050vscode-remote?line=41'>42</a>\u001b[0m     event_arrival_P_ml_index \u001b[39m=\u001b[39m extrapolate_arrival_time(ml_picks_p, kind\u001b[39m=\u001b[39m\u001b[39mNone\u001b[39;00m)\n\u001b[1;32m     <a href='vscode-notebook-cell://ssh-remote%2Bqin.caltech.edu/home/yinjx/notebooks/strain_scaling/jupyter_notebooks/Olancha_extract_peak_amplitude.ipynb#ch0000050vscode-remote?line=42'>43</a>\u001b[0m     event_arrival_S_ml_index \u001b[39m=\u001b[39m extrapolate_arrival_time(ml_picks_s, kind\u001b[39m=\u001b[39m\u001b[39mNone\u001b[39;00m)\n\u001b[1;32m     <a href='vscode-notebook-cell://ssh-remote%2Bqin.caltech.edu/home/yinjx/notebooks/strain_scaling/jupyter_notebooks/Olancha_extract_peak_amplitude.ipynb#ch0000050vscode-remote?line=43'>44</a>\u001b[0m     channel_of_picks_P \u001b[39m=\u001b[39m ml_picks_p[\u001b[39m'\u001b[39m\u001b[39mstation_name\u001b[39m\u001b[39m'\u001b[39m]\n",
      "\u001b[0;31mNameError\u001b[0m: name 'extrapolate_arrival_time' is not defined"
     ]
    }
   ],
   "source": [
    "extrapolate_ml_picking = False\n",
    "\n",
    "# path of the ML picking \n",
    "ml_pick_dir = '/kuafu/yinjx/Olancha_Plexus_100km/Olancha_scaling_filter/picks_yinjx_Olancha_Plexus_100km'\n",
    "\n",
    "# Check the segmented 50Hz data\n",
    "das_path = '/kuafu/yinjx/Olancha_Plexus_100km/Olancha_scaling_filter/ML_picking_data_M_3+'\n",
    "\n",
    "das_dt = 0.02 # downsampled to 50 Hz\n",
    "eq_id0 = [37474917]\n",
    "for i_eq, eq_id_current in enumerate(eq_id0):\n",
    "      \n",
    "    try: \n",
    "        if data_found_df.iloc[i_eq].instrument_type == 'old':\n",
    "            DAS_channel_num = DAS_channel_num_old\n",
    "        elif data_found_df.iloc[i_eq].instrument_type == 'new':\n",
    "            DAS_channel_num = DAS_channel_num_new\n",
    "        else:\n",
    "            raise NameError('need to specify the type of instruments')\n",
    "\n",
    "            # look for the corresponding ML picks\n",
    "        ml_picks_file = glob.glob(ml_pick_dir + f'/*{eq_id_current}.csv')\n",
    "        ml_picks = pd.read_csv(ml_picks_file[0])\n",
    "\n",
    "        # extract the picked information\n",
    "        ml_picks_p = ml_picks[ml_picks['phase_type'] == 'p']\n",
    "        ml_picks_s = ml_picks[ml_picks['phase_type'] == 's']\n",
    "\n",
    "        # remove some duplicated picks, only keep those with higher probability\n",
    "        ml_picks_p = ml_picks_p.drop_duplicates(subset=['station_name'], keep='first')\n",
    "        ml_picks_s = ml_picks_s.drop_duplicates(subset=['station_name'], keep='first')\n",
    "        \n",
    "        if extrapolate_ml_picking:\n",
    "            # extrapolate the index in case the ML picking is imcomplete\n",
    "            event_arrival_P_ml_index = extrapolate_arrival_time(ml_picks_p, kind='nearest')\n",
    "            event_arrival_S_ml_index = extrapolate_arrival_time(ml_picks_s, kind='nearest')\n",
    "            channel_of_picks_P = np.arange(DAS_channel_num)\n",
    "            channel_of_picks_S = np.arange(DAS_channel_num)\n",
    "            fig_name = f'{eq_id_current}_ml_extrap_nearest.png'\n",
    "        else:\n",
    "            # not extrapolate the index in case the ML picking is imcomplete\n",
    "            event_arrival_P_ml_index = extrapolate_arrival_time(ml_picks_p, kind=None)\n",
    "            event_arrival_S_ml_index = extrapolate_arrival_time(ml_picks_s, kind=None)\n",
    "            channel_of_picks_P = ml_picks_p['station_name']\n",
    "            channel_of_picks_S = ml_picks_s['station_name']\n",
    "            fig_name = f'{eq_id_current}_ml.png'\n",
    "        \n",
    "    except:\n",
    "        print(f'ML picking {eq_id_current} not found, skip...')\n",
    "        continue\n",
    "        \n",
    "    try:      \n",
    "        # look for the corresponding data file\n",
    "        file_name = glob.glob(das_path + f'/*{eq_id_current}.npz')\n",
    "        temp = np.load(file_name[0])\n",
    "        data_diff = temp[temp.files[0]]\n",
    "        \n",
    "        # time information \n",
    "        das_time = np.arange(data_diff.shape[0]) * das_dt\n",
    "\n",
    "        # get the ML pick time\n",
    "        event_arrival_P_ml = das_time[event_arrival_P_ml_index.astype('int')]\n",
    "        event_arrival_S_ml = das_time[event_arrival_S_ml_index.astype('int')]\n",
    "\n",
    "        # Slight modify only for plotting purpose\n",
    "        event_arrival_P_ml[event_arrival_P_ml == das_time[-1]] = np.nan\n",
    "        event_arrival_S_ml[event_arrival_S_ml == das_time[-1]] = np.nan\n",
    "\n",
    "        data_diff2 = filter_das_data(data_diff, das_time, filt_freq=0.1)\n",
    "\n",
    "        # Show data\n",
    "        fig, ax1 = plt.subplots(1,2, figsize=(16,8))\n",
    "        pclip=99.5\n",
    "        clipVal = np.percentile(np.absolute(data_diff), pclip)\n",
    "        # Vx\n",
    "        ax1[0].imshow(data_diff, \n",
    "                    extent=[0, data_diff.shape[1], das_time[-1], das_time[0]],\n",
    "                    aspect='auto', vmin=-clipVal, vmax=clipVal, cmap=plt.get_cmap('seismic'))\n",
    "\n",
    "        ax1[0].plot(event_arrival_P_ml, '--k', linewidth=2, zorder=10)\n",
    "        ax1[0].plot(event_arrival_S_ml, '-k', linewidth=2, zorder=10)\n",
    "        \n",
    "        ax1[0].set_title(f'Event ID: {eq_id_current}')\n",
    "        ax1[0].set_xlabel(\"Channel number\")\n",
    "        ax1[0].set_ylabel(\"Time [s]\")\n",
    "        ax1[0].grid()\n",
    "\n",
    "        clipVal = np.percentile(np.absolute(data_diff2), pclip)\n",
    "        ax1[1].imshow(data_diff2, \n",
    "            extent=[0, data_diff2.shape[1], das_time[-1], das_time[0]],\n",
    "            aspect='auto', vmin=-clipVal, vmax=clipVal, cmap=plt.get_cmap('seismic'))\n",
    "\n",
    "        ax1[1].plot(event_arrival_P_ml, '--k', linewidth=2, zorder=10)\n",
    "        ax1[1].plot(event_arrival_S_ml, '-k', linewidth=2, zorder=10)\n",
    "        \n",
    "        ax1[1].set_title(f'Event ID: {eq_id_current}')\n",
    "        ax1[1].set_xlabel(\"Channel number\")\n",
    "        ax1[1].set_ylabel(\"Time [s]\")\n",
    "        ax1[1].grid()\n",
    "\n",
    "        print(f'Event {eq_id_current} done!')\n",
    "        \n",
    "    except:\n",
    "        print(f'DAS file {eq_id_current} not found, skip...')\n",
    "        continue\n",
    "        \n",
    "        \n",
    "    "
   ]
  },
  {
   "cell_type": "code",
   "execution_count": 102,
   "id": "9160a142",
   "metadata": {},
   "outputs": [
    {
     "data": {
      "text/plain": [
       "(5118, 4772)"
      ]
     },
     "execution_count": 102,
     "metadata": {},
     "output_type": "execute_result"
    }
   ],
   "source": [
    "data_diff2.shape"
   ]
  },
  {
   "cell_type": "code",
   "execution_count": 95,
   "id": "9e2d33d4",
   "metadata": {},
   "outputs": [
    {
     "data": {
      "text/plain": [
       "array([[ 0.08608326,  0.07319003,  0.03050268, ..., -0.00021569,\n",
       "        -0.00374019, -0.00171438],\n",
       "       [-0.02485812, -0.05957931, -0.07618517, ...,  0.00030883,\n",
       "        -0.00723675, -0.00237823],\n",
       "       [-0.0608027 , -0.04519671, -0.00699088, ...,  0.00732802,\n",
       "        -0.00316128,  0.00068918],\n",
       "       ..., \n",
       "       [-0.00773519,  0.03963113,  0.03783405, ...,  0.00217855,\n",
       "        -0.00986382, -0.02079234],\n",
       "       [-0.02572164, -0.01088232, -0.0686124 , ..., -0.01292489,\n",
       "        -0.02678409, -0.02912208],\n",
       "       [ 0.00328049, -0.01254976, -0.03070086, ...,  0.00801422,\n",
       "         0.00044405, -0.00832155]], dtype=float32)"
      ]
     },
     "execution_count": 95,
     "metadata": {},
     "output_type": "execute_result"
    }
   ],
   "source": [
    "data_diff"
   ]
  },
  {
   "cell_type": "code",
   "execution_count": 37,
   "id": "1efdbf82",
   "metadata": {},
   "outputs": [
    {
     "data": {
      "text/html": [
       "<div>\n",
       "<style scoped>\n",
       "    .dataframe tbody tr th:only-of-type {\n",
       "        vertical-align: middle;\n",
       "    }\n",
       "\n",
       "    .dataframe tbody tr th {\n",
       "        vertical-align: top;\n",
       "    }\n",
       "\n",
       "    .dataframe thead th {\n",
       "        text-align: right;\n",
       "    }\n",
       "</style>\n",
       "<table border=\"1\" class=\"dataframe\">\n",
       "  <thead>\n",
       "    <tr style=\"text-align: right;\">\n",
       "      <th></th>\n",
       "      <th>file_name</th>\n",
       "      <th>station_name</th>\n",
       "      <th>phase_index</th>\n",
       "      <th>phase_score</th>\n",
       "      <th>phase_type</th>\n",
       "      <th>phase_time</th>\n",
       "      <th>dt</th>\n",
       "    </tr>\n",
       "  </thead>\n",
       "  <tbody>\n",
       "    <tr>\n",
       "      <th>0</th>\n",
       "      <td>38229138.npz</td>\n",
       "      <td>1</td>\n",
       "      <td>512</td>\n",
       "      <td>0.850</td>\n",
       "      <td>p</td>\n",
       "      <td>1970-01-01T00:00:05.120</td>\n",
       "      <td>0.01</td>\n",
       "    </tr>\n",
       "    <tr>\n",
       "      <th>1</th>\n",
       "      <td>38229138.npz</td>\n",
       "      <td>2</td>\n",
       "      <td>512</td>\n",
       "      <td>0.903</td>\n",
       "      <td>p</td>\n",
       "      <td>1970-01-01T00:00:05.120</td>\n",
       "      <td>0.01</td>\n",
       "    </tr>\n",
       "    <tr>\n",
       "      <th>2</th>\n",
       "      <td>38229138.npz</td>\n",
       "      <td>3</td>\n",
       "      <td>512</td>\n",
       "      <td>0.933</td>\n",
       "      <td>p</td>\n",
       "      <td>1970-01-01T00:00:05.120</td>\n",
       "      <td>0.01</td>\n",
       "    </tr>\n",
       "    <tr>\n",
       "      <th>3</th>\n",
       "      <td>38229138.npz</td>\n",
       "      <td>4</td>\n",
       "      <td>512</td>\n",
       "      <td>0.956</td>\n",
       "      <td>p</td>\n",
       "      <td>1970-01-01T00:00:05.120</td>\n",
       "      <td>0.01</td>\n",
       "    </tr>\n",
       "    <tr>\n",
       "      <th>4</th>\n",
       "      <td>38229138.npz</td>\n",
       "      <td>5</td>\n",
       "      <td>512</td>\n",
       "      <td>0.969</td>\n",
       "      <td>p</td>\n",
       "      <td>1970-01-01T00:00:05.120</td>\n",
       "      <td>0.01</td>\n",
       "    </tr>\n",
       "    <tr>\n",
       "      <th>...</th>\n",
       "      <td>...</td>\n",
       "      <td>...</td>\n",
       "      <td>...</td>\n",
       "      <td>...</td>\n",
       "      <td>...</td>\n",
       "      <td>...</td>\n",
       "      <td>...</td>\n",
       "    </tr>\n",
       "    <tr>\n",
       "      <th>1375</th>\n",
       "      <td>38229138.npz</td>\n",
       "      <td>1141</td>\n",
       "      <td>734</td>\n",
       "      <td>0.884</td>\n",
       "      <td>s</td>\n",
       "      <td>1970-01-01T00:00:07.340</td>\n",
       "      <td>0.01</td>\n",
       "    </tr>\n",
       "    <tr>\n",
       "      <th>1376</th>\n",
       "      <td>38229138.npz</td>\n",
       "      <td>1142</td>\n",
       "      <td>734</td>\n",
       "      <td>0.878</td>\n",
       "      <td>s</td>\n",
       "      <td>1970-01-01T00:00:07.340</td>\n",
       "      <td>0.01</td>\n",
       "    </tr>\n",
       "    <tr>\n",
       "      <th>1377</th>\n",
       "      <td>38229138.npz</td>\n",
       "      <td>1143</td>\n",
       "      <td>733</td>\n",
       "      <td>0.864</td>\n",
       "      <td>s</td>\n",
       "      <td>1970-01-01T00:00:07.330</td>\n",
       "      <td>0.01</td>\n",
       "    </tr>\n",
       "    <tr>\n",
       "      <th>1378</th>\n",
       "      <td>38229138.npz</td>\n",
       "      <td>1144</td>\n",
       "      <td>733</td>\n",
       "      <td>0.831</td>\n",
       "      <td>s</td>\n",
       "      <td>1970-01-01T00:00:07.330</td>\n",
       "      <td>0.01</td>\n",
       "    </tr>\n",
       "    <tr>\n",
       "      <th>1379</th>\n",
       "      <td>38229138.npz</td>\n",
       "      <td>1145</td>\n",
       "      <td>732</td>\n",
       "      <td>0.805</td>\n",
       "      <td>s</td>\n",
       "      <td>1970-01-01T00:00:07.320</td>\n",
       "      <td>0.01</td>\n",
       "    </tr>\n",
       "  </tbody>\n",
       "</table>\n",
       "<p>1380 rows × 7 columns</p>\n",
       "</div>"
      ],
      "text/plain": [
       "         file_name  station_name  phase_index  phase_score phase_type  \\\n",
       "0     38229138.npz             1          512        0.850          p   \n",
       "1     38229138.npz             2          512        0.903          p   \n",
       "2     38229138.npz             3          512        0.933          p   \n",
       "3     38229138.npz             4          512        0.956          p   \n",
       "4     38229138.npz             5          512        0.969          p   \n",
       "...            ...           ...          ...          ...        ...   \n",
       "1375  38229138.npz          1141          734        0.884          s   \n",
       "1376  38229138.npz          1142          734        0.878          s   \n",
       "1377  38229138.npz          1143          733        0.864          s   \n",
       "1378  38229138.npz          1144          733        0.831          s   \n",
       "1379  38229138.npz          1145          732        0.805          s   \n",
       "\n",
       "                   phase_time    dt  \n",
       "0     1970-01-01T00:00:05.120  0.01  \n",
       "1     1970-01-01T00:00:05.120  0.01  \n",
       "2     1970-01-01T00:00:05.120  0.01  \n",
       "3     1970-01-01T00:00:05.120  0.01  \n",
       "4     1970-01-01T00:00:05.120  0.01  \n",
       "...                       ...   ...  \n",
       "1375  1970-01-01T00:00:07.340  0.01  \n",
       "1376  1970-01-01T00:00:07.340  0.01  \n",
       "1377  1970-01-01T00:00:07.330  0.01  \n",
       "1378  1970-01-01T00:00:07.330  0.01  \n",
       "1379  1970-01-01T00:00:07.320  0.01  \n",
       "\n",
       "[1380 rows x 7 columns]"
      ]
     },
     "execution_count": 37,
     "metadata": {},
     "output_type": "execute_result"
    }
   ],
   "source": [
    "ml_picks"
   ]
  },
  {
   "cell_type": "code",
   "execution_count": 30,
   "id": "9cb38e38",
   "metadata": {},
   "outputs": [
    {
     "data": {
      "text/plain": [
       "0          1\n",
       "1          2\n",
       "2          3\n",
       "3          4\n",
       "4          5\n",
       "        ... \n",
       "1150    1144\n",
       "1151    1145\n",
       "1152    1146\n",
       "1153    1147\n",
       "1154    1148\n",
       "Name: station_name, Length: 1155, dtype: int64"
      ]
     },
     "execution_count": 30,
     "metadata": {},
     "output_type": "execute_result"
    }
   ],
   "source": [
    "ml_picks_p['station_name']"
   ]
  },
  {
   "cell_type": "code",
   "execution_count": 44,
   "id": "0ce7c2ce",
   "metadata": {},
   "outputs": [
    {
     "data": {
      "text/html": [
       "<div>\n",
       "<style scoped>\n",
       "    .dataframe tbody tr th:only-of-type {\n",
       "        vertical-align: middle;\n",
       "    }\n",
       "\n",
       "    .dataframe tbody tr th {\n",
       "        vertical-align: top;\n",
       "    }\n",
       "\n",
       "    .dataframe thead th {\n",
       "        text-align: right;\n",
       "    }\n",
       "</style>\n",
       "<table border=\"1\" class=\"dataframe\">\n",
       "  <thead>\n",
       "    <tr style=\"text-align: right;\">\n",
       "      <th></th>\n",
       "      <th>file_name</th>\n",
       "      <th>station_name</th>\n",
       "      <th>phase_index</th>\n",
       "      <th>phase_score</th>\n",
       "      <th>phase_type</th>\n",
       "      <th>phase_time</th>\n",
       "      <th>dt</th>\n",
       "    </tr>\n",
       "  </thead>\n",
       "  <tbody>\n",
       "    <tr>\n",
       "      <th>1862</th>\n",
       "      <td>38544311.npz</td>\n",
       "      <td>572</td>\n",
       "      <td>1925</td>\n",
       "      <td>0.888</td>\n",
       "      <td>s</td>\n",
       "      <td>1970-01-01T00:00:19.250</td>\n",
       "      <td>0.01</td>\n",
       "    </tr>\n",
       "    <tr>\n",
       "      <th>1863</th>\n",
       "      <td>38544311.npz</td>\n",
       "      <td>572</td>\n",
       "      <td>984</td>\n",
       "      <td>0.815</td>\n",
       "      <td>s</td>\n",
       "      <td>1970-01-01T00:00:09.840</td>\n",
       "      <td>0.01</td>\n",
       "    </tr>\n",
       "    <tr>\n",
       "      <th>1864</th>\n",
       "      <td>38544311.npz</td>\n",
       "      <td>573</td>\n",
       "      <td>1927</td>\n",
       "      <td>0.877</td>\n",
       "      <td>s</td>\n",
       "      <td>1970-01-01T00:00:19.270</td>\n",
       "      <td>0.01</td>\n",
       "    </tr>\n",
       "    <tr>\n",
       "      <th>1865</th>\n",
       "      <td>38544311.npz</td>\n",
       "      <td>573</td>\n",
       "      <td>985</td>\n",
       "      <td>0.824</td>\n",
       "      <td>s</td>\n",
       "      <td>1970-01-01T00:00:09.850</td>\n",
       "      <td>0.01</td>\n",
       "    </tr>\n",
       "    <tr>\n",
       "      <th>1866</th>\n",
       "      <td>38544311.npz</td>\n",
       "      <td>574</td>\n",
       "      <td>1927</td>\n",
       "      <td>0.878</td>\n",
       "      <td>s</td>\n",
       "      <td>1970-01-01T00:00:19.270</td>\n",
       "      <td>0.01</td>\n",
       "    </tr>\n",
       "    <tr>\n",
       "      <th>...</th>\n",
       "      <td>...</td>\n",
       "      <td>...</td>\n",
       "      <td>...</td>\n",
       "      <td>...</td>\n",
       "      <td>...</td>\n",
       "      <td>...</td>\n",
       "      <td>...</td>\n",
       "    </tr>\n",
       "    <tr>\n",
       "      <th>2053</th>\n",
       "      <td>38544311.npz</td>\n",
       "      <td>708</td>\n",
       "      <td>1000</td>\n",
       "      <td>0.829</td>\n",
       "      <td>s</td>\n",
       "      <td>1970-01-01T00:00:10.000</td>\n",
       "      <td>0.01</td>\n",
       "    </tr>\n",
       "    <tr>\n",
       "      <th>2054</th>\n",
       "      <td>38544311.npz</td>\n",
       "      <td>709</td>\n",
       "      <td>1942</td>\n",
       "      <td>0.868</td>\n",
       "      <td>s</td>\n",
       "      <td>1970-01-01T00:00:19.420</td>\n",
       "      <td>0.01</td>\n",
       "    </tr>\n",
       "    <tr>\n",
       "      <th>2055</th>\n",
       "      <td>38544311.npz</td>\n",
       "      <td>709</td>\n",
       "      <td>1000</td>\n",
       "      <td>0.808</td>\n",
       "      <td>s</td>\n",
       "      <td>1970-01-01T00:00:10.000</td>\n",
       "      <td>0.01</td>\n",
       "    </tr>\n",
       "    <tr>\n",
       "      <th>2107</th>\n",
       "      <td>38544311.npz</td>\n",
       "      <td>830</td>\n",
       "      <td>1015</td>\n",
       "      <td>0.835</td>\n",
       "      <td>s</td>\n",
       "      <td>1970-01-01T00:00:10.150</td>\n",
       "      <td>0.01</td>\n",
       "    </tr>\n",
       "    <tr>\n",
       "      <th>2108</th>\n",
       "      <td>38544311.npz</td>\n",
       "      <td>830</td>\n",
       "      <td>1956</td>\n",
       "      <td>0.802</td>\n",
       "      <td>s</td>\n",
       "      <td>1970-01-01T00:00:19.560</td>\n",
       "      <td>0.01</td>\n",
       "    </tr>\n",
       "  </tbody>\n",
       "</table>\n",
       "<p>114 rows × 7 columns</p>\n",
       "</div>"
      ],
      "text/plain": [
       "         file_name  station_name  phase_index  phase_score phase_type  \\\n",
       "1862  38544311.npz           572         1925        0.888          s   \n",
       "1863  38544311.npz           572          984        0.815          s   \n",
       "1864  38544311.npz           573         1927        0.877          s   \n",
       "1865  38544311.npz           573          985        0.824          s   \n",
       "1866  38544311.npz           574         1927        0.878          s   \n",
       "...            ...           ...          ...          ...        ...   \n",
       "2053  38544311.npz           708         1000        0.829          s   \n",
       "2054  38544311.npz           709         1942        0.868          s   \n",
       "2055  38544311.npz           709         1000        0.808          s   \n",
       "2107  38544311.npz           830         1015        0.835          s   \n",
       "2108  38544311.npz           830         1956        0.802          s   \n",
       "\n",
       "                   phase_time    dt  \n",
       "1862  1970-01-01T00:00:19.250  0.01  \n",
       "1863  1970-01-01T00:00:09.840  0.01  \n",
       "1864  1970-01-01T00:00:19.270  0.01  \n",
       "1865  1970-01-01T00:00:09.850  0.01  \n",
       "1866  1970-01-01T00:00:19.270  0.01  \n",
       "...                       ...   ...  \n",
       "2053  1970-01-01T00:00:10.000  0.01  \n",
       "2054  1970-01-01T00:00:19.420  0.01  \n",
       "2055  1970-01-01T00:00:10.000  0.01  \n",
       "2107  1970-01-01T00:00:10.150  0.01  \n",
       "2108  1970-01-01T00:00:19.560  0.01  \n",
       "\n",
       "[114 rows x 7 columns]"
      ]
     },
     "execution_count": 44,
     "metadata": {},
     "output_type": "execute_result"
    }
   ],
   "source": [
    "ml_picks_s[ml_picks_s.duplicated(subset=['station_name'], keep=False)]"
   ]
  },
  {
   "cell_type": "code",
   "execution_count": 38,
   "id": "c9a11626",
   "metadata": {},
   "outputs": [],
   "source": [
    "a = np.ones(3)"
   ]
  },
  {
   "cell_type": "code",
   "execution_count": null,
   "id": "2b9ffdcd",
   "metadata": {},
   "outputs": [],
   "source": []
  }
 ],
 "metadata": {
  "kernelspec": {
   "display_name": "Python 3 (ipykernel)",
   "language": "python",
   "name": "python3"
  },
  "language_info": {
   "codemirror_mode": {
    "name": "ipython",
    "version": 3
   },
   "file_extension": ".py",
   "mimetype": "text/x-python",
   "name": "python",
   "nbconvert_exporter": "python",
   "pygments_lexer": "ipython3",
   "version": "3.8.5"
  }
 },
 "nbformat": 4,
 "nbformat_minor": 5
}
