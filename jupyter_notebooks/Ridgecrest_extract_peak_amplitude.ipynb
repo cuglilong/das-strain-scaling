{
 "cells": [
  {
   "cell_type": "code",
   "execution_count": 1,
   "id": "535a715a",
   "metadata": {},
   "outputs": [],
   "source": [
    "import pandas as pd\n",
    "#from sep_util import read_file\n",
    "import utm\n",
    "import numpy as np\n",
    "import h5py\n",
    "import time\n",
    "import tqdm\n",
    "import obspy\n",
    "import datetime\n",
    "import os\n",
    "\n",
    "# Plotting\n",
    "import matplotlib\n",
    "import matplotlib.pyplot as plt\n",
    "import matplotlib.dates as mdates\n",
    "from mpl_toolkits.axes_grid1 import make_axes_locatable\n",
    "# %matplotlib inline\n",
    "params = {\n",
    "    'image.interpolation': 'nearest',\n",
    "    'image.cmap': 'gray',\n",
    "    'savefig.dpi': 300,  # to adjust notebook inline plot size\n",
    "    'axes.labelsize': 18, # fontsize for x and y labels (was 10)\n",
    "    'axes.titlesize': 18,\n",
    "    'font.size': 18,\n",
    "    'legend.fontsize': 18,\n",
    "    'xtick.labelsize': 18,\n",
    "    'ytick.labelsize': 18,\n",
    "    'text.usetex':False,\n",
    "    'axes.facecolor': 'white',\n",
    "    'savefig.facecolor': 'white'\n",
    "}\n",
    "matplotlib.rcParams.update(params)"
   ]
  },
  {
   "cell_type": "code",
   "execution_count": 2,
   "id": "b4bd532c",
   "metadata": {},
   "outputs": [],
   "source": [
    "def read_PASSCAL_segy(infile, nTraces, nSample, TraceOff=0):\n",
    "    \"\"\"Function to read PASSCAL segy raw data\"\"\"\n",
    "    data = np.zeros((nTraces, nSample), dtype=np.float32)\n",
    "    gzFile = False\n",
    "    if infile.split(\".\")[-1] == \"segy\":\n",
    "        fid = open(infile, 'rb')\n",
    "    elif infile.split(\".\")[-1] == \"gz\":\n",
    "        gzFile = True\n",
    "        fid = gzip.open(infile, 'rb')\n",
    "    fid.seek(3600)\n",
    "    # Skipping traces if necessary\n",
    "    fid.seek(TraceOff*(240+nSample*4),1)\n",
    "    # Looping over traces\n",
    "    for ii in range(nTraces):\n",
    "        fid.seek(240, 1)\n",
    "        if gzFile:\n",
    "            # np.fromfile does not work on gzip file\n",
    "            BinDataBuffer = fid.read(nSample*4) # read binary bytes from file\n",
    "            data[ii, :] = struct.unpack_from(\">\"+('f')*nSample, BinDataBuffer)\n",
    "        else:\n",
    "            data[ii, :] = np.fromfile(fid, dtype=np.float32, count=nSample)\n",
    "    fid.close()\n",
    "    return data"
   ]
  },
  {
   "cell_type": "code",
   "execution_count": 2,
   "id": "77964a70",
   "metadata": {},
   "outputs": [],
   "source": [
    "# Define the path to store all the output results\n",
    "output_dir = '/kuafu/yinjx/Ridgecrest/Ridgecrest_scaling'\n",
    "if not os.path.exists(output_dir):\n",
    "    os.mkdir(output_dir)"
   ]
  },
  {
   "cell_type": "code",
   "execution_count": 4,
   "id": "1951edfc",
   "metadata": {},
   "outputs": [
    {
     "name": "stdout",
     "output_type": "stream",
     "text": [
      "Total file number: 15647\n",
      "/kuafu/zshen/Ridgecrest_data/1hoursegy/total/2019071019.segy\n",
      "/kuafu/zshen/Ridgecrest_data/1hoursegy/total/2021060600.segy\n"
     ]
    }
   ],
   "source": [
    "import glob\n",
    "files = glob.glob('/kuafu/zshen/Ridgecrest_data/1hoursegy/total/*.segy')\n",
    "files.sort()\n",
    "print(f'Total file number: {len(files)}')\n",
    "print(files[0])\n",
    "print(files[-1])"
   ]
  },
  {
   "cell_type": "code",
   "execution_count": 5,
   "id": "a452fdb4",
   "metadata": {},
   "outputs": [],
   "source": [
    "# load the DAS channel location\n",
    "DAS_info = np.genfromtxt('/kuafu/DASdata/DASinfo/DAS_ChannelLocation/DAS_Ridgecrest_ODH3.txt')\n",
    "\n",
    "DAS_channel_num = DAS_info.shape[0]\n",
    "DAS_index = DAS_info[:, 0].astype('int')\n",
    "DAS_lon = DAS_info[:, 1]\n",
    "DAS_lat = DAS_info[:, 2]"
   ]
  },
  {
   "cell_type": "markdown",
   "id": "fb2aa5c5",
   "metadata": {},
   "source": [
    "### First read the catalog, the catalog is from STP with command:\n",
    "\n",
    "```bash\n",
    "EVENT -mag 2.0 8.0 -lat 33.65 37.65 -lon -119.72 -115.72 -t0 2019/7/10,18:00:00 2021/6/5,18:00:00 -f Ridgecrest_das_catalog_M2_M8.txt\n",
    "```"
   ]
  },
  {
   "cell_type": "code",
   "execution_count": 6,
   "id": "338b8571",
   "metadata": {
    "scrolled": true
   },
   "outputs": [
    {
     "data": {
      "text/html": [
       "<div>\n",
       "<style scoped>\n",
       "    .dataframe tbody tr th:only-of-type {\n",
       "        vertical-align: middle;\n",
       "    }\n",
       "\n",
       "    .dataframe tbody tr th {\n",
       "        vertical-align: top;\n",
       "    }\n",
       "\n",
       "    .dataframe thead th {\n",
       "        text-align: right;\n",
       "    }\n",
       "</style>\n",
       "<table border=\"1\" class=\"dataframe\">\n",
       "  <thead>\n",
       "    <tr style=\"text-align: right;\">\n",
       "      <th></th>\n",
       "      <th>0</th>\n",
       "      <th>1</th>\n",
       "      <th>2</th>\n",
       "      <th>3</th>\n",
       "      <th>4</th>\n",
       "      <th>5</th>\n",
       "      <th>6</th>\n",
       "      <th>7</th>\n",
       "      <th>8</th>\n",
       "      <th>9</th>\n",
       "    </tr>\n",
       "  </thead>\n",
       "  <tbody>\n",
       "    <tr>\n",
       "      <th>0</th>\n",
       "      <td>38521207</td>\n",
       "      <td>eq</td>\n",
       "      <td>l</td>\n",
       "      <td>2019/07/10,18:00:01.250</td>\n",
       "      <td>35.7753</td>\n",
       "      <td>-117.6033</td>\n",
       "      <td>7.59</td>\n",
       "      <td>2.26</td>\n",
       "      <td>l</td>\n",
       "      <td>1.0</td>\n",
       "    </tr>\n",
       "    <tr>\n",
       "      <th>1</th>\n",
       "      <td>38521231</td>\n",
       "      <td>eq</td>\n",
       "      <td>l</td>\n",
       "      <td>2019/07/10,18:01:27.840</td>\n",
       "      <td>35.6733</td>\n",
       "      <td>-117.5210</td>\n",
       "      <td>5.71</td>\n",
       "      <td>2.37</td>\n",
       "      <td>l</td>\n",
       "      <td>1.0</td>\n",
       "    </tr>\n",
       "    <tr>\n",
       "      <th>2</th>\n",
       "      <td>38521351</td>\n",
       "      <td>eq</td>\n",
       "      <td>l</td>\n",
       "      <td>2019/07/10,18:11:09.650</td>\n",
       "      <td>35.7067</td>\n",
       "      <td>-117.5282</td>\n",
       "      <td>9.24</td>\n",
       "      <td>2.02</td>\n",
       "      <td>l</td>\n",
       "      <td>1.0</td>\n",
       "    </tr>\n",
       "    <tr>\n",
       "      <th>3</th>\n",
       "      <td>38521591</td>\n",
       "      <td>eq</td>\n",
       "      <td>l</td>\n",
       "      <td>2019/07/10,18:30:10.250</td>\n",
       "      <td>35.6533</td>\n",
       "      <td>-117.5022</td>\n",
       "      <td>7.97</td>\n",
       "      <td>2.42</td>\n",
       "      <td>l</td>\n",
       "      <td>1.0</td>\n",
       "    </tr>\n",
       "    <tr>\n",
       "      <th>4</th>\n",
       "      <td>38521775</td>\n",
       "      <td>eq</td>\n",
       "      <td>l</td>\n",
       "      <td>2019/07/10,18:44:42.310</td>\n",
       "      <td>35.6738</td>\n",
       "      <td>-117.5278</td>\n",
       "      <td>8.65</td>\n",
       "      <td>2.17</td>\n",
       "      <td>l</td>\n",
       "      <td>1.0</td>\n",
       "    </tr>\n",
       "    <tr>\n",
       "      <th>...</th>\n",
       "      <td>...</td>\n",
       "      <td>...</td>\n",
       "      <td>...</td>\n",
       "      <td>...</td>\n",
       "      <td>...</td>\n",
       "      <td>...</td>\n",
       "      <td>...</td>\n",
       "      <td>...</td>\n",
       "      <td>...</td>\n",
       "      <td>...</td>\n",
       "    </tr>\n",
       "    <tr>\n",
       "      <th>4409</th>\n",
       "      <td>39914032</td>\n",
       "      <td>eq</td>\n",
       "      <td>l</td>\n",
       "      <td>2021/06/02,07:44:21.310</td>\n",
       "      <td>35.9512</td>\n",
       "      <td>-117.3327</td>\n",
       "      <td>3.37</td>\n",
       "      <td>2.16</td>\n",
       "      <td>l</td>\n",
       "      <td>1.0</td>\n",
       "    </tr>\n",
       "    <tr>\n",
       "      <th>4410</th>\n",
       "      <td>39915440</td>\n",
       "      <td>eq</td>\n",
       "      <td>l</td>\n",
       "      <td>2021/06/03,04:48:33.690</td>\n",
       "      <td>34.3058</td>\n",
       "      <td>-116.9277</td>\n",
       "      <td>8.38</td>\n",
       "      <td>2.27</td>\n",
       "      <td>l</td>\n",
       "      <td>1.0</td>\n",
       "    </tr>\n",
       "    <tr>\n",
       "      <th>4411</th>\n",
       "      <td>39915912</td>\n",
       "      <td>eq</td>\n",
       "      <td>l</td>\n",
       "      <td>2021/06/03,15:52:48.420</td>\n",
       "      <td>33.9922</td>\n",
       "      <td>-117.0828</td>\n",
       "      <td>16.10</td>\n",
       "      <td>2.13</td>\n",
       "      <td>l</td>\n",
       "      <td>1.0</td>\n",
       "    </tr>\n",
       "    <tr>\n",
       "      <th>4412</th>\n",
       "      <td>39916960</td>\n",
       "      <td>eq</td>\n",
       "      <td>l</td>\n",
       "      <td>2021/06/04,12:18:09.310</td>\n",
       "      <td>33.9017</td>\n",
       "      <td>-116.1048</td>\n",
       "      <td>9.01</td>\n",
       "      <td>2.49</td>\n",
       "      <td>l</td>\n",
       "      <td>1.0</td>\n",
       "    </tr>\n",
       "    <tr>\n",
       "      <th>4413</th>\n",
       "      <td>39918480</td>\n",
       "      <td>eq</td>\n",
       "      <td>l</td>\n",
       "      <td>2021/06/05,13:53:43.150</td>\n",
       "      <td>35.7625</td>\n",
       "      <td>-117.5790</td>\n",
       "      <td>6.90</td>\n",
       "      <td>2.30</td>\n",
       "      <td>l</td>\n",
       "      <td>1.0</td>\n",
       "    </tr>\n",
       "  </tbody>\n",
       "</table>\n",
       "<p>4414 rows × 10 columns</p>\n",
       "</div>"
      ],
      "text/plain": [
       "             0   1  2                        3        4         5      6  \\\n",
       "0     38521207  eq  l  2019/07/10,18:00:01.250  35.7753 -117.6033   7.59   \n",
       "1     38521231  eq  l  2019/07/10,18:01:27.840  35.6733 -117.5210   5.71   \n",
       "2     38521351  eq  l  2019/07/10,18:11:09.650  35.7067 -117.5282   9.24   \n",
       "3     38521591  eq  l  2019/07/10,18:30:10.250  35.6533 -117.5022   7.97   \n",
       "4     38521775  eq  l  2019/07/10,18:44:42.310  35.6738 -117.5278   8.65   \n",
       "...        ...  .. ..                      ...      ...       ...    ...   \n",
       "4409  39914032  eq  l  2021/06/02,07:44:21.310  35.9512 -117.3327   3.37   \n",
       "4410  39915440  eq  l  2021/06/03,04:48:33.690  34.3058 -116.9277   8.38   \n",
       "4411  39915912  eq  l  2021/06/03,15:52:48.420  33.9922 -117.0828  16.10   \n",
       "4412  39916960  eq  l  2021/06/04,12:18:09.310  33.9017 -116.1048   9.01   \n",
       "4413  39918480  eq  l  2021/06/05,13:53:43.150  35.7625 -117.5790   6.90   \n",
       "\n",
       "         7  8    9  \n",
       "0     2.26  l  1.0  \n",
       "1     2.37  l  1.0  \n",
       "2     2.02  l  1.0  \n",
       "3     2.42  l  1.0  \n",
       "4     2.17  l  1.0  \n",
       "...    ... ..  ...  \n",
       "4409  2.16  l  1.0  \n",
       "4410  2.27  l  1.0  \n",
       "4411  2.13  l  1.0  \n",
       "4412  2.49  l  1.0  \n",
       "4413  2.30  l  1.0  \n",
       "\n",
       "[4414 rows x 10 columns]"
      ]
     },
     "execution_count": 6,
     "metadata": {},
     "output_type": "execute_result"
    }
   ],
   "source": [
    "catalog_file = '/home/yinjx/notebooks/strain_scaling/Ridgecrest_das_catalog_M2_M8.txt'\n",
    "catalog = pd.read_csv(catalog_file, sep='\\s+', header=None, skipfooter=1, engine='python')\n",
    "catalog"
   ]
  },
  {
   "cell_type": "code",
   "execution_count": 7,
   "id": "e3417d24",
   "metadata": {},
   "outputs": [],
   "source": [
    "catalog_select = catalog[(catalog[7] >= 3) & (catalog[6] > 1)] # choose the event with magnitude > 3.5\n",
    "#catalog_select = catalog[(catalog[7] >= 3) & (catalog[7] <= 3.5) & (catalog[6] > 1)] # choose the event with magnitude <= 3.5"
   ]
  },
  {
   "cell_type": "code",
   "execution_count": 8,
   "id": "29713742",
   "metadata": {},
   "outputs": [
    {
     "name": "stdout",
     "output_type": "stream",
     "text": [
      "Total number of events: 452\n"
     ]
    }
   ],
   "source": [
    "eq_num = catalog_select.shape[0]\n",
    "eq_id = np.array(catalog_select[0])\n",
    "eq_time = np.array(catalog_select[3])\n",
    "eq_lat = np.array(catalog_select[4])\n",
    "eq_lon = np.array(catalog_select[5])\n",
    "eq_dep = np.array(catalog_select[6])\n",
    "eq_mag = np.array(catalog_select[7])\n",
    "\n",
    "print(f'Total number of events: {eq_num}')"
   ]
  },
  {
   "cell_type": "code",
   "execution_count": 9,
   "id": "0dd2f216",
   "metadata": {},
   "outputs": [],
   "source": [
    "# Convert the event time to obspy UTCDateTime and also find the corresponding DAS file name\n",
    "import datetime\n",
    "import obspy\n",
    "\n",
    "# event time in obspy.UTCDateTime\n",
    "eq_time_UTCDateTime = [obspy.UTCDateTime(temp) for temp in eq_time]\n",
    "# corresponding das file name\n",
    "eq_das_files = [datetime.datetime.strptime(temp[:-4],'%Y/%m/%d,%H:%M:%S').strftime('%Y%m%d%H.segy') for temp in eq_time]\n",
    "# corresponding das data initial time in UTCDateTime form\n",
    "eq_das_t0 = [obspy.UTCDateTime(temp[0:-5]) for temp in eq_das_files]"
   ]
  },
  {
   "cell_type": "markdown",
   "id": "0a37367b",
   "metadata": {},
   "source": [
    "### Show a simple map for the DAS array and events"
   ]
  },
  {
   "cell_type": "code",
   "execution_count": 9,
   "id": "7b71754d",
   "metadata": {},
   "outputs": [
    {
     "data": {
      "text/plain": [
       "<matplotlib.colorbar.Colorbar at 0x7f3c993105e0>"
      ]
     },
     "execution_count": 9,
     "metadata": {},
     "output_type": "execute_result"
    },
    {
     "data": {
      "image/png": "[encoded data removed]",
      "text/plain": [
       "<Figure size 504x432 with 2 Axes>"
      ]
     },
     "metadata": {
      "needs_background": "light"
     },
     "output_type": "display_data"
    }
   ],
   "source": [
    "# TODO: add an inset with Zoom-in DAS channels\n",
    "fig, ax = plt.subplots(figsize=(7, 6))\n",
    "cmp = ax.scatter(DAS_lon, DAS_lat, s=10, c=DAS_index, cmap='jet')\n",
    "ax.scatter(eq_lon, eq_lat, s=10**(eq_mag/5), c='k')\n",
    "fig.colorbar(cmp)"
   ]
  },
  {
   "cell_type": "markdown",
   "id": "85998cf0",
   "metadata": {},
   "source": [
    "### Calculate the arrival time from earthquake to each das channel using 1D velocity model. If the travel time table has already been calculated, load the prepared travel time table, calculate the interpolation function to estimate the arrival times."
   ]
  },
  {
   "cell_type": "code",
   "execution_count": 18,
   "id": "f46c6590",
   "metadata": {},
   "outputs": [
    {
     "name": "stderr",
     "output_type": "stream",
     "text": [
      "Calculating arrival time...: 100%|███████████████| 452/452 [00:00<00:00, 1612.72it/s]\n"
     ]
    }
   ],
   "source": [
    "# Work out a handy travel time table to do interpolation\n",
    "from obspy.taup import TauPyModel\n",
    "from obspy.geodetics import locations2degrees\n",
    "\n",
    "travel_time_table_file = output_dir + '/travel_time_table.npz'\n",
    "\n",
    "# from one event to all channels\n",
    "event_arrival_P = np.zeros((DAS_channel_num, eq_num)) \n",
    "event_arrival_S = np.zeros((DAS_channel_num, eq_num)) \n",
    "\n",
    "# First look for the precalculated TTT, if not exists, get one from interpolating TauP \n",
    "if not os.path.exists(travel_time_table_file):\n",
    "    model = TauPyModel(model='iasp91')\n",
    "\n",
    "    # distance list\n",
    "    distance_fit = np.linspace(0, 2, 100)\n",
    "    # depth list\n",
    "    depth_fit = np.arange(0, 100, 1)\n",
    "\n",
    "    distance_grid, depth_grid = np.meshgrid(distance_fit, depth_fit)\n",
    "\n",
    "\n",
    "    tavel_time_P_grid = np.zeros(distance_grid.shape)\n",
    "    tavel_time_S_grid = np.zeros(distance_grid.shape)\n",
    "\n",
    "    #for i_eq in tqdm.tqdm(range(10), desc=\"Calculating arrival time...\"):\n",
    "    for i_depth in tqdm.tqdm(range(depth_grid.shape[0]), desc=\"Calculating arrival time...\"):   \n",
    "\n",
    "        for i_distance in range(distance_grid.shape[1]):\n",
    "            try:\n",
    "                arrivals = model.get_ray_paths(depth_fit[i_depth], distance_fit[i_distance], phase_list=['p', 's'])\n",
    "                tavel_time_P_grid[i_depth, i_distance] = arrivals[0].time\n",
    "                tavel_time_S_grid[i_depth, i_distance] = arrivals[1].time \n",
    "            except:\n",
    "                tavel_time_P_grid[i_depth, i_distance] = np.nan\n",
    "                tavel_time_S_grid[i_depth, i_distance] = np.nan\n",
    "\n",
    "    # save the calculated Travel time table\n",
    "    np.savez(travel_time_table_file, distance_grid=distance_grid, depth_grid=depth_grid, \n",
    "             tavel_time_p_grid=tavel_time_P_grid, tavel_time_s_grid=tavel_time_S_grid)\n",
    "\n",
    "    print('Travel time table calculated!')\n",
    "    \n",
    "    \n",
    "# The TTT calculated or already exists, directly load it.\n",
    "temp = np.load(travel_time_table_file)\n",
    "distance_grid = temp['distance_grid']\n",
    "depth_grid = temp['depth_grid']\n",
    "tavel_time_p_grid = temp['tavel_time_p_grid']\n",
    "tavel_time_s_grid = temp['tavel_time_s_grid']\n",
    "\n",
    "# build the interpolation function\n",
    "from scipy.interpolate import interp2d\n",
    "#grid_z1 = griddata(points, values, (grid_x, grid_y), method='linear')\n",
    "\n",
    "ii = ~np.isnan(tavel_time_p_grid) # ignore the nan\n",
    "interp_f_p = interp2d(distance_grid[ii], depth_grid[ii], tavel_time_p_grid[ii], kind='linear')\n",
    "interp_f_s = interp2d(distance_grid[ii], depth_grid[ii], tavel_time_s_grid[ii], kind='linear')\n",
    "\n",
    "for i_eq in tqdm.tqdm(range(eq_num), desc=\"Calculating arrival time...\"):   \n",
    "    # estimate the arrival time of each earthquake to all channels\n",
    "    P_arrival = np.zeros(DAS_channel_num)\n",
    "    S_arrival = np.zeros(DAS_channel_num)\n",
    "    distance_to_source = locations2degrees(DAS_lat, DAS_lon, eq_lat[i_eq], eq_lon[i_eq])\n",
    "\n",
    "    P_arrival = eq_time_UTCDateTime[i_eq] - eq_das_t0[i_eq] + interp_f_p(distance_to_source, eq_dep[i_eq])\n",
    "    S_arrival = eq_time_UTCDateTime[i_eq] - eq_das_t0[i_eq] + interp_f_s(distance_to_source, eq_dep[i_eq])  \n",
    "\n",
    "\n",
    "    event_arrival_P[:, i_eq] = P_arrival\n",
    "    event_arrival_S[:, i_eq] = S_arrival"
   ]
  },
  {
   "cell_type": "markdown",
   "id": "659a37fb",
   "metadata": {},
   "source": [
    "### Output the windowed data for ML phase/arrival time picking"
   ]
  },
  {
   "cell_type": "code",
   "execution_count": 11,
   "id": "f9477f52",
   "metadata": {},
   "outputs": [
    {
     "name": "stderr",
     "output_type": "stream",
     "text": [
      "Extracting waveforms...:  53%|███████████▏         | 164/308 [49:56<14:45,  6.15s/it]"
     ]
    },
    {
     "name": "stdout",
     "output_type": "stream",
     "text": [
      "data of event 39129768 not found\n",
      "data of event 39136912 not found\n",
      "data of event 38906511 not found\n",
      "data of event 38912351 not found\n",
      "data of event 38917943 not found\n"
     ]
    },
    {
     "name": "stderr",
     "output_type": "stream",
     "text": [
      "Extracting waveforms...:  68%|████████████▊      | 208/308 [1:01:50<04:53,  2.93s/it]"
     ]
    },
    {
     "name": "stdout",
     "output_type": "stream",
     "text": [
      "data of event 39285816 not found\n",
      "data of event 39288528 not found\n",
      "data of event 39070271 not found\n",
      "data of event 39075799 not found\n",
      "data of event 39076207 not found\n",
      "data of event 39077911 not found\n",
      "data of event 39079791 not found\n",
      "data of event 39083119 not found\n",
      "data of event 39083127 not found\n",
      "data of event 39083439 not found\n",
      "data of event 39087367 not found\n",
      "data of event 39089007 not found\n",
      "data of event 38386162 not found\n",
      "data of event 38395986 not found\n",
      "data of event 39116263 not found\n"
     ]
    },
    {
     "name": "stderr",
     "output_type": "stream",
     "text": [
      "Extracting waveforms...:  71%|█████████████▌     | 220/308 [1:04:33<23:48, 16.24s/it]"
     ]
    },
    {
     "name": "stdout",
     "output_type": "stream",
     "text": [
      "data of event 39200671 not found\n",
      "data of event 39202447 not found\n",
      "data of event 39202567 not found\n",
      "data of event 39204695 not found\n",
      "data of event 39228631 not found\n"
     ]
    },
    {
     "name": "stderr",
     "output_type": "stream",
     "text": [
      "Extracting waveforms...:  88%|████████████████▊  | 272/308 [1:18:50<02:22,  3.97s/it]"
     ]
    },
    {
     "name": "stdout",
     "output_type": "stream",
     "text": [
      "data of event 38693130 not found\n",
      "data of event 38697738 not found\n",
      "data of event 38700978 not found\n",
      "data of event 38701098 not found\n",
      "data of event 38703786 not found\n",
      "data of event 39649656 not found\n",
      "data of event 39651712 not found\n",
      "data of event 39654952 not found\n",
      "data of event 39667688 not found\n",
      "data of event 39668384 not found\n",
      "data of event 39441087 not found\n",
      "data of event 39441199 not found\n",
      "data of event 39445839 not found\n",
      "data of event 39452551 not found\n",
      "data of event 39460703 not found\n",
      "data of event 39466855 not found\n",
      "data of event 39467983 not found\n",
      "data of event 39470639 not found\n",
      "data of event 39477655 not found\n"
     ]
    },
    {
     "name": "stderr",
     "output_type": "stream",
     "text": [
      "Extracting waveforms...:  92%|█████████████████▍ | 282/308 [1:21:33<06:56, 16.04s/it]"
     ]
    },
    {
     "name": "stdout",
     "output_type": "stream",
     "text": [
      "data of event 39760416 not found\n"
     ]
    },
    {
     "name": "stderr",
     "output_type": "stream",
     "text": [
      "Extracting waveforms...: 100%|███████████████████| 308/308 [1:36:59<00:00, 18.90s/it]\n"
     ]
    }
   ],
   "source": [
    "# Save the segmented data for ML phase picking\n",
    "data_folder = '/kuafu/yinjx/Ridgecrest/Ridgecrest_strain_rate_scaling/ML_picking_data_eye_picked'\n",
    "for i_event in tqdm.tqdm(range(eq_num), desc=\"Extracting waveforms...\"):\n",
    "    try:\n",
    "        das_path = '/kuafu/zshen/Ridgecrest_data/1hoursegy/total/'\n",
    "        file_name = eq_das_files[i_event]\n",
    "\n",
    "        data0 = read_PASSCAL_segy(das_path + file_name, 1250, 900000, 0)\n",
    "        data0 = data0[DAS_index, :]\n",
    "\n",
    "        das_dt = 3600 / data0.shape[1]\n",
    "        data_diff = np.diff(data0, axis=1)/das_dt\n",
    "\n",
    "        # time information \n",
    "        das_time = np.linspace(das_dt,3600-das_dt,data_diff.shape[1])\n",
    "\n",
    "        # Taper the data\n",
    "        t_begin = np.min(event_arrival_P[:, i_event]) - 10\n",
    "        t_end = np.max(event_arrival_S[:, i_event]) + 60\n",
    "\n",
    "        # segmented data\n",
    "        ii_time = (das_time >= t_begin) & (das_time <= t_end)\n",
    "        data_diff = data_diff[:, ii_time]\n",
    "        das_time = das_time[ii_time]   \n",
    "        \n",
    "        # Downsample from 250 Hz to 50 Hz\n",
    "        data = data_diff[:, ::5].T\n",
    "        np.savez(data_folder + f'/{eq_id[i_event]}.npz', data=data)\n",
    "        \n",
    "        \n",
    "        # Show data\n",
    "        fig, ax1 = plt.subplots(figsize=(16,8))\n",
    "        pclip=99.5\n",
    "        clipVal = np.percentile(np.absolute(data_diff), pclip)\n",
    "        # Vx\n",
    "        ax1.imshow(data_diff.T, \n",
    "                   extent=[0, data_diff.shape[0], das_time[-1], t_begin],\n",
    "                   aspect='auto', vmin=-clipVal, vmax=clipVal, cmap=plt.get_cmap('seismic'))\n",
    "\n",
    "        ax1.plot(event_arrival_P[:, i_event], '--g', zorder=10)\n",
    "        ax1.plot(event_arrival_S[:, i_event], '-g', zorder=10)\n",
    "\n",
    "        ax1.set_xlabel(\"Channel number\")\n",
    "        ax1.set_ylabel(\"Time [s]\")\n",
    "        ax1.grid()\n",
    "\n",
    "        plt.savefig(data_folder + f'/{eq_id[i_event]}.png')\n",
    "        plt.close('all')\n",
    "        \n",
    "    except:\n",
    "        print(f'data of event {eq_id[i_event]} not found')\n",
    "        continue"
   ]
  },
  {
   "cell_type": "markdown",
   "id": "63a3b74b",
   "metadata": {},
   "source": [
    "### Wait for ML results from Weiqiang. TODO: trying to include his code here to directly refind the time picking."
   ]
  },
  {
   "cell_type": "markdown",
   "id": "9977da54",
   "metadata": {},
   "source": [
    "### Load the ML-picked arrival time, and check how the ML picking works"
   ]
  },
  {
   "cell_type": "code",
   "execution_count": 10,
   "id": "65a2a5ca",
   "metadata": {},
   "outputs": [],
   "source": [
    "from scipy.interpolate import interp1d\n",
    "\n",
    "def extrapolate_arrival_time(ml_picks, kind='linear'):\n",
    "    channel = np.array(ml_picks['station_name'])\n",
    "    phase_index = np.array(ml_picks['phase_index'])\n",
    "    channel_all = np.arange(0, DAS_channel_num)\n",
    "    if kind is None:\n",
    "        phase_index_extrap = np.ones(channel_all.shape) * -1\n",
    "        phase_index_extrap[channel] = phase_index\n",
    "        \n",
    "    else:\n",
    "        interp_f = interp1d(channel, phase_index, kind=kind, fill_value='extrapolate')\n",
    "        phase_index_extrap = interp_f(channel_all).astype('int')\n",
    "    \n",
    "    return phase_index_extrap"
   ]
  },
  {
   "cell_type": "code",
   "execution_count": 118,
   "id": "53b6fd40",
   "metadata": {},
   "outputs": [
    {
     "name": "stdout",
     "output_type": "stream",
     "text": [
      "ML picking 38521799 not found, skip...\n",
      "ML picking 38521815 not found, skip...\n",
      "ML picking 37265572 not found, skip...\n",
      "ML picking 38522055 not found, skip...\n",
      "ML picking 37248948 not found, skip...\n",
      "Event 38522647 done!\n",
      "Event 38523567 done!\n",
      "DAS file 37265580 not found, skip...\n",
      "ML picking 38524831 not found, skip...\n",
      "Event 38524935 done!\n",
      "Event 38525047 done!\n",
      "ML picking 38525143 not found, skip...\n",
      "DAS file 38525215 not found, skip...\n",
      "ML picking 38525407 not found, skip...\n",
      "ML picking 38525479 not found, skip...\n",
      "ML picking 38525495 not found, skip...\n",
      "ML picking 38525895 not found, skip...\n",
      "Event 38526799 done!\n",
      "Event 38527863 done!\n",
      "ML picking 38527943 not found, skip...\n",
      "Event 38528167 done!\n",
      "Event 38528383 done!\n",
      "Event 38529591 done!\n",
      "Event 38529711 done!\n",
      "Event 38530047 done!\n",
      "Event 38530495 done!\n",
      "Event 38531487 done!\n",
      "ML picking 38531503 not found, skip...\n",
      "Event 38531663 done!\n",
      "ML picking 38531775 not found, skip...\n",
      "Event 38531903 done!\n",
      "Event 38532079 done!\n",
      "Event 38532479 done!\n",
      "Event 38532487 done!\n",
      "Event 38532975 done!\n",
      "Event 38534255 done!\n",
      "ML picking 38534415 not found, skip...\n",
      "Event 38534735 done!\n",
      "Event 38535183 done!\n",
      "Event 38538991 done!\n",
      "Event 38539031 done!\n",
      "Event 38539039 done!\n",
      "Event 38539215 done!\n",
      "Event 38540647 done!\n",
      "Event 38541351 done!\n",
      "Event 38541359 done!\n",
      "Event 38541391 done!\n",
      "ML picking 38541743 not found, skip...\n",
      "Event 38544311 done!\n",
      "Event 38548295 done!\n",
      "ML picking 37266364 not found, skip...\n",
      "ML picking 37266372 not found, skip...\n",
      "Event 38553255 done!\n",
      "Event 38553919 done!\n",
      "Event 38557895 done!\n",
      "Event 38558295 done!\n",
      "ML picking 38558607 not found, skip...\n",
      "Event 38559263 done!\n",
      "Event 38559367 done!\n",
      "Event 38560831 done!\n",
      "Event 38561631 done!\n",
      "Event 38561839 done!\n",
      "Event 38561855 done!\n",
      "Event 38563839 done!\n",
      "Event 38564023 done!\n",
      "Event 38564031 done!\n",
      "Event 38565431 done!\n",
      "Event 38565791 done!\n",
      "Event 38565815 done!\n",
      "Event 38566311 done!\n",
      "Event 38568471 done!\n",
      "Event 38569055 done!\n",
      "Event 38570271 done!\n",
      "Event 38570919 done!\n",
      "Event 38571423 done!\n",
      "Event 38572055 done!\n",
      "Event 38574407 done!\n",
      "ML picking 38575455 not found, skip...\n",
      "Event 38576223 done!\n",
      "Event 38576311 done!\n",
      "ML picking 38577303 not found, skip...\n",
      "Event 38577799 done!\n",
      "Event 38577831 done!\n",
      "Event 38578055 done!\n",
      "Event 38578567 done!\n",
      "Event 38580111 done!\n",
      "Event 38580911 done!\n",
      "ML picking 38581455 not found, skip...\n",
      "Event 38583335 done!\n",
      "DAS file 37421757 not found, skip...\n",
      "ML picking 38583551 not found, skip...\n",
      "Event 38584607 done!\n",
      "Event 38584855 done!\n",
      "Event 38585023 done!\n",
      "ML picking 37267164 not found, skip...\n",
      "ML picking 38585055 not found, skip...\n",
      "ML picking 38585063 not found, skip...\n",
      "Event 38585303 done!\n",
      "Event 38585311 done!\n",
      "Event 38586063 done!\n",
      "ML picking 38588455 not found, skip...\n",
      "Event 38589175 done!\n",
      "Event 38589287 done!\n",
      "Event 38589319 done!\n",
      "Event 37421821 done!\n",
      "Event 38590903 done!\n",
      "Event 38590983 done!\n",
      "DAS file 38591583 not found, skip...\n",
      "Event 38591663 done!\n",
      "Event 38591911 done!\n",
      "Event 38593087 done!\n",
      "Event 38593247 done!\n",
      "Event 38593535 done!\n",
      "ML picking 38593559 not found, skip...\n",
      "ML picking 38593567 not found, skip...\n",
      "Event 38594055 done!\n",
      "Event 38594383 done!\n",
      "ML picking 38595071 not found, skip...\n",
      "Event 38599327 done!\n",
      "Event 38599935 done!\n",
      "ML picking 38600023 not found, skip...\n",
      "ML picking 38600815 not found, skip...\n",
      "ML picking 38602799 not found, skip...\n",
      "Event 38603223 done!\n",
      "Event 38603871 done!\n",
      "Event 38603967 done!\n",
      "ML picking 38604199 not found, skip...\n",
      "Event 38605023 done!\n",
      "Event 38606951 done!\n",
      "Event 38607695 done!\n",
      "Event 38612055 done!\n",
      "Event 38612295 done!\n",
      "Event 38613055 done!\n",
      "Event 38613175 done!\n",
      "Event 38614407 done!\n",
      "Event 38614479 done!\n",
      "Event 38615255 done!\n",
      "Event 38616607 done!\n",
      "Event 38616919 done!\n",
      "Event 38618447 done!\n",
      "Event 38622679 done!\n",
      "DAS file 38624623 not found, skip...\n",
      "Event 38625223 done!\n",
      "Event 37480781 done!\n",
      "Event 38627095 done!\n",
      "Event 38628799 done!\n",
      "Event 38632759 done!\n",
      "ML picking 38634911 not found, skip...\n",
      "Event 38636511 done!\n",
      "ML picking 38638455 not found, skip...\n",
      "ML picking 38640343 not found, skip...\n",
      "Event 38644943 done!\n",
      "DAS file 38644983 not found, skip...\n",
      "Event 38645087 done!\n",
      "Event 38645471 done!\n",
      "ML picking 38646639 not found, skip...\n",
      "Event 38647543 done!\n",
      "Event 38652167 done!\n",
      "Event 38653975 done!\n",
      "Event 38656719 done!\n",
      "Event 38668479 done!\n",
      "Event 38668511 done!\n",
      "Event 38669279 done!\n",
      "Event 38672303 done!\n",
      "ML picking 38678639 not found, skip...\n",
      "Event 38679775 done!\n",
      "Event 38683903 done!\n",
      "Event 38684415 done!\n",
      "Event 38690607 done!\n",
      "Event 38692783 done!\n",
      "Event 38702143 done!\n",
      "ML picking 38946464 not found, skip...\n",
      "Event 38949408 done!\n",
      "Event 38953824 done!\n",
      "Event 38956352 done!\n",
      "Event 38966824 done!\n",
      "Event 38969080 done!\n",
      "Event 38969336 done!\n",
      "ML picking 38969456 not found, skip...\n",
      "Event 38971232 done!\n",
      "Event 38973744 done!\n",
      "ML picking 38974200 not found, skip...\n",
      "Event 38978512 done!\n",
      "ML picking 38981040 not found, skip...\n",
      "ML picking 38982296 not found, skip...\n",
      "Event 38982368 done!\n",
      "Event 38983016 done!\n",
      "Event 38984576 done!\n",
      "Event 38990112 done!\n",
      "Event 38990176 done!\n",
      "ML picking 38991056 not found, skip...\n",
      "ML picking 38992192 not found, skip...\n",
      "Event 38995952 done!\n",
      "Event 38996632 done!\n",
      "Event 38996816 done!\n",
      "Event 38996840 done!\n",
      "Event 38996976 done!\n",
      "Event 38999296 done!\n",
      "ML picking 38999312 not found, skip...\n",
      "Event 38999328 done!\n",
      "Event 39000512 done!\n",
      "Event 39002264 done!\n",
      "ML picking 39002432 not found, skip...\n",
      "Event 39004464 done!\n",
      "Event 39005120 done!\n",
      "ML picking 39007152 not found, skip...\n",
      "ML picking 39016592 not found, skip...\n",
      "Event 39037448 done!\n",
      "Event 39037488 done!\n",
      "Event 39037688 done!\n",
      "ML picking 39040408 not found, skip...\n",
      "ML picking 38818071 not found, skip...\n",
      "Event 38819223 done!\n",
      "Event 38850247 done!\n",
      "Event 38852871 done!\n",
      "DAS file 38855983 not found, skip...\n",
      "Event 39094760 done!\n",
      "ML picking 39095240 not found, skip...\n",
      "Event 39096944 done!\n",
      "Event 39099712 done!\n",
      "Event 39100080 done!\n",
      "Event 39103680 done!\n",
      "ML picking 39129768 not found, skip...\n",
      "ML picking 39136912 not found, skip...\n",
      "ML picking 38905359 not found, skip...\n",
      "ML picking 38905415 not found, skip...\n",
      "ML picking 38906511 not found, skip...\n",
      "ML picking 38909287 not found, skip...\n",
      "ML picking 38912351 not found, skip...\n",
      "ML picking 38917943 not found, skip...\n",
      "Event 38923807 done!\n",
      "DAS file 38926095 not found, skip...\n",
      "Event 38930143 done!\n",
      "Event 38933079 done!\n",
      "Event 38229138 done!\n",
      "ML picking 38229234 not found, skip...\n",
      "ML picking 38229250 not found, skip...\n",
      "ML picking 38231562 not found, skip...\n",
      "ML picking 38231786 not found, skip...\n",
      "ML picking 38231834 not found, skip...\n",
      "ML picking 38235954 not found, skip...\n",
      "ML picking 38236850 not found, skip...\n",
      "ML picking 38237026 not found, skip...\n",
      "Event 38242914 done!\n",
      "DAS file 38247706 not found, skip...\n",
      "ML picking 38247754 not found, skip...\n",
      "DAS file 38248602 not found, skip...\n",
      "Event 38251970 done!\n",
      "Event 38254674 done!\n",
      "Event 39206144 done!\n",
      "Event 39206448 done!\n",
      "ML picking 39209360 not found, skip...\n",
      "Event 39210040 done!\n",
      "Event 39210096 done!\n",
      "ML picking 39217512 not found, skip...\n",
      "Event 39217768 done!\n",
      "Event 39217824 done!\n",
      "ML picking 39219160 not found, skip...\n",
      "Event 39228040 done!\n",
      "ML picking 39232240 not found, skip...\n",
      "Event 39232664 done!\n",
      "Event 39232936 done!\n",
      "ML picking 39005887 not found, skip...\n",
      "ML picking 39006607 not found, skip...\n",
      "ML picking 39007175 not found, skip...\n",
      "Event 39007423 done!\n",
      "Event 39007775 done!\n",
      "Event 39008311 done!\n",
      "ML picking 39013663 not found, skip...\n",
      "ML picking 39014015 not found, skip...\n",
      "Event 39014215 done!\n",
      "Event 39015367 done!\n",
      "ML picking 39015759 not found, skip...\n",
      "ML picking 39019703 not found, skip...\n",
      "ML picking 39020663 not found, skip...\n",
      "Event 39021735 done!\n",
      "Event 39028647 done!\n",
      "Event 39273704 done!\n",
      "Event 39276560 done!\n",
      "DAS file 39277736 not found, skip...\n",
      "Event 39281440 done!\n",
      "ML picking 39281456 not found, skip...\n",
      "ML picking 39283296 not found, skip...\n",
      "ML picking 39285816 not found, skip...\n",
      "ML picking 39288528 not found, skip...\n",
      "ML picking 39289104 not found, skip...\n",
      "DAS file 39296624 not found, skip...\n",
      "ML picking 39070271 not found, skip...\n",
      "ML picking 39075799 not found, skip...\n",
      "ML picking 39076207 not found, skip...\n",
      "ML picking 39077911 not found, skip...\n",
      "ML picking 39079535 not found, skip...\n",
      "ML picking 39079791 not found, skip...\n",
      "ML picking 39083119 not found, skip...\n",
      "ML picking 39083127 not found, skip...\n",
      "ML picking 39083439 not found, skip...\n",
      "ML picking 39087367 not found, skip...\n",
      "ML picking 39089007 not found, skip...\n",
      "ML picking 38386162 not found, skip...\n",
      "ML picking 38386410 not found, skip...\n",
      "ML picking 38387018 not found, skip...\n",
      "ML picking 38393482 not found, skip...\n",
      "ML picking 38395986 not found, skip...\n",
      "ML picking 39108583 not found, skip...\n",
      "ML picking 39116263 not found, skip...\n",
      "ML picking 39127167 not found, skip...\n",
      "DAS file 39134655 not found, skip...\n",
      "Event 39138391 done!\n",
      "Event 39386896 done!\n",
      "ML picking 39387336 not found, skip...\n",
      "Event 39395080 done!\n",
      "Event 39395096 done!\n",
      "DAS file 39400304 not found, skip...\n",
      "Event 39406880 done!\n",
      "DAS file 39409688 not found, skip...\n",
      "ML picking 38477842 not found, skip...\n",
      "ML picking 38491298 not found, skip...\n",
      "ML picking 39200671 not found, skip...\n",
      "ML picking 39202447 not found, skip...\n",
      "ML picking 39202567 not found, skip...\n",
      "ML picking 39204695 not found, skip...\n",
      "ML picking 39208391 not found, skip...\n",
      "ML picking 39214127 not found, skip...\n",
      "ML picking 39214247 not found, skip...\n",
      "DAS file 39218863 not found, skip...\n",
      "Event 39227895 done!\n",
      "ML picking 39228631 not found, skip...\n",
      "ML picking 39462368 not found, skip...\n",
      "Event 39462536 done!\n",
      "Event 39462672 done!\n",
      "Event 39462744 done!\n",
      "Event 39462768 done!\n",
      "Event 39462920 done!\n",
      "Event 39463040 done!\n",
      "Event 39463336 done!\n",
      "Event 39463528 done!\n",
      "Event 39464360 done!\n",
      "Event 39468648 done!\n",
      "Event 39469848 done!\n",
      "Event 39473968 done!\n",
      "Event 39477608 done!\n",
      "Event 39481424 done!\n",
      "ML picking 39488496 not found, skip...\n",
      "Event 39490952 done!\n",
      "ML picking 37447541 not found, skip...\n",
      "Event 39490968 done!\n",
      "Event 39491208 done!\n",
      "ML picking 39491464 not found, skip...\n",
      "Event 39493944 done!\n",
      "ML picking 39493968 not found, skip...\n",
      "Event 39494008 done!\n",
      "ML picking 39494088 not found, skip...\n",
      "DAS file 39494120 not found, skip...\n",
      "ML picking 39494128 not found, skip...\n",
      "ML picking 39494264 not found, skip...\n",
      "Event 39494672 done!\n",
      "ML picking 39495128 not found, skip...\n",
      "ML picking 39496160 not found, skip...\n",
      "ML picking 39496504 not found, skip...\n",
      "ML picking 39266159 not found, skip...\n",
      "ML picking 39266607 not found, skip...\n",
      "ML picking 39266839 not found, skip...\n",
      "ML picking 39268023 not found, skip...\n",
      "ML picking 39268303 not found, skip...\n",
      "DAS file 39271783 not found, skip...\n",
      "ML picking 39276943 not found, skip...\n",
      "ML picking 39281039 not found, skip...\n",
      "DAS file 39292639 not found, skip...\n",
      "DAS file 38599882 not found, skip...\n",
      "DAS file 38603762 not found, skip...\n",
      "DAS file 38605954 not found, skip...\n",
      "DAS file 39322287 not found, skip...\n",
      "ML picking 39322383 not found, skip...\n",
      "DAS file 39322767 not found, skip...\n",
      "ML picking 39328911 not found, skip...\n",
      "ML picking 39346591 not found, skip...\n",
      "Event 39587168 done!\n",
      "ML picking 39368535 not found, skip...\n",
      "ML picking 38675290 not found, skip...\n",
      "ML picking 38675450 not found, skip...\n",
      "Event 38676562 done!\n",
      "Event 38683914 done!\n",
      "ML picking 38683930 not found, skip...\n",
      "DAS file 38683938 not found, skip...\n",
      "ML picking 38693130 not found, skip...\n",
      "ML picking 38695658 not found, skip...\n",
      "ML picking 38697738 not found, skip...\n",
      "ML picking 38700978 not found, skip...\n",
      "ML picking 38701098 not found, skip...\n",
      "ML picking 38703786 not found, skip...\n",
      "ML picking 38703802 not found, skip...\n",
      "ML picking 39649656 not found, skip...\n",
      "ML picking 39651712 not found, skip...\n",
      "ML picking 39654952 not found, skip...\n",
      "ML picking 39667688 not found, skip...\n",
      "ML picking 39668384 not found, skip...\n",
      "ML picking 39441087 not found, skip...\n",
      "ML picking 39441199 not found, skip...\n",
      "ML picking 39445839 not found, skip...\n",
      "ML picking 39452551 not found, skip...\n",
      "ML picking 39455887 not found, skip...\n",
      "ML picking 39460703 not found, skip...\n",
      "ML picking 39466855 not found, skip...\n",
      "ML picking 39466903 not found, skip...\n",
      "ML picking 39467983 not found, skip...\n",
      "ML picking 39468407 not found, skip...\n",
      "ML picking 39470639 not found, skip...\n",
      "ML picking 39477655 not found, skip...\n",
      "Event 39480223 done!\n",
      "Event 39481463 done!\n",
      "ML picking 39487087 not found, skip...\n",
      "DAS file 39504023 not found, skip...\n",
      "Event 39505103 done!\n",
      "ML picking 39509183 not found, skip...\n",
      "Event 39759376 done!\n",
      "Event 39759432 done!\n",
      "ML picking 39760416 not found, skip...\n",
      "ML picking 39762912 not found, skip...\n",
      "Event 39763472 done!\n",
      "Event 39763488 done!\n",
      "Event 39534943 done!\n",
      "Event 39543967 done!\n",
      "Event 39550567 done!\n",
      "ML picking 39551831 not found, skip...\n",
      "Event 39552143 done!\n",
      "Event 39794648 done!\n",
      "ML picking 39796240 not found, skip...\n",
      "ML picking 39797144 not found, skip...\n",
      "ML picking 39803176 not found, skip...\n",
      "Event 39803680 done!\n",
      "ML picking 39804712 not found, skip...\n",
      "ML picking 39572823 not found, skip...\n",
      "ML picking 39586079 not found, skip...\n",
      "ML picking 39588623 not found, skip...\n",
      "ML picking 39838568 not found, skip...\n",
      "ML picking 39838888 not found, skip...\n",
      "DAS file 39838928 not found, skip...\n",
      "Event 39841832 done!\n",
      "Event 39843952 done!\n",
      "ML picking 39844112 not found, skip...\n",
      "ML picking 39845512 not found, skip...\n",
      "Event 39846664 done!\n",
      "DAS file 39849144 not found, skip...\n",
      "Event 39851144 done!\n",
      "ML picking 39853648 not found, skip...\n",
      "ML picking 39625767 not found, skip...\n",
      "Event 39634983 done!\n",
      "ML picking 39645599 not found, skip...\n",
      "ML picking 39645767 not found, skip...\n",
      "Event 39659271 done!\n",
      "ML picking 39905824 not found, skip...\n",
      "ML picking 39906312 not found, skip...\n"
     ]
    }
   ],
   "source": [
    "extrapolate_ml_picking = False\n",
    "\n",
    "# path of the ML picking \n",
    "ml_pick_dir = '/kuafu/yinjx/Ridgecrest/Ridgecrest_scaling/picking_Weiqiang/picks_yinjx_all'\n",
    "\n",
    "# Check the segmented 50Hz data\n",
    "das_path = '/kuafu/yinjx/Ridgecrest/Ridgecrest_scaling/ML_picking_data_eye_picked'\n",
    "\n",
    "das_dt = 0.02 # downsampled to 50 Hz\n",
    "for eq_id_current in eq_id:\n",
    "      \n",
    "    try: \n",
    "        # look for the corresponding ML picks\n",
    "        ml_picks_file = glob.glob(ml_pick_dir + f'/*{eq_id_current}.csv')\n",
    "        ml_picks = pd.read_csv(ml_picks_file[0])\n",
    "\n",
    "        # extract the picked information\n",
    "        ml_picks_p = ml_picks[ml_picks['phase_type'] == 'p']\n",
    "        ml_picks_s = ml_picks[ml_picks['phase_type'] == 's']\n",
    "\n",
    "        # remove some duplicated picks, only keep those with higher probability\n",
    "        ml_picks_p = ml_picks_p.drop_duplicates(subset=['station_name'], keep='first')\n",
    "        ml_picks_s = ml_picks_s.drop_duplicates(subset=['station_name'], keep='first')\n",
    "        \n",
    "        if extrapolate_ml_picking:\n",
    "            # extrapolate the index in case the ML picking is imcomplete\n",
    "            event_arrival_P_ml_index = extrapolate_arrival_time(ml_picks_p, kind='nearest')\n",
    "            event_arrival_S_ml_index = extrapolate_arrival_time(ml_picks_s, kind='nearest')\n",
    "            channel_of_picks_P = np.arange(DAS_channel_num)\n",
    "            channel_of_picks_S = np.arange(DAS_channel_num)\n",
    "            fig_name = f'{eq_id_current}_ml_extrap_nearest.png'\n",
    "        else:\n",
    "            # not extrapolate the index in case the ML picking is imcomplete\n",
    "            event_arrival_P_ml_index = extrapolate_arrival_time(ml_picks_p, kind=None)\n",
    "            event_arrival_S_ml_index = extrapolate_arrival_time(ml_picks_s, kind=None)\n",
    "            channel_of_picks_P = ml_picks_p['station_name']\n",
    "            channel_of_picks_S = ml_picks_s['station_name']\n",
    "            fig_name = f'{eq_id_current}_ml.png'\n",
    "        \n",
    "    except:\n",
    "        print(f'ML picking {eq_id_current} not found, skip...')\n",
    "        continue\n",
    "        \n",
    "    try:      \n",
    "        # look for the corresponding data file\n",
    "        file_name = glob.glob(das_path + f'/*{eq_id_current}.npz')\n",
    "        temp = np.load(file_name[0])\n",
    "        data_diff = temp[temp.files[0]]\n",
    "        \n",
    "        # time information \n",
    "        das_time = np.arange(data_diff.shape[0]) * das_dt\n",
    "\n",
    "        # get the ML pick time\n",
    "        event_arrival_P_ml = das_time[event_arrival_P_ml_index.astype('int')]\n",
    "        event_arrival_S_ml = das_time[event_arrival_S_ml_index.astype('int')]\n",
    "\n",
    "        # Slight modify only for plotting purpose\n",
    "        event_arrival_P_ml[event_arrival_P_ml == das_time[-1]] = np.nan\n",
    "        event_arrival_S_ml[event_arrival_S_ml == das_time[-1]] = np.nan\n",
    "\n",
    "        # Show data\n",
    "        fig, ax1 = plt.subplots(figsize=(16,8))\n",
    "        pclip=99.5\n",
    "        clipVal = np.percentile(np.absolute(data_diff), pclip)\n",
    "        # Vx\n",
    "        ax1.imshow(data_diff, \n",
    "                    extent=[0, data_diff.shape[1], das_time[-1], das_time[0]],\n",
    "                    aspect='auto', vmin=-clipVal, vmax=clipVal, cmap=plt.get_cmap('seismic'))\n",
    "\n",
    "        ax1.plot(event_arrival_P_ml, '--k', linewidth=2, zorder=10)\n",
    "        ax1.plot(event_arrival_S_ml, '-k', linewidth=2, zorder=10)\n",
    "        \n",
    "        ax1.set_title(f'Event ID: {eq_id_current}')\n",
    "        ax1.set_xlabel(\"Channel number\")\n",
    "        ax1.set_ylabel(\"Time [s]\")\n",
    "        ax1.grid()\n",
    "\n",
    "        plt.savefig(das_path + '/' + fig_name)\n",
    "        plt.close('all')\n",
    "        print(f'Event {eq_id_current} done!')\n",
    "        \n",
    "    except:\n",
    "        print(f'DAS file {eq_id_current} not found, skip...')\n",
    "        continue\n",
    "        \n",
    "    "
   ]
  },
  {
   "cell_type": "markdown",
   "id": "893b4a40",
   "metadata": {},
   "source": [
    "### Now use the ML pick time to extract maximum amplitude"
   ]
  },
  {
   "cell_type": "code",
   "execution_count": 90,
   "id": "0c113224",
   "metadata": {},
   "outputs": [],
   "source": [
    "# apply mask onto the data\n",
    "def extract_maximum_amplitude(time_list, data_matrix, t1, t2):\n",
    "    t1 = t1[:, np.newaxis]\n",
    "    t2 = t2[:, np.newaxis]\n",
    "    time_list = time_list[np.newaxis, :]\n",
    "    \n",
    "    # broadcast comparison\n",
    "    mask_index = (time_list >= t1) & (time_list < t2)\n",
    "    data_matrix_mask = data_matrix.copy()\n",
    "    # first extract the time of maximum P\n",
    "    data_matrix_mask[~mask_index] = -1e20\n",
    "    max_index = np.nanargmax(data_matrix_mask, axis=1)\n",
    "    max_time = time_list[:, max_index]\n",
    "    max_time[:, max_index==0] = np.nan\n",
    "    max_time[:, max_index==(time_list.shape[1]-1)] = np.nan\n",
    "    max_time = max_time.flatten() - t1.flatten()\n",
    "    # then extract the maximum P \n",
    "    data_matrix_mask[~mask_index] = np.nan\n",
    "    max_amplitude = np.nanmax(data_matrix_mask, axis=1)\n",
    "    \n",
    "    return max_amplitude, max_time\n",
    "\n",
    "# # calculate the SNR given the P arrival time\n",
    "# def calculate_SNR(time_list, data_matrix, t1, twin_noise, twin_signal):\n",
    "#     t1 = t1[:, np.newaxis]\n",
    "#     time_list = time_list[np.newaxis, :]\n",
    "\n",
    "#     noise_index = (time_list < t1) & (time_list >= t1 - twin_noise) # noise index\n",
    "#     signal_index = (time_list >= t1) & (time_list <= t1 + twin_signal) # signal index\n",
    "\n",
    "#     noise_matrix = data_matrix.copy()\n",
    "#     signal_matrix = data_matrix.copy()\n",
    "#     noise_matrix[~noise_index] = np.nan\n",
    "#     signal_matrix[~signal_index] = np.nan\n",
    "\n",
    "#     noise_power = np.nanmean(noise_matrix ** 2, axis=1)\n",
    "#     signal_power = np.nanmean(signal_matrix ** 2, axis=1)\n",
    "\n",
    "#     snr = 10 * np.log10(signal_power / noise_power)\n",
    "#     return snr\n",
    "\n",
    "# calculate the SNR given the P arrival time\n",
    "def calculate_SNR(time_list, data_matrix, twin_noise, twin_signal):\n",
    "    '''calculate the SNR given the noise and signal time window list [begin, end] for each channel'''\n",
    "    time_list = time_list[np.newaxis, :]\n",
    "\n",
    "    noise_index = (time_list < twin_noise[1]) & (time_list >= twin_noise[0]) # noise index\n",
    "    signal_index = (time_list <= twin_signal[1]) & (time_list >= twin_signal[0]) # signal index\n",
    "\n",
    "    noise_matrix = data_matrix.copy()\n",
    "    signal_matrix = data_matrix.copy()\n",
    "    noise_matrix[~noise_index] = np.nan\n",
    "    signal_matrix[~signal_index] = np.nan\n",
    "\n",
    "    noise_power = np.nanmean(noise_matrix ** 2, axis=1)\n",
    "    signal_power = np.nanmean(signal_matrix ** 2, axis=1)\n",
    "\n",
    "    snr = 10 * np.log10(signal_power / noise_power)\n",
    "    return snr\n",
    "\n",
    "\n"
   ]
  },
  {
   "cell_type": "code",
   "execution_count": 154,
   "id": "7a056814",
   "metadata": {
    "scrolled": true
   },
   "outputs": [
    {
     "name": "stdout",
     "output_type": "stream",
     "text": [
      "ML picking 38521799 not found, skip...\n",
      "ML picking 38521815 not found, skip...\n",
      "ML picking 37265572 not found, skip...\n",
      "ML picking 38522055 not found, skip...\n",
      "ML picking 37248948 not found, skip...\n"
     ]
    },
    {
     "name": "stderr",
     "output_type": "stream",
     "text": [
      "/tmp/ipykernel_39280/1038223605.py:19: RuntimeWarning: All-NaN slice encountered\n",
      "  max_amplitude = np.nanmax(data_matrix_mask, axis=1)\n"
     ]
    },
    {
     "name": "stdout",
     "output_type": "stream",
     "text": [
      "==========Event 38522647 done!==========\n"
     ]
    },
    {
     "name": "stderr",
     "output_type": "stream",
     "text": [
      "/tmp/ipykernel_39280/1038223605.py:19: RuntimeWarning: All-NaN slice encountered\n",
      "  max_amplitude = np.nanmax(data_matrix_mask, axis=1)\n"
     ]
    },
    {
     "name": "stdout",
     "output_type": "stream",
     "text": [
      "==========Event 38523567 done!==========\n",
      "DAS file 37265580 not found, skip...\n",
      "ML picking 38524831 not found, skip...\n"
     ]
    },
    {
     "name": "stderr",
     "output_type": "stream",
     "text": [
      "/tmp/ipykernel_39280/1038223605.py:19: RuntimeWarning: All-NaN slice encountered\n",
      "  max_amplitude = np.nanmax(data_matrix_mask, axis=1)\n",
      "/tmp/ipykernel_39280/1038223605.py:64: RuntimeWarning: divide by zero encountered in log10\n",
      "  snr = 10 * np.log10(signal_power / noise_power)\n"
     ]
    },
    {
     "name": "stdout",
     "output_type": "stream",
     "text": [
      "==========Event 38524935 done!==========\n"
     ]
    },
    {
     "name": "stderr",
     "output_type": "stream",
     "text": [
      "/tmp/ipykernel_39280/1038223605.py:19: RuntimeWarning: All-NaN slice encountered\n",
      "  max_amplitude = np.nanmax(data_matrix_mask, axis=1)\n",
      "/tmp/ipykernel_39280/1038223605.py:64: RuntimeWarning: divide by zero encountered in log10\n",
      "  snr = 10 * np.log10(signal_power / noise_power)\n"
     ]
    },
    {
     "name": "stdout",
     "output_type": "stream",
     "text": [
      "==========Event 38525047 done!==========\n",
      "ML picking 38525143 not found, skip...\n",
      "DAS file 38525215 not found, skip...\n",
      "ML picking 38525407 not found, skip...\n",
      "ML picking 38525479 not found, skip...\n",
      "ML picking 38525495 not found, skip...\n",
      "ML picking 38525895 not found, skip...\n"
     ]
    },
    {
     "name": "stderr",
     "output_type": "stream",
     "text": [
      "/tmp/ipykernel_39280/1038223605.py:19: RuntimeWarning: All-NaN slice encountered\n",
      "  max_amplitude = np.nanmax(data_matrix_mask, axis=1)\n"
     ]
    },
    {
     "name": "stdout",
     "output_type": "stream",
     "text": [
      "==========Event 38526799 done!==========\n"
     ]
    },
    {
     "name": "stderr",
     "output_type": "stream",
     "text": [
      "/tmp/ipykernel_39280/1038223605.py:19: RuntimeWarning: All-NaN slice encountered\n",
      "  max_amplitude = np.nanmax(data_matrix_mask, axis=1)\n"
     ]
    },
    {
     "name": "stdout",
     "output_type": "stream",
     "text": [
      "==========Event 38527863 done!==========\n",
      "ML picking 38527943 not found, skip...\n"
     ]
    },
    {
     "name": "stderr",
     "output_type": "stream",
     "text": [
      "/tmp/ipykernel_39280/1038223605.py:19: RuntimeWarning: All-NaN slice encountered\n",
      "  max_amplitude = np.nanmax(data_matrix_mask, axis=1)\n",
      "/tmp/ipykernel_39280/1038223605.py:64: RuntimeWarning: divide by zero encountered in log10\n",
      "  snr = 10 * np.log10(signal_power / noise_power)\n"
     ]
    },
    {
     "name": "stdout",
     "output_type": "stream",
     "text": [
      "==========Event 38528167 done!==========\n"
     ]
    },
    {
     "name": "stderr",
     "output_type": "stream",
     "text": [
      "/tmp/ipykernel_39280/1038223605.py:19: RuntimeWarning: All-NaN slice encountered\n",
      "  max_amplitude = np.nanmax(data_matrix_mask, axis=1)\n",
      "/tmp/ipykernel_39280/1038223605.py:64: RuntimeWarning: divide by zero encountered in log10\n",
      "  snr = 10 * np.log10(signal_power / noise_power)\n"
     ]
    },
    {
     "name": "stdout",
     "output_type": "stream",
     "text": [
      "==========Event 38528383 done!==========\n"
     ]
    },
    {
     "name": "stderr",
     "output_type": "stream",
     "text": [
      "/tmp/ipykernel_39280/1038223605.py:19: RuntimeWarning: All-NaN slice encountered\n",
      "  max_amplitude = np.nanmax(data_matrix_mask, axis=1)\n",
      "/tmp/ipykernel_39280/1038223605.py:64: RuntimeWarning: divide by zero encountered in log10\n",
      "  snr = 10 * np.log10(signal_power / noise_power)\n"
     ]
    },
    {
     "name": "stdout",
     "output_type": "stream",
     "text": [
      "==========Event 38529591 done!==========\n"
     ]
    },
    {
     "name": "stderr",
     "output_type": "stream",
     "text": [
      "/tmp/ipykernel_39280/1038223605.py:19: RuntimeWarning: All-NaN slice encountered\n",
      "  max_amplitude = np.nanmax(data_matrix_mask, axis=1)\n",
      "/tmp/ipykernel_39280/1038223605.py:64: RuntimeWarning: divide by zero encountered in log10\n",
      "  snr = 10 * np.log10(signal_power / noise_power)\n"
     ]
    },
    {
     "name": "stdout",
     "output_type": "stream",
     "text": [
      "==========Event 38529711 done!==========\n"
     ]
    },
    {
     "name": "stderr",
     "output_type": "stream",
     "text": [
      "/tmp/ipykernel_39280/1038223605.py:19: RuntimeWarning: All-NaN slice encountered\n",
      "  max_amplitude = np.nanmax(data_matrix_mask, axis=1)\n",
      "/tmp/ipykernel_39280/1038223605.py:64: RuntimeWarning: divide by zero encountered in log10\n",
      "  snr = 10 * np.log10(signal_power / noise_power)\n"
     ]
    },
    {
     "name": "stdout",
     "output_type": "stream",
     "text": [
      "==========Event 38530047 done!==========\n"
     ]
    },
    {
     "name": "stderr",
     "output_type": "stream",
     "text": [
      "/tmp/ipykernel_39280/1038223605.py:19: RuntimeWarning: All-NaN slice encountered\n",
      "  max_amplitude = np.nanmax(data_matrix_mask, axis=1)\n",
      "/tmp/ipykernel_39280/1038223605.py:64: RuntimeWarning: divide by zero encountered in log10\n",
      "  snr = 10 * np.log10(signal_power / noise_power)\n"
     ]
    },
    {
     "name": "stdout",
     "output_type": "stream",
     "text": [
      "==========Event 38530495 done!==========\n"
     ]
    },
    {
     "name": "stderr",
     "output_type": "stream",
     "text": [
      "/tmp/ipykernel_39280/1038223605.py:19: RuntimeWarning: All-NaN slice encountered\n",
      "  max_amplitude = np.nanmax(data_matrix_mask, axis=1)\n",
      "/tmp/ipykernel_39280/1038223605.py:64: RuntimeWarning: divide by zero encountered in log10\n",
      "  snr = 10 * np.log10(signal_power / noise_power)\n"
     ]
    },
    {
     "name": "stdout",
     "output_type": "stream",
     "text": [
      "==========Event 38531487 done!==========\n",
      "ML picking 38531503 not found, skip...\n"
     ]
    },
    {
     "name": "stderr",
     "output_type": "stream",
     "text": [
      "/tmp/ipykernel_39280/1038223605.py:19: RuntimeWarning: All-NaN slice encountered\n",
      "  max_amplitude = np.nanmax(data_matrix_mask, axis=1)\n",
      "/tmp/ipykernel_39280/1038223605.py:64: RuntimeWarning: divide by zero encountered in log10\n",
      "  snr = 10 * np.log10(signal_power / noise_power)\n"
     ]
    },
    {
     "name": "stdout",
     "output_type": "stream",
     "text": [
      "==========Event 38531663 done!==========\n",
      "ML picking 38531775 not found, skip...\n"
     ]
    },
    {
     "name": "stderr",
     "output_type": "stream",
     "text": [
      "/tmp/ipykernel_39280/1038223605.py:19: RuntimeWarning: All-NaN slice encountered\n",
      "  max_amplitude = np.nanmax(data_matrix_mask, axis=1)\n",
      "/tmp/ipykernel_39280/1038223605.py:64: RuntimeWarning: divide by zero encountered in log10\n",
      "  snr = 10 * np.log10(signal_power / noise_power)\n"
     ]
    },
    {
     "name": "stdout",
     "output_type": "stream",
     "text": [
      "==========Event 38531903 done!==========\n"
     ]
    },
    {
     "name": "stderr",
     "output_type": "stream",
     "text": [
      "/tmp/ipykernel_39280/1038223605.py:19: RuntimeWarning: All-NaN slice encountered\n",
      "  max_amplitude = np.nanmax(data_matrix_mask, axis=1)\n",
      "/tmp/ipykernel_39280/1038223605.py:64: RuntimeWarning: divide by zero encountered in log10\n",
      "  snr = 10 * np.log10(signal_power / noise_power)\n"
     ]
    },
    {
     "name": "stdout",
     "output_type": "stream",
     "text": [
      "==========Event 38532079 done!==========\n"
     ]
    },
    {
     "name": "stderr",
     "output_type": "stream",
     "text": [
      "/tmp/ipykernel_39280/1038223605.py:19: RuntimeWarning: All-NaN slice encountered\n",
      "  max_amplitude = np.nanmax(data_matrix_mask, axis=1)\n",
      "/tmp/ipykernel_39280/1038223605.py:64: RuntimeWarning: divide by zero encountered in log10\n",
      "  snr = 10 * np.log10(signal_power / noise_power)\n"
     ]
    },
    {
     "name": "stdout",
     "output_type": "stream",
     "text": [
      "==========Event 38532479 done!==========\n"
     ]
    },
    {
     "name": "stderr",
     "output_type": "stream",
     "text": [
      "/tmp/ipykernel_39280/1038223605.py:19: RuntimeWarning: All-NaN slice encountered\n",
      "  max_amplitude = np.nanmax(data_matrix_mask, axis=1)\n",
      "/tmp/ipykernel_39280/1038223605.py:64: RuntimeWarning: divide by zero encountered in log10\n",
      "  snr = 10 * np.log10(signal_power / noise_power)\n"
     ]
    },
    {
     "name": "stdout",
     "output_type": "stream",
     "text": [
      "==========Event 38532487 done!==========\n"
     ]
    },
    {
     "name": "stderr",
     "output_type": "stream",
     "text": [
      "/tmp/ipykernel_39280/1038223605.py:19: RuntimeWarning: All-NaN slice encountered\n",
      "  max_amplitude = np.nanmax(data_matrix_mask, axis=1)\n"
     ]
    },
    {
     "name": "stdout",
     "output_type": "stream",
     "text": [
      "==========Event 38532975 done!==========\n"
     ]
    },
    {
     "name": "stderr",
     "output_type": "stream",
     "text": [
      "/tmp/ipykernel_39280/1038223605.py:19: RuntimeWarning: All-NaN slice encountered\n",
      "  max_amplitude = np.nanmax(data_matrix_mask, axis=1)\n",
      "/tmp/ipykernel_39280/1038223605.py:64: RuntimeWarning: divide by zero encountered in log10\n",
      "  snr = 10 * np.log10(signal_power / noise_power)\n"
     ]
    },
    {
     "name": "stdout",
     "output_type": "stream",
     "text": [
      "==========Event 38534255 done!==========\n",
      "ML picking 38534415 not found, skip...\n"
     ]
    },
    {
     "name": "stderr",
     "output_type": "stream",
     "text": [
      "/tmp/ipykernel_39280/1038223605.py:19: RuntimeWarning: All-NaN slice encountered\n",
      "  max_amplitude = np.nanmax(data_matrix_mask, axis=1)\n",
      "/tmp/ipykernel_39280/1038223605.py:64: RuntimeWarning: divide by zero encountered in log10\n",
      "  snr = 10 * np.log10(signal_power / noise_power)\n"
     ]
    },
    {
     "name": "stdout",
     "output_type": "stream",
     "text": [
      "==========Event 38534735 done!==========\n"
     ]
    },
    {
     "name": "stderr",
     "output_type": "stream",
     "text": [
      "/tmp/ipykernel_39280/1038223605.py:19: RuntimeWarning: All-NaN slice encountered\n",
      "  max_amplitude = np.nanmax(data_matrix_mask, axis=1)\n",
      "/tmp/ipykernel_39280/1038223605.py:64: RuntimeWarning: divide by zero encountered in log10\n",
      "  snr = 10 * np.log10(signal_power / noise_power)\n"
     ]
    },
    {
     "name": "stdout",
     "output_type": "stream",
     "text": [
      "==========Event 38535183 done!==========\n"
     ]
    },
    {
     "name": "stderr",
     "output_type": "stream",
     "text": [
      "/tmp/ipykernel_39280/1038223605.py:19: RuntimeWarning: All-NaN slice encountered\n",
      "  max_amplitude = np.nanmax(data_matrix_mask, axis=1)\n",
      "/tmp/ipykernel_39280/1038223605.py:64: RuntimeWarning: divide by zero encountered in log10\n",
      "  snr = 10 * np.log10(signal_power / noise_power)\n"
     ]
    },
    {
     "name": "stdout",
     "output_type": "stream",
     "text": [
      "==========Event 38538991 done!==========\n"
     ]
    },
    {
     "name": "stderr",
     "output_type": "stream",
     "text": [
      "/tmp/ipykernel_39280/1038223605.py:19: RuntimeWarning: All-NaN slice encountered\n",
      "  max_amplitude = np.nanmax(data_matrix_mask, axis=1)\n",
      "/tmp/ipykernel_39280/1038223605.py:64: RuntimeWarning: divide by zero encountered in log10\n",
      "  snr = 10 * np.log10(signal_power / noise_power)\n"
     ]
    },
    {
     "name": "stdout",
     "output_type": "stream",
     "text": [
      "==========Event 38539031 done!==========\n"
     ]
    },
    {
     "name": "stderr",
     "output_type": "stream",
     "text": [
      "/tmp/ipykernel_39280/1038223605.py:19: RuntimeWarning: All-NaN slice encountered\n",
      "  max_amplitude = np.nanmax(data_matrix_mask, axis=1)\n",
      "/tmp/ipykernel_39280/1038223605.py:64: RuntimeWarning: divide by zero encountered in log10\n",
      "  snr = 10 * np.log10(signal_power / noise_power)\n"
     ]
    },
    {
     "name": "stdout",
     "output_type": "stream",
     "text": [
      "==========Event 38539039 done!==========\n"
     ]
    },
    {
     "name": "stderr",
     "output_type": "stream",
     "text": [
      "/tmp/ipykernel_39280/1038223605.py:19: RuntimeWarning: All-NaN slice encountered\n",
      "  max_amplitude = np.nanmax(data_matrix_mask, axis=1)\n",
      "/tmp/ipykernel_39280/1038223605.py:64: RuntimeWarning: divide by zero encountered in log10\n",
      "  snr = 10 * np.log10(signal_power / noise_power)\n"
     ]
    },
    {
     "name": "stdout",
     "output_type": "stream",
     "text": [
      "==========Event 38539215 done!==========\n"
     ]
    },
    {
     "name": "stderr",
     "output_type": "stream",
     "text": [
      "/tmp/ipykernel_39280/1038223605.py:19: RuntimeWarning: All-NaN slice encountered\n",
      "  max_amplitude = np.nanmax(data_matrix_mask, axis=1)\n",
      "/tmp/ipykernel_39280/1038223605.py:64: RuntimeWarning: divide by zero encountered in log10\n",
      "  snr = 10 * np.log10(signal_power / noise_power)\n"
     ]
    },
    {
     "name": "stdout",
     "output_type": "stream",
     "text": [
      "==========Event 38540647 done!==========\n"
     ]
    },
    {
     "name": "stderr",
     "output_type": "stream",
     "text": [
      "/tmp/ipykernel_39280/1038223605.py:19: RuntimeWarning: All-NaN slice encountered\n",
      "  max_amplitude = np.nanmax(data_matrix_mask, axis=1)\n",
      "/tmp/ipykernel_39280/1038223605.py:64: RuntimeWarning: divide by zero encountered in log10\n",
      "  snr = 10 * np.log10(signal_power / noise_power)\n"
     ]
    },
    {
     "name": "stdout",
     "output_type": "stream",
     "text": [
      "==========Event 38541351 done!==========\n"
     ]
    },
    {
     "name": "stderr",
     "output_type": "stream",
     "text": [
      "/tmp/ipykernel_39280/1038223605.py:19: RuntimeWarning: All-NaN slice encountered\n",
      "  max_amplitude = np.nanmax(data_matrix_mask, axis=1)\n",
      "/tmp/ipykernel_39280/1038223605.py:64: RuntimeWarning: divide by zero encountered in log10\n",
      "  snr = 10 * np.log10(signal_power / noise_power)\n"
     ]
    },
    {
     "name": "stdout",
     "output_type": "stream",
     "text": [
      "==========Event 38541359 done!==========\n"
     ]
    },
    {
     "name": "stderr",
     "output_type": "stream",
     "text": [
      "/tmp/ipykernel_39280/1038223605.py:19: RuntimeWarning: All-NaN slice encountered\n",
      "  max_amplitude = np.nanmax(data_matrix_mask, axis=1)\n",
      "/tmp/ipykernel_39280/1038223605.py:64: RuntimeWarning: divide by zero encountered in log10\n",
      "  snr = 10 * np.log10(signal_power / noise_power)\n"
     ]
    },
    {
     "name": "stdout",
     "output_type": "stream",
     "text": [
      "==========Event 38541391 done!==========\n",
      "ML picking 38541743 not found, skip...\n"
     ]
    },
    {
     "name": "stderr",
     "output_type": "stream",
     "text": [
      "/tmp/ipykernel_39280/1038223605.py:19: RuntimeWarning: All-NaN slice encountered\n",
      "  max_amplitude = np.nanmax(data_matrix_mask, axis=1)\n",
      "/tmp/ipykernel_39280/1038223605.py:64: RuntimeWarning: divide by zero encountered in log10\n",
      "  snr = 10 * np.log10(signal_power / noise_power)\n"
     ]
    },
    {
     "name": "stdout",
     "output_type": "stream",
     "text": [
      "==========Event 38544311 done!==========\n"
     ]
    },
    {
     "name": "stderr",
     "output_type": "stream",
     "text": [
      "/tmp/ipykernel_39280/1038223605.py:19: RuntimeWarning: All-NaN slice encountered\n",
      "  max_amplitude = np.nanmax(data_matrix_mask, axis=1)\n"
     ]
    },
    {
     "name": "stdout",
     "output_type": "stream",
     "text": [
      "==========Event 38548295 done!==========\n",
      "ML picking 37266364 not found, skip...\n",
      "ML picking 37266372 not found, skip...\n"
     ]
    },
    {
     "name": "stderr",
     "output_type": "stream",
     "text": [
      "/tmp/ipykernel_39280/1038223605.py:19: RuntimeWarning: All-NaN slice encountered\n",
      "  max_amplitude = np.nanmax(data_matrix_mask, axis=1)\n",
      "/tmp/ipykernel_39280/1038223605.py:64: RuntimeWarning: divide by zero encountered in log10\n",
      "  snr = 10 * np.log10(signal_power / noise_power)\n"
     ]
    },
    {
     "name": "stdout",
     "output_type": "stream",
     "text": [
      "==========Event 38553255 done!==========\n"
     ]
    },
    {
     "name": "stderr",
     "output_type": "stream",
     "text": [
      "/tmp/ipykernel_39280/1038223605.py:19: RuntimeWarning: All-NaN slice encountered\n",
      "  max_amplitude = np.nanmax(data_matrix_mask, axis=1)\n"
     ]
    },
    {
     "name": "stdout",
     "output_type": "stream",
     "text": [
      "==========Event 38553919 done!==========\n"
     ]
    },
    {
     "name": "stderr",
     "output_type": "stream",
     "text": [
      "/tmp/ipykernel_39280/1038223605.py:19: RuntimeWarning: All-NaN slice encountered\n",
      "  max_amplitude = np.nanmax(data_matrix_mask, axis=1)\n",
      "/tmp/ipykernel_39280/1038223605.py:64: RuntimeWarning: divide by zero encountered in log10\n",
      "  snr = 10 * np.log10(signal_power / noise_power)\n"
     ]
    },
    {
     "name": "stdout",
     "output_type": "stream",
     "text": [
      "==========Event 38557895 done!==========\n"
     ]
    },
    {
     "name": "stderr",
     "output_type": "stream",
     "text": [
      "/tmp/ipykernel_39280/1038223605.py:19: RuntimeWarning: All-NaN slice encountered\n",
      "  max_amplitude = np.nanmax(data_matrix_mask, axis=1)\n",
      "/tmp/ipykernel_39280/1038223605.py:64: RuntimeWarning: divide by zero encountered in log10\n",
      "  snr = 10 * np.log10(signal_power / noise_power)\n"
     ]
    },
    {
     "name": "stdout",
     "output_type": "stream",
     "text": [
      "==========Event 38558295 done!==========\n",
      "ML picking 38558607 not found, skip...\n"
     ]
    },
    {
     "name": "stderr",
     "output_type": "stream",
     "text": [
      "/tmp/ipykernel_39280/1038223605.py:19: RuntimeWarning: All-NaN slice encountered\n",
      "  max_amplitude = np.nanmax(data_matrix_mask, axis=1)\n",
      "/tmp/ipykernel_39280/1038223605.py:64: RuntimeWarning: divide by zero encountered in log10\n",
      "  snr = 10 * np.log10(signal_power / noise_power)\n"
     ]
    },
    {
     "name": "stdout",
     "output_type": "stream",
     "text": [
      "==========Event 38559263 done!==========\n"
     ]
    },
    {
     "name": "stderr",
     "output_type": "stream",
     "text": [
      "/tmp/ipykernel_39280/1038223605.py:19: RuntimeWarning: All-NaN slice encountered\n",
      "  max_amplitude = np.nanmax(data_matrix_mask, axis=1)\n",
      "/tmp/ipykernel_39280/1038223605.py:64: RuntimeWarning: divide by zero encountered in log10\n",
      "  snr = 10 * np.log10(signal_power / noise_power)\n"
     ]
    },
    {
     "name": "stdout",
     "output_type": "stream",
     "text": [
      "==========Event 38559367 done!==========\n"
     ]
    },
    {
     "name": "stderr",
     "output_type": "stream",
     "text": [
      "/tmp/ipykernel_39280/1038223605.py:19: RuntimeWarning: All-NaN slice encountered\n",
      "  max_amplitude = np.nanmax(data_matrix_mask, axis=1)\n",
      "/tmp/ipykernel_39280/1038223605.py:64: RuntimeWarning: divide by zero encountered in log10\n",
      "  snr = 10 * np.log10(signal_power / noise_power)\n"
     ]
    },
    {
     "name": "stdout",
     "output_type": "stream",
     "text": [
      "==========Event 38560831 done!==========\n"
     ]
    },
    {
     "name": "stderr",
     "output_type": "stream",
     "text": [
      "/tmp/ipykernel_39280/1038223605.py:19: RuntimeWarning: All-NaN slice encountered\n",
      "  max_amplitude = np.nanmax(data_matrix_mask, axis=1)\n",
      "/tmp/ipykernel_39280/1038223605.py:64: RuntimeWarning: divide by zero encountered in log10\n",
      "  snr = 10 * np.log10(signal_power / noise_power)\n"
     ]
    },
    {
     "name": "stdout",
     "output_type": "stream",
     "text": [
      "==========Event 38561631 done!==========\n"
     ]
    },
    {
     "name": "stderr",
     "output_type": "stream",
     "text": [
      "/tmp/ipykernel_39280/1038223605.py:19: RuntimeWarning: All-NaN slice encountered\n",
      "  max_amplitude = np.nanmax(data_matrix_mask, axis=1)\n",
      "/tmp/ipykernel_39280/1038223605.py:64: RuntimeWarning: divide by zero encountered in log10\n",
      "  snr = 10 * np.log10(signal_power / noise_power)\n"
     ]
    },
    {
     "name": "stdout",
     "output_type": "stream",
     "text": [
      "==========Event 38561839 done!==========\n"
     ]
    },
    {
     "name": "stderr",
     "output_type": "stream",
     "text": [
      "/tmp/ipykernel_39280/1038223605.py:19: RuntimeWarning: All-NaN slice encountered\n",
      "  max_amplitude = np.nanmax(data_matrix_mask, axis=1)\n",
      "/tmp/ipykernel_39280/1038223605.py:64: RuntimeWarning: divide by zero encountered in log10\n",
      "  snr = 10 * np.log10(signal_power / noise_power)\n"
     ]
    },
    {
     "name": "stdout",
     "output_type": "stream",
     "text": [
      "==========Event 38561855 done!==========\n"
     ]
    },
    {
     "name": "stderr",
     "output_type": "stream",
     "text": [
      "/tmp/ipykernel_39280/1038223605.py:19: RuntimeWarning: All-NaN slice encountered\n",
      "  max_amplitude = np.nanmax(data_matrix_mask, axis=1)\n",
      "/tmp/ipykernel_39280/1038223605.py:64: RuntimeWarning: divide by zero encountered in log10\n",
      "  snr = 10 * np.log10(signal_power / noise_power)\n"
     ]
    },
    {
     "name": "stdout",
     "output_type": "stream",
     "text": [
      "==========Event 38563839 done!==========\n"
     ]
    },
    {
     "name": "stderr",
     "output_type": "stream",
     "text": [
      "/tmp/ipykernel_39280/1038223605.py:19: RuntimeWarning: All-NaN slice encountered\n",
      "  max_amplitude = np.nanmax(data_matrix_mask, axis=1)\n",
      "/tmp/ipykernel_39280/1038223605.py:64: RuntimeWarning: divide by zero encountered in log10\n",
      "  snr = 10 * np.log10(signal_power / noise_power)\n"
     ]
    },
    {
     "name": "stdout",
     "output_type": "stream",
     "text": [
      "==========Event 38564023 done!==========\n"
     ]
    },
    {
     "name": "stderr",
     "output_type": "stream",
     "text": [
      "/tmp/ipykernel_39280/1038223605.py:19: RuntimeWarning: All-NaN slice encountered\n",
      "  max_amplitude = np.nanmax(data_matrix_mask, axis=1)\n",
      "/tmp/ipykernel_39280/1038223605.py:64: RuntimeWarning: divide by zero encountered in log10\n",
      "  snr = 10 * np.log10(signal_power / noise_power)\n"
     ]
    },
    {
     "name": "stdout",
     "output_type": "stream",
     "text": [
      "==========Event 38564031 done!==========\n"
     ]
    },
    {
     "name": "stderr",
     "output_type": "stream",
     "text": [
      "/tmp/ipykernel_39280/1038223605.py:19: RuntimeWarning: All-NaN slice encountered\n",
      "  max_amplitude = np.nanmax(data_matrix_mask, axis=1)\n",
      "/tmp/ipykernel_39280/1038223605.py:64: RuntimeWarning: divide by zero encountered in log10\n",
      "  snr = 10 * np.log10(signal_power / noise_power)\n"
     ]
    },
    {
     "name": "stdout",
     "output_type": "stream",
     "text": [
      "==========Event 38565431 done!==========\n"
     ]
    },
    {
     "name": "stderr",
     "output_type": "stream",
     "text": [
      "/tmp/ipykernel_39280/1038223605.py:19: RuntimeWarning: All-NaN slice encountered\n",
      "  max_amplitude = np.nanmax(data_matrix_mask, axis=1)\n",
      "/tmp/ipykernel_39280/1038223605.py:64: RuntimeWarning: divide by zero encountered in log10\n",
      "  snr = 10 * np.log10(signal_power / noise_power)\n"
     ]
    },
    {
     "name": "stdout",
     "output_type": "stream",
     "text": [
      "==========Event 38565791 done!==========\n"
     ]
    },
    {
     "name": "stderr",
     "output_type": "stream",
     "text": [
      "/tmp/ipykernel_39280/1038223605.py:19: RuntimeWarning: All-NaN slice encountered\n",
      "  max_amplitude = np.nanmax(data_matrix_mask, axis=1)\n",
      "/tmp/ipykernel_39280/1038223605.py:64: RuntimeWarning: divide by zero encountered in log10\n",
      "  snr = 10 * np.log10(signal_power / noise_power)\n"
     ]
    },
    {
     "name": "stdout",
     "output_type": "stream",
     "text": [
      "==========Event 38565815 done!==========\n"
     ]
    },
    {
     "name": "stderr",
     "output_type": "stream",
     "text": [
      "/tmp/ipykernel_39280/1038223605.py:19: RuntimeWarning: All-NaN slice encountered\n",
      "  max_amplitude = np.nanmax(data_matrix_mask, axis=1)\n",
      "/tmp/ipykernel_39280/1038223605.py:64: RuntimeWarning: divide by zero encountered in log10\n",
      "  snr = 10 * np.log10(signal_power / noise_power)\n"
     ]
    },
    {
     "name": "stdout",
     "output_type": "stream",
     "text": [
      "==========Event 38566311 done!==========\n"
     ]
    },
    {
     "name": "stderr",
     "output_type": "stream",
     "text": [
      "/tmp/ipykernel_39280/1038223605.py:19: RuntimeWarning: All-NaN slice encountered\n",
      "  max_amplitude = np.nanmax(data_matrix_mask, axis=1)\n",
      "/tmp/ipykernel_39280/1038223605.py:64: RuntimeWarning: divide by zero encountered in log10\n",
      "  snr = 10 * np.log10(signal_power / noise_power)\n"
     ]
    },
    {
     "name": "stdout",
     "output_type": "stream",
     "text": [
      "==========Event 38568471 done!==========\n"
     ]
    },
    {
     "name": "stderr",
     "output_type": "stream",
     "text": [
      "/tmp/ipykernel_39280/1038223605.py:19: RuntimeWarning: All-NaN slice encountered\n",
      "  max_amplitude = np.nanmax(data_matrix_mask, axis=1)\n",
      "/tmp/ipykernel_39280/1038223605.py:64: RuntimeWarning: divide by zero encountered in log10\n",
      "  snr = 10 * np.log10(signal_power / noise_power)\n"
     ]
    },
    {
     "name": "stdout",
     "output_type": "stream",
     "text": [
      "==========Event 38569055 done!==========\n"
     ]
    },
    {
     "name": "stderr",
     "output_type": "stream",
     "text": [
      "/tmp/ipykernel_39280/1038223605.py:19: RuntimeWarning: All-NaN slice encountered\n",
      "  max_amplitude = np.nanmax(data_matrix_mask, axis=1)\n",
      "/tmp/ipykernel_39280/1038223605.py:64: RuntimeWarning: divide by zero encountered in log10\n",
      "  snr = 10 * np.log10(signal_power / noise_power)\n"
     ]
    },
    {
     "name": "stdout",
     "output_type": "stream",
     "text": [
      "==========Event 38570271 done!==========\n"
     ]
    },
    {
     "name": "stderr",
     "output_type": "stream",
     "text": [
      "/tmp/ipykernel_39280/1038223605.py:19: RuntimeWarning: All-NaN slice encountered\n",
      "  max_amplitude = np.nanmax(data_matrix_mask, axis=1)\n",
      "/tmp/ipykernel_39280/1038223605.py:64: RuntimeWarning: divide by zero encountered in log10\n",
      "  snr = 10 * np.log10(signal_power / noise_power)\n"
     ]
    },
    {
     "name": "stdout",
     "output_type": "stream",
     "text": [
      "==========Event 38570919 done!==========\n"
     ]
    },
    {
     "name": "stderr",
     "output_type": "stream",
     "text": [
      "/tmp/ipykernel_39280/1038223605.py:19: RuntimeWarning: All-NaN slice encountered\n",
      "  max_amplitude = np.nanmax(data_matrix_mask, axis=1)\n",
      "/tmp/ipykernel_39280/1038223605.py:64: RuntimeWarning: divide by zero encountered in log10\n",
      "  snr = 10 * np.log10(signal_power / noise_power)\n"
     ]
    },
    {
     "name": "stdout",
     "output_type": "stream",
     "text": [
      "==========Event 38571423 done!==========\n"
     ]
    },
    {
     "name": "stderr",
     "output_type": "stream",
     "text": [
      "/tmp/ipykernel_39280/1038223605.py:19: RuntimeWarning: All-NaN slice encountered\n",
      "  max_amplitude = np.nanmax(data_matrix_mask, axis=1)\n",
      "/tmp/ipykernel_39280/1038223605.py:64: RuntimeWarning: divide by zero encountered in log10\n",
      "  snr = 10 * np.log10(signal_power / noise_power)\n"
     ]
    },
    {
     "name": "stdout",
     "output_type": "stream",
     "text": [
      "==========Event 38572055 done!==========\n"
     ]
    },
    {
     "name": "stderr",
     "output_type": "stream",
     "text": [
      "/tmp/ipykernel_39280/1038223605.py:19: RuntimeWarning: All-NaN slice encountered\n",
      "  max_amplitude = np.nanmax(data_matrix_mask, axis=1)\n",
      "/tmp/ipykernel_39280/1038223605.py:64: RuntimeWarning: divide by zero encountered in log10\n",
      "  snr = 10 * np.log10(signal_power / noise_power)\n"
     ]
    },
    {
     "name": "stdout",
     "output_type": "stream",
     "text": [
      "==========Event 38574407 done!==========\n",
      "ML picking 38575455 not found, skip...\n"
     ]
    },
    {
     "name": "stderr",
     "output_type": "stream",
     "text": [
      "/tmp/ipykernel_39280/1038223605.py:19: RuntimeWarning: All-NaN slice encountered\n",
      "  max_amplitude = np.nanmax(data_matrix_mask, axis=1)\n",
      "/tmp/ipykernel_39280/1038223605.py:64: RuntimeWarning: divide by zero encountered in log10\n",
      "  snr = 10 * np.log10(signal_power / noise_power)\n"
     ]
    },
    {
     "name": "stdout",
     "output_type": "stream",
     "text": [
      "==========Event 38576223 done!==========\n"
     ]
    },
    {
     "name": "stderr",
     "output_type": "stream",
     "text": [
      "/tmp/ipykernel_39280/1038223605.py:19: RuntimeWarning: All-NaN slice encountered\n",
      "  max_amplitude = np.nanmax(data_matrix_mask, axis=1)\n",
      "/tmp/ipykernel_39280/1038223605.py:64: RuntimeWarning: divide by zero encountered in log10\n",
      "  snr = 10 * np.log10(signal_power / noise_power)\n"
     ]
    },
    {
     "name": "stdout",
     "output_type": "stream",
     "text": [
      "==========Event 38576311 done!==========\n",
      "ML picking 38577303 not found, skip...\n"
     ]
    },
    {
     "name": "stderr",
     "output_type": "stream",
     "text": [
      "/tmp/ipykernel_39280/1038223605.py:19: RuntimeWarning: All-NaN slice encountered\n",
      "  max_amplitude = np.nanmax(data_matrix_mask, axis=1)\n",
      "/tmp/ipykernel_39280/1038223605.py:64: RuntimeWarning: divide by zero encountered in log10\n",
      "  snr = 10 * np.log10(signal_power / noise_power)\n"
     ]
    },
    {
     "name": "stdout",
     "output_type": "stream",
     "text": [
      "==========Event 38577799 done!==========\n"
     ]
    },
    {
     "name": "stderr",
     "output_type": "stream",
     "text": [
      "/tmp/ipykernel_39280/1038223605.py:19: RuntimeWarning: All-NaN slice encountered\n",
      "  max_amplitude = np.nanmax(data_matrix_mask, axis=1)\n",
      "/tmp/ipykernel_39280/1038223605.py:64: RuntimeWarning: divide by zero encountered in log10\n",
      "  snr = 10 * np.log10(signal_power / noise_power)\n"
     ]
    },
    {
     "name": "stdout",
     "output_type": "stream",
     "text": [
      "==========Event 38577831 done!==========\n"
     ]
    },
    {
     "name": "stderr",
     "output_type": "stream",
     "text": [
      "/tmp/ipykernel_39280/1038223605.py:19: RuntimeWarning: All-NaN slice encountered\n",
      "  max_amplitude = np.nanmax(data_matrix_mask, axis=1)\n",
      "/tmp/ipykernel_39280/1038223605.py:64: RuntimeWarning: divide by zero encountered in log10\n",
      "  snr = 10 * np.log10(signal_power / noise_power)\n"
     ]
    },
    {
     "name": "stdout",
     "output_type": "stream",
     "text": [
      "==========Event 38578055 done!==========\n"
     ]
    },
    {
     "name": "stderr",
     "output_type": "stream",
     "text": [
      "/tmp/ipykernel_39280/1038223605.py:19: RuntimeWarning: All-NaN slice encountered\n",
      "  max_amplitude = np.nanmax(data_matrix_mask, axis=1)\n",
      "/tmp/ipykernel_39280/1038223605.py:64: RuntimeWarning: divide by zero encountered in log10\n",
      "  snr = 10 * np.log10(signal_power / noise_power)\n"
     ]
    },
    {
     "name": "stdout",
     "output_type": "stream",
     "text": [
      "==========Event 38578567 done!==========\n"
     ]
    },
    {
     "name": "stderr",
     "output_type": "stream",
     "text": [
      "/tmp/ipykernel_39280/1038223605.py:19: RuntimeWarning: All-NaN slice encountered\n",
      "  max_amplitude = np.nanmax(data_matrix_mask, axis=1)\n",
      "/tmp/ipykernel_39280/1038223605.py:64: RuntimeWarning: divide by zero encountered in log10\n",
      "  snr = 10 * np.log10(signal_power / noise_power)\n"
     ]
    },
    {
     "name": "stdout",
     "output_type": "stream",
     "text": [
      "==========Event 38580111 done!==========\n"
     ]
    },
    {
     "name": "stderr",
     "output_type": "stream",
     "text": [
      "/tmp/ipykernel_39280/1038223605.py:19: RuntimeWarning: All-NaN slice encountered\n",
      "  max_amplitude = np.nanmax(data_matrix_mask, axis=1)\n",
      "/tmp/ipykernel_39280/1038223605.py:64: RuntimeWarning: divide by zero encountered in log10\n",
      "  snr = 10 * np.log10(signal_power / noise_power)\n"
     ]
    },
    {
     "name": "stdout",
     "output_type": "stream",
     "text": [
      "==========Event 38580911 done!==========\n",
      "ML picking 38581455 not found, skip...\n"
     ]
    },
    {
     "name": "stderr",
     "output_type": "stream",
     "text": [
      "/tmp/ipykernel_39280/1038223605.py:19: RuntimeWarning: All-NaN slice encountered\n",
      "  max_amplitude = np.nanmax(data_matrix_mask, axis=1)\n",
      "/tmp/ipykernel_39280/1038223605.py:64: RuntimeWarning: divide by zero encountered in log10\n",
      "  snr = 10 * np.log10(signal_power / noise_power)\n"
     ]
    },
    {
     "name": "stdout",
     "output_type": "stream",
     "text": [
      "==========Event 38583335 done!==========\n",
      "ML picking 37421757 not found, skip...\n",
      "ML picking 38583551 not found, skip...\n"
     ]
    },
    {
     "name": "stderr",
     "output_type": "stream",
     "text": [
      "/tmp/ipykernel_39280/1038223605.py:19: RuntimeWarning: All-NaN slice encountered\n",
      "  max_amplitude = np.nanmax(data_matrix_mask, axis=1)\n",
      "/tmp/ipykernel_39280/1038223605.py:64: RuntimeWarning: divide by zero encountered in log10\n",
      "  snr = 10 * np.log10(signal_power / noise_power)\n"
     ]
    },
    {
     "name": "stdout",
     "output_type": "stream",
     "text": [
      "==========Event 38584607 done!==========\n"
     ]
    },
    {
     "name": "stderr",
     "output_type": "stream",
     "text": [
      "/tmp/ipykernel_39280/1038223605.py:19: RuntimeWarning: All-NaN slice encountered\n",
      "  max_amplitude = np.nanmax(data_matrix_mask, axis=1)\n",
      "/tmp/ipykernel_39280/1038223605.py:64: RuntimeWarning: divide by zero encountered in log10\n",
      "  snr = 10 * np.log10(signal_power / noise_power)\n"
     ]
    },
    {
     "name": "stdout",
     "output_type": "stream",
     "text": [
      "==========Event 38584855 done!==========\n"
     ]
    },
    {
     "name": "stderr",
     "output_type": "stream",
     "text": [
      "/tmp/ipykernel_39280/1038223605.py:19: RuntimeWarning: All-NaN slice encountered\n",
      "  max_amplitude = np.nanmax(data_matrix_mask, axis=1)\n",
      "/tmp/ipykernel_39280/1038223605.py:64: RuntimeWarning: divide by zero encountered in log10\n",
      "  snr = 10 * np.log10(signal_power / noise_power)\n"
     ]
    },
    {
     "name": "stdout",
     "output_type": "stream",
     "text": [
      "==========Event 38585023 done!==========\n",
      "ML picking 37267164 not found, skip...\n",
      "ML picking 38585055 not found, skip...\n",
      "ML picking 38585063 not found, skip...\n"
     ]
    },
    {
     "name": "stderr",
     "output_type": "stream",
     "text": [
      "/tmp/ipykernel_39280/1038223605.py:19: RuntimeWarning: All-NaN slice encountered\n",
      "  max_amplitude = np.nanmax(data_matrix_mask, axis=1)\n",
      "/tmp/ipykernel_39280/1038223605.py:64: RuntimeWarning: divide by zero encountered in log10\n",
      "  snr = 10 * np.log10(signal_power / noise_power)\n"
     ]
    },
    {
     "name": "stdout",
     "output_type": "stream",
     "text": [
      "==========Event 38585303 done!==========\n"
     ]
    },
    {
     "name": "stderr",
     "output_type": "stream",
     "text": [
      "/tmp/ipykernel_39280/1038223605.py:19: RuntimeWarning: All-NaN slice encountered\n",
      "  max_amplitude = np.nanmax(data_matrix_mask, axis=1)\n",
      "/tmp/ipykernel_39280/1038223605.py:64: RuntimeWarning: divide by zero encountered in log10\n",
      "  snr = 10 * np.log10(signal_power / noise_power)\n"
     ]
    },
    {
     "name": "stdout",
     "output_type": "stream",
     "text": [
      "==========Event 38585311 done!==========\n"
     ]
    },
    {
     "name": "stderr",
     "output_type": "stream",
     "text": [
      "/tmp/ipykernel_39280/1038223605.py:19: RuntimeWarning: All-NaN slice encountered\n",
      "  max_amplitude = np.nanmax(data_matrix_mask, axis=1)\n",
      "/tmp/ipykernel_39280/1038223605.py:64: RuntimeWarning: divide by zero encountered in log10\n",
      "  snr = 10 * np.log10(signal_power / noise_power)\n"
     ]
    },
    {
     "name": "stdout",
     "output_type": "stream",
     "text": [
      "==========Event 38586063 done!==========\n",
      "ML picking 38588455 not found, skip...\n"
     ]
    },
    {
     "name": "stderr",
     "output_type": "stream",
     "text": [
      "/tmp/ipykernel_39280/1038223605.py:19: RuntimeWarning: All-NaN slice encountered\n",
      "  max_amplitude = np.nanmax(data_matrix_mask, axis=1)\n",
      "/tmp/ipykernel_39280/1038223605.py:64: RuntimeWarning: divide by zero encountered in log10\n",
      "  snr = 10 * np.log10(signal_power / noise_power)\n"
     ]
    },
    {
     "name": "stdout",
     "output_type": "stream",
     "text": [
      "==========Event 38589175 done!==========\n"
     ]
    },
    {
     "name": "stderr",
     "output_type": "stream",
     "text": [
      "/tmp/ipykernel_39280/1038223605.py:19: RuntimeWarning: All-NaN slice encountered\n",
      "  max_amplitude = np.nanmax(data_matrix_mask, axis=1)\n",
      "/tmp/ipykernel_39280/1038223605.py:64: RuntimeWarning: divide by zero encountered in log10\n",
      "  snr = 10 * np.log10(signal_power / noise_power)\n"
     ]
    },
    {
     "name": "stdout",
     "output_type": "stream",
     "text": [
      "==========Event 38589287 done!==========\n"
     ]
    },
    {
     "name": "stderr",
     "output_type": "stream",
     "text": [
      "/tmp/ipykernel_39280/1038223605.py:19: RuntimeWarning: All-NaN slice encountered\n",
      "  max_amplitude = np.nanmax(data_matrix_mask, axis=1)\n",
      "/tmp/ipykernel_39280/1038223605.py:64: RuntimeWarning: divide by zero encountered in log10\n",
      "  snr = 10 * np.log10(signal_power / noise_power)\n"
     ]
    },
    {
     "name": "stdout",
     "output_type": "stream",
     "text": [
      "==========Event 38589319 done!==========\n"
     ]
    },
    {
     "name": "stderr",
     "output_type": "stream",
     "text": [
      "/tmp/ipykernel_39280/1038223605.py:19: RuntimeWarning: All-NaN slice encountered\n",
      "  max_amplitude = np.nanmax(data_matrix_mask, axis=1)\n",
      "/tmp/ipykernel_39280/1038223605.py:64: RuntimeWarning: divide by zero encountered in log10\n",
      "  snr = 10 * np.log10(signal_power / noise_power)\n"
     ]
    },
    {
     "name": "stdout",
     "output_type": "stream",
     "text": [
      "==========Event 37421821 done!==========\n"
     ]
    },
    {
     "name": "stderr",
     "output_type": "stream",
     "text": [
      "/tmp/ipykernel_39280/1038223605.py:19: RuntimeWarning: All-NaN slice encountered\n",
      "  max_amplitude = np.nanmax(data_matrix_mask, axis=1)\n",
      "/tmp/ipykernel_39280/1038223605.py:64: RuntimeWarning: divide by zero encountered in log10\n",
      "  snr = 10 * np.log10(signal_power / noise_power)\n"
     ]
    },
    {
     "name": "stdout",
     "output_type": "stream",
     "text": [
      "==========Event 38590903 done!==========\n"
     ]
    },
    {
     "name": "stderr",
     "output_type": "stream",
     "text": [
      "/tmp/ipykernel_39280/1038223605.py:19: RuntimeWarning: All-NaN slice encountered\n",
      "  max_amplitude = np.nanmax(data_matrix_mask, axis=1)\n",
      "/tmp/ipykernel_39280/1038223605.py:64: RuntimeWarning: divide by zero encountered in log10\n",
      "  snr = 10 * np.log10(signal_power / noise_power)\n"
     ]
    },
    {
     "name": "stdout",
     "output_type": "stream",
     "text": [
      "==========Event 38590983 done!==========\n",
      "DAS file 38591583 not found, skip...\n"
     ]
    },
    {
     "name": "stderr",
     "output_type": "stream",
     "text": [
      "/tmp/ipykernel_39280/1038223605.py:19: RuntimeWarning: All-NaN slice encountered\n",
      "  max_amplitude = np.nanmax(data_matrix_mask, axis=1)\n",
      "/tmp/ipykernel_39280/1038223605.py:64: RuntimeWarning: divide by zero encountered in log10\n",
      "  snr = 10 * np.log10(signal_power / noise_power)\n"
     ]
    },
    {
     "name": "stdout",
     "output_type": "stream",
     "text": [
      "==========Event 38591663 done!==========\n"
     ]
    },
    {
     "name": "stderr",
     "output_type": "stream",
     "text": [
      "/tmp/ipykernel_39280/1038223605.py:19: RuntimeWarning: All-NaN slice encountered\n",
      "  max_amplitude = np.nanmax(data_matrix_mask, axis=1)\n",
      "/tmp/ipykernel_39280/1038223605.py:64: RuntimeWarning: divide by zero encountered in log10\n",
      "  snr = 10 * np.log10(signal_power / noise_power)\n"
     ]
    },
    {
     "name": "stdout",
     "output_type": "stream",
     "text": [
      "==========Event 38591911 done!==========\n"
     ]
    },
    {
     "name": "stderr",
     "output_type": "stream",
     "text": [
      "/tmp/ipykernel_39280/1038223605.py:19: RuntimeWarning: All-NaN slice encountered\n",
      "  max_amplitude = np.nanmax(data_matrix_mask, axis=1)\n",
      "/tmp/ipykernel_39280/1038223605.py:64: RuntimeWarning: divide by zero encountered in log10\n",
      "  snr = 10 * np.log10(signal_power / noise_power)\n"
     ]
    },
    {
     "name": "stdout",
     "output_type": "stream",
     "text": [
      "==========Event 38593087 done!==========\n"
     ]
    },
    {
     "name": "stderr",
     "output_type": "stream",
     "text": [
      "/tmp/ipykernel_39280/1038223605.py:19: RuntimeWarning: All-NaN slice encountered\n",
      "  max_amplitude = np.nanmax(data_matrix_mask, axis=1)\n",
      "/tmp/ipykernel_39280/1038223605.py:64: RuntimeWarning: divide by zero encountered in log10\n",
      "  snr = 10 * np.log10(signal_power / noise_power)\n"
     ]
    },
    {
     "name": "stdout",
     "output_type": "stream",
     "text": [
      "==========Event 38593247 done!==========\n",
      "==========Event 38593535 done!==========\n",
      "ML picking 38593559 not found, skip...\n",
      "ML picking 38593567 not found, skip...\n"
     ]
    },
    {
     "name": "stderr",
     "output_type": "stream",
     "text": [
      "/tmp/ipykernel_39280/1038223605.py:19: RuntimeWarning: All-NaN slice encountered\n",
      "  max_amplitude = np.nanmax(data_matrix_mask, axis=1)\n",
      "/tmp/ipykernel_39280/1038223605.py:64: RuntimeWarning: divide by zero encountered in log10\n",
      "  snr = 10 * np.log10(signal_power / noise_power)\n"
     ]
    },
    {
     "name": "stdout",
     "output_type": "stream",
     "text": [
      "==========Event 38594055 done!==========\n"
     ]
    },
    {
     "name": "stderr",
     "output_type": "stream",
     "text": [
      "/tmp/ipykernel_39280/1038223605.py:19: RuntimeWarning: All-NaN slice encountered\n",
      "  max_amplitude = np.nanmax(data_matrix_mask, axis=1)\n",
      "/tmp/ipykernel_39280/1038223605.py:64: RuntimeWarning: divide by zero encountered in log10\n",
      "  snr = 10 * np.log10(signal_power / noise_power)\n"
     ]
    },
    {
     "name": "stdout",
     "output_type": "stream",
     "text": [
      "==========Event 38594383 done!==========\n",
      "ML picking 38595071 not found, skip...\n",
      "ML picking 38599327 not found, skip...\n"
     ]
    },
    {
     "name": "stderr",
     "output_type": "stream",
     "text": [
      "/tmp/ipykernel_39280/1038223605.py:19: RuntimeWarning: All-NaN slice encountered\n",
      "  max_amplitude = np.nanmax(data_matrix_mask, axis=1)\n",
      "/tmp/ipykernel_39280/1038223605.py:64: RuntimeWarning: divide by zero encountered in log10\n",
      "  snr = 10 * np.log10(signal_power / noise_power)\n"
     ]
    },
    {
     "name": "stdout",
     "output_type": "stream",
     "text": [
      "==========Event 38599935 done!==========\n",
      "ML picking 38600023 not found, skip...\n",
      "ML picking 38600815 not found, skip...\n",
      "ML picking 38602799 not found, skip...\n"
     ]
    },
    {
     "name": "stderr",
     "output_type": "stream",
     "text": [
      "/tmp/ipykernel_39280/1038223605.py:19: RuntimeWarning: All-NaN slice encountered\n",
      "  max_amplitude = np.nanmax(data_matrix_mask, axis=1)\n",
      "/tmp/ipykernel_39280/1038223605.py:64: RuntimeWarning: divide by zero encountered in log10\n",
      "  snr = 10 * np.log10(signal_power / noise_power)\n"
     ]
    },
    {
     "name": "stdout",
     "output_type": "stream",
     "text": [
      "==========Event 38603223 done!==========\n",
      "ML picking 38603871 not found, skip...\n"
     ]
    },
    {
     "name": "stderr",
     "output_type": "stream",
     "text": [
      "/tmp/ipykernel_39280/1038223605.py:19: RuntimeWarning: All-NaN slice encountered\n",
      "  max_amplitude = np.nanmax(data_matrix_mask, axis=1)\n",
      "/tmp/ipykernel_39280/1038223605.py:64: RuntimeWarning: divide by zero encountered in log10\n",
      "  snr = 10 * np.log10(signal_power / noise_power)\n"
     ]
    },
    {
     "name": "stdout",
     "output_type": "stream",
     "text": [
      "==========Event 38603967 done!==========\n",
      "ML picking 38604199 not found, skip...\n"
     ]
    },
    {
     "name": "stderr",
     "output_type": "stream",
     "text": [
      "/tmp/ipykernel_39280/1038223605.py:19: RuntimeWarning: All-NaN slice encountered\n",
      "  max_amplitude = np.nanmax(data_matrix_mask, axis=1)\n",
      "/tmp/ipykernel_39280/1038223605.py:64: RuntimeWarning: divide by zero encountered in log10\n",
      "  snr = 10 * np.log10(signal_power / noise_power)\n"
     ]
    },
    {
     "name": "stdout",
     "output_type": "stream",
     "text": [
      "==========Event 38605023 done!==========\n"
     ]
    },
    {
     "name": "stderr",
     "output_type": "stream",
     "text": [
      "/tmp/ipykernel_39280/1038223605.py:19: RuntimeWarning: All-NaN slice encountered\n",
      "  max_amplitude = np.nanmax(data_matrix_mask, axis=1)\n",
      "/tmp/ipykernel_39280/1038223605.py:64: RuntimeWarning: divide by zero encountered in log10\n",
      "  snr = 10 * np.log10(signal_power / noise_power)\n"
     ]
    },
    {
     "name": "stdout",
     "output_type": "stream",
     "text": [
      "==========Event 38606951 done!==========\n"
     ]
    },
    {
     "name": "stderr",
     "output_type": "stream",
     "text": [
      "/tmp/ipykernel_39280/1038223605.py:19: RuntimeWarning: All-NaN slice encountered\n",
      "  max_amplitude = np.nanmax(data_matrix_mask, axis=1)\n",
      "/tmp/ipykernel_39280/1038223605.py:64: RuntimeWarning: divide by zero encountered in log10\n",
      "  snr = 10 * np.log10(signal_power / noise_power)\n"
     ]
    },
    {
     "name": "stdout",
     "output_type": "stream",
     "text": [
      "==========Event 38607695 done!==========\n"
     ]
    },
    {
     "name": "stderr",
     "output_type": "stream",
     "text": [
      "/tmp/ipykernel_39280/1038223605.py:19: RuntimeWarning: All-NaN slice encountered\n",
      "  max_amplitude = np.nanmax(data_matrix_mask, axis=1)\n",
      "/tmp/ipykernel_39280/1038223605.py:64: RuntimeWarning: divide by zero encountered in log10\n",
      "  snr = 10 * np.log10(signal_power / noise_power)\n"
     ]
    },
    {
     "name": "stdout",
     "output_type": "stream",
     "text": [
      "==========Event 38612055 done!==========\n"
     ]
    },
    {
     "name": "stderr",
     "output_type": "stream",
     "text": [
      "/tmp/ipykernel_39280/1038223605.py:19: RuntimeWarning: All-NaN slice encountered\n",
      "  max_amplitude = np.nanmax(data_matrix_mask, axis=1)\n",
      "/tmp/ipykernel_39280/1038223605.py:64: RuntimeWarning: divide by zero encountered in log10\n",
      "  snr = 10 * np.log10(signal_power / noise_power)\n"
     ]
    },
    {
     "name": "stdout",
     "output_type": "stream",
     "text": [
      "==========Event 38612295 done!==========\n"
     ]
    },
    {
     "name": "stderr",
     "output_type": "stream",
     "text": [
      "/tmp/ipykernel_39280/1038223605.py:19: RuntimeWarning: All-NaN slice encountered\n",
      "  max_amplitude = np.nanmax(data_matrix_mask, axis=1)\n",
      "/tmp/ipykernel_39280/1038223605.py:64: RuntimeWarning: divide by zero encountered in log10\n",
      "  snr = 10 * np.log10(signal_power / noise_power)\n"
     ]
    },
    {
     "name": "stdout",
     "output_type": "stream",
     "text": [
      "==========Event 38613055 done!==========\n"
     ]
    },
    {
     "name": "stderr",
     "output_type": "stream",
     "text": [
      "/tmp/ipykernel_39280/1038223605.py:19: RuntimeWarning: All-NaN slice encountered\n",
      "  max_amplitude = np.nanmax(data_matrix_mask, axis=1)\n",
      "/tmp/ipykernel_39280/1038223605.py:64: RuntimeWarning: divide by zero encountered in log10\n",
      "  snr = 10 * np.log10(signal_power / noise_power)\n"
     ]
    },
    {
     "name": "stdout",
     "output_type": "stream",
     "text": [
      "==========Event 38613175 done!==========\n"
     ]
    },
    {
     "name": "stderr",
     "output_type": "stream",
     "text": [
      "/tmp/ipykernel_39280/1038223605.py:19: RuntimeWarning: All-NaN slice encountered\n",
      "  max_amplitude = np.nanmax(data_matrix_mask, axis=1)\n",
      "/tmp/ipykernel_39280/1038223605.py:64: RuntimeWarning: divide by zero encountered in log10\n",
      "  snr = 10 * np.log10(signal_power / noise_power)\n"
     ]
    },
    {
     "name": "stdout",
     "output_type": "stream",
     "text": [
      "==========Event 38614407 done!==========\n"
     ]
    },
    {
     "name": "stderr",
     "output_type": "stream",
     "text": [
      "/tmp/ipykernel_39280/1038223605.py:19: RuntimeWarning: All-NaN slice encountered\n",
      "  max_amplitude = np.nanmax(data_matrix_mask, axis=1)\n",
      "/tmp/ipykernel_39280/1038223605.py:64: RuntimeWarning: divide by zero encountered in log10\n",
      "  snr = 10 * np.log10(signal_power / noise_power)\n"
     ]
    },
    {
     "name": "stdout",
     "output_type": "stream",
     "text": [
      "==========Event 38614479 done!==========\n"
     ]
    },
    {
     "name": "stderr",
     "output_type": "stream",
     "text": [
      "/tmp/ipykernel_39280/1038223605.py:19: RuntimeWarning: All-NaN slice encountered\n",
      "  max_amplitude = np.nanmax(data_matrix_mask, axis=1)\n",
      "/tmp/ipykernel_39280/1038223605.py:64: RuntimeWarning: divide by zero encountered in log10\n",
      "  snr = 10 * np.log10(signal_power / noise_power)\n"
     ]
    },
    {
     "name": "stdout",
     "output_type": "stream",
     "text": [
      "==========Event 38615255 done!==========\n"
     ]
    },
    {
     "name": "stderr",
     "output_type": "stream",
     "text": [
      "/tmp/ipykernel_39280/1038223605.py:19: RuntimeWarning: All-NaN slice encountered\n",
      "  max_amplitude = np.nanmax(data_matrix_mask, axis=1)\n",
      "/tmp/ipykernel_39280/1038223605.py:64: RuntimeWarning: divide by zero encountered in log10\n",
      "  snr = 10 * np.log10(signal_power / noise_power)\n"
     ]
    },
    {
     "name": "stdout",
     "output_type": "stream",
     "text": [
      "==========Event 38616607 done!==========\n"
     ]
    },
    {
     "name": "stderr",
     "output_type": "stream",
     "text": [
      "/tmp/ipykernel_39280/1038223605.py:19: RuntimeWarning: All-NaN slice encountered\n",
      "  max_amplitude = np.nanmax(data_matrix_mask, axis=1)\n",
      "/tmp/ipykernel_39280/1038223605.py:64: RuntimeWarning: divide by zero encountered in log10\n",
      "  snr = 10 * np.log10(signal_power / noise_power)\n"
     ]
    },
    {
     "name": "stdout",
     "output_type": "stream",
     "text": [
      "==========Event 38616919 done!==========\n"
     ]
    },
    {
     "name": "stderr",
     "output_type": "stream",
     "text": [
      "/tmp/ipykernel_39280/1038223605.py:19: RuntimeWarning: All-NaN slice encountered\n",
      "  max_amplitude = np.nanmax(data_matrix_mask, axis=1)\n",
      "/tmp/ipykernel_39280/1038223605.py:64: RuntimeWarning: divide by zero encountered in log10\n",
      "  snr = 10 * np.log10(signal_power / noise_power)\n"
     ]
    },
    {
     "name": "stdout",
     "output_type": "stream",
     "text": [
      "==========Event 38618447 done!==========\n"
     ]
    },
    {
     "name": "stderr",
     "output_type": "stream",
     "text": [
      "/tmp/ipykernel_39280/1038223605.py:19: RuntimeWarning: All-NaN slice encountered\n",
      "  max_amplitude = np.nanmax(data_matrix_mask, axis=1)\n",
      "/tmp/ipykernel_39280/1038223605.py:64: RuntimeWarning: divide by zero encountered in log10\n",
      "  snr = 10 * np.log10(signal_power / noise_power)\n"
     ]
    },
    {
     "name": "stdout",
     "output_type": "stream",
     "text": [
      "==========Event 38622679 done!==========\n",
      "ML picking 38624623 not found, skip...\n"
     ]
    },
    {
     "name": "stderr",
     "output_type": "stream",
     "text": [
      "/tmp/ipykernel_39280/1038223605.py:19: RuntimeWarning: All-NaN slice encountered\n",
      "  max_amplitude = np.nanmax(data_matrix_mask, axis=1)\n",
      "/tmp/ipykernel_39280/1038223605.py:64: RuntimeWarning: divide by zero encountered in log10\n",
      "  snr = 10 * np.log10(signal_power / noise_power)\n"
     ]
    },
    {
     "name": "stdout",
     "output_type": "stream",
     "text": [
      "==========Event 38625223 done!==========\n"
     ]
    },
    {
     "name": "stderr",
     "output_type": "stream",
     "text": [
      "/tmp/ipykernel_39280/1038223605.py:19: RuntimeWarning: All-NaN slice encountered\n",
      "  max_amplitude = np.nanmax(data_matrix_mask, axis=1)\n",
      "/tmp/ipykernel_39280/1038223605.py:64: RuntimeWarning: divide by zero encountered in log10\n",
      "  snr = 10 * np.log10(signal_power / noise_power)\n"
     ]
    },
    {
     "name": "stdout",
     "output_type": "stream",
     "text": [
      "==========Event 37480781 done!==========\n"
     ]
    },
    {
     "name": "stderr",
     "output_type": "stream",
     "text": [
      "/tmp/ipykernel_39280/1038223605.py:19: RuntimeWarning: All-NaN slice encountered\n",
      "  max_amplitude = np.nanmax(data_matrix_mask, axis=1)\n",
      "/tmp/ipykernel_39280/1038223605.py:64: RuntimeWarning: divide by zero encountered in log10\n",
      "  snr = 10 * np.log10(signal_power / noise_power)\n"
     ]
    },
    {
     "name": "stdout",
     "output_type": "stream",
     "text": [
      "==========Event 38627095 done!==========\n"
     ]
    },
    {
     "name": "stderr",
     "output_type": "stream",
     "text": [
      "/tmp/ipykernel_39280/1038223605.py:19: RuntimeWarning: All-NaN slice encountered\n",
      "  max_amplitude = np.nanmax(data_matrix_mask, axis=1)\n",
      "/tmp/ipykernel_39280/1038223605.py:64: RuntimeWarning: divide by zero encountered in log10\n",
      "  snr = 10 * np.log10(signal_power / noise_power)\n"
     ]
    },
    {
     "name": "stdout",
     "output_type": "stream",
     "text": [
      "==========Event 38628799 done!==========\n"
     ]
    },
    {
     "name": "stderr",
     "output_type": "stream",
     "text": [
      "/tmp/ipykernel_39280/1038223605.py:19: RuntimeWarning: All-NaN slice encountered\n",
      "  max_amplitude = np.nanmax(data_matrix_mask, axis=1)\n",
      "/tmp/ipykernel_39280/1038223605.py:64: RuntimeWarning: divide by zero encountered in log10\n",
      "  snr = 10 * np.log10(signal_power / noise_power)\n"
     ]
    },
    {
     "name": "stdout",
     "output_type": "stream",
     "text": [
      "==========Event 38632759 done!==========\n",
      "ML picking 38634911 not found, skip...\n"
     ]
    },
    {
     "name": "stderr",
     "output_type": "stream",
     "text": [
      "/tmp/ipykernel_39280/1038223605.py:19: RuntimeWarning: All-NaN slice encountered\n",
      "  max_amplitude = np.nanmax(data_matrix_mask, axis=1)\n",
      "/tmp/ipykernel_39280/1038223605.py:64: RuntimeWarning: divide by zero encountered in log10\n",
      "  snr = 10 * np.log10(signal_power / noise_power)\n"
     ]
    },
    {
     "name": "stdout",
     "output_type": "stream",
     "text": [
      "==========Event 38636511 done!==========\n",
      "ML picking 38638455 not found, skip...\n",
      "ML picking 38640343 not found, skip...\n",
      "==========Event 38644943 done!==========\n",
      "DAS file 38644983 not found, skip...\n"
     ]
    },
    {
     "name": "stderr",
     "output_type": "stream",
     "text": [
      "/tmp/ipykernel_39280/1038223605.py:19: RuntimeWarning: All-NaN slice encountered\n",
      "  max_amplitude = np.nanmax(data_matrix_mask, axis=1)\n",
      "/tmp/ipykernel_39280/1038223605.py:64: RuntimeWarning: divide by zero encountered in log10\n",
      "  snr = 10 * np.log10(signal_power / noise_power)\n"
     ]
    },
    {
     "name": "stdout",
     "output_type": "stream",
     "text": [
      "==========Event 38645087 done!==========\n"
     ]
    },
    {
     "name": "stderr",
     "output_type": "stream",
     "text": [
      "/tmp/ipykernel_39280/1038223605.py:19: RuntimeWarning: All-NaN slice encountered\n",
      "  max_amplitude = np.nanmax(data_matrix_mask, axis=1)\n",
      "/tmp/ipykernel_39280/1038223605.py:64: RuntimeWarning: divide by zero encountered in log10\n",
      "  snr = 10 * np.log10(signal_power / noise_power)\n"
     ]
    },
    {
     "name": "stdout",
     "output_type": "stream",
     "text": [
      "==========Event 38645471 done!==========\n",
      "ML picking 38646639 not found, skip...\n"
     ]
    },
    {
     "name": "stderr",
     "output_type": "stream",
     "text": [
      "/tmp/ipykernel_39280/1038223605.py:19: RuntimeWarning: All-NaN slice encountered\n",
      "  max_amplitude = np.nanmax(data_matrix_mask, axis=1)\n",
      "/tmp/ipykernel_39280/1038223605.py:64: RuntimeWarning: divide by zero encountered in log10\n",
      "  snr = 10 * np.log10(signal_power / noise_power)\n"
     ]
    },
    {
     "name": "stdout",
     "output_type": "stream",
     "text": [
      "==========Event 38647543 done!==========\n"
     ]
    },
    {
     "name": "stderr",
     "output_type": "stream",
     "text": [
      "/tmp/ipykernel_39280/1038223605.py:19: RuntimeWarning: All-NaN slice encountered\n",
      "  max_amplitude = np.nanmax(data_matrix_mask, axis=1)\n",
      "/tmp/ipykernel_39280/1038223605.py:64: RuntimeWarning: divide by zero encountered in log10\n",
      "  snr = 10 * np.log10(signal_power / noise_power)\n"
     ]
    },
    {
     "name": "stdout",
     "output_type": "stream",
     "text": [
      "==========Event 38652167 done!==========\n"
     ]
    },
    {
     "name": "stderr",
     "output_type": "stream",
     "text": [
      "/tmp/ipykernel_39280/1038223605.py:19: RuntimeWarning: All-NaN slice encountered\n",
      "  max_amplitude = np.nanmax(data_matrix_mask, axis=1)\n",
      "/tmp/ipykernel_39280/1038223605.py:64: RuntimeWarning: divide by zero encountered in log10\n",
      "  snr = 10 * np.log10(signal_power / noise_power)\n"
     ]
    },
    {
     "name": "stdout",
     "output_type": "stream",
     "text": [
      "==========Event 38653975 done!==========\n"
     ]
    },
    {
     "name": "stderr",
     "output_type": "stream",
     "text": [
      "/tmp/ipykernel_39280/1038223605.py:19: RuntimeWarning: All-NaN slice encountered\n",
      "  max_amplitude = np.nanmax(data_matrix_mask, axis=1)\n",
      "/tmp/ipykernel_39280/1038223605.py:64: RuntimeWarning: divide by zero encountered in log10\n",
      "  snr = 10 * np.log10(signal_power / noise_power)\n"
     ]
    },
    {
     "name": "stdout",
     "output_type": "stream",
     "text": [
      "==========Event 38656719 done!==========\n"
     ]
    },
    {
     "name": "stderr",
     "output_type": "stream",
     "text": [
      "/tmp/ipykernel_39280/1038223605.py:19: RuntimeWarning: All-NaN slice encountered\n",
      "  max_amplitude = np.nanmax(data_matrix_mask, axis=1)\n",
      "/tmp/ipykernel_39280/1038223605.py:64: RuntimeWarning: divide by zero encountered in log10\n",
      "  snr = 10 * np.log10(signal_power / noise_power)\n"
     ]
    },
    {
     "name": "stdout",
     "output_type": "stream",
     "text": [
      "==========Event 38668479 done!==========\n"
     ]
    },
    {
     "name": "stderr",
     "output_type": "stream",
     "text": [
      "/tmp/ipykernel_39280/1038223605.py:19: RuntimeWarning: All-NaN slice encountered\n",
      "  max_amplitude = np.nanmax(data_matrix_mask, axis=1)\n",
      "/tmp/ipykernel_39280/1038223605.py:64: RuntimeWarning: divide by zero encountered in log10\n",
      "  snr = 10 * np.log10(signal_power / noise_power)\n"
     ]
    },
    {
     "name": "stdout",
     "output_type": "stream",
     "text": [
      "==========Event 38668511 done!==========\n"
     ]
    },
    {
     "name": "stderr",
     "output_type": "stream",
     "text": [
      "/tmp/ipykernel_39280/1038223605.py:19: RuntimeWarning: All-NaN slice encountered\n",
      "  max_amplitude = np.nanmax(data_matrix_mask, axis=1)\n",
      "/tmp/ipykernel_39280/1038223605.py:64: RuntimeWarning: divide by zero encountered in log10\n",
      "  snr = 10 * np.log10(signal_power / noise_power)\n"
     ]
    },
    {
     "name": "stdout",
     "output_type": "stream",
     "text": [
      "==========Event 38669279 done!==========\n"
     ]
    },
    {
     "name": "stderr",
     "output_type": "stream",
     "text": [
      "/tmp/ipykernel_39280/1038223605.py:19: RuntimeWarning: All-NaN slice encountered\n",
      "  max_amplitude = np.nanmax(data_matrix_mask, axis=1)\n",
      "/tmp/ipykernel_39280/1038223605.py:64: RuntimeWarning: divide by zero encountered in log10\n",
      "  snr = 10 * np.log10(signal_power / noise_power)\n"
     ]
    },
    {
     "name": "stdout",
     "output_type": "stream",
     "text": [
      "==========Event 38672303 done!==========\n",
      "ML picking 38678639 not found, skip...\n"
     ]
    },
    {
     "name": "stderr",
     "output_type": "stream",
     "text": [
      "/tmp/ipykernel_39280/1038223605.py:19: RuntimeWarning: All-NaN slice encountered\n",
      "  max_amplitude = np.nanmax(data_matrix_mask, axis=1)\n",
      "/tmp/ipykernel_39280/1038223605.py:64: RuntimeWarning: divide by zero encountered in log10\n",
      "  snr = 10 * np.log10(signal_power / noise_power)\n"
     ]
    },
    {
     "name": "stdout",
     "output_type": "stream",
     "text": [
      "==========Event 38679775 done!==========\n"
     ]
    },
    {
     "name": "stderr",
     "output_type": "stream",
     "text": [
      "/tmp/ipykernel_39280/1038223605.py:19: RuntimeWarning: All-NaN slice encountered\n",
      "  max_amplitude = np.nanmax(data_matrix_mask, axis=1)\n",
      "/tmp/ipykernel_39280/1038223605.py:64: RuntimeWarning: divide by zero encountered in log10\n",
      "  snr = 10 * np.log10(signal_power / noise_power)\n"
     ]
    },
    {
     "name": "stdout",
     "output_type": "stream",
     "text": [
      "==========Event 38683903 done!==========\n"
     ]
    },
    {
     "name": "stderr",
     "output_type": "stream",
     "text": [
      "/tmp/ipykernel_39280/1038223605.py:19: RuntimeWarning: All-NaN slice encountered\n",
      "  max_amplitude = np.nanmax(data_matrix_mask, axis=1)\n",
      "/tmp/ipykernel_39280/1038223605.py:64: RuntimeWarning: divide by zero encountered in log10\n",
      "  snr = 10 * np.log10(signal_power / noise_power)\n"
     ]
    },
    {
     "name": "stdout",
     "output_type": "stream",
     "text": [
      "==========Event 38684415 done!==========\n",
      "ML picking 38690607 not found, skip...\n"
     ]
    },
    {
     "name": "stderr",
     "output_type": "stream",
     "text": [
      "/tmp/ipykernel_39280/1038223605.py:19: RuntimeWarning: All-NaN slice encountered\n",
      "  max_amplitude = np.nanmax(data_matrix_mask, axis=1)\n",
      "/tmp/ipykernel_39280/1038223605.py:64: RuntimeWarning: divide by zero encountered in log10\n",
      "  snr = 10 * np.log10(signal_power / noise_power)\n"
     ]
    },
    {
     "name": "stdout",
     "output_type": "stream",
     "text": [
      "==========Event 38692783 done!==========\n"
     ]
    },
    {
     "name": "stderr",
     "output_type": "stream",
     "text": [
      "/tmp/ipykernel_39280/1038223605.py:19: RuntimeWarning: All-NaN slice encountered\n",
      "  max_amplitude = np.nanmax(data_matrix_mask, axis=1)\n",
      "/tmp/ipykernel_39280/1038223605.py:64: RuntimeWarning: divide by zero encountered in log10\n",
      "  snr = 10 * np.log10(signal_power / noise_power)\n"
     ]
    },
    {
     "name": "stdout",
     "output_type": "stream",
     "text": [
      "==========Event 38702143 done!==========\n",
      "ML picking 38946464 not found, skip...\n"
     ]
    },
    {
     "name": "stderr",
     "output_type": "stream",
     "text": [
      "/tmp/ipykernel_39280/1038223605.py:19: RuntimeWarning: All-NaN slice encountered\n",
      "  max_amplitude = np.nanmax(data_matrix_mask, axis=1)\n",
      "/tmp/ipykernel_39280/1038223605.py:64: RuntimeWarning: divide by zero encountered in log10\n",
      "  snr = 10 * np.log10(signal_power / noise_power)\n"
     ]
    },
    {
     "name": "stdout",
     "output_type": "stream",
     "text": [
      "==========Event 38949408 done!==========\n"
     ]
    },
    {
     "name": "stderr",
     "output_type": "stream",
     "text": [
      "/tmp/ipykernel_39280/1038223605.py:19: RuntimeWarning: All-NaN slice encountered\n",
      "  max_amplitude = np.nanmax(data_matrix_mask, axis=1)\n",
      "/tmp/ipykernel_39280/1038223605.py:64: RuntimeWarning: divide by zero encountered in log10\n",
      "  snr = 10 * np.log10(signal_power / noise_power)\n"
     ]
    },
    {
     "name": "stdout",
     "output_type": "stream",
     "text": [
      "==========Event 38953824 done!==========\n"
     ]
    },
    {
     "name": "stderr",
     "output_type": "stream",
     "text": [
      "/tmp/ipykernel_39280/1038223605.py:19: RuntimeWarning: All-NaN slice encountered\n",
      "  max_amplitude = np.nanmax(data_matrix_mask, axis=1)\n",
      "/tmp/ipykernel_39280/1038223605.py:64: RuntimeWarning: divide by zero encountered in log10\n",
      "  snr = 10 * np.log10(signal_power / noise_power)\n"
     ]
    },
    {
     "name": "stdout",
     "output_type": "stream",
     "text": [
      "==========Event 38956352 done!==========\n"
     ]
    },
    {
     "name": "stderr",
     "output_type": "stream",
     "text": [
      "/tmp/ipykernel_39280/1038223605.py:19: RuntimeWarning: All-NaN slice encountered\n",
      "  max_amplitude = np.nanmax(data_matrix_mask, axis=1)\n",
      "/tmp/ipykernel_39280/1038223605.py:64: RuntimeWarning: divide by zero encountered in log10\n",
      "  snr = 10 * np.log10(signal_power / noise_power)\n"
     ]
    },
    {
     "name": "stdout",
     "output_type": "stream",
     "text": [
      "==========Event 38966824 done!==========\n"
     ]
    },
    {
     "name": "stderr",
     "output_type": "stream",
     "text": [
      "/tmp/ipykernel_39280/1038223605.py:19: RuntimeWarning: All-NaN slice encountered\n",
      "  max_amplitude = np.nanmax(data_matrix_mask, axis=1)\n",
      "/tmp/ipykernel_39280/1038223605.py:64: RuntimeWarning: divide by zero encountered in log10\n",
      "  snr = 10 * np.log10(signal_power / noise_power)\n"
     ]
    },
    {
     "name": "stdout",
     "output_type": "stream",
     "text": [
      "==========Event 38969080 done!==========\n"
     ]
    },
    {
     "name": "stderr",
     "output_type": "stream",
     "text": [
      "/tmp/ipykernel_39280/1038223605.py:19: RuntimeWarning: All-NaN slice encountered\n",
      "  max_amplitude = np.nanmax(data_matrix_mask, axis=1)\n",
      "/tmp/ipykernel_39280/1038223605.py:64: RuntimeWarning: divide by zero encountered in log10\n",
      "  snr = 10 * np.log10(signal_power / noise_power)\n"
     ]
    },
    {
     "name": "stdout",
     "output_type": "stream",
     "text": [
      "==========Event 38969336 done!==========\n",
      "ML picking 38969456 not found, skip...\n"
     ]
    },
    {
     "name": "stderr",
     "output_type": "stream",
     "text": [
      "/tmp/ipykernel_39280/1038223605.py:19: RuntimeWarning: All-NaN slice encountered\n",
      "  max_amplitude = np.nanmax(data_matrix_mask, axis=1)\n",
      "/tmp/ipykernel_39280/1038223605.py:64: RuntimeWarning: divide by zero encountered in log10\n",
      "  snr = 10 * np.log10(signal_power / noise_power)\n"
     ]
    },
    {
     "name": "stdout",
     "output_type": "stream",
     "text": [
      "==========Event 38971232 done!==========\n"
     ]
    },
    {
     "name": "stderr",
     "output_type": "stream",
     "text": [
      "/tmp/ipykernel_39280/1038223605.py:19: RuntimeWarning: All-NaN slice encountered\n",
      "  max_amplitude = np.nanmax(data_matrix_mask, axis=1)\n",
      "/tmp/ipykernel_39280/1038223605.py:64: RuntimeWarning: divide by zero encountered in log10\n",
      "  snr = 10 * np.log10(signal_power / noise_power)\n"
     ]
    },
    {
     "name": "stdout",
     "output_type": "stream",
     "text": [
      "==========Event 38973744 done!==========\n",
      "ML picking 38974200 not found, skip...\n"
     ]
    },
    {
     "name": "stderr",
     "output_type": "stream",
     "text": [
      "/tmp/ipykernel_39280/1038223605.py:19: RuntimeWarning: All-NaN slice encountered\n",
      "  max_amplitude = np.nanmax(data_matrix_mask, axis=1)\n",
      "/tmp/ipykernel_39280/1038223605.py:64: RuntimeWarning: divide by zero encountered in log10\n",
      "  snr = 10 * np.log10(signal_power / noise_power)\n"
     ]
    },
    {
     "name": "stdout",
     "output_type": "stream",
     "text": [
      "==========Event 38978512 done!==========\n",
      "ML picking 38981040 not found, skip...\n",
      "ML picking 38982296 not found, skip...\n"
     ]
    },
    {
     "name": "stderr",
     "output_type": "stream",
     "text": [
      "/tmp/ipykernel_39280/1038223605.py:19: RuntimeWarning: All-NaN slice encountered\n",
      "  max_amplitude = np.nanmax(data_matrix_mask, axis=1)\n",
      "/tmp/ipykernel_39280/1038223605.py:64: RuntimeWarning: divide by zero encountered in log10\n",
      "  snr = 10 * np.log10(signal_power / noise_power)\n"
     ]
    },
    {
     "name": "stdout",
     "output_type": "stream",
     "text": [
      "==========Event 38982368 done!==========\n"
     ]
    },
    {
     "name": "stderr",
     "output_type": "stream",
     "text": [
      "/tmp/ipykernel_39280/1038223605.py:19: RuntimeWarning: All-NaN slice encountered\n",
      "  max_amplitude = np.nanmax(data_matrix_mask, axis=1)\n",
      "/tmp/ipykernel_39280/1038223605.py:64: RuntimeWarning: divide by zero encountered in log10\n",
      "  snr = 10 * np.log10(signal_power / noise_power)\n"
     ]
    },
    {
     "name": "stdout",
     "output_type": "stream",
     "text": [
      "==========Event 38983016 done!==========\n"
     ]
    },
    {
     "name": "stderr",
     "output_type": "stream",
     "text": [
      "/tmp/ipykernel_39280/1038223605.py:19: RuntimeWarning: All-NaN slice encountered\n",
      "  max_amplitude = np.nanmax(data_matrix_mask, axis=1)\n",
      "/tmp/ipykernel_39280/1038223605.py:64: RuntimeWarning: divide by zero encountered in log10\n",
      "  snr = 10 * np.log10(signal_power / noise_power)\n"
     ]
    },
    {
     "name": "stdout",
     "output_type": "stream",
     "text": [
      "==========Event 38984576 done!==========\n"
     ]
    },
    {
     "name": "stderr",
     "output_type": "stream",
     "text": [
      "/tmp/ipykernel_39280/1038223605.py:19: RuntimeWarning: All-NaN slice encountered\n",
      "  max_amplitude = np.nanmax(data_matrix_mask, axis=1)\n",
      "/tmp/ipykernel_39280/1038223605.py:64: RuntimeWarning: divide by zero encountered in log10\n",
      "  snr = 10 * np.log10(signal_power / noise_power)\n"
     ]
    },
    {
     "name": "stdout",
     "output_type": "stream",
     "text": [
      "==========Event 38990112 done!==========\n"
     ]
    },
    {
     "name": "stderr",
     "output_type": "stream",
     "text": [
      "/tmp/ipykernel_39280/1038223605.py:19: RuntimeWarning: All-NaN slice encountered\n",
      "  max_amplitude = np.nanmax(data_matrix_mask, axis=1)\n",
      "/tmp/ipykernel_39280/1038223605.py:64: RuntimeWarning: divide by zero encountered in log10\n",
      "  snr = 10 * np.log10(signal_power / noise_power)\n"
     ]
    },
    {
     "name": "stdout",
     "output_type": "stream",
     "text": [
      "==========Event 38990176 done!==========\n",
      "ML picking 38991056 not found, skip...\n",
      "ML picking 38992192 not found, skip...\n"
     ]
    },
    {
     "name": "stderr",
     "output_type": "stream",
     "text": [
      "/tmp/ipykernel_39280/1038223605.py:19: RuntimeWarning: All-NaN slice encountered\n",
      "  max_amplitude = np.nanmax(data_matrix_mask, axis=1)\n",
      "/tmp/ipykernel_39280/1038223605.py:64: RuntimeWarning: divide by zero encountered in log10\n",
      "  snr = 10 * np.log10(signal_power / noise_power)\n"
     ]
    },
    {
     "name": "stdout",
     "output_type": "stream",
     "text": [
      "==========Event 38995952 done!==========\n",
      "==========Event 38996632 done!==========\n"
     ]
    },
    {
     "name": "stderr",
     "output_type": "stream",
     "text": [
      "/tmp/ipykernel_39280/1038223605.py:19: RuntimeWarning: All-NaN slice encountered\n",
      "  max_amplitude = np.nanmax(data_matrix_mask, axis=1)\n",
      "/tmp/ipykernel_39280/1038223605.py:64: RuntimeWarning: divide by zero encountered in log10\n",
      "  snr = 10 * np.log10(signal_power / noise_power)\n"
     ]
    },
    {
     "name": "stdout",
     "output_type": "stream",
     "text": [
      "==========Event 38996816 done!==========\n"
     ]
    },
    {
     "name": "stderr",
     "output_type": "stream",
     "text": [
      "/tmp/ipykernel_39280/1038223605.py:19: RuntimeWarning: All-NaN slice encountered\n",
      "  max_amplitude = np.nanmax(data_matrix_mask, axis=1)\n",
      "/tmp/ipykernel_39280/1038223605.py:64: RuntimeWarning: divide by zero encountered in log10\n",
      "  snr = 10 * np.log10(signal_power / noise_power)\n"
     ]
    },
    {
     "name": "stdout",
     "output_type": "stream",
     "text": [
      "==========Event 38996840 done!==========\n"
     ]
    },
    {
     "name": "stderr",
     "output_type": "stream",
     "text": [
      "/tmp/ipykernel_39280/1038223605.py:19: RuntimeWarning: All-NaN slice encountered\n",
      "  max_amplitude = np.nanmax(data_matrix_mask, axis=1)\n",
      "/tmp/ipykernel_39280/1038223605.py:64: RuntimeWarning: divide by zero encountered in log10\n",
      "  snr = 10 * np.log10(signal_power / noise_power)\n"
     ]
    },
    {
     "name": "stdout",
     "output_type": "stream",
     "text": [
      "==========Event 38996976 done!==========\n"
     ]
    },
    {
     "name": "stderr",
     "output_type": "stream",
     "text": [
      "/tmp/ipykernel_39280/1038223605.py:19: RuntimeWarning: All-NaN slice encountered\n",
      "  max_amplitude = np.nanmax(data_matrix_mask, axis=1)\n"
     ]
    },
    {
     "name": "stdout",
     "output_type": "stream",
     "text": [
      "==========Event 38999296 done!==========\n",
      "ML picking 38999312 not found, skip...\n"
     ]
    },
    {
     "name": "stderr",
     "output_type": "stream",
     "text": [
      "/tmp/ipykernel_39280/1038223605.py:19: RuntimeWarning: All-NaN slice encountered\n",
      "  max_amplitude = np.nanmax(data_matrix_mask, axis=1)\n",
      "/tmp/ipykernel_39280/1038223605.py:64: RuntimeWarning: divide by zero encountered in log10\n",
      "  snr = 10 * np.log10(signal_power / noise_power)\n"
     ]
    },
    {
     "name": "stdout",
     "output_type": "stream",
     "text": [
      "==========Event 38999328 done!==========\n"
     ]
    },
    {
     "name": "stderr",
     "output_type": "stream",
     "text": [
      "/tmp/ipykernel_39280/1038223605.py:19: RuntimeWarning: All-NaN slice encountered\n",
      "  max_amplitude = np.nanmax(data_matrix_mask, axis=1)\n",
      "/tmp/ipykernel_39280/1038223605.py:64: RuntimeWarning: divide by zero encountered in log10\n",
      "  snr = 10 * np.log10(signal_power / noise_power)\n"
     ]
    },
    {
     "name": "stdout",
     "output_type": "stream",
     "text": [
      "==========Event 39000512 done!==========\n"
     ]
    },
    {
     "name": "stderr",
     "output_type": "stream",
     "text": [
      "/tmp/ipykernel_39280/1038223605.py:19: RuntimeWarning: All-NaN slice encountered\n",
      "  max_amplitude = np.nanmax(data_matrix_mask, axis=1)\n",
      "/tmp/ipykernel_39280/1038223605.py:64: RuntimeWarning: divide by zero encountered in log10\n",
      "  snr = 10 * np.log10(signal_power / noise_power)\n"
     ]
    },
    {
     "name": "stdout",
     "output_type": "stream",
     "text": [
      "==========Event 39002264 done!==========\n",
      "ML picking 39002432 not found, skip...\n"
     ]
    },
    {
     "name": "stderr",
     "output_type": "stream",
     "text": [
      "/tmp/ipykernel_39280/1038223605.py:19: RuntimeWarning: All-NaN slice encountered\n",
      "  max_amplitude = np.nanmax(data_matrix_mask, axis=1)\n",
      "/tmp/ipykernel_39280/1038223605.py:64: RuntimeWarning: divide by zero encountered in log10\n",
      "  snr = 10 * np.log10(signal_power / noise_power)\n"
     ]
    },
    {
     "name": "stdout",
     "output_type": "stream",
     "text": [
      "==========Event 39004464 done!==========\n"
     ]
    },
    {
     "name": "stderr",
     "output_type": "stream",
     "text": [
      "/tmp/ipykernel_39280/1038223605.py:19: RuntimeWarning: All-NaN slice encountered\n",
      "  max_amplitude = np.nanmax(data_matrix_mask, axis=1)\n",
      "/tmp/ipykernel_39280/1038223605.py:64: RuntimeWarning: divide by zero encountered in log10\n",
      "  snr = 10 * np.log10(signal_power / noise_power)\n"
     ]
    },
    {
     "name": "stdout",
     "output_type": "stream",
     "text": [
      "==========Event 39005120 done!==========\n",
      "ML picking 39007152 not found, skip...\n",
      "ML picking 39016592 not found, skip...\n"
     ]
    },
    {
     "name": "stderr",
     "output_type": "stream",
     "text": [
      "/tmp/ipykernel_39280/1038223605.py:19: RuntimeWarning: All-NaN slice encountered\n",
      "  max_amplitude = np.nanmax(data_matrix_mask, axis=1)\n",
      "/tmp/ipykernel_39280/1038223605.py:64: RuntimeWarning: divide by zero encountered in log10\n",
      "  snr = 10 * np.log10(signal_power / noise_power)\n"
     ]
    },
    {
     "name": "stdout",
     "output_type": "stream",
     "text": [
      "==========Event 39037448 done!==========\n"
     ]
    },
    {
     "name": "stderr",
     "output_type": "stream",
     "text": [
      "/tmp/ipykernel_39280/1038223605.py:19: RuntimeWarning: All-NaN slice encountered\n",
      "  max_amplitude = np.nanmax(data_matrix_mask, axis=1)\n",
      "/tmp/ipykernel_39280/1038223605.py:64: RuntimeWarning: divide by zero encountered in log10\n",
      "  snr = 10 * np.log10(signal_power / noise_power)\n"
     ]
    },
    {
     "name": "stdout",
     "output_type": "stream",
     "text": [
      "==========Event 39037488 done!==========\n"
     ]
    },
    {
     "name": "stderr",
     "output_type": "stream",
     "text": [
      "/tmp/ipykernel_39280/1038223605.py:19: RuntimeWarning: All-NaN slice encountered\n",
      "  max_amplitude = np.nanmax(data_matrix_mask, axis=1)\n",
      "/tmp/ipykernel_39280/1038223605.py:64: RuntimeWarning: divide by zero encountered in log10\n",
      "  snr = 10 * np.log10(signal_power / noise_power)\n"
     ]
    },
    {
     "name": "stdout",
     "output_type": "stream",
     "text": [
      "==========Event 39037688 done!==========\n",
      "ML picking 39040408 not found, skip...\n",
      "ML picking 38818071 not found, skip...\n"
     ]
    },
    {
     "name": "stderr",
     "output_type": "stream",
     "text": [
      "/tmp/ipykernel_39280/1038223605.py:19: RuntimeWarning: All-NaN slice encountered\n",
      "  max_amplitude = np.nanmax(data_matrix_mask, axis=1)\n",
      "/tmp/ipykernel_39280/1038223605.py:64: RuntimeWarning: divide by zero encountered in log10\n",
      "  snr = 10 * np.log10(signal_power / noise_power)\n"
     ]
    },
    {
     "name": "stdout",
     "output_type": "stream",
     "text": [
      "==========Event 38819223 done!==========\n"
     ]
    },
    {
     "name": "stderr",
     "output_type": "stream",
     "text": [
      "/tmp/ipykernel_39280/1038223605.py:19: RuntimeWarning: All-NaN slice encountered\n",
      "  max_amplitude = np.nanmax(data_matrix_mask, axis=1)\n",
      "/tmp/ipykernel_39280/1038223605.py:64: RuntimeWarning: divide by zero encountered in log10\n",
      "  snr = 10 * np.log10(signal_power / noise_power)\n"
     ]
    },
    {
     "name": "stdout",
     "output_type": "stream",
     "text": [
      "==========Event 38850247 done!==========\n"
     ]
    },
    {
     "name": "stderr",
     "output_type": "stream",
     "text": [
      "/tmp/ipykernel_39280/1038223605.py:19: RuntimeWarning: All-NaN slice encountered\n",
      "  max_amplitude = np.nanmax(data_matrix_mask, axis=1)\n",
      "/tmp/ipykernel_39280/1038223605.py:64: RuntimeWarning: divide by zero encountered in log10\n",
      "  snr = 10 * np.log10(signal_power / noise_power)\n"
     ]
    },
    {
     "name": "stdout",
     "output_type": "stream",
     "text": [
      "==========Event 38852871 done!==========\n",
      "DAS file 38855983 not found, skip...\n"
     ]
    },
    {
     "name": "stderr",
     "output_type": "stream",
     "text": [
      "/tmp/ipykernel_39280/1038223605.py:19: RuntimeWarning: All-NaN slice encountered\n",
      "  max_amplitude = np.nanmax(data_matrix_mask, axis=1)\n",
      "/tmp/ipykernel_39280/1038223605.py:64: RuntimeWarning: divide by zero encountered in log10\n",
      "  snr = 10 * np.log10(signal_power / noise_power)\n"
     ]
    },
    {
     "name": "stdout",
     "output_type": "stream",
     "text": [
      "==========Event 39094760 done!==========\n",
      "ML picking 39095240 not found, skip...\n"
     ]
    },
    {
     "name": "stderr",
     "output_type": "stream",
     "text": [
      "/tmp/ipykernel_39280/1038223605.py:19: RuntimeWarning: All-NaN slice encountered\n",
      "  max_amplitude = np.nanmax(data_matrix_mask, axis=1)\n",
      "/tmp/ipykernel_39280/1038223605.py:64: RuntimeWarning: divide by zero encountered in log10\n",
      "  snr = 10 * np.log10(signal_power / noise_power)\n"
     ]
    },
    {
     "name": "stdout",
     "output_type": "stream",
     "text": [
      "==========Event 39096944 done!==========\n"
     ]
    },
    {
     "name": "stderr",
     "output_type": "stream",
     "text": [
      "/tmp/ipykernel_39280/1038223605.py:19: RuntimeWarning: All-NaN slice encountered\n",
      "  max_amplitude = np.nanmax(data_matrix_mask, axis=1)\n",
      "/tmp/ipykernel_39280/1038223605.py:64: RuntimeWarning: divide by zero encountered in log10\n",
      "  snr = 10 * np.log10(signal_power / noise_power)\n"
     ]
    },
    {
     "name": "stdout",
     "output_type": "stream",
     "text": [
      "==========Event 39099712 done!==========\n"
     ]
    },
    {
     "name": "stderr",
     "output_type": "stream",
     "text": [
      "/tmp/ipykernel_39280/1038223605.py:19: RuntimeWarning: All-NaN slice encountered\n",
      "  max_amplitude = np.nanmax(data_matrix_mask, axis=1)\n",
      "/tmp/ipykernel_39280/1038223605.py:64: RuntimeWarning: divide by zero encountered in log10\n",
      "  snr = 10 * np.log10(signal_power / noise_power)\n"
     ]
    },
    {
     "name": "stdout",
     "output_type": "stream",
     "text": [
      "==========Event 39100080 done!==========\n"
     ]
    },
    {
     "name": "stderr",
     "output_type": "stream",
     "text": [
      "/tmp/ipykernel_39280/1038223605.py:19: RuntimeWarning: All-NaN slice encountered\n",
      "  max_amplitude = np.nanmax(data_matrix_mask, axis=1)\n",
      "/tmp/ipykernel_39280/1038223605.py:64: RuntimeWarning: divide by zero encountered in log10\n",
      "  snr = 10 * np.log10(signal_power / noise_power)\n"
     ]
    },
    {
     "name": "stdout",
     "output_type": "stream",
     "text": [
      "==========Event 39103680 done!==========\n",
      "ML picking 39129768 not found, skip...\n",
      "ML picking 39136912 not found, skip...\n",
      "ML picking 38905359 not found, skip...\n",
      "ML picking 38905415 not found, skip...\n",
      "ML picking 38906511 not found, skip...\n",
      "ML picking 38909287 not found, skip...\n",
      "ML picking 38912351 not found, skip...\n",
      "ML picking 38917943 not found, skip...\n"
     ]
    },
    {
     "name": "stderr",
     "output_type": "stream",
     "text": [
      "/tmp/ipykernel_39280/1038223605.py:19: RuntimeWarning: All-NaN slice encountered\n",
      "  max_amplitude = np.nanmax(data_matrix_mask, axis=1)\n"
     ]
    },
    {
     "name": "stdout",
     "output_type": "stream",
     "text": [
      "==========Event 38923807 done!==========\n",
      "DAS file 38926095 not found, skip...\n"
     ]
    },
    {
     "name": "stderr",
     "output_type": "stream",
     "text": [
      "/tmp/ipykernel_39280/1038223605.py:19: RuntimeWarning: All-NaN slice encountered\n",
      "  max_amplitude = np.nanmax(data_matrix_mask, axis=1)\n",
      "/tmp/ipykernel_39280/1038223605.py:64: RuntimeWarning: divide by zero encountered in log10\n",
      "  snr = 10 * np.log10(signal_power / noise_power)\n"
     ]
    },
    {
     "name": "stdout",
     "output_type": "stream",
     "text": [
      "==========Event 38930143 done!==========\n"
     ]
    },
    {
     "name": "stderr",
     "output_type": "stream",
     "text": [
      "/tmp/ipykernel_39280/1038223605.py:19: RuntimeWarning: All-NaN slice encountered\n",
      "  max_amplitude = np.nanmax(data_matrix_mask, axis=1)\n",
      "/tmp/ipykernel_39280/1038223605.py:64: RuntimeWarning: divide by zero encountered in log10\n",
      "  snr = 10 * np.log10(signal_power / noise_power)\n"
     ]
    },
    {
     "name": "stdout",
     "output_type": "stream",
     "text": [
      "==========Event 38933079 done!==========\n"
     ]
    },
    {
     "name": "stderr",
     "output_type": "stream",
     "text": [
      "/tmp/ipykernel_39280/1038223605.py:19: RuntimeWarning: All-NaN slice encountered\n",
      "  max_amplitude = np.nanmax(data_matrix_mask, axis=1)\n",
      "/tmp/ipykernel_39280/1038223605.py:64: RuntimeWarning: divide by zero encountered in log10\n",
      "  snr = 10 * np.log10(signal_power / noise_power)\n"
     ]
    },
    {
     "name": "stdout",
     "output_type": "stream",
     "text": [
      "==========Event 38229138 done!==========\n",
      "ML picking 38229234 not found, skip...\n",
      "ML picking 38229250 not found, skip...\n",
      "ML picking 38231562 not found, skip...\n",
      "ML picking 38231786 not found, skip...\n",
      "ML picking 38231834 not found, skip...\n",
      "ML picking 38235954 not found, skip...\n",
      "ML picking 38236850 not found, skip...\n",
      "ML picking 38237026 not found, skip...\n"
     ]
    },
    {
     "name": "stderr",
     "output_type": "stream",
     "text": [
      "/tmp/ipykernel_39280/1038223605.py:19: RuntimeWarning: All-NaN slice encountered\n",
      "  max_amplitude = np.nanmax(data_matrix_mask, axis=1)\n",
      "/tmp/ipykernel_39280/1038223605.py:64: RuntimeWarning: divide by zero encountered in log10\n",
      "  snr = 10 * np.log10(signal_power / noise_power)\n"
     ]
    },
    {
     "name": "stdout",
     "output_type": "stream",
     "text": [
      "==========Event 38242914 done!==========\n",
      "DAS file 38247706 not found, skip...\n",
      "ML picking 38247754 not found, skip...\n",
      "DAS file 38248602 not found, skip...\n"
     ]
    },
    {
     "name": "stderr",
     "output_type": "stream",
     "text": [
      "/tmp/ipykernel_39280/1038223605.py:19: RuntimeWarning: All-NaN slice encountered\n",
      "  max_amplitude = np.nanmax(data_matrix_mask, axis=1)\n",
      "/tmp/ipykernel_39280/1038223605.py:64: RuntimeWarning: divide by zero encountered in log10\n",
      "  snr = 10 * np.log10(signal_power / noise_power)\n"
     ]
    },
    {
     "name": "stdout",
     "output_type": "stream",
     "text": [
      "==========Event 38251970 done!==========\n"
     ]
    },
    {
     "name": "stderr",
     "output_type": "stream",
     "text": [
      "/tmp/ipykernel_39280/1038223605.py:19: RuntimeWarning: All-NaN slice encountered\n",
      "  max_amplitude = np.nanmax(data_matrix_mask, axis=1)\n",
      "/tmp/ipykernel_39280/1038223605.py:64: RuntimeWarning: divide by zero encountered in log10\n",
      "  snr = 10 * np.log10(signal_power / noise_power)\n"
     ]
    },
    {
     "name": "stdout",
     "output_type": "stream",
     "text": [
      "==========Event 38254674 done!==========\n"
     ]
    },
    {
     "name": "stderr",
     "output_type": "stream",
     "text": [
      "/tmp/ipykernel_39280/1038223605.py:19: RuntimeWarning: All-NaN slice encountered\n",
      "  max_amplitude = np.nanmax(data_matrix_mask, axis=1)\n",
      "/tmp/ipykernel_39280/1038223605.py:64: RuntimeWarning: divide by zero encountered in log10\n",
      "  snr = 10 * np.log10(signal_power / noise_power)\n"
     ]
    },
    {
     "name": "stdout",
     "output_type": "stream",
     "text": [
      "==========Event 39206144 done!==========\n"
     ]
    },
    {
     "name": "stderr",
     "output_type": "stream",
     "text": [
      "/tmp/ipykernel_39280/1038223605.py:19: RuntimeWarning: All-NaN slice encountered\n",
      "  max_amplitude = np.nanmax(data_matrix_mask, axis=1)\n",
      "/tmp/ipykernel_39280/1038223605.py:64: RuntimeWarning: divide by zero encountered in log10\n",
      "  snr = 10 * np.log10(signal_power / noise_power)\n"
     ]
    },
    {
     "name": "stdout",
     "output_type": "stream",
     "text": [
      "==========Event 39206448 done!==========\n",
      "ML picking 39209360 not found, skip...\n"
     ]
    },
    {
     "name": "stderr",
     "output_type": "stream",
     "text": [
      "/tmp/ipykernel_39280/1038223605.py:19: RuntimeWarning: All-NaN slice encountered\n",
      "  max_amplitude = np.nanmax(data_matrix_mask, axis=1)\n",
      "/tmp/ipykernel_39280/1038223605.py:64: RuntimeWarning: divide by zero encountered in log10\n",
      "  snr = 10 * np.log10(signal_power / noise_power)\n"
     ]
    },
    {
     "name": "stdout",
     "output_type": "stream",
     "text": [
      "==========Event 39210040 done!==========\n"
     ]
    },
    {
     "name": "stderr",
     "output_type": "stream",
     "text": [
      "/tmp/ipykernel_39280/1038223605.py:19: RuntimeWarning: All-NaN slice encountered\n",
      "  max_amplitude = np.nanmax(data_matrix_mask, axis=1)\n",
      "/tmp/ipykernel_39280/1038223605.py:64: RuntimeWarning: divide by zero encountered in log10\n",
      "  snr = 10 * np.log10(signal_power / noise_power)\n"
     ]
    },
    {
     "name": "stdout",
     "output_type": "stream",
     "text": [
      "==========Event 39210096 done!==========\n",
      "ML picking 39217512 not found, skip...\n"
     ]
    },
    {
     "name": "stderr",
     "output_type": "stream",
     "text": [
      "/tmp/ipykernel_39280/1038223605.py:19: RuntimeWarning: All-NaN slice encountered\n",
      "  max_amplitude = np.nanmax(data_matrix_mask, axis=1)\n",
      "/tmp/ipykernel_39280/1038223605.py:64: RuntimeWarning: divide by zero encountered in log10\n",
      "  snr = 10 * np.log10(signal_power / noise_power)\n"
     ]
    },
    {
     "name": "stdout",
     "output_type": "stream",
     "text": [
      "==========Event 39217768 done!==========\n"
     ]
    },
    {
     "name": "stderr",
     "output_type": "stream",
     "text": [
      "/tmp/ipykernel_39280/1038223605.py:19: RuntimeWarning: All-NaN slice encountered\n",
      "  max_amplitude = np.nanmax(data_matrix_mask, axis=1)\n",
      "/tmp/ipykernel_39280/1038223605.py:64: RuntimeWarning: divide by zero encountered in log10\n",
      "  snr = 10 * np.log10(signal_power / noise_power)\n"
     ]
    },
    {
     "name": "stdout",
     "output_type": "stream",
     "text": [
      "==========Event 39217824 done!==========\n",
      "ML picking 39219160 not found, skip...\n"
     ]
    },
    {
     "name": "stderr",
     "output_type": "stream",
     "text": [
      "/tmp/ipykernel_39280/1038223605.py:19: RuntimeWarning: All-NaN slice encountered\n",
      "  max_amplitude = np.nanmax(data_matrix_mask, axis=1)\n",
      "/tmp/ipykernel_39280/1038223605.py:64: RuntimeWarning: divide by zero encountered in log10\n",
      "  snr = 10 * np.log10(signal_power / noise_power)\n"
     ]
    },
    {
     "name": "stdout",
     "output_type": "stream",
     "text": [
      "==========Event 39228040 done!==========\n",
      "ML picking 39232240 not found, skip...\n"
     ]
    },
    {
     "name": "stderr",
     "output_type": "stream",
     "text": [
      "/tmp/ipykernel_39280/1038223605.py:19: RuntimeWarning: All-NaN slice encountered\n",
      "  max_amplitude = np.nanmax(data_matrix_mask, axis=1)\n",
      "/tmp/ipykernel_39280/1038223605.py:64: RuntimeWarning: divide by zero encountered in log10\n",
      "  snr = 10 * np.log10(signal_power / noise_power)\n"
     ]
    },
    {
     "name": "stdout",
     "output_type": "stream",
     "text": [
      "==========Event 39232664 done!==========\n"
     ]
    },
    {
     "name": "stderr",
     "output_type": "stream",
     "text": [
      "/tmp/ipykernel_39280/1038223605.py:19: RuntimeWarning: All-NaN slice encountered\n",
      "  max_amplitude = np.nanmax(data_matrix_mask, axis=1)\n",
      "/tmp/ipykernel_39280/1038223605.py:64: RuntimeWarning: divide by zero encountered in log10\n",
      "  snr = 10 * np.log10(signal_power / noise_power)\n"
     ]
    },
    {
     "name": "stdout",
     "output_type": "stream",
     "text": [
      "==========Event 39232936 done!==========\n",
      "ML picking 39005887 not found, skip...\n",
      "ML picking 39006607 not found, skip...\n",
      "ML picking 39007175 not found, skip...\n"
     ]
    },
    {
     "name": "stderr",
     "output_type": "stream",
     "text": [
      "/tmp/ipykernel_39280/1038223605.py:19: RuntimeWarning: All-NaN slice encountered\n",
      "  max_amplitude = np.nanmax(data_matrix_mask, axis=1)\n",
      "/tmp/ipykernel_39280/1038223605.py:64: RuntimeWarning: divide by zero encountered in log10\n",
      "  snr = 10 * np.log10(signal_power / noise_power)\n"
     ]
    },
    {
     "name": "stdout",
     "output_type": "stream",
     "text": [
      "==========Event 39007423 done!==========\n"
     ]
    },
    {
     "name": "stderr",
     "output_type": "stream",
     "text": [
      "/tmp/ipykernel_39280/1038223605.py:19: RuntimeWarning: All-NaN slice encountered\n",
      "  max_amplitude = np.nanmax(data_matrix_mask, axis=1)\n",
      "/tmp/ipykernel_39280/1038223605.py:64: RuntimeWarning: divide by zero encountered in log10\n",
      "  snr = 10 * np.log10(signal_power / noise_power)\n"
     ]
    },
    {
     "name": "stdout",
     "output_type": "stream",
     "text": [
      "==========Event 39007775 done!==========\n"
     ]
    },
    {
     "name": "stderr",
     "output_type": "stream",
     "text": [
      "/tmp/ipykernel_39280/1038223605.py:19: RuntimeWarning: All-NaN slice encountered\n",
      "  max_amplitude = np.nanmax(data_matrix_mask, axis=1)\n",
      "/tmp/ipykernel_39280/1038223605.py:64: RuntimeWarning: divide by zero encountered in log10\n",
      "  snr = 10 * np.log10(signal_power / noise_power)\n"
     ]
    },
    {
     "name": "stdout",
     "output_type": "stream",
     "text": [
      "==========Event 39008311 done!==========\n",
      "ML picking 39013663 not found, skip...\n",
      "ML picking 39014015 not found, skip...\n"
     ]
    },
    {
     "name": "stderr",
     "output_type": "stream",
     "text": [
      "/tmp/ipykernel_39280/1038223605.py:19: RuntimeWarning: All-NaN slice encountered\n",
      "  max_amplitude = np.nanmax(data_matrix_mask, axis=1)\n",
      "/tmp/ipykernel_39280/1038223605.py:64: RuntimeWarning: divide by zero encountered in log10\n",
      "  snr = 10 * np.log10(signal_power / noise_power)\n"
     ]
    },
    {
     "name": "stdout",
     "output_type": "stream",
     "text": [
      "==========Event 39014215 done!==========\n"
     ]
    },
    {
     "name": "stderr",
     "output_type": "stream",
     "text": [
      "/tmp/ipykernel_39280/1038223605.py:19: RuntimeWarning: All-NaN slice encountered\n",
      "  max_amplitude = np.nanmax(data_matrix_mask, axis=1)\n",
      "/tmp/ipykernel_39280/1038223605.py:64: RuntimeWarning: divide by zero encountered in log10\n",
      "  snr = 10 * np.log10(signal_power / noise_power)\n"
     ]
    },
    {
     "name": "stdout",
     "output_type": "stream",
     "text": [
      "==========Event 39015367 done!==========\n",
      "ML picking 39015759 not found, skip...\n",
      "ML picking 39019703 not found, skip...\n",
      "ML picking 39020663 not found, skip...\n"
     ]
    },
    {
     "name": "stderr",
     "output_type": "stream",
     "text": [
      "/tmp/ipykernel_39280/1038223605.py:19: RuntimeWarning: All-NaN slice encountered\n",
      "  max_amplitude = np.nanmax(data_matrix_mask, axis=1)\n",
      "/tmp/ipykernel_39280/1038223605.py:64: RuntimeWarning: divide by zero encountered in log10\n",
      "  snr = 10 * np.log10(signal_power / noise_power)\n"
     ]
    },
    {
     "name": "stdout",
     "output_type": "stream",
     "text": [
      "==========Event 39021735 done!==========\n"
     ]
    },
    {
     "name": "stderr",
     "output_type": "stream",
     "text": [
      "/tmp/ipykernel_39280/1038223605.py:19: RuntimeWarning: All-NaN slice encountered\n",
      "  max_amplitude = np.nanmax(data_matrix_mask, axis=1)\n",
      "/tmp/ipykernel_39280/1038223605.py:64: RuntimeWarning: divide by zero encountered in log10\n",
      "  snr = 10 * np.log10(signal_power / noise_power)\n"
     ]
    },
    {
     "name": "stdout",
     "output_type": "stream",
     "text": [
      "==========Event 39028647 done!==========\n"
     ]
    },
    {
     "name": "stderr",
     "output_type": "stream",
     "text": [
      "/tmp/ipykernel_39280/1038223605.py:19: RuntimeWarning: All-NaN slice encountered\n",
      "  max_amplitude = np.nanmax(data_matrix_mask, axis=1)\n",
      "/tmp/ipykernel_39280/1038223605.py:64: RuntimeWarning: divide by zero encountered in log10\n",
      "  snr = 10 * np.log10(signal_power / noise_power)\n"
     ]
    },
    {
     "name": "stdout",
     "output_type": "stream",
     "text": [
      "==========Event 39273704 done!==========\n"
     ]
    },
    {
     "name": "stderr",
     "output_type": "stream",
     "text": [
      "/tmp/ipykernel_39280/1038223605.py:19: RuntimeWarning: All-NaN slice encountered\n",
      "  max_amplitude = np.nanmax(data_matrix_mask, axis=1)\n",
      "/tmp/ipykernel_39280/1038223605.py:64: RuntimeWarning: divide by zero encountered in log10\n",
      "  snr = 10 * np.log10(signal_power / noise_power)\n"
     ]
    },
    {
     "name": "stdout",
     "output_type": "stream",
     "text": [
      "==========Event 39276560 done!==========\n",
      "ML picking 39277736 not found, skip...\n",
      "==========Event 39281440 done!==========\n",
      "ML picking 39281456 not found, skip...\n",
      "ML picking 39283296 not found, skip...\n",
      "ML picking 39285816 not found, skip...\n",
      "ML picking 39288528 not found, skip...\n",
      "ML picking 39289104 not found, skip...\n",
      "DAS file 39296624 not found, skip...\n",
      "ML picking 39070271 not found, skip...\n",
      "ML picking 39075799 not found, skip...\n",
      "ML picking 39076207 not found, skip...\n",
      "ML picking 39077911 not found, skip...\n",
      "ML picking 39079535 not found, skip...\n",
      "ML picking 39079791 not found, skip...\n",
      "ML picking 39083119 not found, skip...\n",
      "ML picking 39083127 not found, skip...\n",
      "ML picking 39083439 not found, skip...\n",
      "ML picking 39087367 not found, skip...\n",
      "ML picking 39089007 not found, skip...\n",
      "ML picking 38386162 not found, skip...\n",
      "ML picking 38386410 not found, skip...\n",
      "ML picking 38387018 not found, skip...\n",
      "ML picking 38393482 not found, skip...\n",
      "ML picking 38395986 not found, skip...\n",
      "ML picking 39108583 not found, skip...\n",
      "ML picking 39116263 not found, skip...\n",
      "ML picking 39127167 not found, skip...\n",
      "ML picking 39134655 not found, skip...\n"
     ]
    },
    {
     "name": "stderr",
     "output_type": "stream",
     "text": [
      "/tmp/ipykernel_39280/1038223605.py:19: RuntimeWarning: All-NaN slice encountered\n",
      "  max_amplitude = np.nanmax(data_matrix_mask, axis=1)\n",
      "/tmp/ipykernel_39280/1038223605.py:64: RuntimeWarning: divide by zero encountered in log10\n",
      "  snr = 10 * np.log10(signal_power / noise_power)\n"
     ]
    },
    {
     "name": "stdout",
     "output_type": "stream",
     "text": [
      "==========Event 39138391 done!==========\n"
     ]
    },
    {
     "name": "stderr",
     "output_type": "stream",
     "text": [
      "/tmp/ipykernel_39280/1038223605.py:19: RuntimeWarning: All-NaN slice encountered\n",
      "  max_amplitude = np.nanmax(data_matrix_mask, axis=1)\n"
     ]
    },
    {
     "name": "stdout",
     "output_type": "stream",
     "text": [
      "==========Event 39386896 done!==========\n",
      "ML picking 39387336 not found, skip...\n"
     ]
    },
    {
     "name": "stderr",
     "output_type": "stream",
     "text": [
      "/tmp/ipykernel_39280/1038223605.py:19: RuntimeWarning: All-NaN slice encountered\n",
      "  max_amplitude = np.nanmax(data_matrix_mask, axis=1)\n",
      "/tmp/ipykernel_39280/1038223605.py:64: RuntimeWarning: divide by zero encountered in log10\n",
      "  snr = 10 * np.log10(signal_power / noise_power)\n"
     ]
    },
    {
     "name": "stdout",
     "output_type": "stream",
     "text": [
      "==========Event 39395080 done!==========\n"
     ]
    },
    {
     "name": "stderr",
     "output_type": "stream",
     "text": [
      "/tmp/ipykernel_39280/1038223605.py:19: RuntimeWarning: All-NaN slice encountered\n",
      "  max_amplitude = np.nanmax(data_matrix_mask, axis=1)\n",
      "/tmp/ipykernel_39280/1038223605.py:64: RuntimeWarning: divide by zero encountered in log10\n",
      "  snr = 10 * np.log10(signal_power / noise_power)\n"
     ]
    },
    {
     "name": "stdout",
     "output_type": "stream",
     "text": [
      "==========Event 39395096 done!==========\n",
      "ML picking 39400304 not found, skip...\n"
     ]
    },
    {
     "name": "stderr",
     "output_type": "stream",
     "text": [
      "/tmp/ipykernel_39280/1038223605.py:19: RuntimeWarning: All-NaN slice encountered\n",
      "  max_amplitude = np.nanmax(data_matrix_mask, axis=1)\n",
      "/tmp/ipykernel_39280/1038223605.py:64: RuntimeWarning: divide by zero encountered in log10\n",
      "  snr = 10 * np.log10(signal_power / noise_power)\n"
     ]
    },
    {
     "name": "stdout",
     "output_type": "stream",
     "text": [
      "==========Event 39406880 done!==========\n",
      "ML picking 39409688 not found, skip...\n",
      "ML picking 38477842 not found, skip...\n",
      "ML picking 38491298 not found, skip...\n",
      "ML picking 39200671 not found, skip...\n",
      "ML picking 39202447 not found, skip...\n",
      "ML picking 39202567 not found, skip...\n",
      "ML picking 39204695 not found, skip...\n",
      "ML picking 39208391 not found, skip...\n",
      "ML picking 39214127 not found, skip...\n",
      "ML picking 39214247 not found, skip...\n",
      "DAS file 39218863 not found, skip...\n"
     ]
    },
    {
     "name": "stderr",
     "output_type": "stream",
     "text": [
      "/tmp/ipykernel_39280/1038223605.py:19: RuntimeWarning: All-NaN slice encountered\n",
      "  max_amplitude = np.nanmax(data_matrix_mask, axis=1)\n",
      "/tmp/ipykernel_39280/1038223605.py:64: RuntimeWarning: divide by zero encountered in log10\n",
      "  snr = 10 * np.log10(signal_power / noise_power)\n"
     ]
    },
    {
     "name": "stdout",
     "output_type": "stream",
     "text": [
      "==========Event 39227895 done!==========\n",
      "ML picking 39228631 not found, skip...\n",
      "ML picking 39462368 not found, skip...\n"
     ]
    },
    {
     "name": "stderr",
     "output_type": "stream",
     "text": [
      "/tmp/ipykernel_39280/1038223605.py:19: RuntimeWarning: All-NaN slice encountered\n",
      "  max_amplitude = np.nanmax(data_matrix_mask, axis=1)\n",
      "/tmp/ipykernel_39280/1038223605.py:64: RuntimeWarning: divide by zero encountered in log10\n",
      "  snr = 10 * np.log10(signal_power / noise_power)\n"
     ]
    },
    {
     "name": "stdout",
     "output_type": "stream",
     "text": [
      "==========Event 39462536 done!==========\n"
     ]
    },
    {
     "name": "stderr",
     "output_type": "stream",
     "text": [
      "/tmp/ipykernel_39280/1038223605.py:19: RuntimeWarning: All-NaN slice encountered\n",
      "  max_amplitude = np.nanmax(data_matrix_mask, axis=1)\n",
      "/tmp/ipykernel_39280/1038223605.py:64: RuntimeWarning: divide by zero encountered in log10\n",
      "  snr = 10 * np.log10(signal_power / noise_power)\n"
     ]
    },
    {
     "name": "stdout",
     "output_type": "stream",
     "text": [
      "==========Event 39462672 done!==========\n"
     ]
    },
    {
     "name": "stderr",
     "output_type": "stream",
     "text": [
      "/tmp/ipykernel_39280/1038223605.py:19: RuntimeWarning: All-NaN slice encountered\n",
      "  max_amplitude = np.nanmax(data_matrix_mask, axis=1)\n",
      "/tmp/ipykernel_39280/1038223605.py:64: RuntimeWarning: divide by zero encountered in log10\n",
      "  snr = 10 * np.log10(signal_power / noise_power)\n"
     ]
    },
    {
     "name": "stdout",
     "output_type": "stream",
     "text": [
      "==========Event 39462744 done!==========\n"
     ]
    },
    {
     "name": "stderr",
     "output_type": "stream",
     "text": [
      "/tmp/ipykernel_39280/1038223605.py:19: RuntimeWarning: All-NaN slice encountered\n",
      "  max_amplitude = np.nanmax(data_matrix_mask, axis=1)\n",
      "/tmp/ipykernel_39280/1038223605.py:64: RuntimeWarning: divide by zero encountered in log10\n",
      "  snr = 10 * np.log10(signal_power / noise_power)\n"
     ]
    },
    {
     "name": "stdout",
     "output_type": "stream",
     "text": [
      "==========Event 39462768 done!==========\n"
     ]
    },
    {
     "name": "stderr",
     "output_type": "stream",
     "text": [
      "/tmp/ipykernel_39280/1038223605.py:19: RuntimeWarning: All-NaN slice encountered\n",
      "  max_amplitude = np.nanmax(data_matrix_mask, axis=1)\n",
      "/tmp/ipykernel_39280/1038223605.py:64: RuntimeWarning: divide by zero encountered in log10\n",
      "  snr = 10 * np.log10(signal_power / noise_power)\n"
     ]
    },
    {
     "name": "stdout",
     "output_type": "stream",
     "text": [
      "==========Event 39462920 done!==========\n"
     ]
    },
    {
     "name": "stderr",
     "output_type": "stream",
     "text": [
      "/tmp/ipykernel_39280/1038223605.py:19: RuntimeWarning: All-NaN slice encountered\n",
      "  max_amplitude = np.nanmax(data_matrix_mask, axis=1)\n",
      "/tmp/ipykernel_39280/1038223605.py:64: RuntimeWarning: divide by zero encountered in log10\n",
      "  snr = 10 * np.log10(signal_power / noise_power)\n"
     ]
    },
    {
     "name": "stdout",
     "output_type": "stream",
     "text": [
      "==========Event 39463040 done!==========\n"
     ]
    },
    {
     "name": "stderr",
     "output_type": "stream",
     "text": [
      "/tmp/ipykernel_39280/1038223605.py:19: RuntimeWarning: All-NaN slice encountered\n",
      "  max_amplitude = np.nanmax(data_matrix_mask, axis=1)\n",
      "/tmp/ipykernel_39280/1038223605.py:64: RuntimeWarning: divide by zero encountered in log10\n",
      "  snr = 10 * np.log10(signal_power / noise_power)\n"
     ]
    },
    {
     "name": "stdout",
     "output_type": "stream",
     "text": [
      "==========Event 39463336 done!==========\n"
     ]
    },
    {
     "name": "stderr",
     "output_type": "stream",
     "text": [
      "/tmp/ipykernel_39280/1038223605.py:19: RuntimeWarning: All-NaN slice encountered\n",
      "  max_amplitude = np.nanmax(data_matrix_mask, axis=1)\n",
      "/tmp/ipykernel_39280/1038223605.py:64: RuntimeWarning: divide by zero encountered in log10\n",
      "  snr = 10 * np.log10(signal_power / noise_power)\n"
     ]
    },
    {
     "name": "stdout",
     "output_type": "stream",
     "text": [
      "==========Event 39463528 done!==========\n"
     ]
    },
    {
     "name": "stderr",
     "output_type": "stream",
     "text": [
      "/tmp/ipykernel_39280/1038223605.py:19: RuntimeWarning: All-NaN slice encountered\n",
      "  max_amplitude = np.nanmax(data_matrix_mask, axis=1)\n",
      "/tmp/ipykernel_39280/1038223605.py:64: RuntimeWarning: divide by zero encountered in log10\n",
      "  snr = 10 * np.log10(signal_power / noise_power)\n"
     ]
    },
    {
     "name": "stdout",
     "output_type": "stream",
     "text": [
      "==========Event 39464360 done!==========\n"
     ]
    },
    {
     "name": "stderr",
     "output_type": "stream",
     "text": [
      "/tmp/ipykernel_39280/1038223605.py:19: RuntimeWarning: All-NaN slice encountered\n",
      "  max_amplitude = np.nanmax(data_matrix_mask, axis=1)\n",
      "/tmp/ipykernel_39280/1038223605.py:64: RuntimeWarning: divide by zero encountered in log10\n",
      "  snr = 10 * np.log10(signal_power / noise_power)\n"
     ]
    },
    {
     "name": "stdout",
     "output_type": "stream",
     "text": [
      "==========Event 39468648 done!==========\n"
     ]
    },
    {
     "name": "stderr",
     "output_type": "stream",
     "text": [
      "/tmp/ipykernel_39280/1038223605.py:19: RuntimeWarning: All-NaN slice encountered\n",
      "  max_amplitude = np.nanmax(data_matrix_mask, axis=1)\n",
      "/tmp/ipykernel_39280/1038223605.py:64: RuntimeWarning: divide by zero encountered in log10\n",
      "  snr = 10 * np.log10(signal_power / noise_power)\n"
     ]
    },
    {
     "name": "stdout",
     "output_type": "stream",
     "text": [
      "==========Event 39469848 done!==========\n"
     ]
    },
    {
     "name": "stderr",
     "output_type": "stream",
     "text": [
      "/tmp/ipykernel_39280/1038223605.py:19: RuntimeWarning: All-NaN slice encountered\n",
      "  max_amplitude = np.nanmax(data_matrix_mask, axis=1)\n",
      "/tmp/ipykernel_39280/1038223605.py:64: RuntimeWarning: divide by zero encountered in log10\n",
      "  snr = 10 * np.log10(signal_power / noise_power)\n"
     ]
    },
    {
     "name": "stdout",
     "output_type": "stream",
     "text": [
      "==========Event 39473968 done!==========\n"
     ]
    },
    {
     "name": "stderr",
     "output_type": "stream",
     "text": [
      "/tmp/ipykernel_39280/1038223605.py:19: RuntimeWarning: All-NaN slice encountered\n",
      "  max_amplitude = np.nanmax(data_matrix_mask, axis=1)\n",
      "/tmp/ipykernel_39280/1038223605.py:64: RuntimeWarning: divide by zero encountered in log10\n",
      "  snr = 10 * np.log10(signal_power / noise_power)\n"
     ]
    },
    {
     "name": "stdout",
     "output_type": "stream",
     "text": [
      "==========Event 39477608 done!==========\n"
     ]
    },
    {
     "name": "stderr",
     "output_type": "stream",
     "text": [
      "/tmp/ipykernel_39280/1038223605.py:19: RuntimeWarning: All-NaN slice encountered\n",
      "  max_amplitude = np.nanmax(data_matrix_mask, axis=1)\n",
      "/tmp/ipykernel_39280/1038223605.py:64: RuntimeWarning: divide by zero encountered in log10\n",
      "  snr = 10 * np.log10(signal_power / noise_power)\n"
     ]
    },
    {
     "name": "stdout",
     "output_type": "stream",
     "text": [
      "==========Event 39481424 done!==========\n",
      "ML picking 39488496 not found, skip...\n",
      "==========Event 39490952 done!==========\n",
      "ML picking 37447541 not found, skip...\n"
     ]
    },
    {
     "name": "stderr",
     "output_type": "stream",
     "text": [
      "/tmp/ipykernel_39280/1038223605.py:19: RuntimeWarning: All-NaN slice encountered\n",
      "  max_amplitude = np.nanmax(data_matrix_mask, axis=1)\n",
      "/tmp/ipykernel_39280/1038223605.py:64: RuntimeWarning: divide by zero encountered in log10\n",
      "  snr = 10 * np.log10(signal_power / noise_power)\n"
     ]
    },
    {
     "name": "stdout",
     "output_type": "stream",
     "text": [
      "==========Event 39490968 done!==========\n"
     ]
    },
    {
     "name": "stderr",
     "output_type": "stream",
     "text": [
      "/tmp/ipykernel_39280/1038223605.py:19: RuntimeWarning: All-NaN slice encountered\n",
      "  max_amplitude = np.nanmax(data_matrix_mask, axis=1)\n",
      "/tmp/ipykernel_39280/1038223605.py:64: RuntimeWarning: divide by zero encountered in log10\n",
      "  snr = 10 * np.log10(signal_power / noise_power)\n"
     ]
    },
    {
     "name": "stdout",
     "output_type": "stream",
     "text": [
      "==========Event 39491208 done!==========\n",
      "ML picking 39491464 not found, skip...\n"
     ]
    },
    {
     "name": "stderr",
     "output_type": "stream",
     "text": [
      "/tmp/ipykernel_39280/1038223605.py:19: RuntimeWarning: All-NaN slice encountered\n",
      "  max_amplitude = np.nanmax(data_matrix_mask, axis=1)\n"
     ]
    },
    {
     "name": "stdout",
     "output_type": "stream",
     "text": [
      "==========Event 39493944 done!==========\n",
      "ML picking 39493968 not found, skip...\n"
     ]
    },
    {
     "name": "stderr",
     "output_type": "stream",
     "text": [
      "/tmp/ipykernel_39280/1038223605.py:19: RuntimeWarning: All-NaN slice encountered\n",
      "  max_amplitude = np.nanmax(data_matrix_mask, axis=1)\n"
     ]
    },
    {
     "name": "stdout",
     "output_type": "stream",
     "text": [
      "==========Event 39494008 done!==========\n",
      "ML picking 39494088 not found, skip...\n",
      "DAS file 39494120 not found, skip...\n",
      "ML picking 39494128 not found, skip...\n",
      "ML picking 39494264 not found, skip...\n"
     ]
    },
    {
     "name": "stderr",
     "output_type": "stream",
     "text": [
      "/tmp/ipykernel_39280/1038223605.py:19: RuntimeWarning: All-NaN slice encountered\n",
      "  max_amplitude = np.nanmax(data_matrix_mask, axis=1)\n",
      "/tmp/ipykernel_39280/1038223605.py:64: RuntimeWarning: divide by zero encountered in log10\n",
      "  snr = 10 * np.log10(signal_power / noise_power)\n"
     ]
    },
    {
     "name": "stdout",
     "output_type": "stream",
     "text": [
      "==========Event 39494672 done!==========\n",
      "ML picking 39495128 not found, skip...\n",
      "ML picking 39496160 not found, skip...\n",
      "ML picking 39496504 not found, skip...\n",
      "ML picking 39266159 not found, skip...\n",
      "ML picking 39266607 not found, skip...\n",
      "ML picking 39266839 not found, skip...\n",
      "ML picking 39268023 not found, skip...\n",
      "ML picking 39268303 not found, skip...\n",
      "DAS file 39271783 not found, skip...\n",
      "ML picking 39276943 not found, skip...\n",
      "ML picking 39281039 not found, skip...\n",
      "DAS file 39292639 not found, skip...\n",
      "ML picking 38599882 not found, skip...\n",
      "ML picking 38603762 not found, skip...\n",
      "DAS file 38605954 not found, skip...\n",
      "ML picking 39322287 not found, skip...\n",
      "ML picking 39322383 not found, skip...\n",
      "ML picking 39322767 not found, skip...\n",
      "ML picking 39328911 not found, skip...\n",
      "ML picking 39346591 not found, skip...\n"
     ]
    },
    {
     "name": "stderr",
     "output_type": "stream",
     "text": [
      "/tmp/ipykernel_39280/1038223605.py:19: RuntimeWarning: All-NaN slice encountered\n",
      "  max_amplitude = np.nanmax(data_matrix_mask, axis=1)\n",
      "/tmp/ipykernel_39280/1038223605.py:64: RuntimeWarning: divide by zero encountered in log10\n",
      "  snr = 10 * np.log10(signal_power / noise_power)\n"
     ]
    },
    {
     "name": "stdout",
     "output_type": "stream",
     "text": [
      "==========Event 39587168 done!==========\n",
      "ML picking 39368535 not found, skip...\n",
      "ML picking 38675290 not found, skip...\n",
      "ML picking 38675450 not found, skip...\n"
     ]
    },
    {
     "name": "stderr",
     "output_type": "stream",
     "text": [
      "/tmp/ipykernel_39280/1038223605.py:19: RuntimeWarning: All-NaN slice encountered\n",
      "  max_amplitude = np.nanmax(data_matrix_mask, axis=1)\n",
      "/tmp/ipykernel_39280/1038223605.py:64: RuntimeWarning: divide by zero encountered in log10\n",
      "  snr = 10 * np.log10(signal_power / noise_power)\n"
     ]
    },
    {
     "name": "stdout",
     "output_type": "stream",
     "text": [
      "==========Event 38676562 done!==========\n"
     ]
    },
    {
     "name": "stderr",
     "output_type": "stream",
     "text": [
      "/tmp/ipykernel_39280/1038223605.py:19: RuntimeWarning: All-NaN slice encountered\n",
      "  max_amplitude = np.nanmax(data_matrix_mask, axis=1)\n",
      "/tmp/ipykernel_39280/1038223605.py:64: RuntimeWarning: divide by zero encountered in log10\n",
      "  snr = 10 * np.log10(signal_power / noise_power)\n"
     ]
    },
    {
     "name": "stdout",
     "output_type": "stream",
     "text": [
      "==========Event 38683914 done!==========\n",
      "ML picking 38683930 not found, skip...\n",
      "DAS file 38683938 not found, skip...\n",
      "ML picking 38693130 not found, skip...\n",
      "ML picking 38695658 not found, skip...\n",
      "ML picking 38697738 not found, skip...\n",
      "ML picking 38700978 not found, skip...\n",
      "ML picking 38701098 not found, skip...\n",
      "ML picking 38703786 not found, skip...\n",
      "ML picking 38703802 not found, skip...\n",
      "ML picking 39649656 not found, skip...\n",
      "ML picking 39651712 not found, skip...\n",
      "ML picking 39654952 not found, skip...\n",
      "ML picking 39667688 not found, skip...\n",
      "ML picking 39668384 not found, skip...\n",
      "ML picking 39441087 not found, skip...\n",
      "ML picking 39441199 not found, skip...\n",
      "ML picking 39445839 not found, skip...\n",
      "ML picking 39452551 not found, skip...\n",
      "ML picking 39455887 not found, skip...\n",
      "ML picking 39460703 not found, skip...\n",
      "ML picking 39466855 not found, skip...\n",
      "ML picking 39466903 not found, skip...\n",
      "ML picking 39467983 not found, skip...\n",
      "ML picking 39468407 not found, skip...\n",
      "ML picking 39470639 not found, skip...\n",
      "ML picking 39477655 not found, skip...\n"
     ]
    },
    {
     "name": "stderr",
     "output_type": "stream",
     "text": [
      "/tmp/ipykernel_39280/1038223605.py:19: RuntimeWarning: All-NaN slice encountered\n",
      "  max_amplitude = np.nanmax(data_matrix_mask, axis=1)\n",
      "/tmp/ipykernel_39280/1038223605.py:64: RuntimeWarning: divide by zero encountered in log10\n",
      "  snr = 10 * np.log10(signal_power / noise_power)\n"
     ]
    },
    {
     "name": "stdout",
     "output_type": "stream",
     "text": [
      "==========Event 39480223 done!==========\n"
     ]
    },
    {
     "name": "stderr",
     "output_type": "stream",
     "text": [
      "/tmp/ipykernel_39280/1038223605.py:19: RuntimeWarning: All-NaN slice encountered\n",
      "  max_amplitude = np.nanmax(data_matrix_mask, axis=1)\n",
      "/tmp/ipykernel_39280/1038223605.py:64: RuntimeWarning: divide by zero encountered in log10\n",
      "  snr = 10 * np.log10(signal_power / noise_power)\n"
     ]
    },
    {
     "name": "stdout",
     "output_type": "stream",
     "text": [
      "==========Event 39481463 done!==========\n",
      "ML picking 39487087 not found, skip...\n",
      "ML picking 39504023 not found, skip...\n"
     ]
    },
    {
     "name": "stderr",
     "output_type": "stream",
     "text": [
      "/tmp/ipykernel_39280/1038223605.py:19: RuntimeWarning: All-NaN slice encountered\n",
      "  max_amplitude = np.nanmax(data_matrix_mask, axis=1)\n",
      "/tmp/ipykernel_39280/1038223605.py:64: RuntimeWarning: divide by zero encountered in log10\n",
      "  snr = 10 * np.log10(signal_power / noise_power)\n"
     ]
    },
    {
     "name": "stdout",
     "output_type": "stream",
     "text": [
      "==========Event 39505103 done!==========\n",
      "ML picking 39509183 not found, skip...\n"
     ]
    },
    {
     "name": "stderr",
     "output_type": "stream",
     "text": [
      "/tmp/ipykernel_39280/1038223605.py:19: RuntimeWarning: All-NaN slice encountered\n",
      "  max_amplitude = np.nanmax(data_matrix_mask, axis=1)\n",
      "/tmp/ipykernel_39280/1038223605.py:64: RuntimeWarning: divide by zero encountered in log10\n",
      "  snr = 10 * np.log10(signal_power / noise_power)\n"
     ]
    },
    {
     "name": "stdout",
     "output_type": "stream",
     "text": [
      "==========Event 39759376 done!==========\n"
     ]
    },
    {
     "name": "stderr",
     "output_type": "stream",
     "text": [
      "/tmp/ipykernel_39280/1038223605.py:19: RuntimeWarning: All-NaN slice encountered\n",
      "  max_amplitude = np.nanmax(data_matrix_mask, axis=1)\n",
      "/tmp/ipykernel_39280/1038223605.py:64: RuntimeWarning: divide by zero encountered in log10\n",
      "  snr = 10 * np.log10(signal_power / noise_power)\n"
     ]
    },
    {
     "name": "stdout",
     "output_type": "stream",
     "text": [
      "==========Event 39759432 done!==========\n",
      "ML picking 39760416 not found, skip...\n",
      "ML picking 39762912 not found, skip...\n"
     ]
    },
    {
     "name": "stderr",
     "output_type": "stream",
     "text": [
      "/tmp/ipykernel_39280/1038223605.py:19: RuntimeWarning: All-NaN slice encountered\n",
      "  max_amplitude = np.nanmax(data_matrix_mask, axis=1)\n",
      "/tmp/ipykernel_39280/1038223605.py:64: RuntimeWarning: divide by zero encountered in log10\n",
      "  snr = 10 * np.log10(signal_power / noise_power)\n"
     ]
    },
    {
     "name": "stdout",
     "output_type": "stream",
     "text": [
      "==========Event 39763472 done!==========\n"
     ]
    },
    {
     "name": "stderr",
     "output_type": "stream",
     "text": [
      "/tmp/ipykernel_39280/1038223605.py:19: RuntimeWarning: All-NaN slice encountered\n",
      "  max_amplitude = np.nanmax(data_matrix_mask, axis=1)\n",
      "/tmp/ipykernel_39280/1038223605.py:64: RuntimeWarning: divide by zero encountered in log10\n",
      "  snr = 10 * np.log10(signal_power / noise_power)\n"
     ]
    },
    {
     "name": "stdout",
     "output_type": "stream",
     "text": [
      "==========Event 39763488 done!==========\n",
      "ML picking 39534943 not found, skip...\n"
     ]
    },
    {
     "name": "stderr",
     "output_type": "stream",
     "text": [
      "/tmp/ipykernel_39280/1038223605.py:19: RuntimeWarning: All-NaN slice encountered\n",
      "  max_amplitude = np.nanmax(data_matrix_mask, axis=1)\n",
      "/tmp/ipykernel_39280/1038223605.py:64: RuntimeWarning: divide by zero encountered in log10\n",
      "  snr = 10 * np.log10(signal_power / noise_power)\n"
     ]
    },
    {
     "name": "stdout",
     "output_type": "stream",
     "text": [
      "==========Event 39543967 done!==========\n"
     ]
    },
    {
     "name": "stderr",
     "output_type": "stream",
     "text": [
      "/tmp/ipykernel_39280/1038223605.py:19: RuntimeWarning: All-NaN slice encountered\n",
      "  max_amplitude = np.nanmax(data_matrix_mask, axis=1)\n",
      "/tmp/ipykernel_39280/1038223605.py:64: RuntimeWarning: divide by zero encountered in log10\n",
      "  snr = 10 * np.log10(signal_power / noise_power)\n"
     ]
    },
    {
     "name": "stdout",
     "output_type": "stream",
     "text": [
      "==========Event 39550567 done!==========\n",
      "ML picking 39551831 not found, skip...\n"
     ]
    },
    {
     "name": "stderr",
     "output_type": "stream",
     "text": [
      "/tmp/ipykernel_39280/1038223605.py:19: RuntimeWarning: All-NaN slice encountered\n",
      "  max_amplitude = np.nanmax(data_matrix_mask, axis=1)\n",
      "/tmp/ipykernel_39280/1038223605.py:64: RuntimeWarning: divide by zero encountered in log10\n",
      "  snr = 10 * np.log10(signal_power / noise_power)\n"
     ]
    },
    {
     "name": "stdout",
     "output_type": "stream",
     "text": [
      "==========Event 39552143 done!==========\n"
     ]
    },
    {
     "name": "stderr",
     "output_type": "stream",
     "text": [
      "/tmp/ipykernel_39280/1038223605.py:19: RuntimeWarning: All-NaN slice encountered\n",
      "  max_amplitude = np.nanmax(data_matrix_mask, axis=1)\n",
      "/tmp/ipykernel_39280/1038223605.py:64: RuntimeWarning: divide by zero encountered in log10\n",
      "  snr = 10 * np.log10(signal_power / noise_power)\n"
     ]
    },
    {
     "name": "stdout",
     "output_type": "stream",
     "text": [
      "==========Event 39794648 done!==========\n",
      "ML picking 39796240 not found, skip...\n",
      "ML picking 39797144 not found, skip...\n",
      "ML picking 39803176 not found, skip...\n"
     ]
    },
    {
     "name": "stderr",
     "output_type": "stream",
     "text": [
      "/tmp/ipykernel_39280/1038223605.py:19: RuntimeWarning: All-NaN slice encountered\n",
      "  max_amplitude = np.nanmax(data_matrix_mask, axis=1)\n",
      "/tmp/ipykernel_39280/1038223605.py:64: RuntimeWarning: divide by zero encountered in log10\n",
      "  snr = 10 * np.log10(signal_power / noise_power)\n"
     ]
    },
    {
     "name": "stdout",
     "output_type": "stream",
     "text": [
      "==========Event 39803680 done!==========\n",
      "ML picking 39804712 not found, skip...\n",
      "ML picking 39572823 not found, skip...\n",
      "ML picking 39586079 not found, skip...\n",
      "ML picking 39588623 not found, skip...\n",
      "ML picking 39838568 not found, skip...\n",
      "ML picking 39838888 not found, skip...\n",
      "ML picking 39838928 not found, skip...\n"
     ]
    },
    {
     "name": "stderr",
     "output_type": "stream",
     "text": [
      "/tmp/ipykernel_39280/1038223605.py:19: RuntimeWarning: All-NaN slice encountered\n",
      "  max_amplitude = np.nanmax(data_matrix_mask, axis=1)\n",
      "/tmp/ipykernel_39280/1038223605.py:64: RuntimeWarning: divide by zero encountered in log10\n",
      "  snr = 10 * np.log10(signal_power / noise_power)\n"
     ]
    },
    {
     "name": "stdout",
     "output_type": "stream",
     "text": [
      "==========Event 39841832 done!==========\n"
     ]
    },
    {
     "name": "stderr",
     "output_type": "stream",
     "text": [
      "/tmp/ipykernel_39280/1038223605.py:19: RuntimeWarning: All-NaN slice encountered\n",
      "  max_amplitude = np.nanmax(data_matrix_mask, axis=1)\n",
      "/tmp/ipykernel_39280/1038223605.py:64: RuntimeWarning: divide by zero encountered in log10\n",
      "  snr = 10 * np.log10(signal_power / noise_power)\n"
     ]
    },
    {
     "name": "stdout",
     "output_type": "stream",
     "text": [
      "==========Event 39843952 done!==========\n",
      "ML picking 39844112 not found, skip...\n",
      "ML picking 39845512 not found, skip...\n"
     ]
    },
    {
     "name": "stderr",
     "output_type": "stream",
     "text": [
      "/tmp/ipykernel_39280/1038223605.py:19: RuntimeWarning: All-NaN slice encountered\n",
      "  max_amplitude = np.nanmax(data_matrix_mask, axis=1)\n",
      "/tmp/ipykernel_39280/1038223605.py:64: RuntimeWarning: divide by zero encountered in log10\n",
      "  snr = 10 * np.log10(signal_power / noise_power)\n"
     ]
    },
    {
     "name": "stdout",
     "output_type": "stream",
     "text": [
      "==========Event 39846664 done!==========\n",
      "ML picking 39849144 not found, skip...\n",
      "ML picking 39851144 not found, skip...\n",
      "ML picking 39853648 not found, skip...\n",
      "ML picking 39625767 not found, skip...\n"
     ]
    },
    {
     "name": "stderr",
     "output_type": "stream",
     "text": [
      "/tmp/ipykernel_39280/1038223605.py:19: RuntimeWarning: All-NaN slice encountered\n",
      "  max_amplitude = np.nanmax(data_matrix_mask, axis=1)\n",
      "/tmp/ipykernel_39280/1038223605.py:64: RuntimeWarning: divide by zero encountered in log10\n",
      "  snr = 10 * np.log10(signal_power / noise_power)\n"
     ]
    },
    {
     "name": "stdout",
     "output_type": "stream",
     "text": [
      "==========Event 39634983 done!==========\n",
      "ML picking 39645599 not found, skip...\n",
      "ML picking 39645767 not found, skip...\n"
     ]
    },
    {
     "name": "stderr",
     "output_type": "stream",
     "text": [
      "/tmp/ipykernel_39280/1038223605.py:19: RuntimeWarning: All-NaN slice encountered\n",
      "  max_amplitude = np.nanmax(data_matrix_mask, axis=1)\n",
      "/tmp/ipykernel_39280/1038223605.py:64: RuntimeWarning: divide by zero encountered in log10\n",
      "  snr = 10 * np.log10(signal_power / noise_power)\n"
     ]
    },
    {
     "name": "stdout",
     "output_type": "stream",
     "text": [
      "==========Event 39659271 done!==========\n",
      "ML picking 39905824 not found, skip...\n",
      "ML picking 39906312 not found, skip...\n"
     ]
    }
   ],
   "source": [
    "extrapolate_ml_picking = False\n",
    "\n",
    "from obspy.geodetics import locations2degrees\n",
    "import glob\n",
    "\n",
    "# extract the maximum amplitude\n",
    "peak_ampliutde_P_all = [] # strain rate\n",
    "peak_ampliutde_S_all = [] # strain rate\n",
    "peak_strain_P_all = [] # strain\n",
    "peak_strain_S_all = [] # strain\n",
    "snrP_all = [] # SNR from P strain rate (P, P + 10)\n",
    "snrS_all = [] # SNR from S strain rate (S, S + 20) \n",
    "max_P_time_all = [] # time of P maximum relative to P\n",
    "max_S_time_all = [] # time of S maximum relative to S\n",
    "\n",
    "distance_all = []\n",
    "magnitude_all = []\n",
    "event_id_all = []\n",
    "channel_id_all = []\n",
    "\n",
    "# path of the ML picking \n",
    "ml_pick_dir = '/kuafu/yinjx/Ridgecrest/Ridgecrest_scaling/picking_Weiqiang/picks_yinjx_all'\n",
    "\n",
    "# Check the segmented 50Hz data\n",
    "das_path = '/kuafu/yinjx/Ridgecrest/Ridgecrest_scaling/ML_picking_data_eye_picked'\n",
    "\n",
    "das_dt = 0.02 # downsampled to 50 Hz\n",
    "for i_event, eq_id_current in enumerate(eq_id):\n",
    "      \n",
    "    try: \n",
    "        # look for the corresponding ML picks\n",
    "        ml_picks_file = glob.glob(ml_pick_dir + f'/*{eq_id_current}.csv')\n",
    "        ml_picks = pd.read_csv(ml_picks_file[0])\n",
    "\n",
    "        # extract the picked information\n",
    "        ml_picks_p = ml_picks[ml_picks['phase_type'] == 'p']\n",
    "        ml_picks_s = ml_picks[ml_picks['phase_type'] == 's']\n",
    "\n",
    "        # remove some duplicated picks, only keep those with higher probability\n",
    "        ml_picks_p = ml_picks_p.drop_duplicates(subset=['station_name'], keep='first')\n",
    "        ml_picks_s = ml_picks_s.drop_duplicates(subset=['station_name'], keep='first')\n",
    "        \n",
    "        # extrapolate the index in case the ML picking is imcomplete\n",
    "        event_arrival_P_ml_index = extrapolate_arrival_time(ml_picks_p)\n",
    "        event_arrival_S_ml_index = extrapolate_arrival_time(ml_picks_s)\n",
    "        \n",
    "        if extrapolate_ml_picking:\n",
    "            # extrapolate the index in case the ML picking is imcomplete\n",
    "            event_arrival_P_ml_index = extrapolate_arrival_time(ml_picks_p, kind='nearest')\n",
    "            event_arrival_S_ml_index = extrapolate_arrival_time(ml_picks_s, kind='nearest')\n",
    "\n",
    "        else:\n",
    "            event_arrival_P_ml_index = extrapolate_arrival_time(ml_picks_p, kind=None)\n",
    "            event_arrival_S_ml_index = extrapolate_arrival_time(ml_picks_s, kind=None)\n",
    "\n",
    "    except:\n",
    "        print(f'ML picking {eq_id_current} not found, skip...')\n",
    "        continue\n",
    "        \n",
    "    try:\n",
    "        # look for the corresponding data file\n",
    "        file_name = glob.glob(das_path + f'/*{eq_id_current}.npz')\n",
    "        temp = np.load(file_name[0])\n",
    "        data_diff = temp[temp.files[0]]\n",
    "\n",
    "        # time information \n",
    "        das_time = np.arange(data_diff.shape[0]) * das_dt\n",
    "\n",
    "        # get the ML pick time\n",
    "        event_arrival_P_ml = das_time[event_arrival_P_ml_index.astype('int')]\n",
    "        event_arrival_S_ml = das_time[event_arrival_S_ml_index.astype('int')]\n",
    "\n",
    "        end_time = np.ones(event_arrival_S_ml.shape) * das_time[-1]\n",
    "\n",
    "        data_diff = data_diff.T\n",
    "        # Extract the maximum given the P and S arrival time\n",
    "        max_P_amplitude, max_P_time = extract_maximum_amplitude(das_time, abs(data_diff), \n",
    "                                                    event_arrival_P_ml, event_arrival_S_ml)\n",
    "        max_S_amplitude, max_S_time = extract_maximum_amplitude(das_time, abs(data_diff), \n",
    "                                                    event_arrival_S_ml, end_time)\n",
    "\n",
    "        # prepare the time window list for SNR calculation\n",
    "        event_arrival_P_ml_temp = event_arrival_P_ml[:, np.newaxis]\n",
    "        event_arrival_S_ml_temp = event_arrival_S_ml[:, np.newaxis]\n",
    "        twin_noise = [event_arrival_P_ml_temp-10, event_arrival_P_ml_temp]\n",
    "        twin_signal_P = [event_arrival_P_ml_temp, event_arrival_P_ml_temp + 10]\n",
    "        twin_signal_S = [event_arrival_S_ml_temp, event_arrival_S_ml_temp + 20]\n",
    "\n",
    "        snrP = calculate_SNR(das_time, data_diff, twin_noise, twin_signal_P)\n",
    "        snrS = calculate_SNR(das_time, data_diff, twin_noise, twin_signal_S)\n",
    "        \n",
    "        # Also extract strain maximum\n",
    "        strain = convert_to_strain(data_diff, das_time)\n",
    "        # Extract the maximum strain given the P and S arrival time\n",
    "        max_P_strain, _ = extract_maximum_amplitude(das_time, abs(strain), \n",
    "                                                    event_arrival_P_ml, event_arrival_S_ml)\n",
    "        max_S_strain, _ = extract_maximum_amplitude(das_time, abs(strain), \n",
    "                                                    event_arrival_S_ml, end_time)\n",
    "        \n",
    "        \n",
    "        \n",
    "\n",
    "        # Distance from each channel to the source\n",
    "        distance_to_source = locations2degrees(DAS_lat, DAS_lon, eq_lat[i_event], eq_lon[i_event])\n",
    "\n",
    "        # Magnitude of each earhtquake\n",
    "        magnitude_all.append(np.ones(DAS_lat.shape) * eq_mag[i_event])\n",
    "        # A simple event label\n",
    "        event_id_all.append((np.ones(DAS_lat.shape) * eq_id_current).astype('int'))\n",
    "        # Channel id\n",
    "        channel_id_all.append(DAS_index)\n",
    "\n",
    "\n",
    "        peak_ampliutde_P_all.append(max_P_amplitude)\n",
    "        peak_ampliutde_S_all.append(max_S_amplitude)\n",
    "        peak_strain_P_all.append(max_P_strain)\n",
    "        peak_strain_S_all.append(max_S_strain)\n",
    "        max_P_time_all.append(max_P_time)\n",
    "        max_S_time_all.append(max_S_time)\n",
    "        distance_all.append(distance_to_source)\n",
    "        snrP_all.append(snrP)\n",
    "        snrS_all.append(snrS)\n",
    "        print('=' * 10 + f'Event {eq_id_current} done!' + '=' * 10)\n",
    "        \n",
    "    except:\n",
    "        print(f'DAS file {eq_id_current} not found, skip...')\n",
    "        continue\n",
    "        \n",
    "    "
   ]
  },
  {
   "cell_type": "markdown",
   "id": "bdd2d8b5",
   "metadata": {},
   "source": [
    "### Flatten all the measured results. Output all the results."
   ]
  },
  {
   "cell_type": "code",
   "execution_count": 155,
   "id": "1c14eccc",
   "metadata": {},
   "outputs": [],
   "source": [
    "peak_ampliutde_P_all_flatten = np.array(peak_ampliutde_P_all).flatten()\n",
    "peak_ampliutde_S_all_flatten = np.array(peak_ampliutde_S_all).flatten()\n",
    "peak_strain_P_all_flatten = np.array(peak_strain_P_all).flatten()\n",
    "peak_strain_S_all_flatten = np.array(peak_strain_S_all).flatten()\n",
    "snrP_all_flatten = np.array(snrP_all).flatten()\n",
    "snrS_all_flatten = np.array(snrS_all).flatten()\n",
    "max_P_time_all_flatten = np.array(max_P_time_all).flatten()\n",
    "max_S_time_all_flatten = np.array(max_S_time_all).flatten()\n",
    "distance_all_flatten = np.array(distance_all).flatten()\n",
    "distance_all_km_flatten = distance_all_flatten * 113\n",
    "magnitude_all_flatten = np.array(magnitude_all).flatten()\n",
    "event_id_all_flatten = np.array(event_id_all).flatten()\n",
    "channel_id_all_flatten = np.array(channel_id_all).flatten()"
   ]
  },
  {
   "cell_type": "code",
   "execution_count": 156,
   "id": "bf6bce15",
   "metadata": {},
   "outputs": [],
   "source": [
    "results_output_dir = '/kuafu/yinjx/Ridgecrest/Ridgecrest_scaling/peak_amplitude_scaling_results_strain_rate_snr'\n",
    "if not os.path.exists(results_output_dir):\n",
    "    os.mkdir(results_output_dir)\n",
    "\n",
    "\n",
    "output_file_name = results_output_dir + '/peak_amplitude_M3+.csv'\n",
    "\n",
    "all_combined = np.array([event_id_all_flatten, \n",
    "                         magnitude_all_flatten, \n",
    "                         distance_all_km_flatten, \n",
    "                         peak_ampliutde_P_all_flatten, \n",
    "                         peak_ampliutde_S_all_flatten,\n",
    "                         peak_strain_P_all_flatten,\n",
    "                         peak_strain_S_all_flatten,\n",
    "                         channel_id_all_flatten,\n",
    "                         snrP_all_flatten,\n",
    "                         snrS_all_flatten,\n",
    "                         max_P_time_all_flatten,\n",
    "                         max_S_time_all_flatten]).T\n",
    "\n",
    "peak_amplitude_df = pd.DataFrame(data=all_combined, \n",
    "                                 columns=['event_id', 'magnitude', 'distance_in_km', 'peak_P', 'peak_S','peak_P_strain', 'peak_S_strain', 'channel_id', 'snrP', 'snrS', 'max_P_time', 'max_S_time'])\n",
    "\n",
    "\n",
    "peak_amplitude_df = peak_amplitude_df.dropna()\n",
    "# Write the results to a csv file\n",
    "peak_amplitude_df.to_csv(output_file_name, index=False)"
   ]
  },
  {
   "cell_type": "code",
   "execution_count": 3,
   "id": "2edaec96",
   "metadata": {},
   "outputs": [],
   "source": [
    "# Load the peak amplitude results\n",
    "import pandas as pd\n",
    "import numpy as np\n",
    "\n",
    "results_output_dir = '/kuafu/yinjx/Ridgecrest/Ridgecrest_scaling/peak_amplitude_scaling_results_strain_rate_snr'\n",
    "\n",
    "peak_amplitude_file_name = results_output_dir + '/peak_amplitude_M3+.csv'\n",
    "peak_amplitude_df = pd.read_csv(peak_amplitude_file_name)"
   ]
  },
  {
   "cell_type": "code",
   "execution_count": 4,
   "id": "63a1003c",
   "metadata": {},
   "outputs": [
    {
     "data": {
      "text/html": [
       "<div>\n",
       "<style scoped>\n",
       "    .dataframe tbody tr th:only-of-type {\n",
       "        vertical-align: middle;\n",
       "    }\n",
       "\n",
       "    .dataframe tbody tr th {\n",
       "        vertical-align: top;\n",
       "    }\n",
       "\n",
       "    .dataframe thead th {\n",
       "        text-align: right;\n",
       "    }\n",
       "</style>\n",
       "<table border=\"1\" class=\"dataframe\">\n",
       "  <thead>\n",
       "    <tr style=\"text-align: right;\">\n",
       "      <th></th>\n",
       "      <th>event_id</th>\n",
       "      <th>magnitude</th>\n",
       "      <th>distance_in_km</th>\n",
       "      <th>peak_P</th>\n",
       "      <th>peak_S</th>\n",
       "      <th>peak_P_strain</th>\n",
       "      <th>peak_S_strain</th>\n",
       "      <th>channel_id</th>\n",
       "      <th>snrP</th>\n",
       "      <th>snrS</th>\n",
       "      <th>max_P_time</th>\n",
       "      <th>max_S_time</th>\n",
       "    </tr>\n",
       "  </thead>\n",
       "  <tbody>\n",
       "    <tr>\n",
       "      <th>0</th>\n",
       "      <td>38522647.0</td>\n",
       "      <td>4.17</td>\n",
       "      <td>15.325319</td>\n",
       "      <td>1741.500732</td>\n",
       "      <td>5398.627930</td>\n",
       "      <td>32015.793665</td>\n",
       "      <td>507519.838552</td>\n",
       "      <td>404.0</td>\n",
       "      <td>35.693535</td>\n",
       "      <td>36.059296</td>\n",
       "      <td>2.30</td>\n",
       "      <td>8.46</td>\n",
       "    </tr>\n",
       "    <tr>\n",
       "      <th>1</th>\n",
       "      <td>38522647.0</td>\n",
       "      <td>4.17</td>\n",
       "      <td>15.333454</td>\n",
       "      <td>1303.977905</td>\n",
       "      <td>5487.338867</td>\n",
       "      <td>20049.395515</td>\n",
       "      <td>508670.763693</td>\n",
       "      <td>405.0</td>\n",
       "      <td>37.439789</td>\n",
       "      <td>38.091179</td>\n",
       "      <td>1.66</td>\n",
       "      <td>8.42</td>\n",
       "    </tr>\n",
       "    <tr>\n",
       "      <th>2</th>\n",
       "      <td>38522647.0</td>\n",
       "      <td>4.17</td>\n",
       "      <td>15.341499</td>\n",
       "      <td>1131.332397</td>\n",
       "      <td>5264.838867</td>\n",
       "      <td>21601.873710</td>\n",
       "      <td>535854.767847</td>\n",
       "      <td>406.0</td>\n",
       "      <td>38.677017</td>\n",
       "      <td>39.232899</td>\n",
       "      <td>1.72</td>\n",
       "      <td>8.46</td>\n",
       "    </tr>\n",
       "    <tr>\n",
       "      <th>3</th>\n",
       "      <td>38522647.0</td>\n",
       "      <td>4.17</td>\n",
       "      <td>15.349532</td>\n",
       "      <td>1862.151978</td>\n",
       "      <td>4297.088379</td>\n",
       "      <td>37635.894167</td>\n",
       "      <td>458461.955129</td>\n",
       "      <td>407.0</td>\n",
       "      <td>33.928749</td>\n",
       "      <td>34.044182</td>\n",
       "      <td>2.44</td>\n",
       "      <td>8.78</td>\n",
       "    </tr>\n",
       "    <tr>\n",
       "      <th>4</th>\n",
       "      <td>38522647.0</td>\n",
       "      <td>4.17</td>\n",
       "      <td>15.357668</td>\n",
       "      <td>1646.972534</td>\n",
       "      <td>4678.222656</td>\n",
       "      <td>41020.440725</td>\n",
       "      <td>461554.497930</td>\n",
       "      <td>408.0</td>\n",
       "      <td>25.131323</td>\n",
       "      <td>24.872915</td>\n",
       "      <td>2.62</td>\n",
       "      <td>2.00</td>\n",
       "    </tr>\n",
       "    <tr>\n",
       "      <th>...</th>\n",
       "      <td>...</td>\n",
       "      <td>...</td>\n",
       "      <td>...</td>\n",
       "      <td>...</td>\n",
       "      <td>...</td>\n",
       "      <td>...</td>\n",
       "      <td>...</td>\n",
       "      <td>...</td>\n",
       "      <td>...</td>\n",
       "      <td>...</td>\n",
       "      <td>...</td>\n",
       "      <td>...</td>\n",
       "    </tr>\n",
       "    <tr>\n",
       "      <th>164837</th>\n",
       "      <td>39659271.0</td>\n",
       "      <td>3.59</td>\n",
       "      <td>54.036639</td>\n",
       "      <td>177.368149</td>\n",
       "      <td>234.374985</td>\n",
       "      <td>2907.959248</td>\n",
       "      <td>12854.325328</td>\n",
       "      <td>1239.0</td>\n",
       "      <td>5.012650</td>\n",
       "      <td>3.286391</td>\n",
       "      <td>0.36</td>\n",
       "      <td>0.50</td>\n",
       "    </tr>\n",
       "    <tr>\n",
       "      <th>164838</th>\n",
       "      <td>39659271.0</td>\n",
       "      <td>3.59</td>\n",
       "      <td>54.042592</td>\n",
       "      <td>132.812500</td>\n",
       "      <td>207.031235</td>\n",
       "      <td>2816.751162</td>\n",
       "      <td>13973.327081</td>\n",
       "      <td>1240.0</td>\n",
       "      <td>4.204865</td>\n",
       "      <td>2.843199</td>\n",
       "      <td>0.34</td>\n",
       "      <td>0.48</td>\n",
       "    </tr>\n",
       "    <tr>\n",
       "      <th>164839</th>\n",
       "      <td>39659271.0</td>\n",
       "      <td>3.59</td>\n",
       "      <td>54.048613</td>\n",
       "      <td>149.414062</td>\n",
       "      <td>196.289047</td>\n",
       "      <td>2654.049441</td>\n",
       "      <td>11594.317952</td>\n",
       "      <td>1241.0</td>\n",
       "      <td>3.043295</td>\n",
       "      <td>1.893932</td>\n",
       "      <td>1.14</td>\n",
       "      <td>0.50</td>\n",
       "    </tr>\n",
       "    <tr>\n",
       "      <th>164840</th>\n",
       "      <td>39659271.0</td>\n",
       "      <td>3.59</td>\n",
       "      <td>54.054567</td>\n",
       "      <td>199.218735</td>\n",
       "      <td>175.781235</td>\n",
       "      <td>2608.890299</td>\n",
       "      <td>10722.116419</td>\n",
       "      <td>1242.0</td>\n",
       "      <td>1.710825</td>\n",
       "      <td>-0.085950</td>\n",
       "      <td>0.38</td>\n",
       "      <td>17.08</td>\n",
       "    </tr>\n",
       "    <tr>\n",
       "      <th>164841</th>\n",
       "      <td>39659271.0</td>\n",
       "      <td>3.59</td>\n",
       "      <td>54.060521</td>\n",
       "      <td>151.367188</td>\n",
       "      <td>172.851547</td>\n",
       "      <td>2366.613526</td>\n",
       "      <td>10190.788648</td>\n",
       "      <td>1243.0</td>\n",
       "      <td>1.006553</td>\n",
       "      <td>-0.713521</td>\n",
       "      <td>0.10</td>\n",
       "      <td>0.44</td>\n",
       "    </tr>\n",
       "  </tbody>\n",
       "</table>\n",
       "<p>164842 rows × 12 columns</p>\n",
       "</div>"
      ],
      "text/plain": [
       "          event_id  magnitude  distance_in_km       peak_P       peak_S  \\\n",
       "0       38522647.0       4.17       15.325319  1741.500732  5398.627930   \n",
       "1       38522647.0       4.17       15.333454  1303.977905  5487.338867   \n",
       "2       38522647.0       4.17       15.341499  1131.332397  5264.838867   \n",
       "3       38522647.0       4.17       15.349532  1862.151978  4297.088379   \n",
       "4       38522647.0       4.17       15.357668  1646.972534  4678.222656   \n",
       "...            ...        ...             ...          ...          ...   \n",
       "164837  39659271.0       3.59       54.036639   177.368149   234.374985   \n",
       "164838  39659271.0       3.59       54.042592   132.812500   207.031235   \n",
       "164839  39659271.0       3.59       54.048613   149.414062   196.289047   \n",
       "164840  39659271.0       3.59       54.054567   199.218735   175.781235   \n",
       "164841  39659271.0       3.59       54.060521   151.367188   172.851547   \n",
       "\n",
       "        peak_P_strain  peak_S_strain  channel_id       snrP       snrS  \\\n",
       "0        32015.793665  507519.838552       404.0  35.693535  36.059296   \n",
       "1        20049.395515  508670.763693       405.0  37.439789  38.091179   \n",
       "2        21601.873710  535854.767847       406.0  38.677017  39.232899   \n",
       "3        37635.894167  458461.955129       407.0  33.928749  34.044182   \n",
       "4        41020.440725  461554.497930       408.0  25.131323  24.872915   \n",
       "...               ...            ...         ...        ...        ...   \n",
       "164837    2907.959248   12854.325328      1239.0   5.012650   3.286391   \n",
       "164838    2816.751162   13973.327081      1240.0   4.204865   2.843199   \n",
       "164839    2654.049441   11594.317952      1241.0   3.043295   1.893932   \n",
       "164840    2608.890299   10722.116419      1242.0   1.710825  -0.085950   \n",
       "164841    2366.613526   10190.788648      1243.0   1.006553  -0.713521   \n",
       "\n",
       "        max_P_time  max_S_time  \n",
       "0             2.30        8.46  \n",
       "1             1.66        8.42  \n",
       "2             1.72        8.46  \n",
       "3             2.44        8.78  \n",
       "4             2.62        2.00  \n",
       "...            ...         ...  \n",
       "164837        0.36        0.50  \n",
       "164838        0.34        0.48  \n",
       "164839        1.14        0.50  \n",
       "164840        0.38       17.08  \n",
       "164841        0.10        0.44  \n",
       "\n",
       "[164842 rows x 12 columns]"
      ]
     },
     "execution_count": 4,
     "metadata": {},
     "output_type": "execute_result"
    }
   ],
   "source": [
    "peak_amplitude_df"
   ]
  },
  {
   "cell_type": "code",
   "execution_count": 5,
   "id": "8549d947",
   "metadata": {},
   "outputs": [],
   "source": [
    "max_P_time = peak_amplitude_df.max_P_time"
   ]
  },
  {
   "cell_type": "code",
   "execution_count": 6,
   "id": "8f2f1e8e",
   "metadata": {},
   "outputs": [
    {
     "data": {
      "text/plain": [
       "(array([  6.50680000e+04,   7.72010000e+04,   1.49370000e+04,\n",
       "          4.71700000e+03,   1.38800000e+03,   1.40600000e+03,\n",
       "          1.90000000e+01,   1.20000000e+01,   8.10000000e+01,\n",
       "          1.30000000e+01]),\n",
       " array([  0.   ,   2.346,   4.692,   7.038,   9.384,  11.73 ,  14.076,\n",
       "         16.422,  18.768,  21.114,  23.46 ]),\n",
       " <BarContainer object of 10 artists>)"
      ]
     },
     "execution_count": 6,
     "metadata": {},
     "output_type": "execute_result"
    },
    {
     "data": {
      "image/png": "[encoded data removed]",
      "text/plain": [
       "<Figure size 432x288 with 1 Axes>"
      ]
     },
     "metadata": {
      "needs_background": "light"
     },
     "output_type": "display_data"
    }
   ],
   "source": [
    "plt.hist(max_P_time)"
   ]
  },
  {
   "cell_type": "code",
   "execution_count": 7,
   "id": "8d34aa54",
   "metadata": {},
   "outputs": [
    {
     "data": {
      "text/plain": [
       "[<matplotlib.lines.Line2D at 0x7f0079e65b20>]"
      ]
     },
     "execution_count": 7,
     "metadata": {},
     "output_type": "execute_result"
    },
    {
     "data": {
      "image/png": "[encoded data removed]",
      "text/plain": [
       "<Figure size 432x288 with 1 Axes>"
      ]
     },
     "metadata": {
      "needs_background": "light"
     },
     "output_type": "display_data"
    }
   ],
   "source": [
    "plt.plot(peak_amplitude_df.magnitude, peak_amplitude_df.max_P_time, 'x', alpha=0.01)"
   ]
  },
  {
   "cell_type": "code",
   "execution_count": 9,
   "id": "7498c5d5",
   "metadata": {},
   "outputs": [
    {
     "data": {
      "text/plain": [
       "[<matplotlib.lines.Line2D at 0x7f0079a612e0>]"
      ]
     },
     "execution_count": 9,
     "metadata": {},
     "output_type": "execute_result"
    },
    {
     "data": {
      "image/png": "[encoded data removed]",
      "text/plain": [
       "<Figure size 432x288 with 1 Axes>"
      ]
     },
     "metadata": {
      "needs_background": "light"
     },
     "output_type": "display_data"
    }
   ],
   "source": [
    "plt.plot(peak_amplitude_df.distance_in_km, peak_amplitude_df.max_P_time, 'x', alpha=0.01)"
   ]
  },
  {
   "cell_type": "code",
   "execution_count": 10,
   "id": "ef73da65",
   "metadata": {},
   "outputs": [],
   "source": [
    "import seaborn as sns"
   ]
  },
  {
   "cell_type": "code",
   "execution_count": 43,
   "id": "d6330030",
   "metadata": {},
   "outputs": [
    {
     "data": {
      "image/png": "[encoded data removed]",
      "text/plain": [
       "<Figure size 1008x864 with 2 Axes>"
      ]
     },
     "metadata": {},
     "output_type": "display_data"
    }
   ],
   "source": [
    "plt.figure(figsize=(14,12))\n",
    "sns.set_theme(style=\"white\")\n",
    "sns.color_palette(\"Set2\")\n",
    "corr = peak_amplitude_df.corr()\n",
    "heatmap = sns.heatmap(corr, annot=True, cmap=\"seismic\", fmt='.1g', vmax=1, vmin=-1)\n",
    "plt.savefig(results_output_dir + '/ridgecrest_data_corr.png')"
   ]
  },
  {
   "cell_type": "code",
   "execution_count": 45,
   "id": "7d08e9fd",
   "metadata": {},
   "outputs": [
    {
     "name": "stderr",
     "output_type": "stream",
     "text": [
      "/tmp/ipykernel_49150/575642570.py:2: SettingWithCopyWarning: \n",
      "A value is trying to be set on a copy of a slice from a DataFrame.\n",
      "Try using .loc[row_indexer,col_indexer] = value instead\n",
      "\n",
      "See the caveats in the documentation: https://pandas.pydata.org/pandas-docs/stable/user_guide/indexing.html#returning-a-view-versus-a-copy\n",
      "  peak_amplitude_df_temp['log10(distance)'] = np.log10(peak_amplitude_df_temp.distance_in_km)\n",
      "/tmp/ipykernel_49150/575642570.py:3: SettingWithCopyWarning: \n",
      "A value is trying to be set on a copy of a slice from a DataFrame.\n",
      "Try using .loc[row_indexer,col_indexer] = value instead\n",
      "\n",
      "See the caveats in the documentation: https://pandas.pydata.org/pandas-docs/stable/user_guide/indexing.html#returning-a-view-versus-a-copy\n",
      "  peak_amplitude_df_temp['log10(peak_P)'] = np.log10(peak_amplitude_df_temp.peak_P)\n",
      "/tmp/ipykernel_49150/575642570.py:4: SettingWithCopyWarning: \n",
      "A value is trying to be set on a copy of a slice from a DataFrame.\n",
      "Try using .loc[row_indexer,col_indexer] = value instead\n",
      "\n",
      "See the caveats in the documentation: https://pandas.pydata.org/pandas-docs/stable/user_guide/indexing.html#returning-a-view-versus-a-copy\n",
      "  peak_amplitude_df_temp['P/S'] = peak_amplitude_df_temp.peak_P/peak_amplitude_df_temp.peak_S\n"
     ]
    },
    {
     "data": {
      "text/plain": [
       "<Figure size 1008x576 with 0 Axes>"
      ]
     },
     "metadata": {},
     "output_type": "display_data"
    },
    {
     "data": {
      "image/png": "[encoded data removed]",
      "text/plain": [
       "<Figure size 900x900 with 20 Axes>"
      ]
     },
     "metadata": {},
     "output_type": "display_data"
    }
   ],
   "source": [
    "peak_amplitude_df_temp = peak_amplitude_df.iloc[::20, :]\n",
    "peak_amplitude_df_temp['log10(distance)'] = np.log10(peak_amplitude_df_temp.distance_in_km)\n",
    "peak_amplitude_df_temp['log10(peak_P)'] = np.log10(peak_amplitude_df_temp.peak_P)\n",
    "peak_amplitude_df_temp['P/S'] = peak_amplitude_df_temp.peak_P/peak_amplitude_df_temp.peak_S\n",
    "plt.figure(figsize=(14,8))\n",
    "sns.pairplot(peak_amplitude_df_temp[['magnitude','log10(distance)', 'max_P_time', 'log10(peak_P)','P/S']], kind='hist', diag_kind=\"kde\", corner=True)\n",
    "plt.savefig(results_output_dir + '/ridgecrest_data_statistics.png')"
   ]
  },
  {
   "cell_type": "code",
   "execution_count": 23,
   "id": "2ba6a8a3",
   "metadata": {},
   "outputs": [
    {
     "data": {
      "text/html": [
       "<div>\n",
       "<style scoped>\n",
       "    .dataframe tbody tr th:only-of-type {\n",
       "        vertical-align: middle;\n",
       "    }\n",
       "\n",
       "    .dataframe tbody tr th {\n",
       "        vertical-align: top;\n",
       "    }\n",
       "\n",
       "    .dataframe thead th {\n",
       "        text-align: right;\n",
       "    }\n",
       "</style>\n",
       "<table border=\"1\" class=\"dataframe\">\n",
       "  <thead>\n",
       "    <tr style=\"text-align: right;\">\n",
       "      <th></th>\n",
       "      <th>event_id</th>\n",
       "      <th>magnitude</th>\n",
       "      <th>distance_in_km</th>\n",
       "      <th>peak_P</th>\n",
       "      <th>peak_S</th>\n",
       "      <th>peak_P_strain</th>\n",
       "      <th>peak_S_strain</th>\n",
       "      <th>channel_id</th>\n",
       "      <th>snrP</th>\n",
       "      <th>snrS</th>\n",
       "      <th>max_P_time</th>\n",
       "      <th>max_S_time</th>\n",
       "    </tr>\n",
       "  </thead>\n",
       "  <tbody>\n",
       "    <tr>\n",
       "      <th>0</th>\n",
       "      <td>38522647.0</td>\n",
       "      <td>4.17</td>\n",
       "      <td>15.325319</td>\n",
       "      <td>1741.500732</td>\n",
       "      <td>5398.627930</td>\n",
       "      <td>32015.793665</td>\n",
       "      <td>507519.838552</td>\n",
       "      <td>404.0</td>\n",
       "      <td>35.693535</td>\n",
       "      <td>36.059296</td>\n",
       "      <td>2.30</td>\n",
       "      <td>8.46</td>\n",
       "    </tr>\n",
       "    <tr>\n",
       "      <th>1</th>\n",
       "      <td>38522647.0</td>\n",
       "      <td>4.17</td>\n",
       "      <td>15.333454</td>\n",
       "      <td>1303.977905</td>\n",
       "      <td>5487.338867</td>\n",
       "      <td>20049.395515</td>\n",
       "      <td>508670.763693</td>\n",
       "      <td>405.0</td>\n",
       "      <td>37.439789</td>\n",
       "      <td>38.091179</td>\n",
       "      <td>1.66</td>\n",
       "      <td>8.42</td>\n",
       "    </tr>\n",
       "    <tr>\n",
       "      <th>2</th>\n",
       "      <td>38522647.0</td>\n",
       "      <td>4.17</td>\n",
       "      <td>15.341499</td>\n",
       "      <td>1131.332397</td>\n",
       "      <td>5264.838867</td>\n",
       "      <td>21601.873710</td>\n",
       "      <td>535854.767847</td>\n",
       "      <td>406.0</td>\n",
       "      <td>38.677017</td>\n",
       "      <td>39.232899</td>\n",
       "      <td>1.72</td>\n",
       "      <td>8.46</td>\n",
       "    </tr>\n",
       "    <tr>\n",
       "      <th>3</th>\n",
       "      <td>38522647.0</td>\n",
       "      <td>4.17</td>\n",
       "      <td>15.349532</td>\n",
       "      <td>1862.151978</td>\n",
       "      <td>4297.088379</td>\n",
       "      <td>37635.894167</td>\n",
       "      <td>458461.955129</td>\n",
       "      <td>407.0</td>\n",
       "      <td>33.928749</td>\n",
       "      <td>34.044182</td>\n",
       "      <td>2.44</td>\n",
       "      <td>8.78</td>\n",
       "    </tr>\n",
       "    <tr>\n",
       "      <th>4</th>\n",
       "      <td>38522647.0</td>\n",
       "      <td>4.17</td>\n",
       "      <td>15.357668</td>\n",
       "      <td>1646.972534</td>\n",
       "      <td>4678.222656</td>\n",
       "      <td>41020.440725</td>\n",
       "      <td>461554.497930</td>\n",
       "      <td>408.0</td>\n",
       "      <td>25.131323</td>\n",
       "      <td>24.872915</td>\n",
       "      <td>2.62</td>\n",
       "      <td>2.00</td>\n",
       "    </tr>\n",
       "    <tr>\n",
       "      <th>...</th>\n",
       "      <td>...</td>\n",
       "      <td>...</td>\n",
       "      <td>...</td>\n",
       "      <td>...</td>\n",
       "      <td>...</td>\n",
       "      <td>...</td>\n",
       "      <td>...</td>\n",
       "      <td>...</td>\n",
       "      <td>...</td>\n",
       "      <td>...</td>\n",
       "      <td>...</td>\n",
       "      <td>...</td>\n",
       "    </tr>\n",
       "    <tr>\n",
       "      <th>164837</th>\n",
       "      <td>39659271.0</td>\n",
       "      <td>3.59</td>\n",
       "      <td>54.036639</td>\n",
       "      <td>177.368149</td>\n",
       "      <td>234.374985</td>\n",
       "      <td>2907.959248</td>\n",
       "      <td>12854.325328</td>\n",
       "      <td>1239.0</td>\n",
       "      <td>5.012650</td>\n",
       "      <td>3.286391</td>\n",
       "      <td>0.36</td>\n",
       "      <td>0.50</td>\n",
       "    </tr>\n",
       "    <tr>\n",
       "      <th>164838</th>\n",
       "      <td>39659271.0</td>\n",
       "      <td>3.59</td>\n",
       "      <td>54.042592</td>\n",
       "      <td>132.812500</td>\n",
       "      <td>207.031235</td>\n",
       "      <td>2816.751162</td>\n",
       "      <td>13973.327081</td>\n",
       "      <td>1240.0</td>\n",
       "      <td>4.204865</td>\n",
       "      <td>2.843199</td>\n",
       "      <td>0.34</td>\n",
       "      <td>0.48</td>\n",
       "    </tr>\n",
       "    <tr>\n",
       "      <th>164839</th>\n",
       "      <td>39659271.0</td>\n",
       "      <td>3.59</td>\n",
       "      <td>54.048613</td>\n",
       "      <td>149.414062</td>\n",
       "      <td>196.289047</td>\n",
       "      <td>2654.049441</td>\n",
       "      <td>11594.317952</td>\n",
       "      <td>1241.0</td>\n",
       "      <td>3.043295</td>\n",
       "      <td>1.893932</td>\n",
       "      <td>1.14</td>\n",
       "      <td>0.50</td>\n",
       "    </tr>\n",
       "    <tr>\n",
       "      <th>164840</th>\n",
       "      <td>39659271.0</td>\n",
       "      <td>3.59</td>\n",
       "      <td>54.054567</td>\n",
       "      <td>199.218735</td>\n",
       "      <td>175.781235</td>\n",
       "      <td>2608.890299</td>\n",
       "      <td>10722.116419</td>\n",
       "      <td>1242.0</td>\n",
       "      <td>1.710825</td>\n",
       "      <td>-0.085950</td>\n",
       "      <td>0.38</td>\n",
       "      <td>17.08</td>\n",
       "    </tr>\n",
       "    <tr>\n",
       "      <th>164841</th>\n",
       "      <td>39659271.0</td>\n",
       "      <td>3.59</td>\n",
       "      <td>54.060521</td>\n",
       "      <td>151.367188</td>\n",
       "      <td>172.851547</td>\n",
       "      <td>2366.613526</td>\n",
       "      <td>10190.788648</td>\n",
       "      <td>1243.0</td>\n",
       "      <td>1.006553</td>\n",
       "      <td>-0.713521</td>\n",
       "      <td>0.10</td>\n",
       "      <td>0.44</td>\n",
       "    </tr>\n",
       "  </tbody>\n",
       "</table>\n",
       "<p>164842 rows × 12 columns</p>\n",
       "</div>"
      ],
      "text/plain": [
       "          event_id  magnitude  distance_in_km       peak_P       peak_S  \\\n",
       "0       38522647.0       4.17       15.325319  1741.500732  5398.627930   \n",
       "1       38522647.0       4.17       15.333454  1303.977905  5487.338867   \n",
       "2       38522647.0       4.17       15.341499  1131.332397  5264.838867   \n",
       "3       38522647.0       4.17       15.349532  1862.151978  4297.088379   \n",
       "4       38522647.0       4.17       15.357668  1646.972534  4678.222656   \n",
       "...            ...        ...             ...          ...          ...   \n",
       "164837  39659271.0       3.59       54.036639   177.368149   234.374985   \n",
       "164838  39659271.0       3.59       54.042592   132.812500   207.031235   \n",
       "164839  39659271.0       3.59       54.048613   149.414062   196.289047   \n",
       "164840  39659271.0       3.59       54.054567   199.218735   175.781235   \n",
       "164841  39659271.0       3.59       54.060521   151.367188   172.851547   \n",
       "\n",
       "        peak_P_strain  peak_S_strain  channel_id       snrP       snrS  \\\n",
       "0        32015.793665  507519.838552       404.0  35.693535  36.059296   \n",
       "1        20049.395515  508670.763693       405.0  37.439789  38.091179   \n",
       "2        21601.873710  535854.767847       406.0  38.677017  39.232899   \n",
       "3        37635.894167  458461.955129       407.0  33.928749  34.044182   \n",
       "4        41020.440725  461554.497930       408.0  25.131323  24.872915   \n",
       "...               ...            ...         ...        ...        ...   \n",
       "164837    2907.959248   12854.325328      1239.0   5.012650   3.286391   \n",
       "164838    2816.751162   13973.327081      1240.0   4.204865   2.843199   \n",
       "164839    2654.049441   11594.317952      1241.0   3.043295   1.893932   \n",
       "164840    2608.890299   10722.116419      1242.0   1.710825  -0.085950   \n",
       "164841    2366.613526   10190.788648      1243.0   1.006553  -0.713521   \n",
       "\n",
       "        max_P_time  max_S_time  \n",
       "0             2.30        8.46  \n",
       "1             1.66        8.42  \n",
       "2             1.72        8.46  \n",
       "3             2.44        8.78  \n",
       "4             2.62        2.00  \n",
       "...            ...         ...  \n",
       "164837        0.36        0.50  \n",
       "164838        0.34        0.48  \n",
       "164839        1.14        0.50  \n",
       "164840        0.38       17.08  \n",
       "164841        0.10        0.44  \n",
       "\n",
       "[164842 rows x 12 columns]"
      ]
     },
     "execution_count": 23,
     "metadata": {},
     "output_type": "execute_result"
    }
   ],
   "source": [
    "peak_amplitude_df"
   ]
  },
  {
   "cell_type": "code",
   "execution_count": null,
   "id": "ac32dc7c",
   "metadata": {},
   "outputs": [],
   "source": []
  },
  {
   "cell_type": "code",
   "execution_count": 41,
   "id": "6bdb84e5",
   "metadata": {},
   "outputs": [],
   "source": [
    "# path of the ML picking \n",
    "ml_pick_dir = '/kuafu/yinjx/Ridgecrest/Ridgecrest_strain_rate_scaling/picking_Weiqiang/picks_yinjx_all'\n",
    "\n",
    "# Check the segmented 50Hz data\n",
    "das_path = '/kuafu/yinjx/Ridgecrest/Ridgecrest_strain_rate_scaling/ML_picking_data_eye_picked'\n",
    "\n",
    "das_dt = 0.02 # downsampled to 50 Hz\n",
    "for eq_id_current in [38544311]:\n",
    "\n",
    "    # look for the corresponding ML picks\n",
    "    ml_picks_file = glob.glob(ml_pick_dir + f'/*{eq_id_current}.csv')\n",
    "    ml_picks = pd.read_csv(ml_picks_file[0])\n",
    "\n",
    "    # extract the picked information\n",
    "    ml_picks_p = ml_picks[ml_picks['phase_type'] == 'p']\n",
    "    ml_picks_s = ml_picks[ml_picks['phase_type'] == 's']\n",
    "\n",
    "#     # remove some duplicated picks, only keep those with higher probability\n",
    "#     ml_picks_p = ml_picks_p.drop_duplicates(subset=['station_name'], keep='first')\n",
    "#     ml_picks_s = ml_picks_s.drop_duplicates(subset=['station_name'], keep='first')\n",
    "\n",
    "#     # extrapolate the index in case the ML picking is imcomplete\n",
    "#     event_arrival_P_ml_index = extrapolate_arrival_time(ml_picks_p)\n",
    "#     event_arrival_S_ml_index = extrapolate_arrival_time(ml_picks_s)"
   ]
  },
  {
   "cell_type": "code",
   "execution_count": 42,
   "id": "862b564c",
   "metadata": {},
   "outputs": [
    {
     "data": {
      "text/html": [
       "<div>\n",
       "<style scoped>\n",
       "    .dataframe tbody tr th:only-of-type {\n",
       "        vertical-align: middle;\n",
       "    }\n",
       "\n",
       "    .dataframe tbody tr th {\n",
       "        vertical-align: top;\n",
       "    }\n",
       "\n",
       "    .dataframe thead th {\n",
       "        text-align: right;\n",
       "    }\n",
       "</style>\n",
       "<table border=\"1\" class=\"dataframe\">\n",
       "  <thead>\n",
       "    <tr style=\"text-align: right;\">\n",
       "      <th></th>\n",
       "      <th>file_name</th>\n",
       "      <th>station_name</th>\n",
       "      <th>phase_index</th>\n",
       "      <th>phase_score</th>\n",
       "      <th>phase_type</th>\n",
       "      <th>phase_time</th>\n",
       "      <th>dt</th>\n",
       "    </tr>\n",
       "  </thead>\n",
       "  <tbody>\n",
       "    <tr>\n",
       "      <th>0</th>\n",
       "      <td>38544311.npz</td>\n",
       "      <td>1</td>\n",
       "      <td>714</td>\n",
       "      <td>0.817</td>\n",
       "      <td>p</td>\n",
       "      <td>1970-01-01T00:00:07.140</td>\n",
       "      <td>0.01</td>\n",
       "    </tr>\n",
       "    <tr>\n",
       "      <th>1</th>\n",
       "      <td>38544311.npz</td>\n",
       "      <td>2</td>\n",
       "      <td>712</td>\n",
       "      <td>0.880</td>\n",
       "      <td>p</td>\n",
       "      <td>1970-01-01T00:00:07.120</td>\n",
       "      <td>0.01</td>\n",
       "    </tr>\n",
       "    <tr>\n",
       "      <th>2</th>\n",
       "      <td>38544311.npz</td>\n",
       "      <td>3</td>\n",
       "      <td>712</td>\n",
       "      <td>0.915</td>\n",
       "      <td>p</td>\n",
       "      <td>1970-01-01T00:00:07.120</td>\n",
       "      <td>0.01</td>\n",
       "    </tr>\n",
       "    <tr>\n",
       "      <th>3</th>\n",
       "      <td>38544311.npz</td>\n",
       "      <td>4</td>\n",
       "      <td>712</td>\n",
       "      <td>0.943</td>\n",
       "      <td>p</td>\n",
       "      <td>1970-01-01T00:00:07.120</td>\n",
       "      <td>0.01</td>\n",
       "    </tr>\n",
       "    <tr>\n",
       "      <th>4</th>\n",
       "      <td>38544311.npz</td>\n",
       "      <td>5</td>\n",
       "      <td>712</td>\n",
       "      <td>0.959</td>\n",
       "      <td>p</td>\n",
       "      <td>1970-01-01T00:00:07.120</td>\n",
       "      <td>0.01</td>\n",
       "    </tr>\n",
       "    <tr>\n",
       "      <th>...</th>\n",
       "      <td>...</td>\n",
       "      <td>...</td>\n",
       "      <td>...</td>\n",
       "      <td>...</td>\n",
       "      <td>...</td>\n",
       "      <td>...</td>\n",
       "      <td>...</td>\n",
       "    </tr>\n",
       "    <tr>\n",
       "      <th>1759</th>\n",
       "      <td>38544311.npz</td>\n",
       "      <td>1145</td>\n",
       "      <td>1811</td>\n",
       "      <td>0.869</td>\n",
       "      <td>p</td>\n",
       "      <td>1970-01-01T00:00:18.110</td>\n",
       "      <td>0.01</td>\n",
       "    </tr>\n",
       "    <tr>\n",
       "      <th>1760</th>\n",
       "      <td>38544311.npz</td>\n",
       "      <td>1146</td>\n",
       "      <td>797</td>\n",
       "      <td>0.887</td>\n",
       "      <td>p</td>\n",
       "      <td>1970-01-01T00:00:07.970</td>\n",
       "      <td>0.01</td>\n",
       "    </tr>\n",
       "    <tr>\n",
       "      <th>1761</th>\n",
       "      <td>38544311.npz</td>\n",
       "      <td>1146</td>\n",
       "      <td>1811</td>\n",
       "      <td>0.835</td>\n",
       "      <td>p</td>\n",
       "      <td>1970-01-01T00:00:18.110</td>\n",
       "      <td>0.01</td>\n",
       "    </tr>\n",
       "    <tr>\n",
       "      <th>1762</th>\n",
       "      <td>38544311.npz</td>\n",
       "      <td>1147</td>\n",
       "      <td>791</td>\n",
       "      <td>0.853</td>\n",
       "      <td>p</td>\n",
       "      <td>1970-01-01T00:00:07.910</td>\n",
       "      <td>0.01</td>\n",
       "    </tr>\n",
       "    <tr>\n",
       "      <th>1763</th>\n",
       "      <td>38544311.npz</td>\n",
       "      <td>1147</td>\n",
       "      <td>1808</td>\n",
       "      <td>0.802</td>\n",
       "      <td>p</td>\n",
       "      <td>1970-01-01T00:00:18.080</td>\n",
       "      <td>0.01</td>\n",
       "    </tr>\n",
       "  </tbody>\n",
       "</table>\n",
       "<p>1764 rows × 7 columns</p>\n",
       "</div>"
      ],
      "text/plain": [
       "         file_name  station_name  phase_index  phase_score phase_type  \\\n",
       "0     38544311.npz             1          714        0.817          p   \n",
       "1     38544311.npz             2          712        0.880          p   \n",
       "2     38544311.npz             3          712        0.915          p   \n",
       "3     38544311.npz             4          712        0.943          p   \n",
       "4     38544311.npz             5          712        0.959          p   \n",
       "...            ...           ...          ...          ...        ...   \n",
       "1759  38544311.npz          1145         1811        0.869          p   \n",
       "1760  38544311.npz          1146          797        0.887          p   \n",
       "1761  38544311.npz          1146         1811        0.835          p   \n",
       "1762  38544311.npz          1147          791        0.853          p   \n",
       "1763  38544311.npz          1147         1808        0.802          p   \n",
       "\n",
       "                   phase_time    dt  \n",
       "0     1970-01-01T00:00:07.140  0.01  \n",
       "1     1970-01-01T00:00:07.120  0.01  \n",
       "2     1970-01-01T00:00:07.120  0.01  \n",
       "3     1970-01-01T00:00:07.120  0.01  \n",
       "4     1970-01-01T00:00:07.120  0.01  \n",
       "...                       ...   ...  \n",
       "1759  1970-01-01T00:00:18.110  0.01  \n",
       "1760  1970-01-01T00:00:07.970  0.01  \n",
       "1761  1970-01-01T00:00:18.110  0.01  \n",
       "1762  1970-01-01T00:00:07.910  0.01  \n",
       "1763  1970-01-01T00:00:18.080  0.01  \n",
       "\n",
       "[1764 rows x 7 columns]"
      ]
     },
     "execution_count": 42,
     "metadata": {},
     "output_type": "execute_result"
    }
   ],
   "source": [
    "ml_picks_p"
   ]
  },
  {
   "cell_type": "code",
   "execution_count": 43,
   "id": "9e2d33d4",
   "metadata": {},
   "outputs": [
    {
     "data": {
      "text/html": [
       "<div>\n",
       "<style scoped>\n",
       "    .dataframe tbody tr th:only-of-type {\n",
       "        vertical-align: middle;\n",
       "    }\n",
       "\n",
       "    .dataframe tbody tr th {\n",
       "        vertical-align: top;\n",
       "    }\n",
       "\n",
       "    .dataframe thead th {\n",
       "        text-align: right;\n",
       "    }\n",
       "</style>\n",
       "<table border=\"1\" class=\"dataframe\">\n",
       "  <thead>\n",
       "    <tr style=\"text-align: right;\">\n",
       "      <th></th>\n",
       "      <th>file_name</th>\n",
       "      <th>station_name</th>\n",
       "      <th>phase_index</th>\n",
       "      <th>phase_score</th>\n",
       "      <th>phase_type</th>\n",
       "      <th>phase_time</th>\n",
       "      <th>dt</th>\n",
       "    </tr>\n",
       "  </thead>\n",
       "  <tbody>\n",
       "    <tr>\n",
       "      <th>1764</th>\n",
       "      <td>38544311.npz</td>\n",
       "      <td>8</td>\n",
       "      <td>969</td>\n",
       "      <td>0.801</td>\n",
       "      <td>s</td>\n",
       "      <td>1970-01-01T00:00:09.690</td>\n",
       "      <td>0.01</td>\n",
       "    </tr>\n",
       "    <tr>\n",
       "      <th>1765</th>\n",
       "      <td>38544311.npz</td>\n",
       "      <td>9</td>\n",
       "      <td>970</td>\n",
       "      <td>0.818</td>\n",
       "      <td>s</td>\n",
       "      <td>1970-01-01T00:00:09.700</td>\n",
       "      <td>0.01</td>\n",
       "    </tr>\n",
       "    <tr>\n",
       "      <th>1766</th>\n",
       "      <td>38544311.npz</td>\n",
       "      <td>10</td>\n",
       "      <td>971</td>\n",
       "      <td>0.828</td>\n",
       "      <td>s</td>\n",
       "      <td>1970-01-01T00:00:09.710</td>\n",
       "      <td>0.01</td>\n",
       "    </tr>\n",
       "    <tr>\n",
       "      <th>1767</th>\n",
       "      <td>38544311.npz</td>\n",
       "      <td>11</td>\n",
       "      <td>973</td>\n",
       "      <td>0.838</td>\n",
       "      <td>s</td>\n",
       "      <td>1970-01-01T00:00:09.730</td>\n",
       "      <td>0.01</td>\n",
       "    </tr>\n",
       "    <tr>\n",
       "      <th>1768</th>\n",
       "      <td>38544311.npz</td>\n",
       "      <td>12</td>\n",
       "      <td>975</td>\n",
       "      <td>0.846</td>\n",
       "      <td>s</td>\n",
       "      <td>1970-01-01T00:00:09.750</td>\n",
       "      <td>0.01</td>\n",
       "    </tr>\n",
       "    <tr>\n",
       "      <th>...</th>\n",
       "      <td>...</td>\n",
       "      <td>...</td>\n",
       "      <td>...</td>\n",
       "      <td>...</td>\n",
       "      <td>...</td>\n",
       "      <td>...</td>\n",
       "      <td>...</td>\n",
       "    </tr>\n",
       "    <tr>\n",
       "      <th>2391</th>\n",
       "      <td>38544311.npz</td>\n",
       "      <td>1140</td>\n",
       "      <td>1061</td>\n",
       "      <td>0.866</td>\n",
       "      <td>s</td>\n",
       "      <td>1970-01-01T00:00:10.610</td>\n",
       "      <td>0.01</td>\n",
       "    </tr>\n",
       "    <tr>\n",
       "      <th>2392</th>\n",
       "      <td>38544311.npz</td>\n",
       "      <td>1141</td>\n",
       "      <td>1064</td>\n",
       "      <td>0.871</td>\n",
       "      <td>s</td>\n",
       "      <td>1970-01-01T00:00:10.640</td>\n",
       "      <td>0.01</td>\n",
       "    </tr>\n",
       "    <tr>\n",
       "      <th>2393</th>\n",
       "      <td>38544311.npz</td>\n",
       "      <td>1142</td>\n",
       "      <td>1064</td>\n",
       "      <td>0.867</td>\n",
       "      <td>s</td>\n",
       "      <td>1970-01-01T00:00:10.640</td>\n",
       "      <td>0.01</td>\n",
       "    </tr>\n",
       "    <tr>\n",
       "      <th>2394</th>\n",
       "      <td>38544311.npz</td>\n",
       "      <td>1143</td>\n",
       "      <td>1063</td>\n",
       "      <td>0.846</td>\n",
       "      <td>s</td>\n",
       "      <td>1970-01-01T00:00:10.630</td>\n",
       "      <td>0.01</td>\n",
       "    </tr>\n",
       "    <tr>\n",
       "      <th>2395</th>\n",
       "      <td>38544311.npz</td>\n",
       "      <td>1144</td>\n",
       "      <td>1061</td>\n",
       "      <td>0.823</td>\n",
       "      <td>s</td>\n",
       "      <td>1970-01-01T00:00:10.610</td>\n",
       "      <td>0.01</td>\n",
       "    </tr>\n",
       "  </tbody>\n",
       "</table>\n",
       "<p>632 rows × 7 columns</p>\n",
       "</div>"
      ],
      "text/plain": [
       "         file_name  station_name  phase_index  phase_score phase_type  \\\n",
       "1764  38544311.npz             8          969        0.801          s   \n",
       "1765  38544311.npz             9          970        0.818          s   \n",
       "1766  38544311.npz            10          971        0.828          s   \n",
       "1767  38544311.npz            11          973        0.838          s   \n",
       "1768  38544311.npz            12          975        0.846          s   \n",
       "...            ...           ...          ...          ...        ...   \n",
       "2391  38544311.npz          1140         1061        0.866          s   \n",
       "2392  38544311.npz          1141         1064        0.871          s   \n",
       "2393  38544311.npz          1142         1064        0.867          s   \n",
       "2394  38544311.npz          1143         1063        0.846          s   \n",
       "2395  38544311.npz          1144         1061        0.823          s   \n",
       "\n",
       "                   phase_time    dt  \n",
       "1764  1970-01-01T00:00:09.690  0.01  \n",
       "1765  1970-01-01T00:00:09.700  0.01  \n",
       "1766  1970-01-01T00:00:09.710  0.01  \n",
       "1767  1970-01-01T00:00:09.730  0.01  \n",
       "1768  1970-01-01T00:00:09.750  0.01  \n",
       "...                       ...   ...  \n",
       "2391  1970-01-01T00:00:10.610  0.01  \n",
       "2392  1970-01-01T00:00:10.640  0.01  \n",
       "2393  1970-01-01T00:00:10.640  0.01  \n",
       "2394  1970-01-01T00:00:10.630  0.01  \n",
       "2395  1970-01-01T00:00:10.610  0.01  \n",
       "\n",
       "[632 rows x 7 columns]"
      ]
     },
     "execution_count": 43,
     "metadata": {},
     "output_type": "execute_result"
    }
   ],
   "source": [
    "ml_picks_s"
   ]
  },
  {
   "cell_type": "code",
   "execution_count": 37,
   "id": "1efdbf82",
   "metadata": {},
   "outputs": [
    {
     "data": {
      "text/html": [
       "<div>\n",
       "<style scoped>\n",
       "    .dataframe tbody tr th:only-of-type {\n",
       "        vertical-align: middle;\n",
       "    }\n",
       "\n",
       "    .dataframe tbody tr th {\n",
       "        vertical-align: top;\n",
       "    }\n",
       "\n",
       "    .dataframe thead th {\n",
       "        text-align: right;\n",
       "    }\n",
       "</style>\n",
       "<table border=\"1\" class=\"dataframe\">\n",
       "  <thead>\n",
       "    <tr style=\"text-align: right;\">\n",
       "      <th></th>\n",
       "      <th>file_name</th>\n",
       "      <th>station_name</th>\n",
       "      <th>phase_index</th>\n",
       "      <th>phase_score</th>\n",
       "      <th>phase_type</th>\n",
       "      <th>phase_time</th>\n",
       "      <th>dt</th>\n",
       "    </tr>\n",
       "  </thead>\n",
       "  <tbody>\n",
       "    <tr>\n",
       "      <th>0</th>\n",
       "      <td>38229138.npz</td>\n",
       "      <td>1</td>\n",
       "      <td>512</td>\n",
       "      <td>0.850</td>\n",
       "      <td>p</td>\n",
       "      <td>1970-01-01T00:00:05.120</td>\n",
       "      <td>0.01</td>\n",
       "    </tr>\n",
       "    <tr>\n",
       "      <th>1</th>\n",
       "      <td>38229138.npz</td>\n",
       "      <td>2</td>\n",
       "      <td>512</td>\n",
       "      <td>0.903</td>\n",
       "      <td>p</td>\n",
       "      <td>1970-01-01T00:00:05.120</td>\n",
       "      <td>0.01</td>\n",
       "    </tr>\n",
       "    <tr>\n",
       "      <th>2</th>\n",
       "      <td>38229138.npz</td>\n",
       "      <td>3</td>\n",
       "      <td>512</td>\n",
       "      <td>0.933</td>\n",
       "      <td>p</td>\n",
       "      <td>1970-01-01T00:00:05.120</td>\n",
       "      <td>0.01</td>\n",
       "    </tr>\n",
       "    <tr>\n",
       "      <th>3</th>\n",
       "      <td>38229138.npz</td>\n",
       "      <td>4</td>\n",
       "      <td>512</td>\n",
       "      <td>0.956</td>\n",
       "      <td>p</td>\n",
       "      <td>1970-01-01T00:00:05.120</td>\n",
       "      <td>0.01</td>\n",
       "    </tr>\n",
       "    <tr>\n",
       "      <th>4</th>\n",
       "      <td>38229138.npz</td>\n",
       "      <td>5</td>\n",
       "      <td>512</td>\n",
       "      <td>0.969</td>\n",
       "      <td>p</td>\n",
       "      <td>1970-01-01T00:00:05.120</td>\n",
       "      <td>0.01</td>\n",
       "    </tr>\n",
       "    <tr>\n",
       "      <th>...</th>\n",
       "      <td>...</td>\n",
       "      <td>...</td>\n",
       "      <td>...</td>\n",
       "      <td>...</td>\n",
       "      <td>...</td>\n",
       "      <td>...</td>\n",
       "      <td>...</td>\n",
       "    </tr>\n",
       "    <tr>\n",
       "      <th>1375</th>\n",
       "      <td>38229138.npz</td>\n",
       "      <td>1141</td>\n",
       "      <td>734</td>\n",
       "      <td>0.884</td>\n",
       "      <td>s</td>\n",
       "      <td>1970-01-01T00:00:07.340</td>\n",
       "      <td>0.01</td>\n",
       "    </tr>\n",
       "    <tr>\n",
       "      <th>1376</th>\n",
       "      <td>38229138.npz</td>\n",
       "      <td>1142</td>\n",
       "      <td>734</td>\n",
       "      <td>0.878</td>\n",
       "      <td>s</td>\n",
       "      <td>1970-01-01T00:00:07.340</td>\n",
       "      <td>0.01</td>\n",
       "    </tr>\n",
       "    <tr>\n",
       "      <th>1377</th>\n",
       "      <td>38229138.npz</td>\n",
       "      <td>1143</td>\n",
       "      <td>733</td>\n",
       "      <td>0.864</td>\n",
       "      <td>s</td>\n",
       "      <td>1970-01-01T00:00:07.330</td>\n",
       "      <td>0.01</td>\n",
       "    </tr>\n",
       "    <tr>\n",
       "      <th>1378</th>\n",
       "      <td>38229138.npz</td>\n",
       "      <td>1144</td>\n",
       "      <td>733</td>\n",
       "      <td>0.831</td>\n",
       "      <td>s</td>\n",
       "      <td>1970-01-01T00:00:07.330</td>\n",
       "      <td>0.01</td>\n",
       "    </tr>\n",
       "    <tr>\n",
       "      <th>1379</th>\n",
       "      <td>38229138.npz</td>\n",
       "      <td>1145</td>\n",
       "      <td>732</td>\n",
       "      <td>0.805</td>\n",
       "      <td>s</td>\n",
       "      <td>1970-01-01T00:00:07.320</td>\n",
       "      <td>0.01</td>\n",
       "    </tr>\n",
       "  </tbody>\n",
       "</table>\n",
       "<p>1380 rows × 7 columns</p>\n",
       "</div>"
      ],
      "text/plain": [
       "         file_name  station_name  phase_index  phase_score phase_type  \\\n",
       "0     38229138.npz             1          512        0.850          p   \n",
       "1     38229138.npz             2          512        0.903          p   \n",
       "2     38229138.npz             3          512        0.933          p   \n",
       "3     38229138.npz             4          512        0.956          p   \n",
       "4     38229138.npz             5          512        0.969          p   \n",
       "...            ...           ...          ...          ...        ...   \n",
       "1375  38229138.npz          1141          734        0.884          s   \n",
       "1376  38229138.npz          1142          734        0.878          s   \n",
       "1377  38229138.npz          1143          733        0.864          s   \n",
       "1378  38229138.npz          1144          733        0.831          s   \n",
       "1379  38229138.npz          1145          732        0.805          s   \n",
       "\n",
       "                   phase_time    dt  \n",
       "0     1970-01-01T00:00:05.120  0.01  \n",
       "1     1970-01-01T00:00:05.120  0.01  \n",
       "2     1970-01-01T00:00:05.120  0.01  \n",
       "3     1970-01-01T00:00:05.120  0.01  \n",
       "4     1970-01-01T00:00:05.120  0.01  \n",
       "...                       ...   ...  \n",
       "1375  1970-01-01T00:00:07.340  0.01  \n",
       "1376  1970-01-01T00:00:07.340  0.01  \n",
       "1377  1970-01-01T00:00:07.330  0.01  \n",
       "1378  1970-01-01T00:00:07.330  0.01  \n",
       "1379  1970-01-01T00:00:07.320  0.01  \n",
       "\n",
       "[1380 rows x 7 columns]"
      ]
     },
     "execution_count": 37,
     "metadata": {},
     "output_type": "execute_result"
    }
   ],
   "source": [
    "ml_picks"
   ]
  },
  {
   "cell_type": "code",
   "execution_count": 30,
   "id": "9cb38e38",
   "metadata": {},
   "outputs": [
    {
     "data": {
      "text/plain": [
       "0          1\n",
       "1          2\n",
       "2          3\n",
       "3          4\n",
       "4          5\n",
       "        ... \n",
       "1150    1144\n",
       "1151    1145\n",
       "1152    1146\n",
       "1153    1147\n",
       "1154    1148\n",
       "Name: station_name, Length: 1155, dtype: int64"
      ]
     },
     "execution_count": 30,
     "metadata": {},
     "output_type": "execute_result"
    }
   ],
   "source": [
    "ml_picks_p['station_name']"
   ]
  },
  {
   "cell_type": "code",
   "execution_count": 44,
   "id": "0ce7c2ce",
   "metadata": {},
   "outputs": [
    {
     "data": {
      "text/html": [
       "<div>\n",
       "<style scoped>\n",
       "    .dataframe tbody tr th:only-of-type {\n",
       "        vertical-align: middle;\n",
       "    }\n",
       "\n",
       "    .dataframe tbody tr th {\n",
       "        vertical-align: top;\n",
       "    }\n",
       "\n",
       "    .dataframe thead th {\n",
       "        text-align: right;\n",
       "    }\n",
       "</style>\n",
       "<table border=\"1\" class=\"dataframe\">\n",
       "  <thead>\n",
       "    <tr style=\"text-align: right;\">\n",
       "      <th></th>\n",
       "      <th>file_name</th>\n",
       "      <th>station_name</th>\n",
       "      <th>phase_index</th>\n",
       "      <th>phase_score</th>\n",
       "      <th>phase_type</th>\n",
       "      <th>phase_time</th>\n",
       "      <th>dt</th>\n",
       "    </tr>\n",
       "  </thead>\n",
       "  <tbody>\n",
       "    <tr>\n",
       "      <th>1862</th>\n",
       "      <td>38544311.npz</td>\n",
       "      <td>572</td>\n",
       "      <td>1925</td>\n",
       "      <td>0.888</td>\n",
       "      <td>s</td>\n",
       "      <td>1970-01-01T00:00:19.250</td>\n",
       "      <td>0.01</td>\n",
       "    </tr>\n",
       "    <tr>\n",
       "      <th>1863</th>\n",
       "      <td>38544311.npz</td>\n",
       "      <td>572</td>\n",
       "      <td>984</td>\n",
       "      <td>0.815</td>\n",
       "      <td>s</td>\n",
       "      <td>1970-01-01T00:00:09.840</td>\n",
       "      <td>0.01</td>\n",
       "    </tr>\n",
       "    <tr>\n",
       "      <th>1864</th>\n",
       "      <td>38544311.npz</td>\n",
       "      <td>573</td>\n",
       "      <td>1927</td>\n",
       "      <td>0.877</td>\n",
       "      <td>s</td>\n",
       "      <td>1970-01-01T00:00:19.270</td>\n",
       "      <td>0.01</td>\n",
       "    </tr>\n",
       "    <tr>\n",
       "      <th>1865</th>\n",
       "      <td>38544311.npz</td>\n",
       "      <td>573</td>\n",
       "      <td>985</td>\n",
       "      <td>0.824</td>\n",
       "      <td>s</td>\n",
       "      <td>1970-01-01T00:00:09.850</td>\n",
       "      <td>0.01</td>\n",
       "    </tr>\n",
       "    <tr>\n",
       "      <th>1866</th>\n",
       "      <td>38544311.npz</td>\n",
       "      <td>574</td>\n",
       "      <td>1927</td>\n",
       "      <td>0.878</td>\n",
       "      <td>s</td>\n",
       "      <td>1970-01-01T00:00:19.270</td>\n",
       "      <td>0.01</td>\n",
       "    </tr>\n",
       "    <tr>\n",
       "      <th>...</th>\n",
       "      <td>...</td>\n",
       "      <td>...</td>\n",
       "      <td>...</td>\n",
       "      <td>...</td>\n",
       "      <td>...</td>\n",
       "      <td>...</td>\n",
       "      <td>...</td>\n",
       "    </tr>\n",
       "    <tr>\n",
       "      <th>2053</th>\n",
       "      <td>38544311.npz</td>\n",
       "      <td>708</td>\n",
       "      <td>1000</td>\n",
       "      <td>0.829</td>\n",
       "      <td>s</td>\n",
       "      <td>1970-01-01T00:00:10.000</td>\n",
       "      <td>0.01</td>\n",
       "    </tr>\n",
       "    <tr>\n",
       "      <th>2054</th>\n",
       "      <td>38544311.npz</td>\n",
       "      <td>709</td>\n",
       "      <td>1942</td>\n",
       "      <td>0.868</td>\n",
       "      <td>s</td>\n",
       "      <td>1970-01-01T00:00:19.420</td>\n",
       "      <td>0.01</td>\n",
       "    </tr>\n",
       "    <tr>\n",
       "      <th>2055</th>\n",
       "      <td>38544311.npz</td>\n",
       "      <td>709</td>\n",
       "      <td>1000</td>\n",
       "      <td>0.808</td>\n",
       "      <td>s</td>\n",
       "      <td>1970-01-01T00:00:10.000</td>\n",
       "      <td>0.01</td>\n",
       "    </tr>\n",
       "    <tr>\n",
       "      <th>2107</th>\n",
       "      <td>38544311.npz</td>\n",
       "      <td>830</td>\n",
       "      <td>1015</td>\n",
       "      <td>0.835</td>\n",
       "      <td>s</td>\n",
       "      <td>1970-01-01T00:00:10.150</td>\n",
       "      <td>0.01</td>\n",
       "    </tr>\n",
       "    <tr>\n",
       "      <th>2108</th>\n",
       "      <td>38544311.npz</td>\n",
       "      <td>830</td>\n",
       "      <td>1956</td>\n",
       "      <td>0.802</td>\n",
       "      <td>s</td>\n",
       "      <td>1970-01-01T00:00:19.560</td>\n",
       "      <td>0.01</td>\n",
       "    </tr>\n",
       "  </tbody>\n",
       "</table>\n",
       "<p>114 rows × 7 columns</p>\n",
       "</div>"
      ],
      "text/plain": [
       "         file_name  station_name  phase_index  phase_score phase_type  \\\n",
       "1862  38544311.npz           572         1925        0.888          s   \n",
       "1863  38544311.npz           572          984        0.815          s   \n",
       "1864  38544311.npz           573         1927        0.877          s   \n",
       "1865  38544311.npz           573          985        0.824          s   \n",
       "1866  38544311.npz           574         1927        0.878          s   \n",
       "...            ...           ...          ...          ...        ...   \n",
       "2053  38544311.npz           708         1000        0.829          s   \n",
       "2054  38544311.npz           709         1942        0.868          s   \n",
       "2055  38544311.npz           709         1000        0.808          s   \n",
       "2107  38544311.npz           830         1015        0.835          s   \n",
       "2108  38544311.npz           830         1956        0.802          s   \n",
       "\n",
       "                   phase_time    dt  \n",
       "1862  1970-01-01T00:00:19.250  0.01  \n",
       "1863  1970-01-01T00:00:09.840  0.01  \n",
       "1864  1970-01-01T00:00:19.270  0.01  \n",
       "1865  1970-01-01T00:00:09.850  0.01  \n",
       "1866  1970-01-01T00:00:19.270  0.01  \n",
       "...                       ...   ...  \n",
       "2053  1970-01-01T00:00:10.000  0.01  \n",
       "2054  1970-01-01T00:00:19.420  0.01  \n",
       "2055  1970-01-01T00:00:10.000  0.01  \n",
       "2107  1970-01-01T00:00:10.150  0.01  \n",
       "2108  1970-01-01T00:00:19.560  0.01  \n",
       "\n",
       "[114 rows x 7 columns]"
      ]
     },
     "execution_count": 44,
     "metadata": {},
     "output_type": "execute_result"
    }
   ],
   "source": [
    "ml_picks_s[ml_picks_s.duplicated(subset=['station_name'], keep=False)]"
   ]
  },
  {
   "cell_type": "code",
   "execution_count": 38,
   "id": "c9a11626",
   "metadata": {},
   "outputs": [],
   "source": [
    "a = np.ones(3)"
   ]
  },
  {
   "cell_type": "code",
   "execution_count": null,
   "id": "2b9ffdcd",
   "metadata": {},
   "outputs": [],
   "source": []
  }
 ],
 "metadata": {
  "kernelspec": {
   "display_name": "Python 3 (ipykernel)",
   "language": "python",
   "name": "python3"
  },
  "language_info": {
   "codemirror_mode": {
    "name": "ipython",
    "version": 3
   },
   "file_extension": ".py",
   "mimetype": "text/x-python",
   "name": "python",
   "nbconvert_exporter": "python",
   "pygments_lexer": "ipython3",
   "version": "3.8.5"
  }
 },
 "nbformat": 4,
 "nbformat_minor": 5
}
